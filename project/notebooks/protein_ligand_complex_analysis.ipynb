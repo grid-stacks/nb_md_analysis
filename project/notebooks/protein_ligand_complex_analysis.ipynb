{
 "cells": [
  {
   "cell_type": "code",
   "execution_count": 1,
   "metadata": {},
   "outputs": [
    {
     "data": {
      "application/vnd.jupyter.widget-view+json": {
       "model_id": "49230f3255a84b7a9d6569989f2c1314",
       "version_major": 2,
       "version_minor": 0
      },
      "text/plain": []
     },
     "metadata": {},
     "output_type": "display_data"
    }
   ],
   "source": [
    "import nglview\n",
    "import ipywidgets\n",
    "import os\n",
    "import zipfile"
   ]
  },
  {
   "cell_type": "markdown",
   "metadata": {},
   "source": [
    "## Step 1: Protein and ligand selection"
   ]
  },
  {
   "cell_type": "code",
   "execution_count": 2,
   "metadata": {},
   "outputs": [],
   "source": [
    "# DOI: 10.2210/pdb3HTB/pdb\n",
    "# 2-propylphenol in complex with T4 lysozyme\n",
    "pdbCode = \"3HTB\"\n",
    "ligandCode = \"JZ4\"\n",
    "\n",
    "mol_charge = 0\n",
    "\n",
    "proteinFile = pdbCode+'.pdb'\n",
    "ligandFile = ligandCode+'.pdb'\n",
    "complexFile = pdbCode+'_'+ligandCode+'.pdb'"
   ]
  },
  {
   "cell_type": "code",
   "execution_count": 20,
   "metadata": {},
   "outputs": [],
   "source": [
    "gmx_path = '/usr/local/gromacs/bin/gmx' # latest local gromacs installation"
   ]
  },
  {
   "cell_type": "markdown",
   "metadata": {},
   "source": [
    "## Step 2: Downloading Protein\n",
    "\n",
    "From: RCSB PDB database"
   ]
  },
  {
   "cell_type": "code",
   "execution_count": 3,
   "metadata": {},
   "outputs": [],
   "source": [
    "pdb_output = pdbCode+'.orig.pdb'"
   ]
  },
  {
   "cell_type": "code",
   "execution_count": 5,
   "metadata": {},
   "outputs": [
    {
     "name": "stdout",
     "output_type": "stream",
     "text": [
      "2021-11-02 21:36:14,766 [MainThread  ] [INFO ]  Downloading: 3htb from: https://www.ebi.ac.uk/pdbe/entry-files/download/pdb3htb.ent\n"
     ]
    },
    {
     "name": "stderr",
     "output_type": "stream",
     "text": [
      "/home/dhnchandan/anaconda3/envs/nb_md_analysis/lib/python3.7/site-packages/urllib3/connectionpool.py:1020: InsecureRequestWarning: Unverified HTTPS request is being made to host 'www.ebi.ac.uk'. Adding certificate verification is strongly advised. See: https://urllib3.readthedocs.io/en/1.26.x/advanced-usage.html#ssl-warnings\n",
      "  InsecureRequestWarning,\n"
     ]
    },
    {
     "name": "stdout",
     "output_type": "stream",
     "text": [
      "2021-11-02 21:36:17,580 [MainThread  ] [INFO ]  Writting pdb to: 3HTB.orig.pdb\n"
     ]
    },
    {
     "data": {
      "text/plain": [
       "0"
      ]
     },
     "execution_count": 5,
     "metadata": {},
     "output_type": "execute_result"
    }
   ],
   "source": [
    "from biobb_io.api.pdb import pdb\n",
    "\n",
    "prop = {\n",
    "    'pdb_code': pdbCode,\n",
    "    'filter': False\n",
    "}\n",
    "\n",
    "# Downloading 3HTB from the Protein Data Bank\n",
    "pdb(output_pdb_path=pdb_output, properties=prop)"
   ]
  },
  {
   "cell_type": "markdown",
   "metadata": {},
   "source": [
    "## Step 3: Extracting Protein, Ligand and Protein-Ligand Complex"
   ]
  },
  {
   "cell_type": "code",
   "execution_count": 4,
   "metadata": {},
   "outputs": [],
   "source": [
    "from biobb_structure_utils.utils.extract_heteroatoms import extract_heteroatoms\n",
    "from biobb_structure_utils.utils.extract_molecule import extract_molecule\n",
    "from biobb_structure_utils.utils.cat_pdb import cat_pdb\n",
    "\n",
    "prop = {\n",
    "    'heteroatoms' : [{\"name\": ligandCode}]\n",
    "}\n",
    "\n",
    "extract_heteroatoms(\n",
    "    input_structure_path=pdb_output,\n",
    "    output_heteroatom_path=ligandFile,\n",
    "    properties=prop\n",
    ")\n",
    "\n",
    "extract_molecule(\n",
    "    input_structure_path=pdb_output,\n",
    "    output_molecule_path=proteinFile\n",
    ")\n",
    "\n",
    "# Concat protein and igand into one file\n",
    "cat_pdb(\n",
    "    input_structure1=proteinFile,\n",
    "    input_structure2=ligandFile,\n",
    "    output_structure_path=complexFile\n",
    ")\n",
    "\n",
    "print(proteinFile, ligandFile, complexFile)"
   ]
  },
  {
   "cell_type": "markdown",
   "metadata": {},
   "source": [
    "## Step 4: Visualizing 3D structures"
   ]
  },
  {
   "cell_type": "code",
   "execution_count": 7,
   "metadata": {},
   "outputs": [
    {
     "data": {
      "application/vnd.jupyter.widget-view+json": {
       "model_id": "3d927d365c864c6eb41e38cded5782f3",
       "version_major": 2,
       "version_minor": 0
      },
      "text/plain": [
       "HBox(children=(NGLWidget(), NGLWidget(), NGLWidget()))"
      ]
     },
     "metadata": {},
     "output_type": "display_data"
    }
   ],
   "source": [
    "view_protein = nglview.show_structure_file(proteinFile)\n",
    "view_protein._remote_call('setSize', target='Widget', args=['350px','400px'])\n",
    "view_protein.camera='orthographic'\n",
    "view_protein\n",
    "\n",
    "view_ligand = nglview.show_structure_file(ligandFile)\n",
    "view_ligand.add_representation(repr_type='ball+stick')\n",
    "view_ligand._remote_call('setSize', target='Widget', args=['350px','400px'])\n",
    "view_ligand.camera='orthographic'\n",
    "view_ligand\n",
    "\n",
    "view_complex = nglview.show_structure_file(complexFile)\n",
    "view_complex.add_representation(repr_type='licorice', radius='.5', selection=ligandCode)\n",
    "view_complex._remote_call('setSize', target='Widget', args=['350px','400px'])\n",
    "view_complex.camera='orthographic'\n",
    "view_complex\n",
    "\n",
    "ipywidgets.HBox([view_protein, view_ligand, view_complex])"
   ]
  },
  {
   "cell_type": "markdown",
   "metadata": {},
   "source": [
    "## Step 5: Fixing protein structure\n",
    "\n",
    "- missing side-chain atoms\n",
    "- missing backbone atoms, heteroatoms and modified residues"
   ]
  },
  {
   "cell_type": "code",
   "execution_count": 4,
   "metadata": {},
   "outputs": [],
   "source": [
    "fixed_pdb_out = pdbCode + '_fixed.pdb'"
   ]
  },
  {
   "cell_type": "code",
   "execution_count": 8,
   "metadata": {},
   "outputs": [
    {
     "name": "stdout",
     "output_type": "stream",
     "text": [
      "2021-11-02 22:06:01,503 [MainThread  ] [INFO ]  Not using any container\n",
      "2021-11-02 22:06:01,503 [MainThread  ] [INFO ]  check_structure -i 3HTB.pdb -o 3HTB_fixed.pdb --force_save fixside --fix ALL\n",
      "\n",
      "2021-11-02 22:06:01,900 [MainThread  ] [INFO ]  Exit code 0\n",
      "\n",
      "2021-11-02 22:06:01,901 [MainThread  ] [INFO ]  ===============================================================================\n",
      "=                   BioBB structure checking utility v3.8.1                   =\n",
      "=                 A. Hospital, P. Andrio, J.L. Gelpi 2018-21                  =\n",
      "===============================================================================\n",
      "\n",
      "Warning: sequence features only available in mmCIF format or with external fasta input\n",
      "Structure 3HTB.pdb loaded\n",
      " Title: \n",
      " Experimental method: unknown\n",
      " Resolution (A): N.A.\n",
      "\n",
      " Num. models: 1\n",
      " Num. chains: 1 (A: Protein)\n",
      " Num. residues:  163\n",
      " Num. residues with ins. codes:  0\n",
      " Num. HETATM residues:  0\n",
      " Num. ligands or modified residues:  0\n",
      " Num. water mol.:  0\n",
      " Num. atoms:  1300\n",
      "\n",
      "Running fixside. Options: --fix ALL\n",
      "No residues with missing or unknown side chain atoms found\n",
      "Structure not modified, saving due to --force_save option\n",
      "Final Num. models: 1\n",
      "Final Num. chains: 1 (A: Protein)\n",
      "Final Num. residues:  163\n",
      "Final Num. residues with ins. codes:  0\n",
      "Final Num. HETATM residues:  0\n",
      "Final Num. ligands or modified residues:  0\n",
      "Final Num. water mol.:  0\n",
      "Final Num. atoms:  1300\n",
      "Structure saved on 3HTB_fixed.pdb\n",
      "\n",
      "2021-11-02 22:06:01,902 [MainThread  ] [INFO ]  Removed: []\n"
     ]
    },
    {
     "data": {
      "text/plain": [
       "0"
      ]
     },
     "execution_count": 8,
     "metadata": {},
     "output_type": "execute_result"
    }
   ],
   "source": [
    "from biobb_model.model.fix_side_chain import fix_side_chain\n",
    "\n",
    "fix_side_chain(input_pdb_path=proteinFile, output_pdb_path=fixed_pdb_out)"
   ]
  },
  {
   "cell_type": "markdown",
   "metadata": {},
   "source": [
    "## Step 6: Creating protein topology\n",
    "\n",
    "- Force field: amber99sb-ildn\n",
    "- Water molecule type: spc/e"
   ]
  },
  {
   "cell_type": "code",
   "execution_count": 5,
   "metadata": {},
   "outputs": [],
   "source": [
    "output_pdb2gmx_gro = pdbCode+'_pdb2gmx.gro'\n",
    "output_pdb2gmx_top_zip = pdbCode+'_pdb2gmx_top.zip'"
   ]
  },
  {
   "cell_type": "code",
   "execution_count": 10,
   "metadata": {},
   "outputs": [
    {
     "name": "stdout",
     "output_type": "stream",
     "text": [
      "2021-11-02 22:13:29,172 [MainThread  ] [INFO ]  GROMACS Pdb2gmx 20212 version detected\n",
      "2021-11-02 22:13:29,173 [MainThread  ] [INFO ]  Not using any container\n",
      "2021-11-02 22:13:29,174 [MainThread  ] [INFO ]  /usr/local/gromacs/bin/gmx -nobackup -nocopyright pdb2gmx -f 3HTB_fixed.pdb -o 3HTB_pdb2gmx.gro -p p2g.top -water spce -ff amber99sb-ildn -i posre.itp\n",
      "\n",
      "2021-11-02 22:13:30,780 [MainThread  ] [INFO ]  Exit code 0\n",
      "\n",
      "2021-11-02 22:13:30,781 [MainThread  ] [INFO ]  Using the Amber99sb-ildn force field in directory amber99sb-ildn.ff\n",
      "\n",
      "going to rename amber99sb-ildn.ff/aminoacids.r2b\n",
      "\n",
      "going to rename amber99sb-ildn.ff/dna.r2b\n",
      "\n",
      "going to rename amber99sb-ildn.ff/rna.r2b\n",
      "Reading 3HTB_fixed.pdb...\n",
      "Read '', 1364 atoms\n",
      "\n",
      "Analyzing pdb file\n",
      "Splitting chemical chains based on TER records or chain id changing.\n",
      "\n",
      "There are 1 chains and 0 blocks of water and 163 residues with 1364 atoms\n",
      "\n",
      "  chain  #res #atoms\n",
      "\n",
      "  1 'A'   163   1364  \n",
      "\n",
      "there were 0 atoms with zero occupancy and 178 atoms with          occupancy unequal to one (out of 1364 atoms). Check your pdb file.\n",
      "\n",
      "Reading residue database... (Amber99sb-ildn)\n",
      "\n",
      "Processing chain 1 'A' (1364 atoms, 163 residues)\n",
      "\n",
      "Identified residue MET1 as a starting terminus.\n",
      "\n",
      "Identified residue ASN163 as a ending terminus.\n",
      "\n",
      "Checking for duplicate atoms....\n",
      "\n",
      "Now there are 1300 atoms. Deleted 64 duplicates.\n",
      "\n",
      "Generating any missing hydrogen atoms and/or adding termini.\n",
      "\n",
      "Now there are 163 residues with 2614 atoms\n",
      "\n",
      "Making bonds...\n",
      "\n",
      "Number of bonds was 2635, now 2634\n",
      "\n",
      "Generating angles, dihedrals and pairs...\n",
      "\n",
      "Making cmap torsions...\n",
      "\n",
      "There are 7252 dihedrals,  522 impropers, 4751 angles\n",
      "          6847 pairs,     2634 bonds and     0 virtual sites\n",
      "\n",
      "Total mass 18512.384 a.m.u.\n",
      "\n",
      "Total charge 6.000 e\n",
      "\n",
      "Writing topology\n",
      "\n",
      "Writing coordinate file...\n",
      "\n",
      "\t\t--------- PLEASE NOTE ------------\n",
      "\n",
      "You have successfully generated a topology from: 3HTB_fixed.pdb.\n",
      "\n",
      "The Amber99sb-ildn force field and the spce water model are used.\n",
      "\n",
      "\t\t--------- ETON ESAELP ------------\n",
      "\n",
      "2021-11-02 22:13:30,782 [MainThread  ] [INFO ]                       :-) GROMACS - gmx pdb2gmx, 2021.2 (-:\n",
      "\n",
      "Executable:   /usr/local/gromacs/bin/gmx\n",
      "Data prefix:  /usr/local/gromacs\n",
      "Working dir:  /home/dhnchandan/Documents/cc/gromacs/nb_md_analysis/project/notebooks\n",
      "Command line:\n",
      "  gmx -nobackup -nocopyright pdb2gmx -f 3HTB_fixed.pdb -o 3HTB_pdb2gmx.gro -p p2g.top -water spce -ff amber99sb-ildn -i posre.itp\n",
      "\n",
      "Opening force field file /usr/local/gromacs/share/gromacs/top/amber99sb-ildn.ff/aminoacids.r2b\n",
      "Opening force field file /usr/local/gromacs/share/gromacs/top/amber99sb-ildn.ff/dna.r2b\n",
      "Opening force field file /usr/local/gromacs/share/gromacs/top/amber99sb-ildn.ff/rna.r2b\n",
      "there were 0 atoms with zero occupancy and 178 atoms with          occupancy unequal to one (out of 1364 atoms). Check your pdb file.\n",
      "Opening force field file /usr/local/gromacs/share/gromacs/top/amber99sb-ildn.ff/atomtypes.atp\n",
      "Opening force field file /usr/local/gromacs/share/gromacs/top/amber99sb-ildn.ff/aminoacids.rtp\n",
      "Opening force field file /usr/local/gromacs/share/gromacs/top/amber99sb-ildn.ff/dna.rtp\n",
      "Opening force field file /usr/local/gromacs/share/gromacs/top/amber99sb-ildn.ff/rna.rtp\n",
      "Opening force field file /usr/local/gromacs/share/gromacs/top/amber99sb-ildn.ff/aminoacids.hdb\n",
      "Opening force field file /usr/local/gromacs/share/gromacs/top/amber99sb-ildn.ff/dna.hdb\n",
      "Opening force field file /usr/local/gromacs/share/gromacs/top/amber99sb-ildn.ff/rna.hdb\n",
      "Opening force field file /usr/local/gromacs/share/gromacs/top/amber99sb-ildn.ff/aminoacids.n.tdb\n",
      "Opening force field file /usr/local/gromacs/share/gromacs/top/amber99sb-ildn.ff/aminoacids.c.tdb\n",
      "Analysing hydrogen-bonding network for automated assignment of histidine\n",
      " protonation. 273 donors and 248 acceptors were found.\n",
      "There are 347 hydrogen bonds\n",
      "Will use HISD for residue 31\n",
      "8 out of 8 lines of specbond.dat converted successfully\n",
      "Special Atom Distance matrix:\n",
      "                    MET1    MET6   HIS31   CYS54   CYS97  MET106\n",
      "                    SD10    SD56  NE2276   SG446   SG808   SD883\n",
      "    MET6    SD56   0.631\n",
      "   HIS31  NE2276   2.196   1.931\n",
      "   CYS54   SG446   2.781   2.718   1.052\n",
      "   CYS97   SG808   0.820   0.539   2.117   2.897\n",
      "  MET106   SD883   1.900   1.314   1.848   2.841   1.635\n",
      "  MET120   SD982   2.525   2.014   3.286   4.293   2.112   1.520\n",
      "Opening force field file /usr/local/gromacs/share/gromacs/top/amber99sb-ildn.ff/aminoacids.arn\n",
      "Opening force field file /usr/local/gromacs/share/gromacs/top/amber99sb-ildn.ff/dna.arn\n",
      "Opening force field file /usr/local/gromacs/share/gromacs/top/amber99sb-ildn.ff/rna.arn\n",
      "Before cleaning: 6889 pairs\n",
      "Before cleaning: 7252 dihedrals\n",
      "Keeping all generated dihedrals\n",
      "\n",
      "GROMACS reminds you: \"It's Not Dark Yet, But It's Getting There\" (Bob Dylan)\n",
      "\n",
      "\n",
      "2021-11-02 22:13:30,782 [MainThread  ] [INFO ]  Compressing topology to: 3HTB_pdb2gmx_top.zip\n",
      "2021-11-02 22:13:30,784 [MainThread  ] [INFO ]  Ignored file amber99sb-ildn.ff/forcefield.itp\n",
      "2021-11-02 22:13:30,796 [MainThread  ] [INFO ]  Ignored file amber99sb-ildn.ff/spce.itp\n",
      "2021-11-02 22:13:30,797 [MainThread  ] [INFO ]  Ignored file amber99sb-ildn.ff/ions.itp\n",
      "2021-11-02 22:13:30,800 [MainThread  ] [INFO ]  Adding:\n",
      "2021-11-02 22:13:30,800 [MainThread  ] [INFO ]  ['p2g.top', 'posre.itp']\n",
      "2021-11-02 22:13:30,801 [MainThread  ] [INFO ]  to: /home/dhnchandan/Documents/cc/gromacs/nb_md_analysis/project/notebooks/3HTB_pdb2gmx_top.zip\n",
      "2021-11-02 22:13:30,802 [MainThread  ] [INFO ]  Removed: ['p2g.top', 'posre.itp']\n"
     ]
    },
    {
     "data": {
      "text/plain": [
       "0"
      ]
     },
     "execution_count": 10,
     "metadata": {},
     "output_type": "execute_result"
    }
   ],
   "source": [
    "from biobb_md.gromacs.pdb2gmx import pdb2gmx\n",
    "\n",
    "prop = {\n",
    "    'force_field' : 'amber99sb-ildn',\n",
    "    'water_type': 'spce',\n",
    "#     'gmx_path': gmx_path\n",
    "}\n",
    "\n",
    "pdb2gmx(\n",
    "    input_pdb_path=fixed_pdb_out,\n",
    "    output_gro_path=output_pdb2gmx_gro,\n",
    "    output_top_zip_path=output_pdb2gmx_top_zip,\n",
    "    properties=prop\n",
    ")"
   ]
  },
  {
   "cell_type": "markdown",
   "metadata": {},
   "source": [
    "## Step 7: Preparing ligand\n",
    "\n",
    "- Force field: amberGAFF\n",
    "\n",
    "\n",
    "### Step 7.a: Add hydrogen atom"
   ]
  },
  {
   "cell_type": "code",
   "execution_count": 6,
   "metadata": {},
   "outputs": [],
   "source": [
    "output_reduce_h = ligandCode+'.reduce.H.pdb'"
   ]
  },
  {
   "cell_type": "code",
   "execution_count": 6,
   "metadata": {},
   "outputs": [
    {
     "name": "stdout",
     "output_type": "stream",
     "text": [
      "2021-11-03 06:04:29,096 [MainThread  ] [INFO ]  Not using any container\n",
      "2021-11-03 06:04:29,097 [MainThread  ] [INFO ]  reduce -NUClear -OH -ROTNH3 -ALLALT /home/dhnchandan/Documents/cc/gromacs/nb_md_analysis/project/notebooks/JZ4.pdb > JZ4.reduce.H.pdb\n",
      "\n",
      "2021-11-03 06:04:29,236 [MainThread  ] [INFO ]  Exit code 0\n",
      "\n",
      "2021-11-03 06:04:29,237 [MainThread  ] [INFO ]  reduce: version 3.3 06/02/2016, Copyright 1997-2016, J. Michael Word\n",
      "Processing file: \"/home/dhnchandan/Documents/cc/gromacs/nb_md_analysis/project/notebooks/JZ4.pdb\"\n",
      "Database of HETATM connections: \"/home/dhnchandan/anaconda3/envs/nb_md_analysis//dat/reduce_wwPDB_het_dict.txt\"\n",
      "VDW dot density = 16/A^2\n",
      "Orientation penalty scale = 1 (100%)\n",
      "Eliminate contacts within 3 bonds.\n",
      "Ignore atoms with |occupancy| <= 0.01 during adjustments.\n",
      "Waters ignored if B-Factor >= 40 or |occupancy| < 0.66\n",
      "Aromatic rings in amino acids accept hydrogen bonds.\n",
      "Building or keeping OH & SH Hydrogens.\n",
      "Rotating NH3 Hydrogens.\n",
      "Not processing Met methyls.\n",
      "WARNING: atom H13A from JZ4 will be treated as hydrogen\n",
      "WARNING: atom H14A from JZ4 will be treated as hydrogen\n",
      "WARNING: atom H13A from JZ4 will be treated as hydrogen\n",
      "WARNING: atom H13A from JZ4 will be treated as hydrogen\n",
      "WARNING: atom H14A from JZ4 will be treated as hydrogen\n",
      "WARNING: atom H14A from JZ4 will be treated as hydrogen\n",
      "WARNING: atom H14A from JZ4 will be treated as hydrogen\n",
      "WARNING: atom H14A from JZ4 will be treated as hydrogen\n",
      "WARNING: atom H13A from JZ4 will be treated as hydrogen\n",
      "WARNING: atom H13A from JZ4 will be treated as hydrogen\n",
      "WARNING: atom H14A from JZ4 will be treated as hydrogen\n",
      "WARNING: atom H13A from JZ4 will be treated as hydrogen\n",
      " Singles(size 1): A 167 JZ4 OAB \n",
      " orientation 1: A 167 JZ4 OAB :   rot  120: bump=0.000, HB=0.000, total=0.000\n",
      "Found 0 hydrogens (0 hets)\n",
      "Standardized 0 hydrogens (0 hets)\n",
      "Added 12 hydrogens (12 hets)\n",
      "Removed 0 hydrogens (0 hets)\n",
      "Adjusted 1 group(s)\n",
      "If you publish work which uses reduce, please cite:\n",
      "Word, et. al. (1999) J. Mol. Biol. 285, 1735-1747.\n",
      "For more information see http://kinemage.biochem.duke.edu\n",
      "\n"
     ]
    },
    {
     "data": {
      "text/plain": [
       "0"
      ]
     },
     "execution_count": 6,
     "metadata": {},
     "output_type": "execute_result"
    }
   ],
   "source": [
    "from biobb_chemistry.ambertools.reduce_add_hydrogens import reduce_add_hydrogens\n",
    "\n",
    "prop = {\n",
    "    'nuclear' : 'true'\n",
    "}\n",
    "\n",
    "reduce_add_hydrogens(\n",
    "    input_path=ligandFile,\n",
    "    output_path=output_reduce_h,\n",
    "    properties=prop\n",
    ")"
   ]
  },
  {
   "cell_type": "markdown",
   "metadata": {},
   "source": [
    "### Step 7.b: Energetically minimize the system"
   ]
  },
  {
   "cell_type": "code",
   "execution_count": 7,
   "metadata": {},
   "outputs": [],
   "source": [
    "output_babel_min = ligandCode+'.H.min.mol2'"
   ]
  },
  {
   "cell_type": "code",
   "execution_count": 7,
   "metadata": {},
   "outputs": [
    {
     "name": "stdout",
     "output_type": "stream",
     "text": [
      "2021-11-03 06:06:19,699 [MainThread  ] [INFO ]  Hydrogens  is not correct, assigned default value: False\n",
      "2021-11-03 06:06:19,700 [MainThread  ] [INFO ]  Steps  is not correct, assigned default value: 2500\n",
      "2021-11-03 06:06:19,701 [MainThread  ] [INFO ]  Cut-off  is not correct, assigned default value: False\n",
      "2021-11-03 06:06:19,701 [MainThread  ] [INFO ]  Rvdw  is not correct, assigned default value: 6.0\n",
      "2021-11-03 06:06:19,702 [MainThread  ] [INFO ]  Rele  is not correct, assigned default value: 10.0\n",
      "2021-11-03 06:06:19,703 [MainThread  ] [INFO ]  Frequency  is not correct, assigned default value: 10\n",
      "2021-11-03 06:06:19,703 [MainThread  ] [INFO ]  Not using any container\n",
      "2021-11-03 06:06:19,704 [MainThread  ] [INFO ]  obminimize -c 1e-10 -sd -ff GAFF -ipdb /home/dhnchandan/Documents/cc/gromacs/nb_md_analysis/project/notebooks/JZ4.reduce.H.pdb -omol2 > JZ4.H.min.mol2\n",
      "\n",
      "2021-11-03 06:06:20,287 [MainThread  ] [INFO ]  Exit code 0\n",
      "\n",
      "2021-11-03 06:06:20,288 [MainThread  ] [INFO ]  \n",
      "A T O M   T Y P E S\n",
      "\n",
      "IDX\tTYPE\tRING\n",
      "1\tc3\tNO\n",
      "2\tca\tAR\n",
      "3\tca\tAR\n",
      "4\tca\tAR\n",
      "5\tca\tAR\n",
      "6\tca\tAR\n",
      "7\tca\tAR\n",
      "8\tc3\tNO\n",
      "9\tc3\tNO\n",
      "10\toh\tNO\n",
      "11\tho\tNO\n",
      "12\thc\tNO\n",
      "13\thc\tNO\n",
      "14\tha\tNO\n",
      "15\tha\tNO\n",
      "16\tha\tNO\n",
      "17\thc\tNO\n",
      "18\thc\tNO\n",
      "19\thc\tNO\n",
      "20\thc\tNO\n",
      "21\thc\tNO\n",
      "22\tha\tNO\n",
      "\n",
      "C H A R G E S\n",
      "\n",
      "IDX\tCHARGE\n",
      "1\t-0.064979\n",
      "2\t-0.061278\n",
      "3\t-0.058294\n",
      "4\t-0.019907\n",
      "5\t0.120013\n",
      "6\t-0.055115\n",
      "7\t-0.005954\n",
      "8\t-0.024481\n",
      "9\t-0.051799\n",
      "10\t-0.506496\n",
      "11\t0.292144\n",
      "12\t0.026577\n",
      "13\t0.031423\n",
      "14\t0.065403\n",
      "15\t0.061871\n",
      "16\t0.061769\n",
      "17\t0.022987\n",
      "18\t0.022987\n",
      "19\t0.022987\n",
      "20\t0.026577\n",
      "21\t0.031423\n",
      "22\t0.062142\n",
      "\n",
      "S E T T I N G   U P   C A L C U L A T I O N S\n",
      "\n",
      "SETTING UP BOND CALCULATIONS...\n",
      "SETTING UP ANGLE CALCULATIONS...\n",
      "SETTING UP TORSION CALCULATIONS...\n",
      "SETTING UP IMPROPER TORSION CALCULATIONS...\n",
      "SETTING UP VAN DER WAALS CALCULATIONS...\n",
      "SETTING UP ELECTROSTATIC CALCULATIONS...\n",
      "\n",
      "S T E E P E S T   D E S C E N T\n",
      "\n",
      "STEPS = 2500\n",
      "\n",
      "STEP n       E(n)         E(n-1)    \n",
      "------------------------------------\n",
      "    0      50.048      ----\n",
      "   10    36.21724    36.73363\n",
      "   20    32.62519    32.90050\n",
      "   30    30.42176    30.60740\n",
      "   40    28.84022    28.98002\n",
      "   50    27.60107    27.71398\n",
      "   60    26.57419    26.66957\n",
      "   70    25.69242    25.77532\n",
      "   80    24.91809    24.99145\n",
      "   90    24.22825    24.29392\n",
      "  100    23.60848    23.66758\n",
      "  110    23.04960    23.10303\n",
      "  120    22.54147    22.59027\n",
      "  130    22.07638    22.12112\n",
      "  140    21.64899    21.69018\n",
      "  150    21.25485    21.29289\n",
      "  160    20.89018    20.92542\n",
      "  170    20.55172    20.58448\n",
      "  180    20.23672    20.26724\n",
      "  190    19.94279    19.97131\n",
      "  200    19.66791    19.69460\n",
      "  210    19.41032    19.43536\n",
      "  220    19.16851    19.19203\n",
      "  230    18.94116    18.96329\n",
      "  240    18.72713    18.74797\n",
      "  250    18.52541    18.54506\n",
      "  260    18.33510    18.35365\n",
      "  270    18.15542    18.17293\n",
      "  280    17.98563    18.00219\n",
      "  290    17.82510    17.84076\n",
      "  300    17.67323    17.68805\n",
      "  310    17.52948    17.54351\n",
      "  320    17.39335    17.40664\n",
      "  330    17.26438    17.27697\n",
      "  340    17.14215    17.15408\n",
      "  350    17.02625    17.03757\n",
      "  360    16.91633    16.92707\n",
      "  370    16.81204    16.82223\n",
      "  380    16.71305    16.72272\n",
      "  390    16.61907    16.62825\n",
      "  400    16.52981    16.53853\n",
      "  410    16.44502    16.45331\n",
      "  420    16.36444    16.37232\n",
      "  430    16.28785    16.29534\n",
      "  440    16.21503    16.22215\n",
      "  450    16.14577    16.15255\n",
      "  460    16.07989    16.08634\n",
      "  470    16.01721    16.02334\n",
      "  480    15.95755    15.96338\n",
      "  490    15.90076    15.90631\n",
      "  500    15.84668    15.85198\n",
      "  510    15.79519    15.80023\n",
      "  520    15.74614    15.75094\n",
      "  530    15.69941    15.70398\n",
      "  540    15.65488    15.65924\n",
      "  550    15.61245    15.61660\n",
      "  560    15.57200    15.57596\n",
      "  570    15.53344    15.53721\n",
      "  580    15.49667    15.50027\n",
      "  590    15.46160    15.46504\n",
      "  600    15.42816    15.43144\n",
      "  610    15.39626    15.39939\n",
      "  620    15.36583    15.36881\n",
      "  630    15.33679    15.33963\n",
      "  640    15.30908    15.31179\n",
      "  650    15.28263    15.28522\n",
      "  660    15.25739    15.25986\n",
      "  670    15.23329    15.23565\n",
      "  680    15.21029    15.21254\n",
      "  690    15.18832    15.19047\n",
      "  700    15.16735    15.16940\n",
      "  710    15.14731    15.14928\n",
      "  720    15.12818    15.13005\n",
      "  730    15.10990    15.11169\n",
      "  740    15.09243    15.09415\n",
      "  750    15.07575    15.07738\n",
      "  760    15.05980    15.06137\n",
      "  770    15.04456    15.04606\n",
      "  780    15.03000    15.03143\n",
      "  790    15.01607    15.01744\n",
      "  800    15.00276    15.00406\n",
      "  810    14.99002    14.99127\n",
      "  820    14.97785    14.97904\n",
      "  830    14.96620    14.96734\n",
      "  840    14.95506    14.95615\n",
      "  850    14.94439    14.94544\n",
      "  860    14.93419    14.93519\n",
      "  870    14.92442    14.92538\n",
      "  880    14.91506    14.91598\n",
      "  890    14.90611    14.90699\n",
      "  900    14.89753    14.89837\n",
      "  910    14.88931    14.89011\n",
      "  920    14.88143    14.88220\n",
      "  930    14.87387    14.87462\n",
      "  940    14.86663    14.86734\n",
      "  950    14.85968    14.86037\n",
      "  960    14.85302    14.85367\n",
      "  970    14.84662    14.84725\n",
      "  980    14.84048    14.84108\n",
      "  990    14.83458    14.83516\n",
      " 1000    14.82891    14.82946\n",
      " 1010    14.82345    14.82399\n",
      " 1020    14.81821    14.81873\n",
      " 1030    14.81316    14.81366\n",
      " 1040    14.80830    14.80878\n",
      " 1050    14.80362    14.80408\n",
      " 1060    14.79911    14.79956\n",
      " 1070    14.79476    14.79519\n",
      " 1080    14.79056    14.79097\n",
      " 1090    14.78650    14.78690\n",
      " 1100    14.78258    14.78297\n",
      " 1110    14.77879    14.77916\n",
      " 1120    14.77512    14.77548\n",
      " 1130    14.77156    14.77191\n",
      " 1140    14.76817    14.76848\n",
      " 1150    14.76611    14.76628\n",
      " 1160    14.76451    14.76467\n",
      " 1170    14.76294    14.76309\n",
      " 1180    14.76141    14.76156\n",
      " 1190    14.75991    14.76006\n",
      " 1200    14.75845    14.75860\n",
      " 1210    14.75702    14.75716\n",
      " 1220    14.75562    14.75576\n",
      " 1230    14.75426    14.75439\n",
      " 1240    14.75292    14.75305\n",
      " 1250    14.75161    14.75174\n",
      " 1260    14.75032    14.75045\n",
      " 1270    14.74906    14.74919\n",
      " 1280    14.74783    14.74795\n",
      " 1290    14.74662    14.74674\n",
      " 1300    14.74544    14.74556\n",
      " 1310    14.74428    14.74439\n",
      " 1320    14.74314    14.74325\n",
      " 1330    14.74202    14.74213\n",
      " 1340    14.74092    14.74103\n",
      " 1350    14.73984    14.73994\n",
      " 1360    14.73878    14.73888\n",
      " 1370    14.73773    14.73784\n",
      " 1380    14.73671    14.73681\n",
      " 1390    14.73570    14.73580\n",
      " 1400    14.73470    14.73480\n",
      " 1410    14.73372    14.73382\n",
      " 1420    14.73276    14.73286\n",
      " 1430    14.73181    14.73191\n",
      " 1440    14.73088    14.73097\n",
      " 1450    14.72995    14.73004\n",
      " 1460    14.72904    14.72913\n",
      " 1470    14.72814    14.72823\n",
      " 1480    14.72725    14.72734\n",
      " 1490    14.72637    14.72646\n",
      " 1500    14.72551    14.72560\n",
      " 1510    14.72493    14.72498\n",
      " 1520    14.72451    14.72455\n",
      " 1530    14.72409    14.72413\n",
      " 1540    14.72367    14.72372\n",
      " 1550    14.72327    14.72331\n",
      " 1560    14.72287    14.72291\n",
      " 1570    14.72247    14.72251\n",
      " 1580    14.72208    14.72212\n",
      " 1590    14.72170    14.72173\n",
      " 1600    14.72132    14.72135\n",
      " 1610    14.72094    14.72098\n",
      " 1620    14.72057    14.72061\n",
      " 1630    14.72021    14.72024\n",
      " 1640    14.71985    14.71988\n",
      " 1650    14.71949    14.71953\n",
      " 1660    14.71914    14.71918\n",
      " 1670    14.71880    14.71883\n",
      " 1680    14.71845    14.71849\n",
      " 1690    14.71812    14.71815\n",
      " 1700    14.71778    14.71782\n",
      " 1710    14.71745    14.71749\n",
      " 1720    14.71713    14.71716\n",
      " 1730    14.71681    14.71684\n",
      " 1740    14.71649    14.71652\n",
      " 1750    14.71617    14.71621\n",
      " 1760    14.71586    14.71589\n",
      " 1770    14.71556    14.71559\n",
      " 1780    14.71525    14.71528\n",
      " 1790    14.71495    14.71498\n",
      " 1800    14.71466    14.71469\n",
      " 1810    14.71436    14.71439\n",
      " 1820    14.71407    14.71410\n",
      " 1830    14.71378    14.71381\n",
      " 1840    14.71350    14.71353\n",
      " 1850    14.71324    14.71326\n",
      " 1860    14.71307    14.71309\n",
      " 1870    14.71292    14.71294\n",
      " 1880    14.71278    14.71279\n",
      " 1890    14.71263    14.71265\n",
      " 1900    14.71249    14.71250\n",
      " 1910    14.71235    14.71236\n",
      " 1920    14.71221    14.71222\n",
      " 1930    14.71207    14.71208\n",
      " 1940    14.71193    14.71195\n",
      " 1950    14.71180    14.71181\n",
      " 1960    14.71167    14.71168\n",
      " 1970    14.71154    14.71155\n",
      " 1980    14.71141    14.71142\n",
      " 1990    14.71128    14.71129\n",
      " 2000    14.71115    14.71117\n",
      " 2010    14.71103    14.71104\n",
      " 2020    14.71091    14.71092\n",
      " 2030    14.71079    14.71080\n",
      " 2040    14.71067    14.71068\n",
      " 2050    14.71055    14.71057\n",
      " 2060    14.71044    14.71045\n",
      " 2070    14.71032    14.71034\n",
      " 2080    14.71021    14.71022\n",
      " 2090    14.71010    14.71011\n",
      " 2100    14.70999    14.71000\n",
      " 2110    14.70988    14.70989\n",
      " 2120    14.70978    14.70979\n",
      " 2130    14.70967    14.70968\n",
      " 2140    14.70957    14.70958\n",
      " 2150    14.70947    14.70948\n",
      " 2160    14.70937    14.70938\n",
      " 2170    14.70927    14.70928\n",
      " 2180    14.70917    14.70918\n",
      " 2190    14.70908    14.70909\n",
      " 2200    14.70900    14.70900\n",
      " 2210    14.70894    14.70895\n",
      " 2220    14.70889    14.70889\n",
      " 2230    14.70883    14.70884\n",
      " 2240    14.70878    14.70879\n",
      " 2250    14.70873    14.70874\n",
      " 2260    14.70868    14.70869\n",
      " 2270    14.70863    14.70864\n",
      " 2280    14.70858    14.70859\n",
      " 2290    14.70854    14.70854\n",
      " 2300    14.70849    14.70849\n",
      " 2310    14.70844    14.70845\n",
      " 2320    14.70840    14.70840\n",
      " 2330    14.70835    14.70836\n",
      " 2340    14.70831    14.70831\n",
      " 2350    14.70826    14.70827\n",
      " 2360    14.70822    14.70823\n",
      " 2370    14.70818    14.70818\n",
      " 2380    14.70814    14.70814\n",
      " 2390    14.70810    14.70810\n",
      " 2400    14.70806    14.70806\n",
      " 2410    14.70802    14.70802\n",
      " 2420    14.70798    14.70798\n",
      " 2430    14.70794    14.70794\n",
      " 2440    14.70790    14.70791\n",
      " 2450    14.70786    14.70787\n",
      " 2460    14.70783    14.70783\n",
      " 2470    14.70779    14.70779\n",
      " 2480    14.70775    14.70776\n",
      " 2490    14.70772    14.70772\n",
      " 2500    14.70768    14.70769\n",
      "Time: 0.332334seconds. Iterations per second: 7525.56\n",
      "\n"
     ]
    },
    {
     "data": {
      "text/plain": [
       "0"
      ]
     },
     "execution_count": 7,
     "metadata": {},
     "output_type": "execute_result"
    }
   ],
   "source": [
    "from biobb_chemistry.babelm.babel_minimize import babel_minimize\n",
    "\n",
    "prop = {\n",
    "    'method' : 'sd',\n",
    "    'criteria' : '1e-10',\n",
    "    'force_field' : 'GAFF'\n",
    "}\n",
    "\n",
    "babel_minimize(\n",
    "    input_path=output_reduce_h,\n",
    "    output_path=output_babel_min,\n",
    "    properties=prop\n",
    ")"
   ]
  },
  {
   "cell_type": "markdown",
   "metadata": {},
   "source": [
    "### Step 7.c: Visualizing 3D structures"
   ]
  },
  {
   "cell_type": "code",
   "execution_count": 8,
   "metadata": {},
   "outputs": [
    {
     "data": {
      "application/vnd.jupyter.widget-view+json": {
       "model_id": "f5f3cae49a2c43fcae9f9b497d33c97f",
       "version_major": 2,
       "version_minor": 0
      },
      "text/plain": [
       "HBox(children=(NGLWidget(), NGLWidget(), NGLWidget()))"
      ]
     },
     "metadata": {},
     "output_type": "display_data"
    }
   ],
   "source": [
    "# Original structure view\n",
    "view_original = nglview.show_structure_file(ligandFile)\n",
    "view_original.add_representation(repr_type='ball+stick')\n",
    "view_original._remote_call('setSize', target='Widget', args=['350px','400px'])\n",
    "view_original.camera='orthographic'\n",
    "view_original\n",
    "\n",
    "# After adding hydrogen view\n",
    "view_h_added = nglview.show_structure_file(output_reduce_h)\n",
    "view_h_added.add_representation(repr_type='ball+stick')\n",
    "view_h_added._remote_call('setSize', target='Widget', args=['350px','400px'])\n",
    "view_h_added.camera='orthographic'\n",
    "view_h_added\n",
    "\n",
    "# After energy minimization view\n",
    "view_e_minimized = nglview.show_structure_file(output_babel_min)\n",
    "view_e_minimized.add_representation(repr_type='ball+stick')\n",
    "view_e_minimized._remote_call('setSize', target='Widget', args=['350px','400px'])\n",
    "view_e_minimized.camera='orthographic'\n",
    "view_e_minimized\n",
    "\n",
    "ipywidgets.HBox([view_original, view_h_added, view_e_minimized])"
   ]
  },
  {
   "cell_type": "markdown",
   "metadata": {},
   "source": [
    "### Step 7.d: Generating ligand topology"
   ]
  },
  {
   "cell_type": "code",
   "execution_count": 9,
   "metadata": {},
   "outputs": [],
   "source": [
    "output_acpype_gro = ligandCode+'params.gro'\n",
    "output_acpype_itp = ligandCode+'params.itp'\n",
    "output_acpype_top = ligandCode+'params.top'\n",
    "output_acpype = ligandCode+'params'"
   ]
  },
  {
   "cell_type": "code",
   "execution_count": 9,
   "metadata": {},
   "outputs": [
    {
     "name": "stdout",
     "output_type": "stream",
     "text": [
      "2021-11-03 06:12:26,193 [MainThread  ] [INFO ]  Not using any container\n",
      "2021-11-03 06:12:26,194 [MainThread  ] [INFO ]  acpype -i /home/dhnchandan/Documents/cc/gromacs/nb_md_analysis/project/notebooks/JZ4.H.min.mol2 -b JZ4params.U15Loq -n 0\n",
      "\n",
      "2021-11-03 06:12:27,738 [MainThread  ] [INFO ]  Exit code 0\n",
      "\n",
      "2021-11-03 06:12:27,739 [MainThread  ] [INFO ]  ========================================================================================\n",
      "| ACPYPE: AnteChamber PYthon Parser interfacE v. 2019-11-07T23:16:00CET (c) 2021 AWSdS |\n",
      "========================================================================================\n",
      "==> ... charge set to 0\n",
      "==> Executing Antechamber...\n",
      "==> * Antechamber OK *\n",
      "==> * Parmchk OK *\n",
      "==> Executing Tleap...\n",
      "++++++++++start_quote+++++++++++++++++++++++++++++++++++++++++++++++++++++++++++\n",
      "Checking 'JZ4'....\n",
      "Checking parameters for unit 'JZ4'.\n",
      "Checking for bond parameters.\n",
      "Checking for angle parameters.\n",
      "Unit is OK.\n",
      "++++++++++end_quote+++++++++++++++++++++++++++++++++++++++++++++++++++++++++++++\n",
      "==> * Tleap OK *\n",
      "==> Removing temporary files...\n",
      "==> Writing NEW PDB file\n",
      "\n",
      "==> Writing CNS/XPLOR files\n",
      "\n",
      "==> Writing GROMACS files\n",
      "\n",
      "==> Writing GMX dihedrals for GMX 4.5 and higher.\n",
      "\n",
      "==> Writing CHARMM files\n",
      "\n",
      "==> Writing pickle file JZ4params.U15Loq.pkl\n",
      "Total time of execution: 1s\n",
      "\n",
      "2021-11-03 06:12:27,742 [MainThread  ] [INFO ]  File JZ4params.gro succesfully created\n",
      "2021-11-03 06:12:27,744 [MainThread  ] [INFO ]  File JZ4params.itp succesfully created\n",
      "2021-11-03 06:12:27,745 [MainThread  ] [INFO ]  File JZ4params.top succesfully created\n",
      "2021-11-03 06:12:27,747 [MainThread  ] [INFO ]  Removed temporary folder: JZ4params.U15Loq.acpype\n"
     ]
    },
    {
     "data": {
      "text/plain": [
       "0"
      ]
     },
     "execution_count": 9,
     "metadata": {},
     "output_type": "execute_result"
    }
   ],
   "source": [
    "from biobb_chemistry.acpype.acpype_params_gmx import acpype_params_gmx\n",
    "\n",
    "prop = {\n",
    "    'basename' : output_acpype,\n",
    "    'charge' : mol_charge\n",
    "}\n",
    "\n",
    "acpype_params_gmx(\n",
    "    input_path=output_babel_min, \n",
    "    output_path_gro=output_acpype_gro,\n",
    "    output_path_itp=output_acpype_itp,\n",
    "    output_path_top=output_acpype_top,\n",
    "    properties=prop\n",
    ")"
   ]
  },
  {
   "cell_type": "markdown",
   "metadata": {},
   "source": [
    "## Step 8: Preparing Ligand Restraints\n",
    "\n",
    "In subsequent steps of the pipeline, such as the equilibration stages of the protein-ligand complex system, it is recommended to apply some restraints to the small molecule, to avoid a possible change in position due to protein repulsion. Position restraints will be applied to the ligand, using a force constant of 1000 KJ/mol*nm^2 on the three coordinates: x, y and z. In this steps the restriction files will be created and integrated in the ligand topology.\n",
    "\n",
    "\n",
    "### Step 8.a: Creating an index file for the small molecule heavy atoms"
   ]
  },
  {
   "cell_type": "code",
   "execution_count": 10,
   "metadata": {},
   "outputs": [],
   "source": [
    "output_ligand_ndx = ligandCode+'_index.ndx'"
   ]
  },
  {
   "cell_type": "code",
   "execution_count": 38,
   "metadata": {},
   "outputs": [
    {
     "name": "stdout",
     "output_type": "stream",
     "text": [
      "2021-11-04 06:37:35,956 [MainThread  ] [INFO ]  GROMACS MakeNdx 20191 version detected\n",
      "2021-11-04 06:37:35,957 [MainThread  ] [INFO ]  Not using any container\n",
      "2021-11-04 06:37:35,958 [MainThread  ] [INFO ]  echo -e '0 & ! a H*\\nq' | gmx -nobackup -nocopyright make_ndx -f JZ4params.gro -o JZ4_index.ndx\n",
      "\n",
      "2021-11-04 06:37:35,990 [MainThread  ] [INFO ]  Exit code 0\n",
      "\n",
      "2021-11-04 06:37:35,991 [MainThread  ] [INFO ]  Going to read 0 old index file(s)\n",
      "Analysing residue names:\n",
      "There are:     1      Other residues\n",
      "Analysing residues not classified as Protein/DNA/RNA/Water and splitting into groups...\n",
      "\n",
      "  0 System              :    22 atoms\n",
      "  1 Other               :    22 atoms\n",
      "  2 JZ4                 :    22 atoms\n",
      "\n",
      " nr : group      '!': not  'name' nr name   'splitch' nr    Enter: list groups\n",
      " 'a': atom       '&': and  'del' nr         'splitres' nr   'l': list residues\n",
      " 't': atom type  '|': or   'keep' nr        'splitat' nr    'h': help\n",
      " 'r': residue              'res' nr         'chain' char\n",
      " \"name\": group             'case': case sensitive           'q': save and quit\n",
      " 'ri': residue index\n",
      "\n",
      "> \n",
      "Copied index group 0 'System'\n",
      "Found 12 atoms with name H*\n",
      "Complemented group: 10 atoms\n",
      "Merged two groups with AND: 22 10 -> 10\n",
      "\n",
      "  3 System_&_!H*        :    10 atoms\n",
      "\n",
      "> \n",
      "\n",
      "2021-11-04 06:37:35,992 [MainThread  ] [INFO ]                       :-) GROMACS - gmx make_ndx, 2019.1 (-:\n",
      "\n",
      "Executable:   /home/dhnchandan/anaconda3/envs/nb_md_analysis/bin/gmx\n",
      "Data prefix:  /home/dhnchandan/anaconda3/envs/nb_md_analysis\n",
      "Working dir:  /home/dhnchandan/Documents/cc/gromacs/nb_md_analysis/project/notebooks\n",
      "Command line:\n",
      "  gmx -nobackup -nocopyright make_ndx -f JZ4params.gro -o JZ4_index.ndx\n",
      "\n",
      "\n",
      "Reading structure file\n",
      "\n",
      "GROMACS reminds you: \"There are two major products that come out of Berkeley: LSD and UNIX. We don't believe this to be a coincidence.\" (Jeremy Anderson)\n",
      "\n",
      "\n",
      "2021-11-04 06:37:35,993 [MainThread  ] [INFO ]  Removed: []\n"
     ]
    },
    {
     "data": {
      "text/plain": [
       "0"
      ]
     },
     "execution_count": 38,
     "metadata": {},
     "output_type": "execute_result"
    }
   ],
   "source": [
    "from biobb_md.gromacs.make_ndx import make_ndx\n",
    "\n",
    "prop = {\n",
    "    'selection': \"0 & ! a H*\",\n",
    "#     'gmx_path': gmx_path\n",
    "}\n",
    "\n",
    "make_ndx(\n",
    "    input_structure_path=output_acpype_gro,\n",
    "    output_ndx_path=output_ligand_ndx,\n",
    "    properties=prop\n",
    ")"
   ]
  },
  {
   "cell_type": "markdown",
   "metadata": {},
   "source": [
    "### Step 8.b: Generating the position restraints file"
   ]
  },
  {
   "cell_type": "code",
   "execution_count": 12,
   "metadata": {},
   "outputs": [],
   "source": [
    "output_restraints_top = ligandCode+'_posres.itp'"
   ]
  },
  {
   "cell_type": "code",
   "execution_count": 39,
   "metadata": {},
   "outputs": [
    {
     "name": "stdout",
     "output_type": "stream",
     "text": [
      "2021-11-04 06:37:44,477 [MainThread  ] [INFO ]  GROMACS Genrestr 20191 version detected\n",
      "2021-11-04 06:37:44,478 [MainThread  ] [INFO ]  Not using any container\n",
      "2021-11-04 06:37:44,480 [MainThread  ] [INFO ]  echo \"System\" | gmx -nobackup -nocopyright genrestr -f JZ4params.gro -o JZ4_posres.itp -fc 1000 1000 1000 -n JZ4_index.ndx\n",
      "\n",
      "2021-11-04 06:37:44,495 [MainThread  ] [INFO ]  Exit code 0\n",
      "\n",
      "2021-11-04 06:37:44,496 [MainThread  ] [INFO ]  Select group to position restrain\n",
      "Selected 0: 'System'\n",
      "\n",
      "2021-11-04 06:37:44,497 [MainThread  ] [INFO ]                       :-) GROMACS - gmx genrestr, 2019.1 (-:\n",
      "\n",
      "Executable:   /home/dhnchandan/anaconda3/envs/nb_md_analysis/bin/gmx\n",
      "Data prefix:  /home/dhnchandan/anaconda3/envs/nb_md_analysis\n",
      "Working dir:  /home/dhnchandan/Documents/cc/gromacs/nb_md_analysis/project/notebooks\n",
      "Command line:\n",
      "  gmx -nobackup -nocopyright genrestr -f JZ4params.gro -o JZ4_posres.itp -fc 1000 1000 1000 -n JZ4_index.ndx\n",
      "\n",
      "\n",
      "Reading structure file\n",
      "Group     0 (         System) has    22 elements\n",
      "Group     1 (          Other) has    22 elements\n",
      "Group     2 (            JZ4) has    22 elements\n",
      "Group     3 (   System_&_!H*) has    10 elements\n",
      "Select a group: \n",
      "GROMACS reminds you: \"I'm a Wishbone and I'm Breaking\" (Pixies)\n",
      "\n",
      "\n",
      "2021-11-04 06:37:44,498 [MainThread  ] [INFO ]  Removed: []\n"
     ]
    },
    {
     "data": {
      "text/plain": [
       "0"
      ]
     },
     "execution_count": 39,
     "metadata": {},
     "output_type": "execute_result"
    }
   ],
   "source": [
    "from biobb_md.gromacs.genrestr import genrestr\n",
    "\n",
    "prop = {\n",
    "    'force_constants': \"1000 1000 1000\",\n",
    "    'restrained_group': \"System\",\n",
    "#     'gmx_path': gmx_path\n",
    "}\n",
    "\n",
    "genrestr(\n",
    "    input_structure_path=output_acpype_gro,\n",
    "    input_ndx_path=output_ligand_ndx,\n",
    "    output_itp_path=output_restraints_top,\n",
    "    properties=prop\n",
    ")"
   ]
  },
  {
   "cell_type": "markdown",
   "metadata": {},
   "source": [
    "## Step 9: Creating protein-ligand complex structure file\n",
    "\n",
    "\n",
    "Building new protein-ligand complex PDB file with:\n",
    "- The new protein system with fixed problems from Step 5 (Fixing protein structure step) and hydrogens atoms added from Step 6 (Creating protein topology step).\n",
    "- The new ligand system with hydrogens atoms added from Step 7 (Preparing ligand step).\n"
   ]
  },
  {
   "cell_type": "code",
   "execution_count": 14,
   "metadata": {},
   "outputs": [],
   "source": [
    "proteinFile_H = pdbCode+'_'+ligandCode+'_complex_H.pdb'\n",
    "ligandFile_H = ligandCode+'_complex_H.pdb'\n",
    "complexFile_H = pdbCode+'_'+ligandCode+'_H.pdb'"
   ]
  },
  {
   "cell_type": "code",
   "execution_count": 40,
   "metadata": {},
   "outputs": [
    {
     "name": "stdout",
     "output_type": "stream",
     "text": [
      "2021-11-04 06:37:52,956 [MainThread  ] [INFO ]  Not using any container\n",
      "2021-11-04 06:37:52,957 [MainThread  ] [INFO ]  echo \"System\" | gmx trjconv -f /home/dhnchandan/Documents/cc/gromacs/nb_md_analysis/project/notebooks/3HTB_pdb2gmx.gro -s /home/dhnchandan/Documents/cc/gromacs/nb_md_analysis/project/notebooks/3HTB_pdb2gmx.gro -o 3HTB_JZ4_complex_H.pdb\n",
      "\n",
      "2021-11-04 06:37:52,998 [MainThread  ] [INFO ]  Exit code 0\n",
      "\n",
      "2021-11-04 06:37:53,000 [MainThread  ] [INFO ]  Note that major changes are planned in future for trjconv, to improve usability and utility.Select group for output\n",
      "Selected 0: 'System'\n",
      "\n",
      "2021-11-04 06:37:53,000 [MainThread  ] [INFO ]                       :-) GROMACS - gmx trjconv, 2019.1 (-:\n",
      "\n",
      "                            GROMACS is written by:\n",
      "     Emile Apol      Rossen Apostolov      Paul Bauer     Herman J.C. Berendsen\n",
      "    Par Bjelkmar      Christian Blau   Viacheslav Bolnykh     Kevin Boyd    \n",
      " Aldert van Buuren   Rudi van Drunen     Anton Feenstra       Alan Gray     \n",
      "  Gerrit Groenhof     Anca Hamuraru    Vincent Hindriksen  M. Eric Irrgang  \n",
      "  Aleksei Iupinov   Christoph Junghans     Joe Jordan     Dimitrios Karkoulis\n",
      "    Peter Kasson        Jiri Kraus      Carsten Kutzner      Per Larsson    \n",
      "  Justin A. Lemkul    Viveca Lindahl    Magnus Lundborg     Erik Marklund   \n",
      "    Pascal Merz     Pieter Meulenhoff    Teemu Murtola       Szilard Pall   \n",
      "    Sander Pronk      Roland Schulz      Michael Shirts    Alexey Shvetsov  \n",
      "   Alfons Sijbers     Peter Tieleman      Jon Vincent      Teemu Virolainen \n",
      " Christian Wennberg    Maarten Wolf   \n",
      "                           and the project leaders:\n",
      "        Mark Abraham, Berk Hess, Erik Lindahl, and David van der Spoel\n",
      "\n",
      "Copyright (c) 1991-2000, University of Groningen, The Netherlands.\n",
      "Copyright (c) 2001-2018, The GROMACS development team at\n",
      "Uppsala University, Stockholm University and\n",
      "the Royal Institute of Technology, Sweden.\n",
      "check out http://www.gromacs.org for more information.\n",
      "\n",
      "GROMACS is free software; you can redistribute it and/or modify it\n",
      "under the terms of the GNU Lesser General Public License\n",
      "as published by the Free Software Foundation; either version 2.1\n",
      "of the License, or (at your option) any later version.\n",
      "\n",
      "GROMACS:      gmx trjconv, version 2019.1\n",
      "Executable:   /home/dhnchandan/anaconda3/envs/nb_md_analysis/bin/gmx\n",
      "Data prefix:  /home/dhnchandan/anaconda3/envs/nb_md_analysis\n",
      "Working dir:  /home/dhnchandan/Documents/cc/gromacs/nb_md_analysis/project/notebooks\n",
      "Command line:\n",
      "  gmx trjconv -f /home/dhnchandan/Documents/cc/gromacs/nb_md_analysis/project/notebooks/3HTB_pdb2gmx.gro -s /home/dhnchandan/Documents/cc/gromacs/nb_md_analysis/project/notebooks/3HTB_pdb2gmx.gro -o 3HTB_JZ4_complex_H.pdb\n",
      "\n",
      "Will write pdb: Protein data bank file\n",
      "Group     0 (         System) has  2614 elements\n",
      "Group     1 (        Protein) has  2614 elements\n",
      "Group     2 (      Protein-H) has  1301 elements\n",
      "Group     3 (        C-alpha) has   163 elements\n",
      "Group     4 (       Backbone) has   489 elements\n",
      "Group     5 (      MainChain) has   653 elements\n",
      "Group     6 (   MainChain+Cb) has   805 elements\n",
      "Group     7 (    MainChain+H) has   815 elements\n",
      "Group     8 (      SideChain) has  1799 elements\n",
      "Group     9 (    SideChain-H) has   648 elements\n",
      "Select a group: Reading frames from gro file 'GROwing Monsters And Cloning Shrimps', 2614 atoms.\n",
      "Reading frame       0 time    0.000   \n",
      "Precision of /home/dhnchandan/Documents/cc/gromacs/nb_md_analysis/project/notebooks/3HTB_pdb2gmx.gro is 0.001 (nm)\n",
      "\n",
      "Back Off! I just backed up 3HTB_JZ4_complex_H.pdb to ./#3HTB_JZ4_complex_H.pdb.2#\n",
      "Last frame          0 time    0.000   \n",
      "\n",
      "\n",
      "GROMACS reminds you: \"If mathematical analysis should ever hold a prominent place in chemistry - an aberration which is happily almost impossible - it would occasion a rapid and widespread degeneration of that science.\" (Aguste Comte, 1830)\n",
      "\n",
      "\n",
      "2021-11-04 06:37:53,006 [MainThread  ] [INFO ]  Not using any container\n",
      "2021-11-04 06:37:53,007 [MainThread  ] [INFO ]  echo \"System\" | /usr/local/gromacs/bin/gmx trjconv -f /home/dhnchandan/Documents/cc/gromacs/nb_md_analysis/project/notebooks/JZ4params.gro -s /home/dhnchandan/Documents/cc/gromacs/nb_md_analysis/project/notebooks/JZ4params.gro -o JZ4_complex_H.pdb\n",
      "\n",
      "2021-11-04 06:37:53,051 [MainThread  ] [INFO ]  Exit code 0\n",
      "\n",
      "2021-11-04 06:37:53,052 [MainThread  ] [INFO ]  Note that major changes are planned in future for trjconv, to improve usability and utility.\n",
      "Select group for output\n",
      "Selected 0: 'System'\n",
      "\n",
      "2021-11-04 06:37:53,053 [MainThread  ] [INFO ]                       :-) GROMACS - gmx trjconv, 2021.2 (-:\n",
      "\n",
      "                            GROMACS is written by:\n",
      "     Andrey Alekseenko              Emile Apol              Rossen Apostolov     \n",
      "         Paul Bauer           Herman J.C. Berendsen           Par Bjelkmar       \n",
      "       Christian Blau           Viacheslav Bolnykh             Kevin Boyd        \n",
      "     Aldert van Buuren           Rudi van Drunen             Anton Feenstra      \n",
      "    Gilles Gouaillardet             Alan Gray               Gerrit Groenhof      \n",
      "       Anca Hamuraru            Vincent Hindriksen          M. Eric Irrgang      \n",
      "      Aleksei Iupinov           Christoph Junghans             Joe Jordan        \n",
      "    Dimitrios Karkoulis            Peter Kasson                Jiri Kraus        \n",
      "      Carsten Kutzner              Per Larsson              Justin A. Lemkul     \n",
      "       Viveca Lindahl            Magnus Lundborg             Erik Marklund       \n",
      "        Pascal Merz             Pieter Meulenhoff            Teemu Murtola       \n",
      "        Szilard Pall               Sander Pronk              Roland Schulz       \n",
      "       Michael Shirts            Alexey Shvetsov             Alfons Sijbers      \n",
      "       Peter Tieleman              Jon Vincent              Teemu Virolainen     \n",
      "     Christian Wennberg            Maarten Wolf              Artem Zhmurov       \n",
      "                           and the project leaders:\n",
      "        Mark Abraham, Berk Hess, Erik Lindahl, and David van der Spoel\n",
      "\n",
      "Copyright (c) 1991-2000, University of Groningen, The Netherlands.\n",
      "Copyright (c) 2001-2019, The GROMACS development team at\n",
      "Uppsala University, Stockholm University and\n",
      "the Royal Institute of Technology, Sweden.\n",
      "check out http://www.gromacs.org for more information.\n",
      "\n",
      "GROMACS is free software; you can redistribute it and/or modify it\n",
      "under the terms of the GNU Lesser General Public License\n",
      "as published by the Free Software Foundation; either version 2.1\n",
      "of the License, or (at your option) any later version.\n",
      "\n",
      "GROMACS:      gmx trjconv, version 2021.2\n",
      "Executable:   /usr/local/gromacs/bin/gmx\n",
      "Data prefix:  /usr/local/gromacs\n",
      "Working dir:  /home/dhnchandan/Documents/cc/gromacs/nb_md_analysis/project/notebooks\n",
      "Command line:\n",
      "  gmx trjconv -f /home/dhnchandan/Documents/cc/gromacs/nb_md_analysis/project/notebooks/JZ4params.gro -s /home/dhnchandan/Documents/cc/gromacs/nb_md_analysis/project/notebooks/JZ4params.gro -o JZ4_complex_H.pdb\n",
      "\n",
      "Will write pdb: Protein data bank file\n",
      "Group     0 (         System) has    22 elements\n",
      "Group     1 (          Other) has    22 elements\n",
      "Group     2 (            JZ4) has    22 elements\n",
      "Select a group: Reading frames from gro file 'JZ4params_GMX.gro created by acpype (v: 2019-11-07T23:16:00CET) on Wed Nov  3 06:12:26 2021', 22 atoms.\n",
      "Reading frame       0 time    0.000   \n",
      "Precision of /home/dhnchandan/Documents/cc/gromacs/nb_md_analysis/project/notebooks/JZ4params.gro is 0.001 (nm)\n",
      "\n",
      "Back Off! I just backed up JZ4_complex_H.pdb to ./#JZ4_complex_H.pdb.2#\n",
      "Last frame          0 time    0.000   \n",
      "\n",
      "\n",
      "GROMACS reminds you: \"It is Lunchtime\" (A.R. Van Buuren)\n",
      "\n",
      "\n",
      "2021-11-04 06:37:53,060 [MainThread  ] [INFO ]  Removed: []\n"
     ]
    },
    {
     "data": {
      "text/plain": [
       "0"
      ]
     },
     "execution_count": 40,
     "metadata": {},
     "output_type": "execute_result"
    }
   ],
   "source": [
    "from biobb_analysis.gromacs.gmx_trjconv_str import gmx_trjconv_str\n",
    "from biobb_structure_utils.utils.cat_pdb import cat_pdb\n",
    "\n",
    "# Convert gro (with hydrogens) to pdb (PROTEIN)\n",
    "prop = {\n",
    "    'selection' : 'System',\n",
    "#     'gmx_path': gmx_path\n",
    "}\n",
    "\n",
    "gmx_trjconv_str(\n",
    "    input_structure_path=output_pdb2gmx_gro,\n",
    "    input_top_path=output_pdb2gmx_gro,\n",
    "    output_str_path=proteinFile_H,\n",
    "    properties=prop,\n",
    ")\n",
    "\n",
    "# Convert gro (with hydrogens) to pdb (LIGAND)\n",
    "prop = {\n",
    "    'selection' : 'System',\n",
    "#     'gmx_path': gmx_path\n",
    "}\n",
    "\n",
    "gmx_trjconv_str(\n",
    "    input_structure_path=output_acpype_gro,\n",
    "    input_top_path=output_acpype_gro,\n",
    "    output_str_path=ligandFile_H, \n",
    "    properties=prop\n",
    ")\n",
    "\n",
    "\n",
    "# Concatenating both PDB files: Protein + Ligand\n",
    "cat_pdb(\n",
    "    input_structure1=proteinFile_H,\n",
    "    input_structure2=ligandFile_H,\n",
    "    output_structure_path=complexFile_H\n",
    ")"
   ]
  },
  {
   "cell_type": "markdown",
   "metadata": {},
   "source": [
    "## Step 10: Creating topology file for new protein-ligand complex"
   ]
  },
  {
   "cell_type": "code",
   "execution_count": 16,
   "metadata": {},
   "outputs": [],
   "source": [
    "output_complex_top = pdbCode+'_'+ligandCode+'_complex.top.zip'\n",
    "posresifdef = \"POSRES_\"+ligandCode.upper()"
   ]
  },
  {
   "cell_type": "code",
   "execution_count": 17,
   "metadata": {},
   "outputs": [
    {
     "name": "stdout",
     "output_type": "stream",
     "text": [
      "2021-11-04 05:55:23,008 [MainThread  ] [INFO ]  Extracting: /home/dhnchandan/Documents/cc/gromacs/nb_md_analysis/project/notebooks/3HTB_pdb2gmx_top.zip\n",
      "2021-11-04 05:55:23,009 [MainThread  ] [INFO ]  to:\n",
      "2021-11-04 05:55:23,010 [MainThread  ] [INFO ]  ['e0d55218-3a3c-4309-8a5b-3882b91a5430/p2g.top', 'e0d55218-3a3c-4309-8a5b-3882b91a5430/posre.itp']\n",
      "2021-11-04 05:55:23,010 [MainThread  ] [INFO ]  Unzipping: \n",
      "2021-11-04 05:55:23,011 [MainThread  ] [INFO ]  3HTB_pdb2gmx_top.zip\n",
      "2021-11-04 05:55:23,012 [MainThread  ] [INFO ]  To: \n",
      "2021-11-04 05:55:23,012 [MainThread  ] [INFO ]  e0d55218-3a3c-4309-8a5b-3882b91a5430/p2g.top\n",
      "2021-11-04 05:55:23,013 [MainThread  ] [INFO ]  e0d55218-3a3c-4309-8a5b-3882b91a5430/posre.itp\n",
      "2021-11-04 05:55:23,041 [MainThread  ] [INFO ]  Compressing topology to: 3HTB_JZ4_complex.top.zip\n",
      "2021-11-04 05:55:23,043 [MainThread  ] [INFO ]  Ignored file e0d55218-3a3c-4309-8a5b-3882b91a5430/amber99sb-ildn.ff/forcefield.itp\n",
      "2021-11-04 05:55:23,058 [MainThread  ] [INFO ]  Ignored file e0d55218-3a3c-4309-8a5b-3882b91a5430/amber99sb-ildn.ff/spce.itp\n",
      "2021-11-04 05:55:23,059 [MainThread  ] [INFO ]  Ignored file e0d55218-3a3c-4309-8a5b-3882b91a5430/amber99sb-ildn.ff/ions.itp\n",
      "2021-11-04 05:55:23,063 [MainThread  ] [INFO ]  Adding:\n",
      "2021-11-04 05:55:23,064 [MainThread  ] [INFO ]  ['e0d55218-3a3c-4309-8a5b-3882b91a5430/JZ4_posres.itp', 'e0d55218-3a3c-4309-8a5b-3882b91a5430/JZ4params.itp', 'e0d55218-3a3c-4309-8a5b-3882b91a5430/ligand.top', 'e0d55218-3a3c-4309-8a5b-3882b91a5430/posre.itp']\n",
      "2021-11-04 05:55:23,065 [MainThread  ] [INFO ]  to: /home/dhnchandan/Documents/cc/gromacs/nb_md_analysis/project/notebooks/3HTB_JZ4_complex.top.zip\n",
      "2021-11-04 05:55:23,066 [MainThread  ] [INFO ]  Removed: ['e0d55218-3a3c-4309-8a5b-3882b91a5430']\n"
     ]
    },
    {
     "data": {
      "text/plain": [
       "0"
      ]
     },
     "execution_count": 17,
     "metadata": {},
     "output_type": "execute_result"
    }
   ],
   "source": [
    "from biobb_md.gromacs_extra.append_ligand import append_ligand\n",
    "\n",
    "prop = {\n",
    "    'posres_name': posresifdef\n",
    "}\n",
    "\n",
    "append_ligand(\n",
    "    input_top_zip_path=output_pdb2gmx_top_zip,\n",
    "    input_posres_itp_path=output_restraints_top,\n",
    "    input_itp_path=output_acpype_itp, \n",
    "    output_top_zip_path=output_complex_top,\n",
    "    properties=prop\n",
    ")"
   ]
  },
  {
   "cell_type": "markdown",
   "metadata": {},
   "source": [
    "## Step 11: Creating solvent box\n",
    "\n",
    "\n",
    "Define the unit cell for the protein-ligand complex to fill it with water molecules.\n",
    "\n",
    "- Box type: Truncated octahedron (best for spheric globular protein)\n",
    "- Distance: 0.8 nm (protein to box)\n",
    "- Protein postion: centered in the box"
   ]
  },
  {
   "cell_type": "code",
   "execution_count": 18,
   "metadata": {},
   "outputs": [],
   "source": [
    "output_editconf_gro = pdbCode+'_'+ligandCode+'_complex_editconf.gro'"
   ]
  },
  {
   "cell_type": "code",
   "execution_count": 41,
   "metadata": {},
   "outputs": [
    {
     "name": "stdout",
     "output_type": "stream",
     "text": [
      "2021-11-04 06:38:02,752 [MainThread  ] [INFO ]  Centering molecule in the box.\n",
      "2021-11-04 06:38:02,753 [MainThread  ] [INFO ]  Distance of the box to molecule:   0.80\n",
      "2021-11-04 06:38:02,754 [MainThread  ] [INFO ]  Box type: octahedron\n",
      "2021-11-04 06:38:02,754 [MainThread  ] [INFO ]  GROMACS Editconf 20191 version detected\n",
      "2021-11-04 06:38:02,755 [MainThread  ] [INFO ]  Not using any container\n",
      "2021-11-04 06:38:02,756 [MainThread  ] [INFO ]  gmx -nobackup -nocopyright editconf -f 3HTB_JZ4_H.pdb -o 3HTB_JZ4_complex_editconf.gro -d 0.8 -bt octahedron -c\n",
      "\n",
      "2021-11-04 06:38:02,808 [MainThread  ] [INFO ]  Exit code 0\n",
      "\n",
      "2021-11-04 06:38:02,809 [MainThread  ] [INFO ]  Note that major changes are planned in future for editconf, to improve usability and utility.Read 2636 atoms\n",
      "Volume: 1322.64 nm^3, corresponds to roughly 595100 electrons\n",
      "No velocities found\n",
      "    system size :  4.069  4.192  5.073 (nm)\n",
      "    diameter    :  5.849               (nm)\n",
      "    center      :  2.241 -1.669 -0.935 (nm)\n",
      "    box vectors :  8.398 10.808 14.572 (nm)\n",
      "    box angles  :  90.00  90.00  90.00 (degrees)\n",
      "    box volume  :1322.64               (nm^3)\n",
      "    shift       :  1.483  6.937  3.976 (nm)\n",
      "new center      :  3.725  5.267  3.041 (nm)\n",
      "new box vectors :  7.449  7.449  7.449 (nm)\n",
      "new box angles  :  70.53 109.47  70.53 (degrees)\n",
      "new box volume  : 318.21               (nm^3)\n",
      "\n",
      "2021-11-04 06:38:02,809 [MainThread  ] [INFO ]                       :-) GROMACS - gmx editconf, 2019.1 (-:\n",
      "\n",
      "Executable:   /home/dhnchandan/anaconda3/envs/nb_md_analysis/bin/gmx\n",
      "Data prefix:  /home/dhnchandan/anaconda3/envs/nb_md_analysis\n",
      "Working dir:  /home/dhnchandan/Documents/cc/gromacs/nb_md_analysis/project/notebooks\n",
      "Command line:\n",
      "  gmx -nobackup -nocopyright editconf -f 3HTB_JZ4_H.pdb -o 3HTB_JZ4_complex_editconf.gro -d 0.8 -bt octahedron -c\n",
      "\n",
      "\n",
      "GROMACS reminds you: \"I believe the big bang of self-driving cars is about to come.\" (Jen-Hsun Huang, CEO NVIDIA)\n",
      "\n",
      "\n",
      "2021-11-04 06:38:02,810 [MainThread  ] [INFO ]  Removed: []\n"
     ]
    },
    {
     "data": {
      "text/plain": [
       "0"
      ]
     },
     "execution_count": 41,
     "metadata": {},
     "output_type": "execute_result"
    }
   ],
   "source": [
    "from biobb_md.gromacs.editconf import editconf\n",
    "\n",
    "prop = {\n",
    "    'box_type': 'octahedron',\n",
    "    'distance_to_molecule': 0.8,\n",
    "#     'gmx_path': gmx_path\n",
    "}\n",
    "\n",
    "editconf(\n",
    "    input_gro_path=complexFile_H, \n",
    "    output_gro_path=output_editconf_gro,\n",
    "    properties=prop\n",
    ")"
   ]
  },
  {
   "cell_type": "markdown",
   "metadata": {},
   "source": [
    "## Step 12: Filling solvent box with water molecules\n",
    "\n",
    "- Water model: SPC (equilibrated 3-point solvent model)"
   ]
  },
  {
   "cell_type": "code",
   "execution_count": 27,
   "metadata": {},
   "outputs": [],
   "source": [
    "output_solvate_gro = pdbCode+'_'+ligandCode+'_solvate.gro'\n",
    "output_solvate_top_zip = pdbCode+'_'+ligandCode+'_solvate_top.zip'"
   ]
  },
  {
   "cell_type": "code",
   "execution_count": 42,
   "metadata": {},
   "outputs": [
    {
     "name": "stdout",
     "output_type": "stream",
     "text": [
      "2021-11-04 06:38:16,560 [MainThread  ] [INFO ]  Extracting: /home/dhnchandan/Documents/cc/gromacs/nb_md_analysis/project/notebooks/3HTB_JZ4_complex.top.zip\n",
      "2021-11-04 06:38:16,562 [MainThread  ] [INFO ]  to:\n",
      "2021-11-04 06:38:16,563 [MainThread  ] [INFO ]  ['f4f57e82-d94a-48ed-a37b-bb40f75acb24/JZ4_posres.itp', 'f4f57e82-d94a-48ed-a37b-bb40f75acb24/JZ4params.itp', 'f4f57e82-d94a-48ed-a37b-bb40f75acb24/ligand.top', 'f4f57e82-d94a-48ed-a37b-bb40f75acb24/posre.itp']\n",
      "2021-11-04 06:38:16,564 [MainThread  ] [INFO ]  Unzipping: \n",
      "2021-11-04 06:38:16,566 [MainThread  ] [INFO ]  3HTB_JZ4_complex.top.zip\n",
      "2021-11-04 06:38:16,567 [MainThread  ] [INFO ]  To: \n",
      "2021-11-04 06:38:16,567 [MainThread  ] [INFO ]  f4f57e82-d94a-48ed-a37b-bb40f75acb24/JZ4_posres.itp\n",
      "2021-11-04 06:38:16,568 [MainThread  ] [INFO ]  f4f57e82-d94a-48ed-a37b-bb40f75acb24/JZ4params.itp\n",
      "2021-11-04 06:38:16,569 [MainThread  ] [INFO ]  f4f57e82-d94a-48ed-a37b-bb40f75acb24/ligand.top\n",
      "2021-11-04 06:38:16,569 [MainThread  ] [INFO ]  f4f57e82-d94a-48ed-a37b-bb40f75acb24/posre.itp\n",
      "2021-11-04 06:38:16,570 [MainThread  ] [INFO ]  GROMACS Solvate 20191 version detected\n",
      "2021-11-04 06:38:16,571 [MainThread  ] [INFO ]  Not using any container\n",
      "2021-11-04 06:38:16,572 [MainThread  ] [INFO ]  gmx -nobackup -nocopyright solvate -cp 3HTB_JZ4_complex_editconf.gro -cs spc216.gro -o 3HTB_JZ4_solvate.gro -p f4f57e82-d94a-48ed-a37b-bb40f75acb24/ligand.top\n",
      "\n",
      "2021-11-04 06:38:16,847 [MainThread  ] [INFO ]  Exit code 0\n",
      "\n",
      "2021-11-04 06:38:16,849 [MainThread  ] [INFO ]  \n",
      "WARNING: Masses and atomic (Van der Waals) radii will be guessed\n",
      "         based on residue and atom names, since they could not be\n",
      "         definitively assigned from the information in your input\n",
      "         files. These guessed numbers might deviate from the mass\n",
      "         and radius of the atom type. Please check the output\n",
      "         files if necessary.\n",
      "\n",
      "NOTE: From version 5.0 gmx solvate uses the Van der Waals radii\n",
      "from the source below. This means the results may be different\n",
      "compared to previous GROMACS versions.\n",
      "\n",
      "++++ PLEASE READ AND CITE THE FOLLOWING REFERENCE ++++\n",
      "A. Bondi\n",
      "van der Waals Volumes and Radii\n",
      "J. Phys. Chem. 68 (1964) pp. 441-451\n",
      "-------- -------- --- Thank You --- -------- --------\n",
      "\n",
      "Adding line for 9531 solvent molecules with resname (SOL) to topology file (f4f57e82-d94a-48ed-a37b-bb40f75acb24/ligand.top)\n",
      "\n",
      "2021-11-04 06:38:16,850 [MainThread  ] [INFO ]                       :-) GROMACS - gmx solvate, 2019.1 (-:\n",
      "\n",
      "Executable:   /home/dhnchandan/anaconda3/envs/nb_md_analysis/bin/gmx\n",
      "Data prefix:  /home/dhnchandan/anaconda3/envs/nb_md_analysis\n",
      "Working dir:  /home/dhnchandan/Documents/cc/gromacs/nb_md_analysis/project/notebooks\n",
      "Command line:\n",
      "  gmx -nobackup -nocopyright solvate -cp 3HTB_JZ4_complex_editconf.gro -cs spc216.gro -o 3HTB_JZ4_solvate.gro -p f4f57e82-d94a-48ed-a37b-bb40f75acb24/ligand.top\n",
      "\n",
      "Reading solute configuration\n",
      "Reading solvent configuration\n",
      "\n",
      "Initialising inter-atomic distances...\n",
      "Generating solvent configuration\n",
      "Will generate new solvent configuration of 5x4x4 boxes\n",
      "Solvent box contains 36060 atoms in 12020 residues\n",
      "Removed 5094 solvent atoms due to solvent-solvent overlap\n",
      "Removed 2373 solvent atoms due to solute-solvent overlap\n",
      "Sorting configuration\n",
      "Found 1 molecule type:\n",
      "    SOL (   3 atoms):  9531 residues\n",
      "Generated solvent containing 28593 atoms in 9531 residues\n",
      "Writing generated configuration to 3HTB_JZ4_solvate.gro\n",
      "\n",
      "Output configuration contains 31229 atoms in 9695 residues\n",
      "Volume                 :     318.205 (nm^3)\n",
      "Density                :     1000.12 (g/l)\n",
      "Number of solvent molecules:   9531   \n",
      "\n",
      "Processing topology\n",
      "\n",
      "GROMACS reminds you: \"Rub It Right Accross Your Eyes\" (F. Zappa)\n",
      "\n",
      "\n",
      "2021-11-04 06:38:16,851 [MainThread  ] [INFO ]  Compressing topology to: 3HTB_JZ4_solvate_top.zip\n",
      "2021-11-04 06:38:16,852 [MainThread  ] [INFO ]  Ignored file f4f57e82-d94a-48ed-a37b-bb40f75acb24/amber99sb-ildn.ff/forcefield.itp\n",
      "2021-11-04 06:38:16,865 [MainThread  ] [INFO ]  Ignored file f4f57e82-d94a-48ed-a37b-bb40f75acb24/amber99sb-ildn.ff/spce.itp\n",
      "2021-11-04 06:38:16,866 [MainThread  ] [INFO ]  Ignored file f4f57e82-d94a-48ed-a37b-bb40f75acb24/amber99sb-ildn.ff/ions.itp\n",
      "2021-11-04 06:38:16,873 [MainThread  ] [INFO ]  Adding:\n",
      "2021-11-04 06:38:16,874 [MainThread  ] [INFO ]  ['f4f57e82-d94a-48ed-a37b-bb40f75acb24/JZ4_posres.itp', 'f4f57e82-d94a-48ed-a37b-bb40f75acb24/JZ4params.itp', 'f4f57e82-d94a-48ed-a37b-bb40f75acb24/ligand.top', 'f4f57e82-d94a-48ed-a37b-bb40f75acb24/posre.itp']\n",
      "2021-11-04 06:38:16,875 [MainThread  ] [INFO ]  to: /home/dhnchandan/Documents/cc/gromacs/nb_md_analysis/project/notebooks/3HTB_JZ4_solvate_top.zip\n",
      "2021-11-04 06:38:16,876 [MainThread  ] [INFO ]  Removed: ['f4f57e82-d94a-48ed-a37b-bb40f75acb24']\n"
     ]
    },
    {
     "data": {
      "text/plain": [
       "0"
      ]
     },
     "execution_count": 42,
     "metadata": {},
     "output_type": "execute_result"
    }
   ],
   "source": [
    "from biobb_md.gromacs.solvate import solvate\n",
    "\n",
    "prop = {\n",
    "#     'gmx_path': gmx_path\n",
    "}\n",
    "\n",
    "solvate(\n",
    "    input_solute_gro_path=output_editconf_gro,\n",
    "    output_gro_path=output_solvate_gro,\n",
    "    input_top_zip_path=output_complex_top,\n",
    "    output_top_zip_path=output_solvate_top_zip,\n",
    "    properties=prop\n",
    ")"
   ]
  },
  {
   "cell_type": "markdown",
   "metadata": {},
   "source": [
    "## Step 13: Visualizing 3D structure"
   ]
  },
  {
   "cell_type": "code",
   "execution_count": 30,
   "metadata": {},
   "outputs": [
    {
     "data": {
      "application/vnd.jupyter.widget-view+json": {
       "model_id": "dcfe1e724fc74b41b38e4162e1321806",
       "version_major": 2,
       "version_minor": 0
      },
      "text/plain": [
       "NGLWidget()"
      ]
     },
     "metadata": {},
     "output_type": "display_data"
    }
   ],
   "source": [
    "#Show protein\n",
    "view = nglview.show_structure_file(output_solvate_gro)\n",
    "view.clear_representations()\n",
    "view.add_representation(repr_type='cartoon', selection='protein', color='sstruc')\n",
    "view.add_representation(repr_type='licorice', radius='.5', selection=ligandCode)\n",
    "view.add_representation(repr_type='line', linewidth='1', selection='SOL', opacity='.3')\n",
    "view._remote_call('setSize', target='Widget', args=['','600px'])\n",
    "view.camera='orthographic'\n",
    "\n",
    "view.render_image()\n",
    "view.download_image(filename='solvent_box.png')\n",
    "\n",
    "view"
   ]
  },
  {
   "cell_type": "markdown",
   "metadata": {},
   "source": [
    "## Step 14: Adding ions\n",
    "\n",
    "\n",
    "Add ions to neutralize the protein-ligand complex and reach a desired ionic concentration.\n",
    "\n",
    "- Creating portable binary run file for ion generation\n",
    "- Adding ions to neutralize the system and reach a 0.05 molar ionic concentration\n",
    "\n",
    "### Step 14.a: Creating binary run file"
   ]
  },
  {
   "cell_type": "code",
   "execution_count": 35,
   "metadata": {},
   "outputs": [],
   "source": [
    "output_gppion_tpr = pdbCode+'_'+ligandCode+'_complex_gppion.tpr'"
   ]
  },
  {
   "cell_type": "code",
   "execution_count": 43,
   "metadata": {},
   "outputs": [
    {
     "name": "stdout",
     "output_type": "stream",
     "text": [
      "2021-11-04 06:38:23,768 [MainThread  ] [INFO ]  Extracting: /home/dhnchandan/Documents/cc/gromacs/nb_md_analysis/project/notebooks/3HTB_JZ4_solvate_top.zip\n",
      "2021-11-04 06:38:23,770 [MainThread  ] [INFO ]  to:\n",
      "2021-11-04 06:38:23,770 [MainThread  ] [INFO ]  ['fe7be492-16a0-45a1-bd35-6ca44b2b708d/JZ4_posres.itp', 'fe7be492-16a0-45a1-bd35-6ca44b2b708d/JZ4params.itp', 'fe7be492-16a0-45a1-bd35-6ca44b2b708d/ligand.top', 'fe7be492-16a0-45a1-bd35-6ca44b2b708d/posre.itp']\n",
      "2021-11-04 06:38:23,771 [MainThread  ] [INFO ]  Unzipping: \n",
      "2021-11-04 06:38:23,772 [MainThread  ] [INFO ]  3HTB_JZ4_solvate_top.zip\n",
      "2021-11-04 06:38:23,772 [MainThread  ] [INFO ]  To: \n",
      "2021-11-04 06:38:23,773 [MainThread  ] [INFO ]  fe7be492-16a0-45a1-bd35-6ca44b2b708d/JZ4_posres.itp\n",
      "2021-11-04 06:38:23,774 [MainThread  ] [INFO ]  fe7be492-16a0-45a1-bd35-6ca44b2b708d/JZ4params.itp\n",
      "2021-11-04 06:38:23,774 [MainThread  ] [INFO ]  fe7be492-16a0-45a1-bd35-6ca44b2b708d/ligand.top\n",
      "2021-11-04 06:38:23,775 [MainThread  ] [INFO ]  fe7be492-16a0-45a1-bd35-6ca44b2b708d/posre.itp\n",
      "2021-11-04 06:38:23,776 [MainThread  ] [INFO ]  GROMACS Grompp 20191 version detected\n",
      "2021-11-04 06:38:23,776 [MainThread  ] [INFO ]  Not using any container\n",
      "2021-11-04 06:38:23,777 [MainThread  ] [INFO ]  gmx -nobackup -nocopyright grompp -f f1600fae-8a67-498e-a0a0-6cd0074f2549/grompp.mdp -c 3HTB_JZ4_solvate.gro -r 3HTB_JZ4_solvate.gro -p fe7be492-16a0-45a1-bd35-6ca44b2b708d/ligand.top -o 3HTB_JZ4_complex_gppion.tpr -po mdout.mdp -maxwarn 1\n",
      "\n",
      "2021-11-04 06:38:24,117 [MainThread  ] [INFO ]  Exit code 0\n",
      "\n",
      "2021-11-04 06:38:24,118 [MainThread  ] [INFO ]  \n",
      "++++ PLEASE READ AND CITE THE FOLLOWING REFERENCE ++++\n",
      "J. S. Hub, B. L. de Groot, H. Grubmueller, G. Groenhof\n",
      "Quantifying Artifacts in Ewald Simulations of Inhomogeneous Systems with a Net\n",
      "Charge\n",
      "J. Chem. Theory Comput. 10 (2014) pp. 381-393\n",
      "-------- -------- --- Thank You --- -------- --------\n",
      "\n",
      "Analysing residue names:\n",
      "There are:   163    Protein residues\n",
      "There are:     1      Other residues\n",
      "There are:  9531      Water residues\n",
      "Analysing Protein...\n",
      "Analysing residues not classified as Protein/DNA/RNA/Water and splitting into groups...\n",
      "Calculating fourier grid dimensions for X Y Z\n",
      "Using a fourier grid of 64x64x64, spacing 0.116 0.116 0.116\n",
      "This run will generate roughly 2 Mb of data\n",
      "\n",
      "2021-11-04 06:38:24,119 [MainThread  ] [INFO ]                        :-) GROMACS - gmx grompp, 2019.1 (-:\n",
      "\n",
      "Executable:   /home/dhnchandan/anaconda3/envs/nb_md_analysis/bin/gmx\n",
      "Data prefix:  /home/dhnchandan/anaconda3/envs/nb_md_analysis\n",
      "Working dir:  /home/dhnchandan/Documents/cc/gromacs/nb_md_analysis/project/notebooks\n",
      "Command line:\n",
      "  gmx -nobackup -nocopyright grompp -f f1600fae-8a67-498e-a0a0-6cd0074f2549/grompp.mdp -c 3HTB_JZ4_solvate.gro -r 3HTB_JZ4_solvate.gro -p fe7be492-16a0-45a1-bd35-6ca44b2b708d/ligand.top -o 3HTB_JZ4_complex_gppion.tpr -po mdout.mdp -maxwarn 1\n",
      "\n",
      "Setting the LD random seed to 554280203\n",
      "Generated 2556 of the 2556 non-bonded parameter combinations\n",
      "Generating 1-4 interactions: fudge = 0.5\n",
      "Generated 2556 of the 2556 1-4 parameter combinations\n",
      "Excluding 3 bonded neighbours molecule type 'Protein_chain_A'\n",
      "Excluding 3 bonded neighbours molecule type 'JZ4params'\n",
      "Excluding 2 bonded neighbours molecule type 'SOL'\n",
      "\n",
      "NOTE 1 [file ligand.top, line 24863]:\n",
      "  System has non-zero total charge: 5.999999\n",
      "  Total charge should normally be an integer. See\n",
      "  http://www.gromacs.org/Documentation/Floating_Point_Arithmetic\n",
      "  for discussion on how close it should be to an integer.\n",
      "  \n",
      "\n",
      "\n",
      "\n",
      "WARNING 1 [file ligand.top, line 24863]:\n",
      "  You are using Ewald electrostatics in a system with net charge. This can\n",
      "  lead to severe artifacts, such as ions moving into regions with low\n",
      "  dielectric, due to the uniform background charge. We suggest to\n",
      "  neutralize your system with counter ions, possibly in combination with a\n",
      "  physiological salt concentration.\n",
      "\n",
      "Removing all charge groups because cutoff-scheme=Verlet\n",
      "Number of degrees of freedom in T-Coupling group rest is 65091.00\n",
      "Estimate for the relative computational load of the PME mesh part: 0.18\n",
      "\n",
      "There was 1 note\n",
      "\n",
      "There was 1 warning\n",
      "\n",
      "GROMACS reminds you: \"Here, kitty, kitty...\" (Erwin Schroedinger)\n",
      "\n",
      "\n",
      "2021-11-04 06:38:24,121 [MainThread  ] [INFO ]  Removed: ['fe7be492-16a0-45a1-bd35-6ca44b2b708d', 'f1600fae-8a67-498e-a0a0-6cd0074f2549', 'mdout.mdp']\n"
     ]
    },
    {
     "data": {
      "text/plain": [
       "0"
      ]
     },
     "execution_count": 43,
     "metadata": {},
     "output_type": "execute_result"
    }
   ],
   "source": [
    "from biobb_md.gromacs.grompp import grompp\n",
    "\n",
    "prop = {\n",
    "    'mdp':{\n",
    "        'nsteps':'5000'\n",
    "    },\n",
    "    'simulation_type':'minimization',\n",
    "    'maxwarn': 1,\n",
    "#     'gmx_path': gmx_path\n",
    "}\n",
    "\n",
    "grompp(\n",
    "    input_gro_path=output_solvate_gro,\n",
    "    input_top_zip_path=output_solvate_top_zip, \n",
    "    output_tpr_path=output_gppion_tpr,\n",
    "    properties=prop\n",
    ")"
   ]
  },
  {
   "cell_type": "markdown",
   "metadata": {},
   "source": [
    "### Step 14.b: Neutralizing the system"
   ]
  },
  {
   "cell_type": "code",
   "execution_count": 33,
   "metadata": {},
   "outputs": [],
   "source": [
    "output_genion_gro = pdbCode+'_'+ligandCode+'_genion.gro'\n",
    "output_genion_top_zip = pdbCode+'_'+ligandCode+'_genion_top.zip'"
   ]
  },
  {
   "cell_type": "code",
   "execution_count": 44,
   "metadata": {},
   "outputs": [
    {
     "name": "stdout",
     "output_type": "stream",
     "text": [
      "2021-11-04 06:41:01,580 [MainThread  ] [INFO ]  Extracting: /home/dhnchandan/Documents/cc/gromacs/nb_md_analysis/project/notebooks/3HTB_JZ4_solvate_top.zip\n",
      "2021-11-04 06:41:01,581 [MainThread  ] [INFO ]  to:\n",
      "2021-11-04 06:41:01,582 [MainThread  ] [INFO ]  ['f1dbce03-5b02-4273-90f2-e238f01af1da/JZ4_posres.itp', 'f1dbce03-5b02-4273-90f2-e238f01af1da/JZ4params.itp', 'f1dbce03-5b02-4273-90f2-e238f01af1da/ligand.top', 'f1dbce03-5b02-4273-90f2-e238f01af1da/posre.itp']\n",
      "2021-11-04 06:41:01,583 [MainThread  ] [INFO ]  Unzipping: \n",
      "2021-11-04 06:41:01,584 [MainThread  ] [INFO ]  3HTB_JZ4_solvate_top.zip\n",
      "2021-11-04 06:41:01,584 [MainThread  ] [INFO ]  To: \n",
      "2021-11-04 06:41:01,585 [MainThread  ] [INFO ]  f1dbce03-5b02-4273-90f2-e238f01af1da/JZ4_posres.itp\n",
      "2021-11-04 06:41:01,585 [MainThread  ] [INFO ]  f1dbce03-5b02-4273-90f2-e238f01af1da/JZ4params.itp\n",
      "2021-11-04 06:41:01,586 [MainThread  ] [INFO ]  f1dbce03-5b02-4273-90f2-e238f01af1da/ligand.top\n",
      "2021-11-04 06:41:01,587 [MainThread  ] [INFO ]  f1dbce03-5b02-4273-90f2-e238f01af1da/posre.itp\n",
      "2021-11-04 06:41:01,587 [MainThread  ] [INFO ]  To reach up 0.05 mol/litre concentration\n",
      "2021-11-04 06:41:01,588 [MainThread  ] [INFO ]  GROMACS Genion 20191 version detected\n",
      "2021-11-04 06:41:01,589 [MainThread  ] [INFO ]  Not using any container\n",
      "2021-11-04 06:41:01,589 [MainThread  ] [INFO ]  echo \"SOL\" | gmx -nobackup -nocopyright genion -s 3HTB_JZ4_complex_gppion.tpr -o 3HTB_JZ4_genion.gro -p f1dbce03-5b02-4273-90f2-e238f01af1da/ligand.top -neutral -conc 0.05 -seed 1993\n",
      "\n",
      "2021-11-04 06:41:01,678 [MainThread  ] [INFO ]  Exit code 0\n",
      "\n",
      "2021-11-04 06:41:01,679 [MainThread  ] [INFO ]  Will try to add 10 NA ions and 16 CL ions.\n",
      "Select a continuous group of solvent molecules\n",
      "Selected 15: 'SOL'\n",
      "\n",
      "Processing topology\n",
      "Replacing 26 solute molecules in topology file (f1dbce03-5b02-4273-90f2-e238f01af1da/ligand.top)  by 10 NA and 16 CL ions.\n",
      "\n",
      "2021-11-04 06:41:01,680 [MainThread  ] [INFO ]                        :-) GROMACS - gmx genion, 2019.1 (-:\n",
      "\n",
      "Executable:   /home/dhnchandan/anaconda3/envs/nb_md_analysis/bin/gmx\n",
      "Data prefix:  /home/dhnchandan/anaconda3/envs/nb_md_analysis\n",
      "Working dir:  /home/dhnchandan/Documents/cc/gromacs/nb_md_analysis/project/notebooks\n",
      "Command line:\n",
      "  gmx -nobackup -nocopyright genion -s 3HTB_JZ4_complex_gppion.tpr -o 3HTB_JZ4_genion.gro -p f1dbce03-5b02-4273-90f2-e238f01af1da/ligand.top -neutral -conc 0.05 -seed 1993\n",
      "\n",
      "Reading file 3HTB_JZ4_complex_gppion.tpr, VERSION 2019.1 (single precision)\n",
      "Reading file 3HTB_JZ4_complex_gppion.tpr, VERSION 2019.1 (single precision)\n",
      "Group     0 (         System) has 31229 elements\n",
      "Group     1 (        Protein) has  2614 elements\n",
      "Group     2 (      Protein-H) has  1301 elements\n",
      "Group     3 (        C-alpha) has   163 elements\n",
      "Group     4 (       Backbone) has   489 elements\n",
      "Group     5 (      MainChain) has   653 elements\n",
      "Group     6 (   MainChain+Cb) has   805 elements\n",
      "Group     7 (    MainChain+H) has   815 elements\n",
      "Group     8 (      SideChain) has  1799 elements\n",
      "Group     9 (    SideChain-H) has   648 elements\n",
      "Group    10 (    Prot-Masses) has  2614 elements\n",
      "Group    11 (    non-Protein) has 28615 elements\n",
      "Group    12 (          Other) has    22 elements\n",
      "Group    13 (            JZ4) has    22 elements\n",
      "Group    14 (          Water) has 28593 elements\n",
      "Group    15 (            SOL) has 28593 elements\n",
      "Group    16 (      non-Water) has  2636 elements\n",
      "Select a group: Number of (3-atomic) solvent molecules: 9531\n",
      "Using random seed 1993.\n",
      "Replacing solvent molecule 6684 (atom 22688) with NA\n",
      "Replacing solvent molecule 3713 (atom 13775) with NA\n",
      "Replacing solvent molecule 6865 (atom 23231) with NA\n",
      "Replacing solvent molecule 6607 (atom 22457) with NA\n",
      "Replacing solvent molecule 2054 (atom 8798) with NA\n",
      "Replacing solvent molecule 3610 (atom 13466) with NA\n",
      "Replacing solvent molecule 2213 (atom 9275) with NA\n",
      "Replacing solvent molecule 2304 (atom 9548) with NA\n",
      "Replacing solvent molecule 1640 (atom 7556) with NA\n",
      "Replacing solvent molecule 2994 (atom 11618) with NA\n",
      "Replacing solvent molecule 905 (atom 5351) with CL\n",
      "Replacing solvent molecule 4068 (atom 14840) with CL\n",
      "Replacing solvent molecule 9064 (atom 29828) with CL\n",
      "Replacing solvent molecule 4558 (atom 16310) with CL\n",
      "Replacing solvent molecule 1900 (atom 8336) with CL\n",
      "Replacing solvent molecule 7505 (atom 25151) with CL\n",
      "Replacing solvent molecule 9184 (atom 30188) with CL\n",
      "Replacing solvent molecule 5771 (atom 19949) with CL\n",
      "Replacing solvent molecule 6751 (atom 22889) with CL\n",
      "Replacing solvent molecule 2902 (atom 11342) with CL\n",
      "Replacing solvent molecule 2024 (atom 8708) with CL\n",
      "Replacing solvent molecule 8521 (atom 28199) with CL\n",
      "Replacing solvent molecule 909 (atom 5363) with CL\n",
      "Replacing solvent molecule 3452 (atom 12992) with CL\n",
      "Replacing solvent molecule 3869 (atom 14243) with CL\n",
      "Replacing solvent molecule 4530 (atom 16226) with CL\n",
      "\n",
      "\n",
      "GROMACS reminds you: \"When I asked a younger colleague at the university how he had been able to change his research field several times within a decade or so, he answered: \"It's just a question of new software\"\" (Paul Verhaeghe)\n",
      "\n",
      "\n",
      "2021-11-04 06:41:01,680 [MainThread  ] [INFO ]  Compressing topology to: 3HTB_JZ4_genion_top.zip\n",
      "2021-11-04 06:41:01,681 [MainThread  ] [INFO ]  Ignored file f1dbce03-5b02-4273-90f2-e238f01af1da/amber99sb-ildn.ff/forcefield.itp\n",
      "2021-11-04 06:41:01,695 [MainThread  ] [INFO ]  Ignored file f1dbce03-5b02-4273-90f2-e238f01af1da/amber99sb-ildn.ff/spce.itp\n",
      "2021-11-04 06:41:01,696 [MainThread  ] [INFO ]  Ignored file f1dbce03-5b02-4273-90f2-e238f01af1da/amber99sb-ildn.ff/ions.itp\n",
      "2021-11-04 06:41:01,701 [MainThread  ] [INFO ]  Adding:\n",
      "2021-11-04 06:41:01,701 [MainThread  ] [INFO ]  ['f1dbce03-5b02-4273-90f2-e238f01af1da/JZ4_posres.itp', 'f1dbce03-5b02-4273-90f2-e238f01af1da/JZ4params.itp', 'f1dbce03-5b02-4273-90f2-e238f01af1da/ligand.top', 'f1dbce03-5b02-4273-90f2-e238f01af1da/posre.itp']\n",
      "2021-11-04 06:41:01,702 [MainThread  ] [INFO ]  to: /home/dhnchandan/Documents/cc/gromacs/nb_md_analysis/project/notebooks/3HTB_JZ4_genion_top.zip\n",
      "2021-11-04 06:41:01,703 [MainThread  ] [INFO ]  Removed: ['f1dbce03-5b02-4273-90f2-e238f01af1da']\n"
     ]
    },
    {
     "data": {
      "text/plain": [
       "0"
      ]
     },
     "execution_count": 44,
     "metadata": {},
     "output_type": "execute_result"
    }
   ],
   "source": [
    "from biobb_md.gromacs.genion import genion\n",
    "\n",
    "prop={\n",
    "    'neutral':True,\n",
    "    'concentration':0.05,\n",
    "#     'gmx_path': gmx_path\n",
    "}\n",
    "\n",
    "genion(\n",
    "    input_tpr_path=output_gppion_tpr,\n",
    "    output_gro_path=output_genion_gro, \n",
    "    input_top_zip_path=output_solvate_top_zip,\n",
    "    output_top_zip_path=output_genion_top_zip, \n",
    "    properties=prop\n",
    ")"
   ]
  },
  {
   "cell_type": "markdown",
   "metadata": {},
   "source": [
    "## Step 15: Visualizing 3D structure"
   ]
  },
  {
   "cell_type": "code",
   "execution_count": 45,
   "metadata": {},
   "outputs": [
    {
     "data": {
      "application/vnd.jupyter.widget-view+json": {
       "model_id": "286bee2b6e45447682a38b89eb998b13",
       "version_major": 2,
       "version_minor": 0
      },
      "text/plain": [
       "NGLWidget()"
      ]
     },
     "metadata": {},
     "output_type": "display_data"
    }
   ],
   "source": [
    "#Show protein\n",
    "view = nglview.show_structure_file(output_genion_gro)\n",
    "view.clear_representations()\n",
    "view.add_representation(repr_type='cartoon', selection='protein', color='sstruc')\n",
    "view.add_representation(repr_type='licorice', radius='.5', selection=ligandCode)\n",
    "view.add_representation(repr_type='ball+stick', selection='NA')\n",
    "view.add_representation(repr_type='ball+stick', selection='CL')\n",
    "view._remote_call('setSize', target='Widget', args=['','600px'])\n",
    "view.camera='orthographic'\n",
    "\n",
    "view.render_image()\n",
    "view.download_image(filename='step15_protein_ligand_complex.png')\n",
    "\n",
    "view"
   ]
  },
  {
   "cell_type": "markdown",
   "metadata": {},
   "source": [
    "## Step 16: Energetically minimize the system\n",
    "\n",
    "Energetically minimize the protein-ligand complex till reaching a desired potential energy.\n",
    "\n",
    "- Creating portable binary run file for energy minimization\n",
    "- Energetically minimize the protein-ligand complex till reaching a force of 500 kJ/mol/nm.\n",
    "- Checking energy minimization results. Plotting energy by time during the minimization process.\n",
    "\n",
    "### Step 16.a: Creating portable binary run file"
   ]
  },
  {
   "cell_type": "code",
   "execution_count": 46,
   "metadata": {},
   "outputs": [],
   "source": [
    "output_gppmin_tpr = pdbCode+'_'+ligandCode+'_gppmin.tpr'"
   ]
  },
  {
   "cell_type": "code",
   "execution_count": 47,
   "metadata": {},
   "outputs": [
    {
     "name": "stdout",
     "output_type": "stream",
     "text": [
      "2021-11-04 06:53:05,437 [MainThread  ] [INFO ]  Extracting: /home/dhnchandan/Documents/cc/gromacs/nb_md_analysis/project/notebooks/3HTB_JZ4_genion_top.zip\n",
      "2021-11-04 06:53:05,440 [MainThread  ] [INFO ]  to:\n",
      "2021-11-04 06:53:05,441 [MainThread  ] [INFO ]  ['9527cae1-facd-4e38-96ff-758aabc7ceaf/JZ4_posres.itp', '9527cae1-facd-4e38-96ff-758aabc7ceaf/JZ4params.itp', '9527cae1-facd-4e38-96ff-758aabc7ceaf/ligand.top', '9527cae1-facd-4e38-96ff-758aabc7ceaf/posre.itp']\n",
      "2021-11-04 06:53:05,442 [MainThread  ] [INFO ]  Unzipping: \n",
      "2021-11-04 06:53:05,442 [MainThread  ] [INFO ]  3HTB_JZ4_genion_top.zip\n",
      "2021-11-04 06:53:05,443 [MainThread  ] [INFO ]  To: \n",
      "2021-11-04 06:53:05,443 [MainThread  ] [INFO ]  9527cae1-facd-4e38-96ff-758aabc7ceaf/JZ4_posres.itp\n",
      "2021-11-04 06:53:05,445 [MainThread  ] [INFO ]  9527cae1-facd-4e38-96ff-758aabc7ceaf/JZ4params.itp\n",
      "2021-11-04 06:53:05,446 [MainThread  ] [INFO ]  9527cae1-facd-4e38-96ff-758aabc7ceaf/ligand.top\n",
      "2021-11-04 06:53:05,446 [MainThread  ] [INFO ]  9527cae1-facd-4e38-96ff-758aabc7ceaf/posre.itp\n",
      "2021-11-04 06:53:05,448 [MainThread  ] [INFO ]  GROMACS Grompp 20191 version detected\n",
      "2021-11-04 06:53:05,449 [MainThread  ] [INFO ]  Not using any container\n",
      "2021-11-04 06:53:05,449 [MainThread  ] [INFO ]  gmx -nobackup -nocopyright grompp -f 1090892e-60a5-435b-8f34-1d5efd275fca/grompp.mdp -c 3HTB_JZ4_genion.gro -r 3HTB_JZ4_genion.gro -p 9527cae1-facd-4e38-96ff-758aabc7ceaf/ligand.top -o 3HTB_JZ4_gppmin.tpr -po mdout.mdp -maxwarn 10\n",
      "\n",
      "2021-11-04 06:53:05,752 [MainThread  ] [INFO ]  Exit code 0\n",
      "\n",
      "2021-11-04 06:53:05,754 [MainThread  ] [INFO ]  Analysing residue names:\n",
      "There are:   163    Protein residues\n",
      "There are:     1      Other residues\n",
      "There are:  9505      Water residues\n",
      "There are:    26        Ion residues\n",
      "Analysing Protein...\n",
      "Analysing residues not classified as Protein/DNA/RNA/Water and splitting into groups...\n",
      "Analysing residues not classified as Protein/DNA/RNA/Water and splitting into groups...\n",
      "Calculating fourier grid dimensions for X Y Z\n",
      "Using a fourier grid of 64x64x64, spacing 0.116 0.116 0.116\n",
      "This run will generate roughly 2 Mb of data\n",
      "\n",
      "2021-11-04 06:53:05,754 [MainThread  ] [INFO ]                        :-) GROMACS - gmx grompp, 2019.1 (-:\n",
      "\n",
      "Executable:   /home/dhnchandan/anaconda3/envs/nb_md_analysis/bin/gmx\n",
      "Data prefix:  /home/dhnchandan/anaconda3/envs/nb_md_analysis\n",
      "Working dir:  /home/dhnchandan/Documents/cc/gromacs/nb_md_analysis/project/notebooks\n",
      "Command line:\n",
      "  gmx -nobackup -nocopyright grompp -f 1090892e-60a5-435b-8f34-1d5efd275fca/grompp.mdp -c 3HTB_JZ4_genion.gro -r 3HTB_JZ4_genion.gro -p 9527cae1-facd-4e38-96ff-758aabc7ceaf/ligand.top -o 3HTB_JZ4_gppmin.tpr -po mdout.mdp -maxwarn 10\n",
      "\n",
      "Setting the LD random seed to 1986317975\n",
      "Generated 2556 of the 2556 non-bonded parameter combinations\n",
      "Generating 1-4 interactions: fudge = 0.5\n",
      "Generated 2556 of the 2556 1-4 parameter combinations\n",
      "Excluding 3 bonded neighbours molecule type 'Protein_chain_A'\n",
      "Excluding 3 bonded neighbours molecule type 'JZ4params'\n",
      "Excluding 2 bonded neighbours molecule type 'SOL'\n",
      "Excluding 1 bonded neighbours molecule type 'NA'\n",
      "Excluding 1 bonded neighbours molecule type 'CL'\n",
      "Removing all charge groups because cutoff-scheme=Verlet\n",
      "Number of degrees of freedom in T-Coupling group rest is 65013.00\n",
      "Estimate for the relative computational load of the PME mesh part: 0.18\n",
      "\n",
      "GROMACS reminds you: \"Oh, There Goes Gravity\" (Eminem)\n",
      "\n",
      "\n",
      "2021-11-04 06:53:05,756 [MainThread  ] [INFO ]  Removed: ['9527cae1-facd-4e38-96ff-758aabc7ceaf', '1090892e-60a5-435b-8f34-1d5efd275fca', 'mdout.mdp']\n"
     ]
    },
    {
     "data": {
      "text/plain": [
       "0"
      ]
     },
     "execution_count": 47,
     "metadata": {},
     "output_type": "execute_result"
    }
   ],
   "source": [
    "from biobb_md.gromacs.grompp import grompp\n",
    "\n",
    "prop = {\n",
    "    'mdp':{\n",
    "        'nsteps':'5000',\n",
    "        'emstep': 0.01,\n",
    "        'emtol':'500'\n",
    "    },\n",
    "    'simulation_type':'minimization',\n",
    "#     'gmx_path': gmx_path\n",
    "}\n",
    "\n",
    "grompp(\n",
    "    input_gro_path=output_genion_gro,\n",
    "    input_top_zip_path=output_genion_top_zip,\n",
    "    output_tpr_path=output_gppmin_tpr,\n",
    "    properties=prop\n",
    ")"
   ]
  },
  {
   "cell_type": "markdown",
   "metadata": {},
   "source": [
    "### Step 16.b: Energetically minimize the protein-ligand complex"
   ]
  },
  {
   "cell_type": "code",
   "execution_count": 48,
   "metadata": {},
   "outputs": [],
   "source": [
    "output_min_trr = pdbCode+'_'+ligandCode+'_min.trr'\n",
    "output_min_gro = pdbCode+'_'+ligandCode+'_min.gro'\n",
    "output_min_edr = pdbCode+'_'+ligandCode+'_min.edr'\n",
    "output_min_log = pdbCode+'_'+ligandCode+'_min.log'"
   ]
  },
  {
   "cell_type": "code",
   "execution_count": 49,
   "metadata": {},
   "outputs": [
    {
     "name": "stdout",
     "output_type": "stream",
     "text": [
      "2021-11-04 06:53:17,548 [MainThread  ] [INFO ]  GROMACS Mdrun 20191 version detected\n",
      "2021-11-04 06:53:17,550 [MainThread  ] [INFO ]  Not using any container\n",
      "2021-11-04 06:53:17,551 [MainThread  ] [INFO ]  gmx -nobackup -nocopyright mdrun -s 3HTB_JZ4_gppmin.tpr -o 3HTB_JZ4_min.trr -c 3HTB_JZ4_min.gro -e 3HTB_JZ4_min.edr -g 3HTB_JZ4_min.log\n",
      "\n",
      "2021-11-04 06:54:12,390 [MainThread  ] [INFO ]  Exit code 0\n",
      "\n",
      "2021-11-04 06:54:12,391 [MainThread  ] [INFO ]                        :-) GROMACS - gmx mdrun, 2019.1 (-:\n",
      "\n",
      "Executable:   /home/dhnchandan/anaconda3/envs/nb_md_analysis/bin/gmx\n",
      "Data prefix:  /home/dhnchandan/anaconda3/envs/nb_md_analysis\n",
      "Working dir:  /home/dhnchandan/Documents/cc/gromacs/nb_md_analysis/project/notebooks\n",
      "Command line:\n",
      "  gmx -nobackup -nocopyright mdrun -s 3HTB_JZ4_gppmin.tpr -o 3HTB_JZ4_min.trr -c 3HTB_JZ4_min.gro -e 3HTB_JZ4_min.edr -g 3HTB_JZ4_min.log\n",
      "\n",
      "Compiled SIMD: SSE2, but for this host/run AVX2_128 might be better (see log).\n",
      "The current CPU can measure timings more accurately than the code in\n",
      "gmx mdrun was configured to use. This might affect your simulation\n",
      "speed as accurate timings are needed for load-balancing.\n",
      "Please consider rebuilding gmx mdrun with the GMX_USE_RDTSCP=ON CMake option.\n",
      "Reading file 3HTB_JZ4_gppmin.tpr, VERSION 2019.1 (single precision)\n",
      "\n",
      "Using 1 MPI thread\n",
      "Using 12 OpenMP threads \n",
      "\n",
      "\n",
      "Steepest Descents:\n",
      "   Tolerance (Fmax)   =  5.00000e+02\n",
      "   Number of steps    =         5000\n",
      "\n",
      "writing lowest energy coordinates.\n",
      "\n",
      "Steepest Descents converged to Fmax < 500 in 1749 steps\n",
      "Potential Energy  = -5.4640706e+05\n",
      "Maximum force     =  4.7921744e+02 on atom 1462\n",
      "Norm of force     =  1.2451593e+01\n",
      "\n",
      "GROMACS reminds you: \"Life in the streets is not easy\" (Marky Mark)\n",
      "\n",
      "\n",
      "2021-11-04 06:54:12,392 [MainThread  ] [INFO ]  Removed: []\n"
     ]
    },
    {
     "data": {
      "text/plain": [
       "0"
      ]
     },
     "execution_count": 49,
     "metadata": {},
     "output_type": "execute_result"
    }
   ],
   "source": [
    "from biobb_md.gromacs.mdrun import mdrun\n",
    "\n",
    "prop = {\n",
    "#     'gmx_path': gmx_path\n",
    "}\n",
    "\n",
    "mdrun(\n",
    "    input_tpr_path=output_gppmin_tpr,\n",
    "    output_trr_path=output_min_trr, \n",
    "    output_gro_path=output_min_gro,\n",
    "    output_edr_path=output_min_edr, \n",
    "    output_log_path=output_min_log,\n",
    "    properties=prop\n",
    ")"
   ]
  },
  {
   "cell_type": "markdown",
   "metadata": {},
   "source": [
    "### Step 16.c: Plotting em result"
   ]
  },
  {
   "cell_type": "code",
   "execution_count": 50,
   "metadata": {},
   "outputs": [],
   "source": [
    "output_min_ene_xvg = pdbCode+'_'+ligandCode+'_min_ene.xvg'"
   ]
  },
  {
   "cell_type": "code",
   "execution_count": 51,
   "metadata": {},
   "outputs": [
    {
     "name": "stdout",
     "output_type": "stream",
     "text": [
      "2021-11-04 06:54:30,654 [MainThread  ] [INFO ]  Not using any container\n",
      "2021-11-04 06:54:30,655 [MainThread  ] [INFO ]  gmx energy -f /home/dhnchandan/Documents/cc/gromacs/nb_md_analysis/project/notebooks/3HTB_JZ4_min.edr -o 3HTB_JZ4_min_ene.xvg -xvg none < d4615c9b-d540-4fea-939e-3b15250a993f/instructions.in\n",
      "\n",
      "2021-11-04 06:54:30,673 [MainThread  ] [INFO ]  Exit code 0\n",
      "\n",
      "2021-11-04 06:54:30,675 [MainThread  ] [INFO ]  \n",
      "Statistics over 1749 steps [ 0.0000 through 1748.0000 ps ], 1 data sets\n",
      "All statistics are over 1384 points (frames)\n",
      "\n",
      "Energy                      Average   Err.Est.       RMSD  Tot-Drift\n",
      "-------------------------------------------------------------------------------\n",
      "Potential                   -529969       8700    22444.2   -56940.6  (kJ/mol)\n",
      "\n",
      "2021-11-04 06:54:30,675 [MainThread  ] [INFO ]                        :-) GROMACS - gmx energy, 2019.1 (-:\n",
      "\n",
      "                            GROMACS is written by:\n",
      "     Emile Apol      Rossen Apostolov      Paul Bauer     Herman J.C. Berendsen\n",
      "    Par Bjelkmar      Christian Blau   Viacheslav Bolnykh     Kevin Boyd    \n",
      " Aldert van Buuren   Rudi van Drunen     Anton Feenstra       Alan Gray     \n",
      "  Gerrit Groenhof     Anca Hamuraru    Vincent Hindriksen  M. Eric Irrgang  \n",
      "  Aleksei Iupinov   Christoph Junghans     Joe Jordan     Dimitrios Karkoulis\n",
      "    Peter Kasson        Jiri Kraus      Carsten Kutzner      Per Larsson    \n",
      "  Justin A. Lemkul    Viveca Lindahl    Magnus Lundborg     Erik Marklund   \n",
      "    Pascal Merz     Pieter Meulenhoff    Teemu Murtola       Szilard Pall   \n",
      "    Sander Pronk      Roland Schulz      Michael Shirts    Alexey Shvetsov  \n",
      "   Alfons Sijbers     Peter Tieleman      Jon Vincent      Teemu Virolainen \n",
      " Christian Wennberg    Maarten Wolf   \n",
      "                           and the project leaders:\n",
      "        Mark Abraham, Berk Hess, Erik Lindahl, and David van der Spoel\n",
      "\n",
      "Copyright (c) 1991-2000, University of Groningen, The Netherlands.\n",
      "Copyright (c) 2001-2018, The GROMACS development team at\n",
      "Uppsala University, Stockholm University and\n",
      "the Royal Institute of Technology, Sweden.\n",
      "check out http://www.gromacs.org for more information.\n",
      "\n",
      "GROMACS is free software; you can redistribute it and/or modify it\n",
      "under the terms of the GNU Lesser General Public License\n",
      "as published by the Free Software Foundation; either version 2.1\n",
      "of the License, or (at your option) any later version.\n",
      "\n",
      "GROMACS:      gmx energy, version 2019.1\n",
      "Executable:   /home/dhnchandan/anaconda3/envs/nb_md_analysis/bin/gmx\n",
      "Data prefix:  /home/dhnchandan/anaconda3/envs/nb_md_analysis\n",
      "Working dir:  /home/dhnchandan/Documents/cc/gromacs/nb_md_analysis/project/notebooks\n",
      "Command line:\n",
      "  gmx energy -f /home/dhnchandan/Documents/cc/gromacs/nb_md_analysis/project/notebooks/3HTB_JZ4_min.edr -o 3HTB_JZ4_min_ene.xvg -xvg none\n",
      "\n",
      "Opened /home/dhnchandan/Documents/cc/gromacs/nb_md_analysis/project/notebooks/3HTB_JZ4_min.edr as single precision energy file\n",
      "\n",
      "Select the terms you want from the following list by\n",
      "selecting either (part of) the name or the number or a combination.\n",
      "End your selection with an empty line or a zero.\n",
      "-------------------------------------------------------------------\n",
      "  1  Bond             2  Angle            3  Proper-Dih.      4  Improper-Dih. \n",
      "  5  LJ-14            6  Coulomb-14       7  LJ-(SR)          8  Coulomb-(SR)  \n",
      "  9  Coul.-recip.    10  Position-Rest.  11  Potential       12  Pressure      \n",
      " 13  Vir-XX          14  Vir-XY          15  Vir-XZ          16  Vir-YX        \n",
      " 17  Vir-YY          18  Vir-YZ          19  Vir-ZX          20  Vir-ZY        \n",
      " 21  Vir-ZZ          22  Pres-XX         23  Pres-XY         24  Pres-XZ       \n",
      " 25  Pres-YX         26  Pres-YY         27  Pres-YZ         28  Pres-ZX       \n",
      " 29  Pres-ZY         30  Pres-ZZ         31  #Surf*SurfTen   32  T-rest        \n",
      "\n",
      "Last energy frame read 1383 time 1748.000         \n",
      "\n",
      "GROMACS reminds you: \"Garbage Collecting...\" (GNU Emacs)\n",
      "\n",
      "\n",
      "2021-11-04 06:54:30,677 [MainThread  ] [INFO ]  Removed: ['d4615c9b-d540-4fea-939e-3b15250a993f']\n"
     ]
    },
    {
     "data": {
      "text/plain": [
       "0"
      ]
     },
     "execution_count": 51,
     "metadata": {},
     "output_type": "execute_result"
    }
   ],
   "source": [
    "from biobb_analysis.gromacs.gmx_energy import gmx_energy\n",
    "\n",
    "prop = {\n",
    "    'terms':  [\"Potential\"],\n",
    "#     'gmx_path': gmx_path\n",
    "}\n",
    "\n",
    "gmx_energy(\n",
    "    input_energy_path=output_min_edr, \n",
    "    output_xvg_path=output_min_ene_xvg, \n",
    "    properties=prop\n",
    ")"
   ]
  },
  {
   "cell_type": "code",
   "execution_count": 52,
   "metadata": {},
   "outputs": [
    {
     "data": {
      "text/html": [
       "        <script type=\"text/javascript\">\n",
       "        window.PlotlyConfig = {MathJaxConfig: 'local'};\n",
       "        if (window.MathJax) {MathJax.Hub.Config({SVG: {font: \"STIX-Web\"}});}\n",
       "        if (typeof require !== 'undefined') {\n",
       "        require.undef(\"plotly\");\n",
       "        requirejs.config({\n",
       "            paths: {\n",
       "                'plotly': ['https://cdn.plot.ly/plotly-2.4.2.min']\n",
       "            }\n",
       "        });\n",
       "        require(['plotly'], function(Plotly) {\n",
       "            window._Plotly = Plotly;\n",
       "        });\n",
       "        }\n",
       "        </script>\n",
       "        "
      ]
     },
     "metadata": {},
     "output_type": "display_data"
    },
    {
     "data": {
      "application/vnd.plotly.v1+json": {
       "config": {
        "linkText": "Export to plot.ly",
        "plotlyServerURL": "https://plot.ly",
        "showLink": false
       },
       "data": [
        {
         "type": "scatter",
         "x": [
          0,
          1,
          2,
          3,
          4,
          5,
          6,
          7,
          8,
          9,
          10,
          12,
          13,
          14,
          16,
          17,
          18,
          19,
          20,
          22,
          23,
          24,
          26,
          27,
          28,
          29,
          31,
          32,
          33,
          35,
          36,
          37,
          39,
          40,
          41,
          43,
          44,
          45,
          46,
          47,
          49,
          51,
          52,
          53,
          54,
          56,
          57,
          58,
          60,
          61,
          62,
          64,
          65,
          66,
          67,
          68,
          70,
          71,
          72,
          74,
          75,
          76,
          78,
          79,
          80,
          82,
          83,
          84,
          85,
          86,
          88,
          89,
          90,
          92,
          93,
          94,
          95,
          96,
          98,
          99,
          100,
          102,
          103,
          104,
          105,
          106,
          108,
          109,
          110,
          112,
          113,
          114,
          115,
          116,
          118,
          119,
          120,
          122,
          123,
          124,
          125,
          127,
          128,
          129,
          131,
          132,
          133,
          134,
          136,
          137,
          138,
          140,
          141,
          142,
          143,
          144,
          146,
          147,
          148,
          150,
          151,
          152,
          153,
          154,
          156,
          157,
          158,
          160,
          161,
          162,
          163,
          164,
          165,
          167,
          168,
          169,
          171,
          172,
          174,
          175,
          176,
          178,
          179,
          180,
          181,
          182,
          184,
          185,
          186,
          188,
          189,
          190,
          191,
          192,
          194,
          195,
          196,
          198,
          199,
          200,
          201,
          202,
          204,
          205,
          206,
          208,
          209,
          210,
          211,
          213,
          214,
          215,
          217,
          218,
          219,
          220,
          222,
          223,
          224,
          226,
          227,
          228,
          229,
          230,
          232,
          233,
          234,
          236,
          237,
          238,
          239,
          240,
          242,
          243,
          244,
          246,
          247,
          248,
          249,
          251,
          252,
          253,
          255,
          256,
          257,
          258,
          260,
          261,
          262,
          264,
          265,
          266,
          267,
          268,
          270,
          271,
          272,
          274,
          275,
          276,
          277,
          278,
          279,
          281,
          282,
          283,
          285,
          286,
          288,
          289,
          290,
          292,
          293,
          294,
          295,
          296,
          298,
          299,
          300,
          302,
          303,
          304,
          305,
          306,
          308,
          309,
          310,
          312,
          313,
          314,
          315,
          316,
          317,
          319,
          320,
          321,
          323,
          324,
          326,
          327,
          328,
          330,
          331,
          332,
          333,
          334,
          336,
          337,
          338,
          340,
          341,
          342,
          343,
          344,
          345,
          346,
          348,
          350,
          351,
          352,
          353,
          355,
          356,
          357,
          359,
          360,
          361,
          362,
          363,
          365,
          366,
          367,
          369,
          370,
          371,
          372,
          373,
          375,
          376,
          377,
          379,
          380,
          381,
          382,
          383,
          384,
          386,
          387,
          388,
          390,
          391,
          392,
          393,
          395,
          396,
          397,
          399,
          400,
          401,
          402,
          404,
          405,
          406,
          408,
          409,
          410,
          411,
          412,
          414,
          415,
          416,
          418,
          419,
          420,
          421,
          423,
          424,
          425,
          427,
          428,
          429,
          430,
          432,
          433,
          434,
          436,
          437,
          438,
          439,
          440,
          441,
          443,
          444,
          445,
          447,
          448,
          450,
          451,
          452,
          454,
          455,
          456,
          457,
          458,
          459,
          460,
          462,
          464,
          465,
          466,
          467,
          469,
          470,
          471,
          473,
          474,
          475,
          476,
          477,
          479,
          480,
          481,
          483,
          484,
          485,
          486,
          487,
          489,
          490,
          491,
          493,
          494,
          495,
          496,
          497,
          498,
          500,
          501,
          502,
          504,
          505,
          506,
          507,
          509,
          510,
          511,
          513,
          514,
          515,
          516,
          518,
          519,
          520,
          522,
          523,
          524,
          525,
          526,
          527,
          529,
          530,
          531,
          533,
          534,
          536,
          537,
          538,
          540,
          541,
          542,
          543,
          544,
          545,
          546,
          548,
          550,
          551,
          552,
          553,
          555,
          556,
          557,
          559,
          560,
          561,
          562,
          563,
          565,
          566,
          567,
          569,
          570,
          571,
          572,
          573,
          575,
          576,
          577,
          579,
          580,
          581,
          582,
          583,
          584,
          586,
          587,
          588,
          590,
          591,
          592,
          593,
          595,
          596,
          597,
          599,
          600,
          601,
          602,
          604,
          605,
          606,
          608,
          609,
          610,
          611,
          612,
          613,
          615,
          616,
          617,
          619,
          620,
          621,
          622,
          624,
          625,
          626,
          628,
          629,
          630,
          631,
          632,
          634,
          635,
          636,
          638,
          639,
          640,
          641,
          643,
          644,
          645,
          647,
          648,
          649,
          650,
          652,
          653,
          654,
          656,
          657,
          658,
          659,
          661,
          662,
          663,
          665,
          666,
          667,
          668,
          669,
          670,
          672,
          673,
          674,
          676,
          677,
          678,
          679,
          681,
          682,
          683,
          685,
          686,
          687,
          688,
          690,
          691,
          692,
          694,
          695,
          696,
          697,
          698,
          699,
          701,
          702,
          703,
          705,
          706,
          707,
          708,
          710,
          711,
          712,
          714,
          715,
          716,
          717,
          718,
          720,
          721,
          722,
          724,
          725,
          726,
          727,
          729,
          730,
          731,
          733,
          734,
          735,
          736,
          737,
          739,
          740,
          741,
          743,
          744,
          745,
          746,
          748,
          749,
          750,
          752,
          753,
          754,
          755,
          756,
          758,
          759,
          760,
          762,
          763,
          764,
          765,
          767,
          768,
          769,
          771,
          772,
          773,
          774,
          775,
          776,
          778,
          780,
          781,
          782,
          783,
          785,
          786,
          787,
          789,
          790,
          791,
          793,
          794,
          795,
          796,
          797,
          799,
          800,
          801,
          803,
          804,
          805,
          806,
          807,
          809,
          810,
          811,
          813,
          814,
          815,
          816,
          817,
          819,
          820,
          821,
          823,
          824,
          825,
          826,
          827,
          828,
          830,
          831,
          832,
          834,
          835,
          836,
          837,
          839,
          840,
          841,
          843,
          844,
          845,
          846,
          848,
          849,
          850,
          852,
          853,
          854,
          855,
          857,
          858,
          859,
          861,
          862,
          863,
          864,
          865,
          866,
          868,
          869,
          870,
          872,
          873,
          874,
          875,
          877,
          878,
          879,
          881,
          882,
          883,
          884,
          885,
          887,
          888,
          889,
          891,
          892,
          893,
          894,
          896,
          897,
          898,
          900,
          901,
          902,
          903,
          904,
          906,
          907,
          908,
          910,
          911,
          912,
          913,
          915,
          916,
          917,
          919,
          920,
          921,
          922,
          923,
          925,
          926,
          927,
          929,
          930,
          931,
          932,
          934,
          935,
          936,
          938,
          939,
          940,
          941,
          942,
          943,
          945,
          946,
          947,
          949,
          950,
          951,
          952,
          954,
          955,
          956,
          958,
          959,
          960,
          961,
          963,
          964,
          965,
          967,
          968,
          969,
          970,
          972,
          973,
          974,
          976,
          977,
          978,
          979,
          980,
          981,
          983,
          984,
          985,
          987,
          988,
          989,
          990,
          992,
          993,
          994,
          996,
          997,
          998,
          999,
          1000,
          1002,
          1003,
          1004,
          1006,
          1007,
          1008,
          1009,
          1011,
          1012,
          1013,
          1015,
          1016,
          1017,
          1018,
          1019,
          1021,
          1022,
          1023,
          1025,
          1026,
          1027,
          1028,
          1030,
          1031,
          1032,
          1034,
          1035,
          1036,
          1037,
          1038,
          1040,
          1041,
          1042,
          1044,
          1045,
          1046,
          1047,
          1049,
          1050,
          1051,
          1053,
          1054,
          1055,
          1056,
          1057,
          1059,
          1060,
          1061,
          1063,
          1064,
          1065,
          1066,
          1068,
          1069,
          1070,
          1072,
          1073,
          1074,
          1075,
          1076,
          1077,
          1079,
          1080,
          1081,
          1083,
          1084,
          1086,
          1087,
          1088,
          1090,
          1091,
          1092,
          1093,
          1094,
          1095,
          1096,
          1098,
          1099,
          1100,
          1102,
          1103,
          1104,
          1105,
          1107,
          1108,
          1109,
          1111,
          1112,
          1113,
          1114,
          1116,
          1117,
          1118,
          1120,
          1121,
          1122,
          1123,
          1125,
          1126,
          1127,
          1129,
          1130,
          1131,
          1132,
          1133,
          1134,
          1136,
          1137,
          1138,
          1140,
          1141,
          1142,
          1143,
          1145,
          1146,
          1147,
          1149,
          1150,
          1151,
          1152,
          1153,
          1155,
          1156,
          1157,
          1159,
          1160,
          1161,
          1162,
          1164,
          1165,
          1166,
          1168,
          1169,
          1170,
          1171,
          1172,
          1174,
          1175,
          1176,
          1178,
          1179,
          1180,
          1181,
          1183,
          1184,
          1185,
          1187,
          1188,
          1189,
          1190,
          1191,
          1193,
          1194,
          1195,
          1197,
          1198,
          1199,
          1200,
          1202,
          1203,
          1204,
          1206,
          1207,
          1208,
          1209,
          1210,
          1212,
          1213,
          1214,
          1216,
          1217,
          1218,
          1219,
          1221,
          1222,
          1223,
          1225,
          1226,
          1227,
          1228,
          1229,
          1230,
          1232,
          1233,
          1234,
          1236,
          1237,
          1239,
          1240,
          1241,
          1243,
          1244,
          1245,
          1246,
          1247,
          1248,
          1249,
          1251,
          1252,
          1253,
          1255,
          1256,
          1257,
          1258,
          1260,
          1261,
          1262,
          1264,
          1265,
          1266,
          1267,
          1269,
          1270,
          1271,
          1273,
          1274,
          1275,
          1276,
          1278,
          1279,
          1280,
          1282,
          1283,
          1284,
          1285,
          1286,
          1287,
          1289,
          1290,
          1291,
          1293,
          1294,
          1295,
          1296,
          1298,
          1299,
          1300,
          1302,
          1303,
          1304,
          1305,
          1306,
          1308,
          1309,
          1310,
          1312,
          1313,
          1314,
          1315,
          1317,
          1318,
          1319,
          1321,
          1322,
          1323,
          1324,
          1325,
          1327,
          1328,
          1329,
          1331,
          1332,
          1333,
          1334,
          1336,
          1337,
          1338,
          1340,
          1341,
          1342,
          1343,
          1344,
          1345,
          1347,
          1348,
          1349,
          1351,
          1352,
          1354,
          1355,
          1356,
          1358,
          1359,
          1360,
          1361,
          1362,
          1363,
          1364,
          1366,
          1367,
          1368,
          1370,
          1371,
          1372,
          1373,
          1375,
          1376,
          1377,
          1379,
          1380,
          1381,
          1382,
          1383,
          1385,
          1386,
          1387,
          1389,
          1390,
          1392,
          1393,
          1394,
          1396,
          1397,
          1398,
          1399,
          1400,
          1401,
          1402,
          1404,
          1405,
          1406,
          1408,
          1409,
          1410,
          1411,
          1413,
          1414,
          1415,
          1417,
          1418,
          1419,
          1420,
          1422,
          1423,
          1424,
          1426,
          1427,
          1428,
          1429,
          1430,
          1431,
          1433,
          1434,
          1435,
          1437,
          1438,
          1439,
          1440,
          1442,
          1443,
          1444,
          1446,
          1447,
          1448,
          1449,
          1451,
          1452,
          1453,
          1455,
          1456,
          1457,
          1458,
          1459,
          1460,
          1462,
          1464,
          1465,
          1466,
          1467,
          1469,
          1470,
          1471,
          1473,
          1474,
          1475,
          1476,
          1477,
          1479,
          1480,
          1481,
          1483,
          1484,
          1485,
          1486,
          1487,
          1489,
          1490,
          1491,
          1493,
          1494,
          1495,
          1496,
          1497,
          1499,
          1500,
          1501,
          1503,
          1504,
          1505,
          1506,
          1507,
          1509,
          1510,
          1511,
          1513,
          1514,
          1515,
          1516,
          1518,
          1519,
          1520,
          1522,
          1523,
          1524,
          1525,
          1526,
          1528,
          1529,
          1530,
          1532,
          1533,
          1534,
          1535,
          1537,
          1538,
          1539,
          1541,
          1542,
          1543,
          1544,
          1545,
          1547,
          1548,
          1549,
          1551,
          1552,
          1553,
          1554,
          1556,
          1557,
          1558,
          1560,
          1561,
          1562,
          1563,
          1564,
          1566,
          1567,
          1568,
          1570,
          1571,
          1572,
          1573,
          1575,
          1576,
          1577,
          1579,
          1580,
          1581,
          1582,
          1583,
          1584,
          1586,
          1587,
          1588,
          1590,
          1591,
          1593,
          1594,
          1595,
          1597,
          1598,
          1599,
          1600,
          1601,
          1602,
          1603,
          1605,
          1606,
          1607,
          1609,
          1610,
          1611,
          1612,
          1614,
          1615,
          1616,
          1618,
          1619,
          1620,
          1621,
          1623,
          1624,
          1625,
          1627,
          1628,
          1629,
          1630,
          1631,
          1632,
          1634,
          1635,
          1636,
          1638,
          1639,
          1640,
          1641,
          1643,
          1644,
          1645,
          1647,
          1648,
          1649,
          1650,
          1652,
          1653,
          1654,
          1656,
          1657,
          1658,
          1659,
          1661,
          1662,
          1663,
          1665,
          1666,
          1667,
          1668,
          1669,
          1670,
          1672,
          1673,
          1674,
          1676,
          1677,
          1678,
          1679,
          1681,
          1682,
          1683,
          1685,
          1686,
          1687,
          1688,
          1689,
          1691,
          1692,
          1693,
          1695,
          1696,
          1697,
          1698,
          1700,
          1701,
          1702,
          1704,
          1705,
          1706,
          1707,
          1708,
          1710,
          1711,
          1712,
          1714,
          1715,
          1716,
          1717,
          1719,
          1720,
          1721,
          1723,
          1724,
          1725,
          1726,
          1727,
          1729,
          1730,
          1731,
          1733,
          1734,
          1735,
          1736,
          1738,
          1739,
          1740,
          1742,
          1743,
          1744,
          1745,
          1746,
          1748
         ],
         "y": [
          -266407.4375,
          -309273.59375,
          -348000.6875,
          -376389.78125,
          -397853.53125,
          -406575.40625,
          -413793.90625,
          -424179.3125,
          -427672.125,
          -430726.84375,
          -433096.25,
          -437159.84375,
          -438820.15625,
          -442336.6875,
          -444166.65625,
          -445631.84375,
          -447249.25,
          -447965.5625,
          -449129.96875,
          -452035.59375,
          -453574.9375,
          -457522.75,
          -458349.90625,
          -459251.21875,
          -459605.53125,
          -460266.46875,
          -462622.53125,
          -463057.6875,
          -466095.46875,
          -466776.25,
          -467166.28125,
          -467689.53125,
          -469274.90625,
          -470211.96875,
          -472195.6875,
          -472749.53125,
          -473157.25,
          -473600.71875,
          -473705.84375,
          -473922,
          -475831.5,
          -476593.75,
          -477313.28125,
          -477429.25,
          -478245.4375,
          -478927.25,
          -479176.34375,
          -479985.3125,
          -480505.78125,
          -480816.15625,
          -481391.90625,
          -481894.375,
          -482331.65625,
          -482920.78125,
          -482940.09375,
          -483611.90625,
          -484205.75,
          -484332.46875,
          -485050.5625,
          -485485.40625,
          -485689.5,
          -486173.4375,
          -486610.9375,
          -486923.875,
          -487445.1875,
          -487785.53125,
          -488074,
          -488445.1875,
          -488541.25,
          -488925.0625,
          -489443.34375,
          -489654.5,
          -490310.8125,
          -490603.125,
          -490795.75,
          -491084.9375,
          -491126.21875,
          -491377.84375,
          -492042.1875,
          -492158.03125,
          -492983.1875,
          -493222.21875,
          -493387.625,
          -493603.46875,
          -493660.25,
          -493820.71875,
          -494512.125,
          -494721.65625,
          -495545.28125,
          -495735.6875,
          -495901.03125,
          -496049.5625,
          -496134.75,
          -496204.78125,
          -496896.78125,
          -497221.09375,
          -498045.9375,
          -498196.4375,
          -498358.375,
          -498453.09375,
          -498552.5,
          -499048.625,
          -499500.40625,
          -500130.6875,
          -500273.875,
          -500452.03125,
          -500527.125,
          -500695.21875,
          -501018.0625,
          -501243.09375,
          -501636.40625,
          -501791.90625,
          -501921.28125,
          -502066.8125,
          -502142.625,
          -502262.71875,
          -502608.84375,
          -502871.625,
          -503297.65625,
          -503432.71875,
          -503554.1875,
          -503667.96875,
          -503746.21875,
          -503819.59375,
          -504193.71875,
          -504510.96875,
          -504973.53125,
          -505088.0625,
          -505204.03125,
          -505286.8125,
          -505366.78125,
          -505394.59375,
          -505395.0625,
          -505936.40625,
          -506010.65625,
          -506725.8125,
          -506785.40625,
          -506916.34375,
          -507119.53125,
          -507279.90625,
          -507530.40625,
          -507644.9375,
          -507742.21875,
          -507854.125,
          -507911.6875,
          -508010.84375,
          -508238.59375,
          -508423.1875,
          -508707.28125,
          -508810.34375,
          -508900.59375,
          -508992.15625,
          -509049.40625,
          -509116.625,
          -509373.40625,
          -509591.9375,
          -509914.625,
          -510004.71875,
          -510091.8125,
          -510161.34375,
          -510220.78125,
          -510253.1875,
          -510544.21875,
          -510813.3125,
          -511178.875,
          -511254.25,
          -511339.78125,
          -511385.84375,
          -511446.65625,
          -511671.625,
          -511868.03125,
          -512167.65625,
          -512243.6875,
          -512331.5625,
          -512376.34375,
          -512456.125,
          -512628.25,
          -512767.0625,
          -512982.75,
          -513064.25,
          -513134.75,
          -513207.96875,
          -513252.28125,
          -513307.46875,
          -513505.65625,
          -513671.46875,
          -513922.4375,
          -513994.21875,
          -514062.875,
          -514118.625,
          -514165.59375,
          -514192.59375,
          -514421.5,
          -514632.8125,
          -514922.875,
          -514983.15625,
          -515052.125,
          -515088.9375,
          -515138.3125,
          -515317.65625,
          -515471.4375,
          -515711.15625,
          -515772.5625,
          -515842.96875,
          -515879.5625,
          -515943.0625,
          -516083.15625,
          -516198.9375,
          -516374.96875,
          -516440.84375,
          -516498.6875,
          -516557.3125,
          -516594.40625,
          -516637.65625,
          -516800.40625,
          -516943.78125,
          -517150.9375,
          -517209.21875,
          -517266.25,
          -517310.75,
          -517350.90625,
          -517370.34375,
          -517373.03125,
          -517628.40625,
          -517701.34375,
          -518045.625,
          -518077.5625,
          -518146.53125,
          -518246.625,
          -518328.28125,
          -518452.59375,
          -518512.75,
          -518564.125,
          -518624.15625,
          -518654.71875,
          -518708.90625,
          -518825.125,
          -518921.46875,
          -519068.03125,
          -519123.59375,
          -519172.53125,
          -519222.46875,
          -519254.21875,
          -519291.34375,
          -519427.3125,
          -519550.46875,
          -519724,
          -519773.71875,
          -519822.84375,
          -519860.75,
          -519895.84375,
          -519912.625,
          -519917.28125,
          -520130.625,
          -520195.0625,
          -520482.625,
          -520511.125,
          -520569.78125,
          -520654.6875,
          -520727.84375,
          -520833.4375,
          -520885.0625,
          -520930.09375,
          -520981.15625,
          -521008.84375,
          -521055.03125,
          -521153.75,
          -521242.90625,
          -521367.8125,
          -521415.96875,
          -521458.78125,
          -521501.65625,
          -521530.9375,
          -521562.4375,
          -521564.65625,
          -521571.09375,
          -521783.34375,
          -521859.46875,
          -521936.8125,
          -521943.59375,
          -522034.46875,
          -522101,
          -522126.46875,
          -522206.15625,
          -522263.3125,
          -522302.09375,
          -522366.59375,
          -522370.15625,
          -522438.9375,
          -522524.625,
          -522547.09375,
          -522657.09375,
          -522705.71875,
          -522738.3125,
          -522787.03125,
          -522798.125,
          -522839.25,
          -522950.375,
          -522992.03125,
          -523139.125,
          -523178.9375,
          -523216.6875,
          -523245.34375,
          -523272.125,
          -523279.78125,
          -523283.5625,
          -523468.4375,
          -523476.59375,
          -523718.46875,
          -523743.75,
          -523781.5,
          -523786.09375,
          -523807.40625,
          -523954.125,
          -523969.1875,
          -524166.59375,
          -524195.4375,
          -524234.40625,
          -524244.4375,
          -524273.46875,
          -524391.75,
          -524425.25,
          -524578.3125,
          -524613.0625,
          -524645.375,
          -524670.4375,
          -524688.0625,
          -524694.3125,
          -524838.4375,
          -524910.1875,
          -525097.375,
          -525123.875,
          -525161.5625,
          -525170.75,
          -525197.9375,
          -525308.3125,
          -525344.625,
          -525491.875,
          -525522.5,
          -525556.875,
          -525574.875,
          -525600.9375,
          -525694,
          -525761.125,
          -525880.875,
          -525913.875,
          -525946.5,
          -525971.0625,
          -525994.0625,
          -526003.625,
          -526005.875,
          -526154.3125,
          -526187.375,
          -526386.75,
          -526405.5,
          -526444.5,
          -526504.25,
          -526554.375,
          -526629.25,
          -526664.0625,
          -526694.5625,
          -526728.5,
          -526748,
          -526777.1875,
          -526777.5625,
          -526794.5,
          -526922.0625,
          -526971.375,
          -527020.0625,
          -527032.8125,
          -527088.625,
          -527134.5,
          -527160.125,
          -527215.25,
          -527252.5625,
          -527283.4375,
          -527325,
          -527335.6875,
          -527378.9375,
          -527435.8125,
          -527465.6875,
          -527538.3125,
          -527571.9375,
          -527598.375,
          -527631.125,
          -527645.75,
          -527673.3125,
          -527745.1875,
          -527798.125,
          -527892.8125,
          -527921.9375,
          -527951.25,
          -527973.25,
          -527996.375,
          -528004.75,
          -528014.875,
          -528128.25,
          -528153.75,
          -528302.25,
          -528324.1875,
          -528351.9375,
          -528360.9375,
          -528379.125,
          -528470.5,
          -528506.625,
          -528628.8125,
          -528652.4375,
          -528681.0625,
          -528693.3125,
          -528716.3125,
          -528790.4375,
          -528835.125,
          -528931.3125,
          -528957.8125,
          -528983.3125,
          -529003.6875,
          -529021.125,
          -529029.375,
          -529029.5,
          -529151.375,
          -529180.8125,
          -529344.25,
          -529359,
          -529390.75,
          -529439.125,
          -529478.6875,
          -529539.6875,
          -529568,
          -529592.4375,
          -529619.875,
          -529636.0625,
          -529659.4375,
          -529659.875,
          -529673.1875,
          -529777.875,
          -529818.8125,
          -529858.5,
          -529869.125,
          -529915.3125,
          -529952.25,
          -529972.8125,
          -530017.25,
          -530047.875,
          -530073.6875,
          -530108.25,
          -530116.625,
          -530153.25,
          -530199.125,
          -530222.3125,
          -530280.25,
          -530308.25,
          -530329.9375,
          -530357.625,
          -530368.5,
          -530393.0625,
          -530451,
          -530488.5,
          -530564.4375,
          -530588.875,
          -530612,
          -530631.625,
          -530649.0625,
          -530658.625,
          -530663.8125,
          -530759,
          -530794.8125,
          -530920,
          -530937,
          -530961.875,
          -530967.3125,
          -530986.0625,
          -531058.9375,
          -531079.875,
          -531176.625,
          -531197.4375,
          -531219.5,
          -531232.4375,
          -531247.8125,
          -531311.4375,
          -531364.9375,
          -531447.25,
          -531468.9375,
          -531491.8125,
          -531506.6875,
          -531524.625,
          -531528.1875,
          -531533.875,
          -531630.625,
          -531638.3125,
          -531767.5625,
          -531782.125,
          -531805.75,
          -531807.25,
          -531825.3125,
          -531899.375,
          -531905.8125,
          -532003.0625,
          -532022.75,
          -532040.6875,
          -532054.5,
          -532063.375,
          -532064.25,
          -532156.9375,
          -532191.9375,
          -532314.25,
          -532327.9375,
          -532351.9375,
          -532353.4375,
          -532372,
          -532440.5,
          -532448.125,
          -532538.75,
          -532557.75,
          -532575.8125,
          -532588.25,
          -532599.5,
          -532661.5,
          -532717.25,
          -532798.5,
          -532817,
          -532838.625,
          -532849.5625,
          -532867.75,
          -532916.5625,
          -532958.3125,
          -533023,
          -533042.9375,
          -533063.25,
          -533078.25,
          -533094.625,
          -533100.5,
          -533108.3125,
          -533184.5,
          -533204.1875,
          -533304.75,
          -533319.625,
          -533339.6875,
          -533345.8125,
          -533359.875,
          -533420.9375,
          -533444.4375,
          -533525.4375,
          -533542.4375,
          -533561.5625,
          -533571.8125,
          -533586.1875,
          -533637.6875,
          -533678.375,
          -533745.875,
          -533764,
          -533782.9375,
          -533796.125,
          -533810.9375,
          -533814.5,
          -533819.1875,
          -533899.0625,
          -533909.1875,
          -534015.9375,
          -534028.1875,
          -534047.9375,
          -534049.8125,
          -534065.0625,
          -534126.1875,
          -534132.875,
          -534213.3125,
          -534230,
          -534245.25,
          -534256.5625,
          -534264.8125,
          -534265.375,
          -534342.25,
          -534376.5,
          -534478.25,
          -534489.625,
          -534510.3125,
          -534511.4375,
          -534528.125,
          -534583.8125,
          -534589.75,
          -534663.625,
          -534680.125,
          -534694.875,
          -534706.25,
          -534714.5,
          -534715.875,
          -534787.375,
          -534824.75,
          -534920.0625,
          -534931.125,
          -534951.8125,
          -534952.5,
          -534970.5,
          -535021.1875,
          -535026.75,
          -535092.625,
          -535109.375,
          -535122.625,
          -535136.125,
          -535141.8125,
          -535147.5,
          -535211.375,
          -535232.875,
          -535317.25,
          -535329.75,
          -535347.0625,
          -535351.6875,
          -535364.75,
          -535414.5,
          -535431.875,
          -535497.6875,
          -535512.75,
          -535528.125,
          -535537.8125,
          -535548.6875,
          -535548.75,
          -535549.25,
          -535630,
          -535657.9375,
          -535687.5625,
          -535688.625,
          -535724.5,
          -535747.9375,
          -535756.5625,
          -535783.8125,
          -535805.9375,
          -535820.6875,
          -535846.75,
          -535865.5,
          -535882.8125,
          -535904.4375,
          -535910.8125,
          -535934.375,
          -535960.5,
          -535976.0625,
          -536008.8125,
          -536026.25,
          -536040.5625,
          -536059.375,
          -536066,
          -536084.0625,
          -536116.0625,
          -536135.8125,
          -536176.9375,
          -536193.3125,
          -536207.125,
          -536222,
          -536230.5625,
          -536241.8125,
          -536281.25,
          -536315.25,
          -536366.5,
          -536381.0625,
          -536396.0625,
          -536406.5,
          -536418.625,
          -536421.5625,
          -536426.3125,
          -536486.6875,
          -536496.5,
          -536577.1875,
          -536587.1875,
          -536602.625,
          -536604.9375,
          -536616.6875,
          -536663.625,
          -536672.6875,
          -536734.8125,
          -536747.875,
          -536760.5625,
          -536769.3125,
          -536777.0625,
          -536819.3125,
          -536858.8125,
          -536914.9375,
          -536927.8125,
          -536943.3125,
          -536950.375,
          -536963.75,
          -536996.5625,
          -537020.9375,
          -537063.3125,
          -537077.5625,
          -537090.8125,
          -537102.6875,
          -537112.25,
          -537118.9375,
          -537121.1875,
          -537175.375,
          -537204.875,
          -537276.9375,
          -537286.4375,
          -537302.5625,
          -537304.25,
          -537317.75,
          -537357.1875,
          -537364.875,
          -537415.9375,
          -537429.4375,
          -537440.5625,
          -537450.6875,
          -537456.625,
          -537460.5,
          -537510.25,
          -537534.625,
          -537600.375,
          -537610,
          -537624.75,
          -537628.125,
          -537639.875,
          -537677.8125,
          -537690.625,
          -537740.25,
          -537752.875,
          -537764.5625,
          -537773.5,
          -537781.6875,
          -537783.625,
          -537831.0625,
          -537873.125,
          -537936.5,
          -537946.125,
          -537961.5,
          -537963.6875,
          -537977.625,
          -538011.4375,
          -538020.375,
          -538064.1875,
          -538076.9375,
          -538087.5,
          -538098.5,
          -538103.8125,
          -538109.8125,
          -538152.125,
          -538175.125,
          -538231.25,
          -538241.375,
          -538254.4375,
          -538259.5625,
          -538269.9375,
          -538303.4375,
          -538321.875,
          -538365.875,
          -538377.75,
          -538389.5625,
          -538398,
          -538406.6875,
          -538409.125,
          -538411.125,
          -538465,
          -538470.6875,
          -538542.6875,
          -538550,
          -538562.8125,
          -538563.5,
          -538573.25,
          -538614.5625,
          -538617.125,
          -538671.5625,
          -538682.125,
          -538692.3125,
          -538698.8125,
          -538704.75,
          -538741.875,
          -538770.5,
          -538819.8125,
          -538830,
          -538842.5,
          -538848.125,
          -538858.6875,
          -538887.6875,
          -538907.1875,
          -538945.125,
          -538956.8125,
          -538967.6875,
          -538976.875,
          -538985.25,
          -538989.0625,
          -538991.1875,
          -539038.5625,
          -539052.75,
          -539115.625,
          -539123.3125,
          -539135.8125,
          -539137.4375,
          -539147.3125,
          -539182.875,
          -539188.5,
          -539235.9375,
          -539246.25,
          -539256,
          -539263.0625,
          -539268.9375,
          -539269.5625,
          -539314.9375,
          -539341.75,
          -539402.3125,
          -539409.375,
          -539422.6875,
          -539423.4375,
          -539435.1875,
          -539467.5625,
          -539471.5625,
          -539514.125,
          -539524.75,
          -539533.625,
          -539542.125,
          -539546.5,
          -539549.6875,
          -539590.875,
          -539608.125,
          -539662.75,
          -539670.875,
          -539682.625,
          -539685.1875,
          -539694.875,
          -539726.25,
          -539735.9375,
          -539777.25,
          -539787.25,
          -539796.6875,
          -539804.0625,
          -539810.125,
          -539811.9375,
          -539851.5,
          -539882.6875,
          -539935.25,
          -539943.25,
          -539955.625,
          -539957.625,
          -539968.25,
          -539997.0625,
          -540004.125,
          -540041.3125,
          -540051.5,
          -540060.375,
          -540068.8125,
          -540073.5625,
          -540077.8125,
          -540113.5625,
          -540134.125,
          -540181.875,
          -540190.125,
          -540201.25,
          -540204.5,
          -540213.875,
          -540241.3125,
          -540253.625,
          -540290,
          -540299.8125,
          -540309.125,
          -540316.5625,
          -540322.8125,
          -540325.5,
          -540325.5625,
          -540371.625,
          -540379.1875,
          -540441.0625,
          -540446.5625,
          -540457.875,
          -540476.8125,
          -540492.875,
          -540517.1875,
          -540527.625,
          -540536.9375,
          -540546.625,
          -540553.375,
          -540561,
          -540562.3125,
          -540565.1875,
          -540606.9375,
          -540610.625,
          -540666.6875,
          -540673.125,
          -540683,
          -540684.1875,
          -540691.5625,
          -540724.125,
          -540728.25,
          -540771.5,
          -540780,
          -540788.6875,
          -540793.5625,
          -540798.6875,
          -540827.625,
          -540850.375,
          -540888.8125,
          -540897.125,
          -540907.1875,
          -540911.9375,
          -540920.5,
          -540943.3125,
          -540960.3125,
          -540990.25,
          -540999.6875,
          -541009,
          -541016.125,
          -541022.875,
          -541026.0625,
          -541028.375,
          -541065.5,
          -541078,
          -541127.5625,
          -541133.875,
          -541144.0625,
          -541145.3125,
          -541153.6875,
          -541181.6875,
          -541187.3125,
          -541224.4375,
          -541232.75,
          -541241.0625,
          -541247,
          -541251.625,
          -541252.875,
          -541288.5,
          -541310.875,
          -541358.625,
          -541364.75,
          -541375.5625,
          -541376.5,
          -541385.6875,
          -541411.3125,
          -541415.875,
          -541449.1875,
          -541458.125,
          -541465.3125,
          -541472.3125,
          -541476.1875,
          -541478.875,
          -541511.375,
          -541527.125,
          -541570.375,
          -541577.125,
          -541586.8125,
          -541589.25,
          -541597,
          -541621.9375,
          -541630.5,
          -541663.0625,
          -541671.3125,
          -541679.25,
          -541685.3125,
          -541690.375,
          -541692.375,
          -541723.6875,
          -541749.4375,
          -541791.1875,
          -541797.75,
          -541807.6875,
          -541809.5,
          -541818.625,
          -541841.125,
          -541848.25,
          -541877.6875,
          -541886.125,
          -541893.3125,
          -541900.4375,
          -541904.8125,
          -541908.125,
          -541936.625,
          -541955.6875,
          -541993.375,
          -542000.1875,
          -542009.5,
          -542012.5625,
          -542020.1875,
          -542042,
          -542053.0625,
          -542081.8125,
          -542089.875,
          -542097.5625,
          -542103.9375,
          -542109.5,
          -542111.6875,
          -542112.125,
          -542148.9375,
          -542157.6875,
          -542206.75,
          -542211.6875,
          -542221.125,
          -542236.0625,
          -542249.9375,
          -542269.125,
          -542278,
          -542285.625,
          -542293.8125,
          -542299.5625,
          -542306.1875,
          -542307.875,
          -542310.375,
          -542343.75,
          -542348.5,
          -542393,
          -542398.5625,
          -542407,
          -542408.1875,
          -542414.0625,
          -542440.1875,
          -542445.375,
          -542479.9375,
          -542487.0625,
          -542494.3125,
          -542498.75,
          -542503.5625,
          -542526.5625,
          -542546.3125,
          -542576.8125,
          -542584,
          -542592.5,
          -542596.8125,
          -542603.875,
          -542622.25,
          -542637.8125,
          -542661.875,
          -542669.9375,
          -542677.375,
          -542683.4375,
          -542689.625,
          -542692.6875,
          -542695,
          -542724.5625,
          -542736.25,
          -542775.8125,
          -542781.75,
          -542790.1875,
          -542791.9375,
          -542798.625,
          -542821.3125,
          -542828.125,
          -542857.9375,
          -542865.0625,
          -542871.8125,
          -542877.125,
          -542881.3125,
          -542882.75,
          -542911.25,
          -542933.3125,
          -542971.75,
          -542977.0625,
          -542985.875,
          -542987.25,
          -542995.4375,
          -543015.6875,
          -543020.875,
          -543047.375,
          -543055.0625,
          -543061.125,
          -543067.625,
          -543070.5625,
          -543074.125,
          -543099.625,
          -543113.8125,
          -543148.25,
          -543154.375,
          -543162.4375,
          -543165,
          -543171.5,
          -543191.75,
          -543201.125,
          -543227.5625,
          -543234.75,
          -543241.4375,
          -543246.6875,
          -543251.5625,
          -543253.5,
          -543253.875,
          -543287,
          -543291.75,
          -543336.375,
          -543340.5,
          -543348.75,
          -543362.3125,
          -543375,
          -543392.875,
          -543400.4375,
          -543407.5625,
          -543414.5,
          -543419.6875,
          -543425.125,
          -543426.5625,
          -543428.0625,
          -543459,
          -543463.5625,
          -543504.8125,
          -543509.5,
          -543517.375,
          -543517.75,
          -543523.6875,
          -543547.375,
          -543549.6875,
          -543581,
          -543587.4375,
          -543593.3125,
          -543597.625,
          -543601.0625,
          -543601.1875,
          -543631.0625,
          -543646.4375,
          -543686.9375,
          -543691.0625,
          -543699.625,
          -543711.75,
          -543723.0625,
          -543738.375,
          -543745.875,
          -543752.75,
          -543760.125,
          -543765.0625,
          -543771.0625,
          -543772.375,
          -543775.5625,
          -543801.9375,
          -543806.375,
          -543841.6875,
          -543846.8125,
          -543853.8125,
          -543855.875,
          -543860.8125,
          -543882.4375,
          -543890.375,
          -543918.6875,
          -543924.875,
          -543931.375,
          -543935.3125,
          -543940,
          -543958.75,
          -543975.125,
          -544000.0625,
          -544006.4375,
          -544013.625,
          -544017.625,
          -544023.625,
          -544024.125,
          -544027.125,
          -544054.9375,
          -544055.3125,
          -544092.3125,
          -544097,
          -544103.3125,
          -544105.25,
          -544109.4375,
          -544132.4375,
          -544138.625,
          -544169.0625,
          -544175,
          -544181.25,
          -544184.25,
          -544189.1875,
          -544208.3125,
          -544220.5,
          -544245.75,
          -544252,
          -544258.4375,
          -544262.6875,
          -544267.75,
          -544268.125,
          -544269.625,
          -544299.75,
          -544311.1875,
          -544322.5,
          -544324,
          -544337.9375,
          -544347.3125,
          -544351.8125,
          -544362.6875,
          -544371.3125,
          -544378,
          -544388.3125,
          -544389.1875,
          -544400.375,
          -544412.375,
          -544415.9375,
          -544430.6875,
          -544438.625,
          -544443.75,
          -544452.4375,
          -544453.3125,
          -544462.4375,
          -544477,
          -544480.75,
          -544499.75,
          -544506.8125,
          -544512.125,
          -544519,
          -544520.5625,
          -544526.1875,
          -544544.875,
          -544552.125,
          -544576.5,
          -544582.8125,
          -544588.625,
          -544592.9375,
          -544596.875,
          -544598.0625,
          -544621.5,
          -544642.9375,
          -544674.3125,
          -544679.0625,
          -544686.5,
          -544687.75,
          -544694.875,
          -544711.5,
          -544716.375,
          -544738.125,
          -544744.375,
          -544749.75,
          -544755,
          -544758,
          -544760.75,
          -544781.875,
          -544794.9375,
          -544823.375,
          -544828.5,
          -544835.4375,
          -544837.375,
          -544843.25,
          -544859.625,
          -544868.0625,
          -544889.5,
          -544895.6875,
          -544901.375,
          -544906.0625,
          -544910.125,
          -544912.1875,
          -544932.6875,
          -544953.5,
          -544980.875,
          -544985.9375,
          -544993,
          -544995.125,
          -545001.5,
          -545016.6875,
          -545023.75,
          -545043.5625,
          -545049.8125,
          -545055.375,
          -545060.3125,
          -545064.0625,
          -545066.8125,
          -545085.875,
          -545103,
          -545128.1875,
          -545133.625,
          -545140.125,
          -545143,
          -545148.875,
          -545163.4375,
          -545172.4375,
          -545191.625,
          -545197.625,
          -545203.0625,
          -545208,
          -545211.8125,
          -545214.9375,
          -545215.3125,
          -545239.9375,
          -545251.6875,
          -545285.0625,
          -545288.9375,
          -545296.0625,
          -545306.125,
          -545316.1875,
          -545329.0625,
          -545335.5,
          -545341.625,
          -545347.6875,
          -545351.9375,
          -545357.1875,
          -545358.25,
          -545361.25,
          -545383.125,
          -545387.5625,
          -545417.0625,
          -545421.75,
          -545427.5,
          -545429.4375,
          -545433.6875,
          -545451.75,
          -545459.5,
          -545483.5,
          -545488.75,
          -545494.5,
          -545497.6875,
          -545502.0625,
          -545517.5,
          -545530.75,
          -545551.1875,
          -545556.625,
          -545562.75,
          -545566.5625,
          -545571.375,
          -545572.25,
          -545574.25,
          -545597.9375,
          -545600.1875,
          -545632,
          -545636.0625,
          -545641.8125,
          -545643,
          -545647,
          -545666.3125,
          -545670.125,
          -545695.4375,
          -545700.25,
          -545705.625,
          -545708.875,
          -545712.25,
          -545729.0625,
          -545742.4375,
          -545764.8125,
          -545769.9375,
          -545776.25,
          -545779.25,
          -545784.1875,
          -545797.75,
          -545808.6875,
          -545826.25,
          -545831.9375,
          -545837.4375,
          -545841.875,
          -545846.125,
          -545848.3125,
          -545849.625,
          -545871.5625,
          -545880.3125,
          -545909.8125,
          -545914.125,
          -545920.3125,
          -545921.25,
          -545926.4375,
          -545942.875,
          -545946.5625,
          -545968.5,
          -545973.75,
          -545978.5,
          -545982.5,
          -545985.25,
          -545986.375,
          -546007.4375,
          -546020,
          -546048.3125,
          -546052.375,
          -546058.875,
          -546059.8125,
          -546065.3125,
          -546080.875,
          -546084.4375,
          -546105.375,
          -546110.6875,
          -546115.375,
          -546119.4375,
          -546122.125,
          -546123.75,
          -546143.6875,
          -546156,
          -546183.1875,
          -546187.0625,
          -546193.5,
          -546194.5625,
          -546200,
          -546214.8125,
          -546219.375,
          -546238.8125,
          -546244.3125,
          -546248.8125,
          -546252.8125,
          -546255.9375,
          -546257.625,
          -546276.5625,
          -546288.8125,
          -546313.9375,
          -546318,
          -546324.125,
          -546325.875,
          -546330.9375,
          -546345.3125,
          -546351.125,
          -546370.0625,
          -546375.4375,
          -546380.25,
          -546383.9375,
          -546387.4375,
          -546388.6875,
          -546407.0625
         ]
        }
       ],
       "layout": {
        "template": {
         "data": {
          "bar": [
           {
            "error_x": {
             "color": "#2a3f5f"
            },
            "error_y": {
             "color": "#2a3f5f"
            },
            "marker": {
             "line": {
              "color": "#E5ECF6",
              "width": 0.5
             },
             "pattern": {
              "fillmode": "overlay",
              "size": 10,
              "solidity": 0.2
             }
            },
            "type": "bar"
           }
          ],
          "barpolar": [
           {
            "marker": {
             "line": {
              "color": "#E5ECF6",
              "width": 0.5
             },
             "pattern": {
              "fillmode": "overlay",
              "size": 10,
              "solidity": 0.2
             }
            },
            "type": "barpolar"
           }
          ],
          "carpet": [
           {
            "aaxis": {
             "endlinecolor": "#2a3f5f",
             "gridcolor": "white",
             "linecolor": "white",
             "minorgridcolor": "white",
             "startlinecolor": "#2a3f5f"
            },
            "baxis": {
             "endlinecolor": "#2a3f5f",
             "gridcolor": "white",
             "linecolor": "white",
             "minorgridcolor": "white",
             "startlinecolor": "#2a3f5f"
            },
            "type": "carpet"
           }
          ],
          "choropleth": [
           {
            "colorbar": {
             "outlinewidth": 0,
             "ticks": ""
            },
            "type": "choropleth"
           }
          ],
          "contour": [
           {
            "colorbar": {
             "outlinewidth": 0,
             "ticks": ""
            },
            "colorscale": [
             [
              0,
              "#0d0887"
             ],
             [
              0.1111111111111111,
              "#46039f"
             ],
             [
              0.2222222222222222,
              "#7201a8"
             ],
             [
              0.3333333333333333,
              "#9c179e"
             ],
             [
              0.4444444444444444,
              "#bd3786"
             ],
             [
              0.5555555555555556,
              "#d8576b"
             ],
             [
              0.6666666666666666,
              "#ed7953"
             ],
             [
              0.7777777777777778,
              "#fb9f3a"
             ],
             [
              0.8888888888888888,
              "#fdca26"
             ],
             [
              1,
              "#f0f921"
             ]
            ],
            "type": "contour"
           }
          ],
          "contourcarpet": [
           {
            "colorbar": {
             "outlinewidth": 0,
             "ticks": ""
            },
            "type": "contourcarpet"
           }
          ],
          "heatmap": [
           {
            "colorbar": {
             "outlinewidth": 0,
             "ticks": ""
            },
            "colorscale": [
             [
              0,
              "#0d0887"
             ],
             [
              0.1111111111111111,
              "#46039f"
             ],
             [
              0.2222222222222222,
              "#7201a8"
             ],
             [
              0.3333333333333333,
              "#9c179e"
             ],
             [
              0.4444444444444444,
              "#bd3786"
             ],
             [
              0.5555555555555556,
              "#d8576b"
             ],
             [
              0.6666666666666666,
              "#ed7953"
             ],
             [
              0.7777777777777778,
              "#fb9f3a"
             ],
             [
              0.8888888888888888,
              "#fdca26"
             ],
             [
              1,
              "#f0f921"
             ]
            ],
            "type": "heatmap"
           }
          ],
          "heatmapgl": [
           {
            "colorbar": {
             "outlinewidth": 0,
             "ticks": ""
            },
            "colorscale": [
             [
              0,
              "#0d0887"
             ],
             [
              0.1111111111111111,
              "#46039f"
             ],
             [
              0.2222222222222222,
              "#7201a8"
             ],
             [
              0.3333333333333333,
              "#9c179e"
             ],
             [
              0.4444444444444444,
              "#bd3786"
             ],
             [
              0.5555555555555556,
              "#d8576b"
             ],
             [
              0.6666666666666666,
              "#ed7953"
             ],
             [
              0.7777777777777778,
              "#fb9f3a"
             ],
             [
              0.8888888888888888,
              "#fdca26"
             ],
             [
              1,
              "#f0f921"
             ]
            ],
            "type": "heatmapgl"
           }
          ],
          "histogram": [
           {
            "marker": {
             "pattern": {
              "fillmode": "overlay",
              "size": 10,
              "solidity": 0.2
             }
            },
            "type": "histogram"
           }
          ],
          "histogram2d": [
           {
            "colorbar": {
             "outlinewidth": 0,
             "ticks": ""
            },
            "colorscale": [
             [
              0,
              "#0d0887"
             ],
             [
              0.1111111111111111,
              "#46039f"
             ],
             [
              0.2222222222222222,
              "#7201a8"
             ],
             [
              0.3333333333333333,
              "#9c179e"
             ],
             [
              0.4444444444444444,
              "#bd3786"
             ],
             [
              0.5555555555555556,
              "#d8576b"
             ],
             [
              0.6666666666666666,
              "#ed7953"
             ],
             [
              0.7777777777777778,
              "#fb9f3a"
             ],
             [
              0.8888888888888888,
              "#fdca26"
             ],
             [
              1,
              "#f0f921"
             ]
            ],
            "type": "histogram2d"
           }
          ],
          "histogram2dcontour": [
           {
            "colorbar": {
             "outlinewidth": 0,
             "ticks": ""
            },
            "colorscale": [
             [
              0,
              "#0d0887"
             ],
             [
              0.1111111111111111,
              "#46039f"
             ],
             [
              0.2222222222222222,
              "#7201a8"
             ],
             [
              0.3333333333333333,
              "#9c179e"
             ],
             [
              0.4444444444444444,
              "#bd3786"
             ],
             [
              0.5555555555555556,
              "#d8576b"
             ],
             [
              0.6666666666666666,
              "#ed7953"
             ],
             [
              0.7777777777777778,
              "#fb9f3a"
             ],
             [
              0.8888888888888888,
              "#fdca26"
             ],
             [
              1,
              "#f0f921"
             ]
            ],
            "type": "histogram2dcontour"
           }
          ],
          "mesh3d": [
           {
            "colorbar": {
             "outlinewidth": 0,
             "ticks": ""
            },
            "type": "mesh3d"
           }
          ],
          "parcoords": [
           {
            "line": {
             "colorbar": {
              "outlinewidth": 0,
              "ticks": ""
             }
            },
            "type": "parcoords"
           }
          ],
          "pie": [
           {
            "automargin": true,
            "type": "pie"
           }
          ],
          "scatter": [
           {
            "marker": {
             "colorbar": {
              "outlinewidth": 0,
              "ticks": ""
             }
            },
            "type": "scatter"
           }
          ],
          "scatter3d": [
           {
            "line": {
             "colorbar": {
              "outlinewidth": 0,
              "ticks": ""
             }
            },
            "marker": {
             "colorbar": {
              "outlinewidth": 0,
              "ticks": ""
             }
            },
            "type": "scatter3d"
           }
          ],
          "scattercarpet": [
           {
            "marker": {
             "colorbar": {
              "outlinewidth": 0,
              "ticks": ""
             }
            },
            "type": "scattercarpet"
           }
          ],
          "scattergeo": [
           {
            "marker": {
             "colorbar": {
              "outlinewidth": 0,
              "ticks": ""
             }
            },
            "type": "scattergeo"
           }
          ],
          "scattergl": [
           {
            "marker": {
             "colorbar": {
              "outlinewidth": 0,
              "ticks": ""
             }
            },
            "type": "scattergl"
           }
          ],
          "scattermapbox": [
           {
            "marker": {
             "colorbar": {
              "outlinewidth": 0,
              "ticks": ""
             }
            },
            "type": "scattermapbox"
           }
          ],
          "scatterpolar": [
           {
            "marker": {
             "colorbar": {
              "outlinewidth": 0,
              "ticks": ""
             }
            },
            "type": "scatterpolar"
           }
          ],
          "scatterpolargl": [
           {
            "marker": {
             "colorbar": {
              "outlinewidth": 0,
              "ticks": ""
             }
            },
            "type": "scatterpolargl"
           }
          ],
          "scatterternary": [
           {
            "marker": {
             "colorbar": {
              "outlinewidth": 0,
              "ticks": ""
             }
            },
            "type": "scatterternary"
           }
          ],
          "surface": [
           {
            "colorbar": {
             "outlinewidth": 0,
             "ticks": ""
            },
            "colorscale": [
             [
              0,
              "#0d0887"
             ],
             [
              0.1111111111111111,
              "#46039f"
             ],
             [
              0.2222222222222222,
              "#7201a8"
             ],
             [
              0.3333333333333333,
              "#9c179e"
             ],
             [
              0.4444444444444444,
              "#bd3786"
             ],
             [
              0.5555555555555556,
              "#d8576b"
             ],
             [
              0.6666666666666666,
              "#ed7953"
             ],
             [
              0.7777777777777778,
              "#fb9f3a"
             ],
             [
              0.8888888888888888,
              "#fdca26"
             ],
             [
              1,
              "#f0f921"
             ]
            ],
            "type": "surface"
           }
          ],
          "table": [
           {
            "cells": {
             "fill": {
              "color": "#EBF0F8"
             },
             "line": {
              "color": "white"
             }
            },
            "header": {
             "fill": {
              "color": "#C8D4E3"
             },
             "line": {
              "color": "white"
             }
            },
            "type": "table"
           }
          ]
         },
         "layout": {
          "annotationdefaults": {
           "arrowcolor": "#2a3f5f",
           "arrowhead": 0,
           "arrowwidth": 1
          },
          "autotypenumbers": "strict",
          "coloraxis": {
           "colorbar": {
            "outlinewidth": 0,
            "ticks": ""
           }
          },
          "colorscale": {
           "diverging": [
            [
             0,
             "#8e0152"
            ],
            [
             0.1,
             "#c51b7d"
            ],
            [
             0.2,
             "#de77ae"
            ],
            [
             0.3,
             "#f1b6da"
            ],
            [
             0.4,
             "#fde0ef"
            ],
            [
             0.5,
             "#f7f7f7"
            ],
            [
             0.6,
             "#e6f5d0"
            ],
            [
             0.7,
             "#b8e186"
            ],
            [
             0.8,
             "#7fbc41"
            ],
            [
             0.9,
             "#4d9221"
            ],
            [
             1,
             "#276419"
            ]
           ],
           "sequential": [
            [
             0,
             "#0d0887"
            ],
            [
             0.1111111111111111,
             "#46039f"
            ],
            [
             0.2222222222222222,
             "#7201a8"
            ],
            [
             0.3333333333333333,
             "#9c179e"
            ],
            [
             0.4444444444444444,
             "#bd3786"
            ],
            [
             0.5555555555555556,
             "#d8576b"
            ],
            [
             0.6666666666666666,
             "#ed7953"
            ],
            [
             0.7777777777777778,
             "#fb9f3a"
            ],
            [
             0.8888888888888888,
             "#fdca26"
            ],
            [
             1,
             "#f0f921"
            ]
           ],
           "sequentialminus": [
            [
             0,
             "#0d0887"
            ],
            [
             0.1111111111111111,
             "#46039f"
            ],
            [
             0.2222222222222222,
             "#7201a8"
            ],
            [
             0.3333333333333333,
             "#9c179e"
            ],
            [
             0.4444444444444444,
             "#bd3786"
            ],
            [
             0.5555555555555556,
             "#d8576b"
            ],
            [
             0.6666666666666666,
             "#ed7953"
            ],
            [
             0.7777777777777778,
             "#fb9f3a"
            ],
            [
             0.8888888888888888,
             "#fdca26"
            ],
            [
             1,
             "#f0f921"
            ]
           ]
          },
          "colorway": [
           "#636efa",
           "#EF553B",
           "#00cc96",
           "#ab63fa",
           "#FFA15A",
           "#19d3f3",
           "#FF6692",
           "#B6E880",
           "#FF97FF",
           "#FECB52"
          ],
          "font": {
           "color": "#2a3f5f"
          },
          "geo": {
           "bgcolor": "white",
           "lakecolor": "white",
           "landcolor": "#E5ECF6",
           "showlakes": true,
           "showland": true,
           "subunitcolor": "white"
          },
          "hoverlabel": {
           "align": "left"
          },
          "hovermode": "closest",
          "mapbox": {
           "style": "light"
          },
          "paper_bgcolor": "white",
          "plot_bgcolor": "#E5ECF6",
          "polar": {
           "angularaxis": {
            "gridcolor": "white",
            "linecolor": "white",
            "ticks": ""
           },
           "bgcolor": "#E5ECF6",
           "radialaxis": {
            "gridcolor": "white",
            "linecolor": "white",
            "ticks": ""
           }
          },
          "scene": {
           "xaxis": {
            "backgroundcolor": "#E5ECF6",
            "gridcolor": "white",
            "gridwidth": 2,
            "linecolor": "white",
            "showbackground": true,
            "ticks": "",
            "zerolinecolor": "white"
           },
           "yaxis": {
            "backgroundcolor": "#E5ECF6",
            "gridcolor": "white",
            "gridwidth": 2,
            "linecolor": "white",
            "showbackground": true,
            "ticks": "",
            "zerolinecolor": "white"
           },
           "zaxis": {
            "backgroundcolor": "#E5ECF6",
            "gridcolor": "white",
            "gridwidth": 2,
            "linecolor": "white",
            "showbackground": true,
            "ticks": "",
            "zerolinecolor": "white"
           }
          },
          "shapedefaults": {
           "line": {
            "color": "#2a3f5f"
           }
          },
          "ternary": {
           "aaxis": {
            "gridcolor": "white",
            "linecolor": "white",
            "ticks": ""
           },
           "baxis": {
            "gridcolor": "white",
            "linecolor": "white",
            "ticks": ""
           },
           "bgcolor": "#E5ECF6",
           "caxis": {
            "gridcolor": "white",
            "linecolor": "white",
            "ticks": ""
           }
          },
          "title": {
           "x": 0.05
          },
          "xaxis": {
           "automargin": true,
           "gridcolor": "white",
           "linecolor": "white",
           "ticks": "",
           "title": {
            "standoff": 15
           },
           "zerolinecolor": "white",
           "zerolinewidth": 2
          },
          "yaxis": {
           "automargin": true,
           "gridcolor": "white",
           "linecolor": "white",
           "ticks": "",
           "title": {
            "standoff": 15
           },
           "zerolinecolor": "white",
           "zerolinewidth": 2
          }
         }
        },
        "title": {
         "text": "Energy Minimization"
        },
        "xaxis": {
         "title": {
          "text": "Energy Minimization Step"
         }
        },
        "yaxis": {
         "title": {
          "text": "Potential Energy KJ/mol-1"
         }
        }
       }
      },
      "text/html": [
       "<div>                            <div id=\"26d837dc-f93f-4c89-b147-94d3ca32d393\" class=\"plotly-graph-div\" style=\"height:525px; width:100%;\"></div>            <script type=\"text/javascript\">                require([\"plotly\"], function(Plotly) {                    window.PLOTLYENV=window.PLOTLYENV || {};                                    if (document.getElementById(\"26d837dc-f93f-4c89-b147-94d3ca32d393\")) {                    Plotly.newPlot(                        \"26d837dc-f93f-4c89-b147-94d3ca32d393\",                        [{\"type\":\"scatter\",\"x\":[0.0,1.0,2.0,3.0,4.0,5.0,6.0,7.0,8.0,9.0,10.0,12.0,13.0,14.0,16.0,17.0,18.0,19.0,20.0,22.0,23.0,24.0,26.0,27.0,28.0,29.0,31.0,32.0,33.0,35.0,36.0,37.0,39.0,40.0,41.0,43.0,44.0,45.0,46.0,47.0,49.0,51.0,52.0,53.0,54.0,56.0,57.0,58.0,60.0,61.0,62.0,64.0,65.0,66.0,67.0,68.0,70.0,71.0,72.0,74.0,75.0,76.0,78.0,79.0,80.0,82.0,83.0,84.0,85.0,86.0,88.0,89.0,90.0,92.0,93.0,94.0,95.0,96.0,98.0,99.0,100.0,102.0,103.0,104.0,105.0,106.0,108.0,109.0,110.0,112.0,113.0,114.0,115.0,116.0,118.0,119.0,120.0,122.0,123.0,124.0,125.0,127.0,128.0,129.0,131.0,132.0,133.0,134.0,136.0,137.0,138.0,140.0,141.0,142.0,143.0,144.0,146.0,147.0,148.0,150.0,151.0,152.0,153.0,154.0,156.0,157.0,158.0,160.0,161.0,162.0,163.0,164.0,165.0,167.0,168.0,169.0,171.0,172.0,174.0,175.0,176.0,178.0,179.0,180.0,181.0,182.0,184.0,185.0,186.0,188.0,189.0,190.0,191.0,192.0,194.0,195.0,196.0,198.0,199.0,200.0,201.0,202.0,204.0,205.0,206.0,208.0,209.0,210.0,211.0,213.0,214.0,215.0,217.0,218.0,219.0,220.0,222.0,223.0,224.0,226.0,227.0,228.0,229.0,230.0,232.0,233.0,234.0,236.0,237.0,238.0,239.0,240.0,242.0,243.0,244.0,246.0,247.0,248.0,249.0,251.0,252.0,253.0,255.0,256.0,257.0,258.0,260.0,261.0,262.0,264.0,265.0,266.0,267.0,268.0,270.0,271.0,272.0,274.0,275.0,276.0,277.0,278.0,279.0,281.0,282.0,283.0,285.0,286.0,288.0,289.0,290.0,292.0,293.0,294.0,295.0,296.0,298.0,299.0,300.0,302.0,303.0,304.0,305.0,306.0,308.0,309.0,310.0,312.0,313.0,314.0,315.0,316.0,317.0,319.0,320.0,321.0,323.0,324.0,326.0,327.0,328.0,330.0,331.0,332.0,333.0,334.0,336.0,337.0,338.0,340.0,341.0,342.0,343.0,344.0,345.0,346.0,348.0,350.0,351.0,352.0,353.0,355.0,356.0,357.0,359.0,360.0,361.0,362.0,363.0,365.0,366.0,367.0,369.0,370.0,371.0,372.0,373.0,375.0,376.0,377.0,379.0,380.0,381.0,382.0,383.0,384.0,386.0,387.0,388.0,390.0,391.0,392.0,393.0,395.0,396.0,397.0,399.0,400.0,401.0,402.0,404.0,405.0,406.0,408.0,409.0,410.0,411.0,412.0,414.0,415.0,416.0,418.0,419.0,420.0,421.0,423.0,424.0,425.0,427.0,428.0,429.0,430.0,432.0,433.0,434.0,436.0,437.0,438.0,439.0,440.0,441.0,443.0,444.0,445.0,447.0,448.0,450.0,451.0,452.0,454.0,455.0,456.0,457.0,458.0,459.0,460.0,462.0,464.0,465.0,466.0,467.0,469.0,470.0,471.0,473.0,474.0,475.0,476.0,477.0,479.0,480.0,481.0,483.0,484.0,485.0,486.0,487.0,489.0,490.0,491.0,493.0,494.0,495.0,496.0,497.0,498.0,500.0,501.0,502.0,504.0,505.0,506.0,507.0,509.0,510.0,511.0,513.0,514.0,515.0,516.0,518.0,519.0,520.0,522.0,523.0,524.0,525.0,526.0,527.0,529.0,530.0,531.0,533.0,534.0,536.0,537.0,538.0,540.0,541.0,542.0,543.0,544.0,545.0,546.0,548.0,550.0,551.0,552.0,553.0,555.0,556.0,557.0,559.0,560.0,561.0,562.0,563.0,565.0,566.0,567.0,569.0,570.0,571.0,572.0,573.0,575.0,576.0,577.0,579.0,580.0,581.0,582.0,583.0,584.0,586.0,587.0,588.0,590.0,591.0,592.0,593.0,595.0,596.0,597.0,599.0,600.0,601.0,602.0,604.0,605.0,606.0,608.0,609.0,610.0,611.0,612.0,613.0,615.0,616.0,617.0,619.0,620.0,621.0,622.0,624.0,625.0,626.0,628.0,629.0,630.0,631.0,632.0,634.0,635.0,636.0,638.0,639.0,640.0,641.0,643.0,644.0,645.0,647.0,648.0,649.0,650.0,652.0,653.0,654.0,656.0,657.0,658.0,659.0,661.0,662.0,663.0,665.0,666.0,667.0,668.0,669.0,670.0,672.0,673.0,674.0,676.0,677.0,678.0,679.0,681.0,682.0,683.0,685.0,686.0,687.0,688.0,690.0,691.0,692.0,694.0,695.0,696.0,697.0,698.0,699.0,701.0,702.0,703.0,705.0,706.0,707.0,708.0,710.0,711.0,712.0,714.0,715.0,716.0,717.0,718.0,720.0,721.0,722.0,724.0,725.0,726.0,727.0,729.0,730.0,731.0,733.0,734.0,735.0,736.0,737.0,739.0,740.0,741.0,743.0,744.0,745.0,746.0,748.0,749.0,750.0,752.0,753.0,754.0,755.0,756.0,758.0,759.0,760.0,762.0,763.0,764.0,765.0,767.0,768.0,769.0,771.0,772.0,773.0,774.0,775.0,776.0,778.0,780.0,781.0,782.0,783.0,785.0,786.0,787.0,789.0,790.0,791.0,793.0,794.0,795.0,796.0,797.0,799.0,800.0,801.0,803.0,804.0,805.0,806.0,807.0,809.0,810.0,811.0,813.0,814.0,815.0,816.0,817.0,819.0,820.0,821.0,823.0,824.0,825.0,826.0,827.0,828.0,830.0,831.0,832.0,834.0,835.0,836.0,837.0,839.0,840.0,841.0,843.0,844.0,845.0,846.0,848.0,849.0,850.0,852.0,853.0,854.0,855.0,857.0,858.0,859.0,861.0,862.0,863.0,864.0,865.0,866.0,868.0,869.0,870.0,872.0,873.0,874.0,875.0,877.0,878.0,879.0,881.0,882.0,883.0,884.0,885.0,887.0,888.0,889.0,891.0,892.0,893.0,894.0,896.0,897.0,898.0,900.0,901.0,902.0,903.0,904.0,906.0,907.0,908.0,910.0,911.0,912.0,913.0,915.0,916.0,917.0,919.0,920.0,921.0,922.0,923.0,925.0,926.0,927.0,929.0,930.0,931.0,932.0,934.0,935.0,936.0,938.0,939.0,940.0,941.0,942.0,943.0,945.0,946.0,947.0,949.0,950.0,951.0,952.0,954.0,955.0,956.0,958.0,959.0,960.0,961.0,963.0,964.0,965.0,967.0,968.0,969.0,970.0,972.0,973.0,974.0,976.0,977.0,978.0,979.0,980.0,981.0,983.0,984.0,985.0,987.0,988.0,989.0,990.0,992.0,993.0,994.0,996.0,997.0,998.0,999.0,1000.0,1002.0,1003.0,1004.0,1006.0,1007.0,1008.0,1009.0,1011.0,1012.0,1013.0,1015.0,1016.0,1017.0,1018.0,1019.0,1021.0,1022.0,1023.0,1025.0,1026.0,1027.0,1028.0,1030.0,1031.0,1032.0,1034.0,1035.0,1036.0,1037.0,1038.0,1040.0,1041.0,1042.0,1044.0,1045.0,1046.0,1047.0,1049.0,1050.0,1051.0,1053.0,1054.0,1055.0,1056.0,1057.0,1059.0,1060.0,1061.0,1063.0,1064.0,1065.0,1066.0,1068.0,1069.0,1070.0,1072.0,1073.0,1074.0,1075.0,1076.0,1077.0,1079.0,1080.0,1081.0,1083.0,1084.0,1086.0,1087.0,1088.0,1090.0,1091.0,1092.0,1093.0,1094.0,1095.0,1096.0,1098.0,1099.0,1100.0,1102.0,1103.0,1104.0,1105.0,1107.0,1108.0,1109.0,1111.0,1112.0,1113.0,1114.0,1116.0,1117.0,1118.0,1120.0,1121.0,1122.0,1123.0,1125.0,1126.0,1127.0,1129.0,1130.0,1131.0,1132.0,1133.0,1134.0,1136.0,1137.0,1138.0,1140.0,1141.0,1142.0,1143.0,1145.0,1146.0,1147.0,1149.0,1150.0,1151.0,1152.0,1153.0,1155.0,1156.0,1157.0,1159.0,1160.0,1161.0,1162.0,1164.0,1165.0,1166.0,1168.0,1169.0,1170.0,1171.0,1172.0,1174.0,1175.0,1176.0,1178.0,1179.0,1180.0,1181.0,1183.0,1184.0,1185.0,1187.0,1188.0,1189.0,1190.0,1191.0,1193.0,1194.0,1195.0,1197.0,1198.0,1199.0,1200.0,1202.0,1203.0,1204.0,1206.0,1207.0,1208.0,1209.0,1210.0,1212.0,1213.0,1214.0,1216.0,1217.0,1218.0,1219.0,1221.0,1222.0,1223.0,1225.0,1226.0,1227.0,1228.0,1229.0,1230.0,1232.0,1233.0,1234.0,1236.0,1237.0,1239.0,1240.0,1241.0,1243.0,1244.0,1245.0,1246.0,1247.0,1248.0,1249.0,1251.0,1252.0,1253.0,1255.0,1256.0,1257.0,1258.0,1260.0,1261.0,1262.0,1264.0,1265.0,1266.0,1267.0,1269.0,1270.0,1271.0,1273.0,1274.0,1275.0,1276.0,1278.0,1279.0,1280.0,1282.0,1283.0,1284.0,1285.0,1286.0,1287.0,1289.0,1290.0,1291.0,1293.0,1294.0,1295.0,1296.0,1298.0,1299.0,1300.0,1302.0,1303.0,1304.0,1305.0,1306.0,1308.0,1309.0,1310.0,1312.0,1313.0,1314.0,1315.0,1317.0,1318.0,1319.0,1321.0,1322.0,1323.0,1324.0,1325.0,1327.0,1328.0,1329.0,1331.0,1332.0,1333.0,1334.0,1336.0,1337.0,1338.0,1340.0,1341.0,1342.0,1343.0,1344.0,1345.0,1347.0,1348.0,1349.0,1351.0,1352.0,1354.0,1355.0,1356.0,1358.0,1359.0,1360.0,1361.0,1362.0,1363.0,1364.0,1366.0,1367.0,1368.0,1370.0,1371.0,1372.0,1373.0,1375.0,1376.0,1377.0,1379.0,1380.0,1381.0,1382.0,1383.0,1385.0,1386.0,1387.0,1389.0,1390.0,1392.0,1393.0,1394.0,1396.0,1397.0,1398.0,1399.0,1400.0,1401.0,1402.0,1404.0,1405.0,1406.0,1408.0,1409.0,1410.0,1411.0,1413.0,1414.0,1415.0,1417.0,1418.0,1419.0,1420.0,1422.0,1423.0,1424.0,1426.0,1427.0,1428.0,1429.0,1430.0,1431.0,1433.0,1434.0,1435.0,1437.0,1438.0,1439.0,1440.0,1442.0,1443.0,1444.0,1446.0,1447.0,1448.0,1449.0,1451.0,1452.0,1453.0,1455.0,1456.0,1457.0,1458.0,1459.0,1460.0,1462.0,1464.0,1465.0,1466.0,1467.0,1469.0,1470.0,1471.0,1473.0,1474.0,1475.0,1476.0,1477.0,1479.0,1480.0,1481.0,1483.0,1484.0,1485.0,1486.0,1487.0,1489.0,1490.0,1491.0,1493.0,1494.0,1495.0,1496.0,1497.0,1499.0,1500.0,1501.0,1503.0,1504.0,1505.0,1506.0,1507.0,1509.0,1510.0,1511.0,1513.0,1514.0,1515.0,1516.0,1518.0,1519.0,1520.0,1522.0,1523.0,1524.0,1525.0,1526.0,1528.0,1529.0,1530.0,1532.0,1533.0,1534.0,1535.0,1537.0,1538.0,1539.0,1541.0,1542.0,1543.0,1544.0,1545.0,1547.0,1548.0,1549.0,1551.0,1552.0,1553.0,1554.0,1556.0,1557.0,1558.0,1560.0,1561.0,1562.0,1563.0,1564.0,1566.0,1567.0,1568.0,1570.0,1571.0,1572.0,1573.0,1575.0,1576.0,1577.0,1579.0,1580.0,1581.0,1582.0,1583.0,1584.0,1586.0,1587.0,1588.0,1590.0,1591.0,1593.0,1594.0,1595.0,1597.0,1598.0,1599.0,1600.0,1601.0,1602.0,1603.0,1605.0,1606.0,1607.0,1609.0,1610.0,1611.0,1612.0,1614.0,1615.0,1616.0,1618.0,1619.0,1620.0,1621.0,1623.0,1624.0,1625.0,1627.0,1628.0,1629.0,1630.0,1631.0,1632.0,1634.0,1635.0,1636.0,1638.0,1639.0,1640.0,1641.0,1643.0,1644.0,1645.0,1647.0,1648.0,1649.0,1650.0,1652.0,1653.0,1654.0,1656.0,1657.0,1658.0,1659.0,1661.0,1662.0,1663.0,1665.0,1666.0,1667.0,1668.0,1669.0,1670.0,1672.0,1673.0,1674.0,1676.0,1677.0,1678.0,1679.0,1681.0,1682.0,1683.0,1685.0,1686.0,1687.0,1688.0,1689.0,1691.0,1692.0,1693.0,1695.0,1696.0,1697.0,1698.0,1700.0,1701.0,1702.0,1704.0,1705.0,1706.0,1707.0,1708.0,1710.0,1711.0,1712.0,1714.0,1715.0,1716.0,1717.0,1719.0,1720.0,1721.0,1723.0,1724.0,1725.0,1726.0,1727.0,1729.0,1730.0,1731.0,1733.0,1734.0,1735.0,1736.0,1738.0,1739.0,1740.0,1742.0,1743.0,1744.0,1745.0,1746.0,1748.0],\"y\":[-266407.4375,-309273.59375,-348000.6875,-376389.78125,-397853.53125,-406575.40625,-413793.90625,-424179.3125,-427672.125,-430726.84375,-433096.25,-437159.84375,-438820.15625,-442336.6875,-444166.65625,-445631.84375,-447249.25,-447965.5625,-449129.96875,-452035.59375,-453574.9375,-457522.75,-458349.90625,-459251.21875,-459605.53125,-460266.46875,-462622.53125,-463057.6875,-466095.46875,-466776.25,-467166.28125,-467689.53125,-469274.90625,-470211.96875,-472195.6875,-472749.53125,-473157.25,-473600.71875,-473705.84375,-473922.0,-475831.5,-476593.75,-477313.28125,-477429.25,-478245.4375,-478927.25,-479176.34375,-479985.3125,-480505.78125,-480816.15625,-481391.90625,-481894.375,-482331.65625,-482920.78125,-482940.09375,-483611.90625,-484205.75,-484332.46875,-485050.5625,-485485.40625,-485689.5,-486173.4375,-486610.9375,-486923.875,-487445.1875,-487785.53125,-488074.0,-488445.1875,-488541.25,-488925.0625,-489443.34375,-489654.5,-490310.8125,-490603.125,-490795.75,-491084.9375,-491126.21875,-491377.84375,-492042.1875,-492158.03125,-492983.1875,-493222.21875,-493387.625,-493603.46875,-493660.25,-493820.71875,-494512.125,-494721.65625,-495545.28125,-495735.6875,-495901.03125,-496049.5625,-496134.75,-496204.78125,-496896.78125,-497221.09375,-498045.9375,-498196.4375,-498358.375,-498453.09375,-498552.5,-499048.625,-499500.40625,-500130.6875,-500273.875,-500452.03125,-500527.125,-500695.21875,-501018.0625,-501243.09375,-501636.40625,-501791.90625,-501921.28125,-502066.8125,-502142.625,-502262.71875,-502608.84375,-502871.625,-503297.65625,-503432.71875,-503554.1875,-503667.96875,-503746.21875,-503819.59375,-504193.71875,-504510.96875,-504973.53125,-505088.0625,-505204.03125,-505286.8125,-505366.78125,-505394.59375,-505395.0625,-505936.40625,-506010.65625,-506725.8125,-506785.40625,-506916.34375,-507119.53125,-507279.90625,-507530.40625,-507644.9375,-507742.21875,-507854.125,-507911.6875,-508010.84375,-508238.59375,-508423.1875,-508707.28125,-508810.34375,-508900.59375,-508992.15625,-509049.40625,-509116.625,-509373.40625,-509591.9375,-509914.625,-510004.71875,-510091.8125,-510161.34375,-510220.78125,-510253.1875,-510544.21875,-510813.3125,-511178.875,-511254.25,-511339.78125,-511385.84375,-511446.65625,-511671.625,-511868.03125,-512167.65625,-512243.6875,-512331.5625,-512376.34375,-512456.125,-512628.25,-512767.0625,-512982.75,-513064.25,-513134.75,-513207.96875,-513252.28125,-513307.46875,-513505.65625,-513671.46875,-513922.4375,-513994.21875,-514062.875,-514118.625,-514165.59375,-514192.59375,-514421.5,-514632.8125,-514922.875,-514983.15625,-515052.125,-515088.9375,-515138.3125,-515317.65625,-515471.4375,-515711.15625,-515772.5625,-515842.96875,-515879.5625,-515943.0625,-516083.15625,-516198.9375,-516374.96875,-516440.84375,-516498.6875,-516557.3125,-516594.40625,-516637.65625,-516800.40625,-516943.78125,-517150.9375,-517209.21875,-517266.25,-517310.75,-517350.90625,-517370.34375,-517373.03125,-517628.40625,-517701.34375,-518045.625,-518077.5625,-518146.53125,-518246.625,-518328.28125,-518452.59375,-518512.75,-518564.125,-518624.15625,-518654.71875,-518708.90625,-518825.125,-518921.46875,-519068.03125,-519123.59375,-519172.53125,-519222.46875,-519254.21875,-519291.34375,-519427.3125,-519550.46875,-519724.0,-519773.71875,-519822.84375,-519860.75,-519895.84375,-519912.625,-519917.28125,-520130.625,-520195.0625,-520482.625,-520511.125,-520569.78125,-520654.6875,-520727.84375,-520833.4375,-520885.0625,-520930.09375,-520981.15625,-521008.84375,-521055.03125,-521153.75,-521242.90625,-521367.8125,-521415.96875,-521458.78125,-521501.65625,-521530.9375,-521562.4375,-521564.65625,-521571.09375,-521783.34375,-521859.46875,-521936.8125,-521943.59375,-522034.46875,-522101.0,-522126.46875,-522206.15625,-522263.3125,-522302.09375,-522366.59375,-522370.15625,-522438.9375,-522524.625,-522547.09375,-522657.09375,-522705.71875,-522738.3125,-522787.03125,-522798.125,-522839.25,-522950.375,-522992.03125,-523139.125,-523178.9375,-523216.6875,-523245.34375,-523272.125,-523279.78125,-523283.5625,-523468.4375,-523476.59375,-523718.46875,-523743.75,-523781.5,-523786.09375,-523807.40625,-523954.125,-523969.1875,-524166.59375,-524195.4375,-524234.40625,-524244.4375,-524273.46875,-524391.75,-524425.25,-524578.3125,-524613.0625,-524645.375,-524670.4375,-524688.0625,-524694.3125,-524838.4375,-524910.1875,-525097.375,-525123.875,-525161.5625,-525170.75,-525197.9375,-525308.3125,-525344.625,-525491.875,-525522.5,-525556.875,-525574.875,-525600.9375,-525694.0,-525761.125,-525880.875,-525913.875,-525946.5,-525971.0625,-525994.0625,-526003.625,-526005.875,-526154.3125,-526187.375,-526386.75,-526405.5,-526444.5,-526504.25,-526554.375,-526629.25,-526664.0625,-526694.5625,-526728.5,-526748.0,-526777.1875,-526777.5625,-526794.5,-526922.0625,-526971.375,-527020.0625,-527032.8125,-527088.625,-527134.5,-527160.125,-527215.25,-527252.5625,-527283.4375,-527325.0,-527335.6875,-527378.9375,-527435.8125,-527465.6875,-527538.3125,-527571.9375,-527598.375,-527631.125,-527645.75,-527673.3125,-527745.1875,-527798.125,-527892.8125,-527921.9375,-527951.25,-527973.25,-527996.375,-528004.75,-528014.875,-528128.25,-528153.75,-528302.25,-528324.1875,-528351.9375,-528360.9375,-528379.125,-528470.5,-528506.625,-528628.8125,-528652.4375,-528681.0625,-528693.3125,-528716.3125,-528790.4375,-528835.125,-528931.3125,-528957.8125,-528983.3125,-529003.6875,-529021.125,-529029.375,-529029.5,-529151.375,-529180.8125,-529344.25,-529359.0,-529390.75,-529439.125,-529478.6875,-529539.6875,-529568.0,-529592.4375,-529619.875,-529636.0625,-529659.4375,-529659.875,-529673.1875,-529777.875,-529818.8125,-529858.5,-529869.125,-529915.3125,-529952.25,-529972.8125,-530017.25,-530047.875,-530073.6875,-530108.25,-530116.625,-530153.25,-530199.125,-530222.3125,-530280.25,-530308.25,-530329.9375,-530357.625,-530368.5,-530393.0625,-530451.0,-530488.5,-530564.4375,-530588.875,-530612.0,-530631.625,-530649.0625,-530658.625,-530663.8125,-530759.0,-530794.8125,-530920.0,-530937.0,-530961.875,-530967.3125,-530986.0625,-531058.9375,-531079.875,-531176.625,-531197.4375,-531219.5,-531232.4375,-531247.8125,-531311.4375,-531364.9375,-531447.25,-531468.9375,-531491.8125,-531506.6875,-531524.625,-531528.1875,-531533.875,-531630.625,-531638.3125,-531767.5625,-531782.125,-531805.75,-531807.25,-531825.3125,-531899.375,-531905.8125,-532003.0625,-532022.75,-532040.6875,-532054.5,-532063.375,-532064.25,-532156.9375,-532191.9375,-532314.25,-532327.9375,-532351.9375,-532353.4375,-532372.0,-532440.5,-532448.125,-532538.75,-532557.75,-532575.8125,-532588.25,-532599.5,-532661.5,-532717.25,-532798.5,-532817.0,-532838.625,-532849.5625,-532867.75,-532916.5625,-532958.3125,-533023.0,-533042.9375,-533063.25,-533078.25,-533094.625,-533100.5,-533108.3125,-533184.5,-533204.1875,-533304.75,-533319.625,-533339.6875,-533345.8125,-533359.875,-533420.9375,-533444.4375,-533525.4375,-533542.4375,-533561.5625,-533571.8125,-533586.1875,-533637.6875,-533678.375,-533745.875,-533764.0,-533782.9375,-533796.125,-533810.9375,-533814.5,-533819.1875,-533899.0625,-533909.1875,-534015.9375,-534028.1875,-534047.9375,-534049.8125,-534065.0625,-534126.1875,-534132.875,-534213.3125,-534230.0,-534245.25,-534256.5625,-534264.8125,-534265.375,-534342.25,-534376.5,-534478.25,-534489.625,-534510.3125,-534511.4375,-534528.125,-534583.8125,-534589.75,-534663.625,-534680.125,-534694.875,-534706.25,-534714.5,-534715.875,-534787.375,-534824.75,-534920.0625,-534931.125,-534951.8125,-534952.5,-534970.5,-535021.1875,-535026.75,-535092.625,-535109.375,-535122.625,-535136.125,-535141.8125,-535147.5,-535211.375,-535232.875,-535317.25,-535329.75,-535347.0625,-535351.6875,-535364.75,-535414.5,-535431.875,-535497.6875,-535512.75,-535528.125,-535537.8125,-535548.6875,-535548.75,-535549.25,-535630.0,-535657.9375,-535687.5625,-535688.625,-535724.5,-535747.9375,-535756.5625,-535783.8125,-535805.9375,-535820.6875,-535846.75,-535865.5,-535882.8125,-535904.4375,-535910.8125,-535934.375,-535960.5,-535976.0625,-536008.8125,-536026.25,-536040.5625,-536059.375,-536066.0,-536084.0625,-536116.0625,-536135.8125,-536176.9375,-536193.3125,-536207.125,-536222.0,-536230.5625,-536241.8125,-536281.25,-536315.25,-536366.5,-536381.0625,-536396.0625,-536406.5,-536418.625,-536421.5625,-536426.3125,-536486.6875,-536496.5,-536577.1875,-536587.1875,-536602.625,-536604.9375,-536616.6875,-536663.625,-536672.6875,-536734.8125,-536747.875,-536760.5625,-536769.3125,-536777.0625,-536819.3125,-536858.8125,-536914.9375,-536927.8125,-536943.3125,-536950.375,-536963.75,-536996.5625,-537020.9375,-537063.3125,-537077.5625,-537090.8125,-537102.6875,-537112.25,-537118.9375,-537121.1875,-537175.375,-537204.875,-537276.9375,-537286.4375,-537302.5625,-537304.25,-537317.75,-537357.1875,-537364.875,-537415.9375,-537429.4375,-537440.5625,-537450.6875,-537456.625,-537460.5,-537510.25,-537534.625,-537600.375,-537610.0,-537624.75,-537628.125,-537639.875,-537677.8125,-537690.625,-537740.25,-537752.875,-537764.5625,-537773.5,-537781.6875,-537783.625,-537831.0625,-537873.125,-537936.5,-537946.125,-537961.5,-537963.6875,-537977.625,-538011.4375,-538020.375,-538064.1875,-538076.9375,-538087.5,-538098.5,-538103.8125,-538109.8125,-538152.125,-538175.125,-538231.25,-538241.375,-538254.4375,-538259.5625,-538269.9375,-538303.4375,-538321.875,-538365.875,-538377.75,-538389.5625,-538398.0,-538406.6875,-538409.125,-538411.125,-538465.0,-538470.6875,-538542.6875,-538550.0,-538562.8125,-538563.5,-538573.25,-538614.5625,-538617.125,-538671.5625,-538682.125,-538692.3125,-538698.8125,-538704.75,-538741.875,-538770.5,-538819.8125,-538830.0,-538842.5,-538848.125,-538858.6875,-538887.6875,-538907.1875,-538945.125,-538956.8125,-538967.6875,-538976.875,-538985.25,-538989.0625,-538991.1875,-539038.5625,-539052.75,-539115.625,-539123.3125,-539135.8125,-539137.4375,-539147.3125,-539182.875,-539188.5,-539235.9375,-539246.25,-539256.0,-539263.0625,-539268.9375,-539269.5625,-539314.9375,-539341.75,-539402.3125,-539409.375,-539422.6875,-539423.4375,-539435.1875,-539467.5625,-539471.5625,-539514.125,-539524.75,-539533.625,-539542.125,-539546.5,-539549.6875,-539590.875,-539608.125,-539662.75,-539670.875,-539682.625,-539685.1875,-539694.875,-539726.25,-539735.9375,-539777.25,-539787.25,-539796.6875,-539804.0625,-539810.125,-539811.9375,-539851.5,-539882.6875,-539935.25,-539943.25,-539955.625,-539957.625,-539968.25,-539997.0625,-540004.125,-540041.3125,-540051.5,-540060.375,-540068.8125,-540073.5625,-540077.8125,-540113.5625,-540134.125,-540181.875,-540190.125,-540201.25,-540204.5,-540213.875,-540241.3125,-540253.625,-540290.0,-540299.8125,-540309.125,-540316.5625,-540322.8125,-540325.5,-540325.5625,-540371.625,-540379.1875,-540441.0625,-540446.5625,-540457.875,-540476.8125,-540492.875,-540517.1875,-540527.625,-540536.9375,-540546.625,-540553.375,-540561.0,-540562.3125,-540565.1875,-540606.9375,-540610.625,-540666.6875,-540673.125,-540683.0,-540684.1875,-540691.5625,-540724.125,-540728.25,-540771.5,-540780.0,-540788.6875,-540793.5625,-540798.6875,-540827.625,-540850.375,-540888.8125,-540897.125,-540907.1875,-540911.9375,-540920.5,-540943.3125,-540960.3125,-540990.25,-540999.6875,-541009.0,-541016.125,-541022.875,-541026.0625,-541028.375,-541065.5,-541078.0,-541127.5625,-541133.875,-541144.0625,-541145.3125,-541153.6875,-541181.6875,-541187.3125,-541224.4375,-541232.75,-541241.0625,-541247.0,-541251.625,-541252.875,-541288.5,-541310.875,-541358.625,-541364.75,-541375.5625,-541376.5,-541385.6875,-541411.3125,-541415.875,-541449.1875,-541458.125,-541465.3125,-541472.3125,-541476.1875,-541478.875,-541511.375,-541527.125,-541570.375,-541577.125,-541586.8125,-541589.25,-541597.0,-541621.9375,-541630.5,-541663.0625,-541671.3125,-541679.25,-541685.3125,-541690.375,-541692.375,-541723.6875,-541749.4375,-541791.1875,-541797.75,-541807.6875,-541809.5,-541818.625,-541841.125,-541848.25,-541877.6875,-541886.125,-541893.3125,-541900.4375,-541904.8125,-541908.125,-541936.625,-541955.6875,-541993.375,-542000.1875,-542009.5,-542012.5625,-542020.1875,-542042.0,-542053.0625,-542081.8125,-542089.875,-542097.5625,-542103.9375,-542109.5,-542111.6875,-542112.125,-542148.9375,-542157.6875,-542206.75,-542211.6875,-542221.125,-542236.0625,-542249.9375,-542269.125,-542278.0,-542285.625,-542293.8125,-542299.5625,-542306.1875,-542307.875,-542310.375,-542343.75,-542348.5,-542393.0,-542398.5625,-542407.0,-542408.1875,-542414.0625,-542440.1875,-542445.375,-542479.9375,-542487.0625,-542494.3125,-542498.75,-542503.5625,-542526.5625,-542546.3125,-542576.8125,-542584.0,-542592.5,-542596.8125,-542603.875,-542622.25,-542637.8125,-542661.875,-542669.9375,-542677.375,-542683.4375,-542689.625,-542692.6875,-542695.0,-542724.5625,-542736.25,-542775.8125,-542781.75,-542790.1875,-542791.9375,-542798.625,-542821.3125,-542828.125,-542857.9375,-542865.0625,-542871.8125,-542877.125,-542881.3125,-542882.75,-542911.25,-542933.3125,-542971.75,-542977.0625,-542985.875,-542987.25,-542995.4375,-543015.6875,-543020.875,-543047.375,-543055.0625,-543061.125,-543067.625,-543070.5625,-543074.125,-543099.625,-543113.8125,-543148.25,-543154.375,-543162.4375,-543165.0,-543171.5,-543191.75,-543201.125,-543227.5625,-543234.75,-543241.4375,-543246.6875,-543251.5625,-543253.5,-543253.875,-543287.0,-543291.75,-543336.375,-543340.5,-543348.75,-543362.3125,-543375.0,-543392.875,-543400.4375,-543407.5625,-543414.5,-543419.6875,-543425.125,-543426.5625,-543428.0625,-543459.0,-543463.5625,-543504.8125,-543509.5,-543517.375,-543517.75,-543523.6875,-543547.375,-543549.6875,-543581.0,-543587.4375,-543593.3125,-543597.625,-543601.0625,-543601.1875,-543631.0625,-543646.4375,-543686.9375,-543691.0625,-543699.625,-543711.75,-543723.0625,-543738.375,-543745.875,-543752.75,-543760.125,-543765.0625,-543771.0625,-543772.375,-543775.5625,-543801.9375,-543806.375,-543841.6875,-543846.8125,-543853.8125,-543855.875,-543860.8125,-543882.4375,-543890.375,-543918.6875,-543924.875,-543931.375,-543935.3125,-543940.0,-543958.75,-543975.125,-544000.0625,-544006.4375,-544013.625,-544017.625,-544023.625,-544024.125,-544027.125,-544054.9375,-544055.3125,-544092.3125,-544097.0,-544103.3125,-544105.25,-544109.4375,-544132.4375,-544138.625,-544169.0625,-544175.0,-544181.25,-544184.25,-544189.1875,-544208.3125,-544220.5,-544245.75,-544252.0,-544258.4375,-544262.6875,-544267.75,-544268.125,-544269.625,-544299.75,-544311.1875,-544322.5,-544324.0,-544337.9375,-544347.3125,-544351.8125,-544362.6875,-544371.3125,-544378.0,-544388.3125,-544389.1875,-544400.375,-544412.375,-544415.9375,-544430.6875,-544438.625,-544443.75,-544452.4375,-544453.3125,-544462.4375,-544477.0,-544480.75,-544499.75,-544506.8125,-544512.125,-544519.0,-544520.5625,-544526.1875,-544544.875,-544552.125,-544576.5,-544582.8125,-544588.625,-544592.9375,-544596.875,-544598.0625,-544621.5,-544642.9375,-544674.3125,-544679.0625,-544686.5,-544687.75,-544694.875,-544711.5,-544716.375,-544738.125,-544744.375,-544749.75,-544755.0,-544758.0,-544760.75,-544781.875,-544794.9375,-544823.375,-544828.5,-544835.4375,-544837.375,-544843.25,-544859.625,-544868.0625,-544889.5,-544895.6875,-544901.375,-544906.0625,-544910.125,-544912.1875,-544932.6875,-544953.5,-544980.875,-544985.9375,-544993.0,-544995.125,-545001.5,-545016.6875,-545023.75,-545043.5625,-545049.8125,-545055.375,-545060.3125,-545064.0625,-545066.8125,-545085.875,-545103.0,-545128.1875,-545133.625,-545140.125,-545143.0,-545148.875,-545163.4375,-545172.4375,-545191.625,-545197.625,-545203.0625,-545208.0,-545211.8125,-545214.9375,-545215.3125,-545239.9375,-545251.6875,-545285.0625,-545288.9375,-545296.0625,-545306.125,-545316.1875,-545329.0625,-545335.5,-545341.625,-545347.6875,-545351.9375,-545357.1875,-545358.25,-545361.25,-545383.125,-545387.5625,-545417.0625,-545421.75,-545427.5,-545429.4375,-545433.6875,-545451.75,-545459.5,-545483.5,-545488.75,-545494.5,-545497.6875,-545502.0625,-545517.5,-545530.75,-545551.1875,-545556.625,-545562.75,-545566.5625,-545571.375,-545572.25,-545574.25,-545597.9375,-545600.1875,-545632.0,-545636.0625,-545641.8125,-545643.0,-545647.0,-545666.3125,-545670.125,-545695.4375,-545700.25,-545705.625,-545708.875,-545712.25,-545729.0625,-545742.4375,-545764.8125,-545769.9375,-545776.25,-545779.25,-545784.1875,-545797.75,-545808.6875,-545826.25,-545831.9375,-545837.4375,-545841.875,-545846.125,-545848.3125,-545849.625,-545871.5625,-545880.3125,-545909.8125,-545914.125,-545920.3125,-545921.25,-545926.4375,-545942.875,-545946.5625,-545968.5,-545973.75,-545978.5,-545982.5,-545985.25,-545986.375,-546007.4375,-546020.0,-546048.3125,-546052.375,-546058.875,-546059.8125,-546065.3125,-546080.875,-546084.4375,-546105.375,-546110.6875,-546115.375,-546119.4375,-546122.125,-546123.75,-546143.6875,-546156.0,-546183.1875,-546187.0625,-546193.5,-546194.5625,-546200.0,-546214.8125,-546219.375,-546238.8125,-546244.3125,-546248.8125,-546252.8125,-546255.9375,-546257.625,-546276.5625,-546288.8125,-546313.9375,-546318.0,-546324.125,-546325.875,-546330.9375,-546345.3125,-546351.125,-546370.0625,-546375.4375,-546380.25,-546383.9375,-546387.4375,-546388.6875,-546407.0625]}],                        {\"template\":{\"data\":{\"bar\":[{\"error_x\":{\"color\":\"#2a3f5f\"},\"error_y\":{\"color\":\"#2a3f5f\"},\"marker\":{\"line\":{\"color\":\"#E5ECF6\",\"width\":0.5},\"pattern\":{\"fillmode\":\"overlay\",\"size\":10,\"solidity\":0.2}},\"type\":\"bar\"}],\"barpolar\":[{\"marker\":{\"line\":{\"color\":\"#E5ECF6\",\"width\":0.5},\"pattern\":{\"fillmode\":\"overlay\",\"size\":10,\"solidity\":0.2}},\"type\":\"barpolar\"}],\"carpet\":[{\"aaxis\":{\"endlinecolor\":\"#2a3f5f\",\"gridcolor\":\"white\",\"linecolor\":\"white\",\"minorgridcolor\":\"white\",\"startlinecolor\":\"#2a3f5f\"},\"baxis\":{\"endlinecolor\":\"#2a3f5f\",\"gridcolor\":\"white\",\"linecolor\":\"white\",\"minorgridcolor\":\"white\",\"startlinecolor\":\"#2a3f5f\"},\"type\":\"carpet\"}],\"choropleth\":[{\"colorbar\":{\"outlinewidth\":0,\"ticks\":\"\"},\"type\":\"choropleth\"}],\"contour\":[{\"colorbar\":{\"outlinewidth\":0,\"ticks\":\"\"},\"colorscale\":[[0.0,\"#0d0887\"],[0.1111111111111111,\"#46039f\"],[0.2222222222222222,\"#7201a8\"],[0.3333333333333333,\"#9c179e\"],[0.4444444444444444,\"#bd3786\"],[0.5555555555555556,\"#d8576b\"],[0.6666666666666666,\"#ed7953\"],[0.7777777777777778,\"#fb9f3a\"],[0.8888888888888888,\"#fdca26\"],[1.0,\"#f0f921\"]],\"type\":\"contour\"}],\"contourcarpet\":[{\"colorbar\":{\"outlinewidth\":0,\"ticks\":\"\"},\"type\":\"contourcarpet\"}],\"heatmap\":[{\"colorbar\":{\"outlinewidth\":0,\"ticks\":\"\"},\"colorscale\":[[0.0,\"#0d0887\"],[0.1111111111111111,\"#46039f\"],[0.2222222222222222,\"#7201a8\"],[0.3333333333333333,\"#9c179e\"],[0.4444444444444444,\"#bd3786\"],[0.5555555555555556,\"#d8576b\"],[0.6666666666666666,\"#ed7953\"],[0.7777777777777778,\"#fb9f3a\"],[0.8888888888888888,\"#fdca26\"],[1.0,\"#f0f921\"]],\"type\":\"heatmap\"}],\"heatmapgl\":[{\"colorbar\":{\"outlinewidth\":0,\"ticks\":\"\"},\"colorscale\":[[0.0,\"#0d0887\"],[0.1111111111111111,\"#46039f\"],[0.2222222222222222,\"#7201a8\"],[0.3333333333333333,\"#9c179e\"],[0.4444444444444444,\"#bd3786\"],[0.5555555555555556,\"#d8576b\"],[0.6666666666666666,\"#ed7953\"],[0.7777777777777778,\"#fb9f3a\"],[0.8888888888888888,\"#fdca26\"],[1.0,\"#f0f921\"]],\"type\":\"heatmapgl\"}],\"histogram\":[{\"marker\":{\"pattern\":{\"fillmode\":\"overlay\",\"size\":10,\"solidity\":0.2}},\"type\":\"histogram\"}],\"histogram2d\":[{\"colorbar\":{\"outlinewidth\":0,\"ticks\":\"\"},\"colorscale\":[[0.0,\"#0d0887\"],[0.1111111111111111,\"#46039f\"],[0.2222222222222222,\"#7201a8\"],[0.3333333333333333,\"#9c179e\"],[0.4444444444444444,\"#bd3786\"],[0.5555555555555556,\"#d8576b\"],[0.6666666666666666,\"#ed7953\"],[0.7777777777777778,\"#fb9f3a\"],[0.8888888888888888,\"#fdca26\"],[1.0,\"#f0f921\"]],\"type\":\"histogram2d\"}],\"histogram2dcontour\":[{\"colorbar\":{\"outlinewidth\":0,\"ticks\":\"\"},\"colorscale\":[[0.0,\"#0d0887\"],[0.1111111111111111,\"#46039f\"],[0.2222222222222222,\"#7201a8\"],[0.3333333333333333,\"#9c179e\"],[0.4444444444444444,\"#bd3786\"],[0.5555555555555556,\"#d8576b\"],[0.6666666666666666,\"#ed7953\"],[0.7777777777777778,\"#fb9f3a\"],[0.8888888888888888,\"#fdca26\"],[1.0,\"#f0f921\"]],\"type\":\"histogram2dcontour\"}],\"mesh3d\":[{\"colorbar\":{\"outlinewidth\":0,\"ticks\":\"\"},\"type\":\"mesh3d\"}],\"parcoords\":[{\"line\":{\"colorbar\":{\"outlinewidth\":0,\"ticks\":\"\"}},\"type\":\"parcoords\"}],\"pie\":[{\"automargin\":true,\"type\":\"pie\"}],\"scatter\":[{\"marker\":{\"colorbar\":{\"outlinewidth\":0,\"ticks\":\"\"}},\"type\":\"scatter\"}],\"scatter3d\":[{\"line\":{\"colorbar\":{\"outlinewidth\":0,\"ticks\":\"\"}},\"marker\":{\"colorbar\":{\"outlinewidth\":0,\"ticks\":\"\"}},\"type\":\"scatter3d\"}],\"scattercarpet\":[{\"marker\":{\"colorbar\":{\"outlinewidth\":0,\"ticks\":\"\"}},\"type\":\"scattercarpet\"}],\"scattergeo\":[{\"marker\":{\"colorbar\":{\"outlinewidth\":0,\"ticks\":\"\"}},\"type\":\"scattergeo\"}],\"scattergl\":[{\"marker\":{\"colorbar\":{\"outlinewidth\":0,\"ticks\":\"\"}},\"type\":\"scattergl\"}],\"scattermapbox\":[{\"marker\":{\"colorbar\":{\"outlinewidth\":0,\"ticks\":\"\"}},\"type\":\"scattermapbox\"}],\"scatterpolar\":[{\"marker\":{\"colorbar\":{\"outlinewidth\":0,\"ticks\":\"\"}},\"type\":\"scatterpolar\"}],\"scatterpolargl\":[{\"marker\":{\"colorbar\":{\"outlinewidth\":0,\"ticks\":\"\"}},\"type\":\"scatterpolargl\"}],\"scatterternary\":[{\"marker\":{\"colorbar\":{\"outlinewidth\":0,\"ticks\":\"\"}},\"type\":\"scatterternary\"}],\"surface\":[{\"colorbar\":{\"outlinewidth\":0,\"ticks\":\"\"},\"colorscale\":[[0.0,\"#0d0887\"],[0.1111111111111111,\"#46039f\"],[0.2222222222222222,\"#7201a8\"],[0.3333333333333333,\"#9c179e\"],[0.4444444444444444,\"#bd3786\"],[0.5555555555555556,\"#d8576b\"],[0.6666666666666666,\"#ed7953\"],[0.7777777777777778,\"#fb9f3a\"],[0.8888888888888888,\"#fdca26\"],[1.0,\"#f0f921\"]],\"type\":\"surface\"}],\"table\":[{\"cells\":{\"fill\":{\"color\":\"#EBF0F8\"},\"line\":{\"color\":\"white\"}},\"header\":{\"fill\":{\"color\":\"#C8D4E3\"},\"line\":{\"color\":\"white\"}},\"type\":\"table\"}]},\"layout\":{\"annotationdefaults\":{\"arrowcolor\":\"#2a3f5f\",\"arrowhead\":0,\"arrowwidth\":1},\"autotypenumbers\":\"strict\",\"coloraxis\":{\"colorbar\":{\"outlinewidth\":0,\"ticks\":\"\"}},\"colorscale\":{\"diverging\":[[0,\"#8e0152\"],[0.1,\"#c51b7d\"],[0.2,\"#de77ae\"],[0.3,\"#f1b6da\"],[0.4,\"#fde0ef\"],[0.5,\"#f7f7f7\"],[0.6,\"#e6f5d0\"],[0.7,\"#b8e186\"],[0.8,\"#7fbc41\"],[0.9,\"#4d9221\"],[1,\"#276419\"]],\"sequential\":[[0.0,\"#0d0887\"],[0.1111111111111111,\"#46039f\"],[0.2222222222222222,\"#7201a8\"],[0.3333333333333333,\"#9c179e\"],[0.4444444444444444,\"#bd3786\"],[0.5555555555555556,\"#d8576b\"],[0.6666666666666666,\"#ed7953\"],[0.7777777777777778,\"#fb9f3a\"],[0.8888888888888888,\"#fdca26\"],[1.0,\"#f0f921\"]],\"sequentialminus\":[[0.0,\"#0d0887\"],[0.1111111111111111,\"#46039f\"],[0.2222222222222222,\"#7201a8\"],[0.3333333333333333,\"#9c179e\"],[0.4444444444444444,\"#bd3786\"],[0.5555555555555556,\"#d8576b\"],[0.6666666666666666,\"#ed7953\"],[0.7777777777777778,\"#fb9f3a\"],[0.8888888888888888,\"#fdca26\"],[1.0,\"#f0f921\"]]},\"colorway\":[\"#636efa\",\"#EF553B\",\"#00cc96\",\"#ab63fa\",\"#FFA15A\",\"#19d3f3\",\"#FF6692\",\"#B6E880\",\"#FF97FF\",\"#FECB52\"],\"font\":{\"color\":\"#2a3f5f\"},\"geo\":{\"bgcolor\":\"white\",\"lakecolor\":\"white\",\"landcolor\":\"#E5ECF6\",\"showlakes\":true,\"showland\":true,\"subunitcolor\":\"white\"},\"hoverlabel\":{\"align\":\"left\"},\"hovermode\":\"closest\",\"mapbox\":{\"style\":\"light\"},\"paper_bgcolor\":\"white\",\"plot_bgcolor\":\"#E5ECF6\",\"polar\":{\"angularaxis\":{\"gridcolor\":\"white\",\"linecolor\":\"white\",\"ticks\":\"\"},\"bgcolor\":\"#E5ECF6\",\"radialaxis\":{\"gridcolor\":\"white\",\"linecolor\":\"white\",\"ticks\":\"\"}},\"scene\":{\"xaxis\":{\"backgroundcolor\":\"#E5ECF6\",\"gridcolor\":\"white\",\"gridwidth\":2,\"linecolor\":\"white\",\"showbackground\":true,\"ticks\":\"\",\"zerolinecolor\":\"white\"},\"yaxis\":{\"backgroundcolor\":\"#E5ECF6\",\"gridcolor\":\"white\",\"gridwidth\":2,\"linecolor\":\"white\",\"showbackground\":true,\"ticks\":\"\",\"zerolinecolor\":\"white\"},\"zaxis\":{\"backgroundcolor\":\"#E5ECF6\",\"gridcolor\":\"white\",\"gridwidth\":2,\"linecolor\":\"white\",\"showbackground\":true,\"ticks\":\"\",\"zerolinecolor\":\"white\"}},\"shapedefaults\":{\"line\":{\"color\":\"#2a3f5f\"}},\"ternary\":{\"aaxis\":{\"gridcolor\":\"white\",\"linecolor\":\"white\",\"ticks\":\"\"},\"baxis\":{\"gridcolor\":\"white\",\"linecolor\":\"white\",\"ticks\":\"\"},\"bgcolor\":\"#E5ECF6\",\"caxis\":{\"gridcolor\":\"white\",\"linecolor\":\"white\",\"ticks\":\"\"}},\"title\":{\"x\":0.05},\"xaxis\":{\"automargin\":true,\"gridcolor\":\"white\",\"linecolor\":\"white\",\"ticks\":\"\",\"title\":{\"standoff\":15},\"zerolinecolor\":\"white\",\"zerolinewidth\":2},\"yaxis\":{\"automargin\":true,\"gridcolor\":\"white\",\"linecolor\":\"white\",\"ticks\":\"\",\"title\":{\"standoff\":15},\"zerolinecolor\":\"white\",\"zerolinewidth\":2}}},\"title\":{\"text\":\"Energy Minimization\"},\"xaxis\":{\"title\":{\"text\":\"Energy Minimization Step\"}},\"yaxis\":{\"title\":{\"text\":\"Potential Energy KJ/mol-1\"}}},                        {\"responsive\": true}                    ).then(function(){\n",
       "                            \n",
       "var gd = document.getElementById('26d837dc-f93f-4c89-b147-94d3ca32d393');\n",
       "var x = new MutationObserver(function (mutations, observer) {{\n",
       "        var display = window.getComputedStyle(gd).display;\n",
       "        if (!display || display === 'none') {{\n",
       "            console.log([gd, 'removed!']);\n",
       "            Plotly.purge(gd);\n",
       "            observer.disconnect();\n",
       "        }}\n",
       "}});\n",
       "\n",
       "// Listen for the removal of the full notebook cells\n",
       "var notebookContainer = gd.closest('#notebook-container');\n",
       "if (notebookContainer) {{\n",
       "    x.observe(notebookContainer, {childList: true});\n",
       "}}\n",
       "\n",
       "// Listen for the clearing of the current output cell\n",
       "var outputEl = gd.closest('.output');\n",
       "if (outputEl) {{\n",
       "    x.observe(outputEl, {childList: true});\n",
       "}}\n",
       "\n",
       "                        })                };                });            </script>        </div>"
      ]
     },
     "metadata": {},
     "output_type": "display_data"
    }
   ],
   "source": [
    "import plotly\n",
    "import plotly.graph_objs as go\n",
    "\n",
    "# Read data from file and filter energy values higher than 1000 Kj/mol^-1\n",
    "with open(output_min_ene_xvg, 'r') as energy_file:\n",
    "    x, y = map(\n",
    "        list,\n",
    "        zip(*[\n",
    "            (float(line.split()[0]),float(line.split()[1]))\n",
    "            for line in energy_file \n",
    "            if not line.startswith((\"#\",\"@\")) \n",
    "            if float(line.split()[1]) < 1000 \n",
    "        ])\n",
    "    )\n",
    "\n",
    "plotly.offline.init_notebook_mode(connected=True)\n",
    "\n",
    "fig = ({\n",
    "    \"data\": [go.Scatter(x=x, y=y)],\n",
    "    \"layout\": go.Layout(title=\"Energy Minimization\",\n",
    "                        xaxis=dict(title = \"Energy Minimization Step\"),\n",
    "                        yaxis=dict(title = \"Potential Energy KJ/mol-1\")\n",
    "                       )\n",
    "})\n",
    "\n",
    "plotly.offline.iplot(fig)"
   ]
  },
  {
   "cell_type": "markdown",
   "metadata": {},
   "source": [
    "## Step 17: Equilibrating the system (NVT)\n",
    "\n",
    "Equilibrate the protein-ligand complex system in NVT ensemble (constant Number of particles, Volume and Temperature).\n",
    "\n",
    "- Creating an index file with a new group including the protein-ligand complex.\n",
    "- Creating portable binary run file for system equilibration\n",
    "- Equilibrate the protein-ligand complex with NVT ensemble.\n",
    "- Checking NVT Equilibration results. Plotting system temperature by time during the NVT equilibration process.\n",
    "\n",
    "### Step 17.a: Creating an index file"
   ]
  },
  {
   "cell_type": "code",
   "execution_count": 53,
   "metadata": {},
   "outputs": [],
   "source": [
    "output_complex_ndx = pdbCode+'_'+ligandCode+'_index.ndx'"
   ]
  },
  {
   "cell_type": "code",
   "execution_count": 54,
   "metadata": {},
   "outputs": [
    {
     "name": "stdout",
     "output_type": "stream",
     "text": [
      "2021-11-04 07:05:11,396 [MainThread  ] [INFO ]  GROMACS MakeNdx 20191 version detected\n",
      "2021-11-04 07:05:11,396 [MainThread  ] [INFO ]  Not using any container\n",
      "2021-11-04 07:05:11,397 [MainThread  ] [INFO ]  echo -e '\"Protein\"|\"Other\"\\nq' | gmx -nobackup -nocopyright make_ndx -f 3HTB_JZ4_min.gro -o 3HTB_JZ4_index.ndx\n",
      "\n",
      "2021-11-04 07:05:11,512 [MainThread  ] [INFO ]  Exit code 0\n",
      "\n",
      "2021-11-04 07:05:11,512 [MainThread  ] [INFO ]  Going to read 0 old index file(s)\n",
      "Analysing residue names:\n",
      "There are:   163    Protein residues\n",
      "There are:     1      Other residues\n",
      "There are:  9505      Water residues\n",
      "There are:    26        Ion residues\n",
      "Analysing Protein...\n",
      "Analysing residues not classified as Protein/DNA/RNA/Water and splitting into groups...\n",
      "Analysing residues not classified as Protein/DNA/RNA/Water and splitting into groups...\n",
      "\n",
      "  0 System              : 31177 atoms\n",
      "  1 Protein             :  2614 atoms\n",
      "  2 Protein-H           :  1301 atoms\n",
      "  3 C-alpha             :   163 atoms\n",
      "  4 Backbone            :   489 atoms\n",
      "  5 MainChain           :   653 atoms\n",
      "  6 MainChain+Cb        :   805 atoms\n",
      "  7 MainChain+H         :   815 atoms\n",
      "  8 SideChain           :  1799 atoms\n",
      "  9 SideChain-H         :   648 atoms\n",
      " 10 Prot-Masses         :  2614 atoms\n",
      " 11 non-Protein         : 28563 atoms\n",
      " 12 Other               :    22 atoms\n",
      " 13 JZ4                 :    22 atoms\n",
      " 14 NA                  :    10 atoms\n",
      " 15 CL                  :    16 atoms\n",
      " 16 Water               : 28515 atoms\n",
      " 17 SOL                 : 28515 atoms\n",
      " 18 non-Water           :  2662 atoms\n",
      " 19 Ion                 :    26 atoms\n",
      " 20 JZ4                 :    22 atoms\n",
      " 21 NA                  :    10 atoms\n",
      " 22 CL                  :    16 atoms\n",
      " 23 Water_and_ions      : 28541 atoms\n",
      "\n",
      " nr : group      '!': not  'name' nr name   'splitch' nr    Enter: list groups\n",
      " 'a': atom       '&': and  'del' nr         'splitres' nr   'l': list residues\n",
      " 't': atom type  '|': or   'keep' nr        'splitat' nr    'h': help\n",
      " 'r': residue              'res' nr         'chain' char\n",
      " \"name\": group             'case': case sensitive           'q': save and quit\n",
      " 'ri': residue index\n",
      "\n",
      "> \n",
      "Copied index group 1 'Protein'\n",
      "Copied index group 12 'Other'\n",
      "Merged two groups with OR: 2614 22 -> 2636\n",
      "\n",
      " 24 Protein_Other       :  2636 atoms\n",
      "\n",
      "> \n",
      "\n",
      "2021-11-04 07:05:11,513 [MainThread  ] [INFO ]                       :-) GROMACS - gmx make_ndx, 2019.1 (-:\n",
      "\n",
      "Executable:   /home/dhnchandan/anaconda3/envs/nb_md_analysis/bin/gmx\n",
      "Data prefix:  /home/dhnchandan/anaconda3/envs/nb_md_analysis\n",
      "Working dir:  /home/dhnchandan/Documents/cc/gromacs/nb_md_analysis/project/notebooks\n",
      "Command line:\n",
      "  gmx -nobackup -nocopyright make_ndx -f 3HTB_JZ4_min.gro -o 3HTB_JZ4_index.ndx\n",
      "\n",
      "\n",
      "Reading structure file\n",
      "\n",
      "GROMACS reminds you: \"The three principal virtues of a programmer are Laziness, Impatience, and Hubris\" (Larry Wall)\n",
      "\n",
      "\n",
      "2021-11-04 07:05:11,514 [MainThread  ] [INFO ]  Removed: []\n"
     ]
    },
    {
     "data": {
      "text/plain": [
       "0"
      ]
     },
     "execution_count": 54,
     "metadata": {},
     "output_type": "execute_result"
    }
   ],
   "source": [
    "from biobb_md.gromacs.make_ndx import make_ndx\n",
    "\n",
    "prop = {\n",
    "    'selection': \"\\\"Protein\\\"|\\\"Other\\\"\",\n",
    "#     'gmx_path': gmx_path\n",
    "}\n",
    "\n",
    "make_ndx(\n",
    "    input_structure_path=output_min_gro,\n",
    "    output_ndx_path=output_complex_ndx,\n",
    "    properties=prop\n",
    ")"
   ]
  },
  {
   "cell_type": "markdown",
   "metadata": {},
   "source": [
    "### Step 17.b: Creating portable binary run file"
   ]
  },
  {
   "cell_type": "code",
   "execution_count": 55,
   "metadata": {},
   "outputs": [],
   "source": [
    "output_gppnvt_tpr = pdbCode+'_'+ligandCode+'gppnvt.tpr'"
   ]
  },
  {
   "cell_type": "code",
   "execution_count": 56,
   "metadata": {},
   "outputs": [
    {
     "name": "stdout",
     "output_type": "stream",
     "text": [
      "2021-11-04 07:05:26,245 [MainThread  ] [INFO ]  Extracting: /home/dhnchandan/Documents/cc/gromacs/nb_md_analysis/project/notebooks/3HTB_JZ4_genion_top.zip\n",
      "2021-11-04 07:05:26,247 [MainThread  ] [INFO ]  to:\n",
      "2021-11-04 07:05:26,248 [MainThread  ] [INFO ]  ['8f818254-e317-43c0-a0f4-67aae645be14/JZ4_posres.itp', '8f818254-e317-43c0-a0f4-67aae645be14/JZ4params.itp', '8f818254-e317-43c0-a0f4-67aae645be14/ligand.top', '8f818254-e317-43c0-a0f4-67aae645be14/posre.itp']\n",
      "2021-11-04 07:05:26,248 [MainThread  ] [INFO ]  Unzipping: \n",
      "2021-11-04 07:05:26,249 [MainThread  ] [INFO ]  3HTB_JZ4_genion_top.zip\n",
      "2021-11-04 07:05:26,250 [MainThread  ] [INFO ]  To: \n",
      "2021-11-04 07:05:26,250 [MainThread  ] [INFO ]  8f818254-e317-43c0-a0f4-67aae645be14/JZ4_posres.itp\n",
      "2021-11-04 07:05:26,251 [MainThread  ] [INFO ]  8f818254-e317-43c0-a0f4-67aae645be14/JZ4params.itp\n",
      "2021-11-04 07:05:26,251 [MainThread  ] [INFO ]  8f818254-e317-43c0-a0f4-67aae645be14/ligand.top\n",
      "2021-11-04 07:05:26,252 [MainThread  ] [INFO ]  8f818254-e317-43c0-a0f4-67aae645be14/posre.itp\n",
      "2021-11-04 07:05:26,253 [MainThread  ] [INFO ]  GROMACS Grompp 20191 version detected\n",
      "2021-11-04 07:05:26,254 [MainThread  ] [INFO ]  Not using any container\n",
      "2021-11-04 07:05:26,254 [MainThread  ] [INFO ]  gmx -nobackup -nocopyright grompp -f 7ae95e79-caab-4b83-8589-6cffad651474/grompp.mdp -c 3HTB_JZ4_min.gro -r 3HTB_JZ4_min.gro -p 8f818254-e317-43c0-a0f4-67aae645be14/ligand.top -o 3HTB_JZ4gppnvt.tpr -po mdout.mdp -maxwarn 10 -n 3HTB_JZ4_index.ndx\n",
      "\n",
      "2021-11-04 07:05:26,613 [MainThread  ] [INFO ]  Exit code 0\n",
      "\n",
      "2021-11-04 07:05:26,614 [MainThread  ] [INFO ]  turning H bonds into constraints...\n",
      "turning H bonds into constraints...\n",
      "turning H bonds into constraints...\n",
      "turning H bonds into constraints...\n",
      "turning H bonds into constraints...\n",
      "Determining Verlet buffer for a tolerance of 0.005 kJ/mol/ps at 300 K\n",
      "Calculated rlist for 1x1 atom pair-list as 1.034 nm, buffer size 0.034 nm\n",
      "Set rlist, assuming 4x4 atom pair-list, to 1.000 nm, buffer size 0.000 nm\n",
      "Note that mdrun will redetermine rlist based on the actual pair-list setup\n",
      "Calculating fourier grid dimensions for X Y Z\n",
      "Using a fourier grid of 64x64x64, spacing 0.116 0.116 0.116\n",
      "This run will generate roughly 11 Mb of data\n",
      "\n",
      "2021-11-04 07:05:26,614 [MainThread  ] [INFO ]                        :-) GROMACS - gmx grompp, 2019.1 (-:\n",
      "\n",
      "Executable:   /home/dhnchandan/anaconda3/envs/nb_md_analysis/bin/gmx\n",
      "Data prefix:  /home/dhnchandan/anaconda3/envs/nb_md_analysis\n",
      "Working dir:  /home/dhnchandan/Documents/cc/gromacs/nb_md_analysis/project/notebooks\n",
      "Command line:\n",
      "  gmx -nobackup -nocopyright grompp -f 7ae95e79-caab-4b83-8589-6cffad651474/grompp.mdp -c 3HTB_JZ4_min.gro -r 3HTB_JZ4_min.gro -p 8f818254-e317-43c0-a0f4-67aae645be14/ligand.top -o 3HTB_JZ4gppnvt.tpr -po mdout.mdp -maxwarn 10 -n 3HTB_JZ4_index.ndx\n",
      "\n",
      "Setting the LD random seed to 163925333\n",
      "Generated 2556 of the 2556 non-bonded parameter combinations\n",
      "Generating 1-4 interactions: fudge = 0.5\n",
      "Generated 2556 of the 2556 1-4 parameter combinations\n",
      "Excluding 3 bonded neighbours molecule type 'Protein_chain_A'\n",
      "Excluding 3 bonded neighbours molecule type 'JZ4params'\n",
      "Excluding 2 bonded neighbours molecule type 'SOL'\n",
      "Excluding 1 bonded neighbours molecule type 'NA'\n",
      "Excluding 1 bonded neighbours molecule type 'CL'\n",
      "Setting gen_seed to -1075742766\n",
      "Velocities were taken from a Maxwell distribution at 300 K\n",
      "Removing all charge groups because cutoff-scheme=Verlet\n",
      "Number of degrees of freedom in T-Coupling group Protein_Other is 6582.69\n",
      "Number of degrees of freedom in T-Coupling group Water_and_ions is 57105.31\n",
      "Estimate for the relative computational load of the PME mesh part: 0.20\n",
      "\n",
      "GROMACS reminds you: \"Wedged as we are between two eternities of idleness, there is no excuse for being idle now\" (Anthony Burgess)\n",
      "\n",
      "\n",
      "2021-11-04 07:05:26,616 [MainThread  ] [INFO ]  Removed: ['8f818254-e317-43c0-a0f4-67aae645be14', '7ae95e79-caab-4b83-8589-6cffad651474', 'mdout.mdp']\n"
     ]
    },
    {
     "data": {
      "text/plain": [
       "0"
      ]
     },
     "execution_count": 56,
     "metadata": {},
     "output_type": "execute_result"
    }
   ],
   "source": [
    "from biobb_md.gromacs.grompp import grompp\n",
    "\n",
    "prop = {\n",
    "    'mdp':{\n",
    "        'nsteps':'5000',\n",
    "        'tc-grps': 'Protein_Other Water_and_ions',\n",
    "        'Define': '-DPOSRES -D' + posresifdef\n",
    "    },\n",
    "    'simulation_type':'nvt',\n",
    "#     'gmx_path': gmx_path\n",
    "}\n",
    "\n",
    "grompp(\n",
    "    input_gro_path=output_min_gro,\n",
    "    input_top_zip_path=output_genion_top_zip,\n",
    "    input_ndx_path=output_complex_ndx,\n",
    "    output_tpr_path=output_gppnvt_tpr,\n",
    "    properties=prop\n",
    ")"
   ]
  },
  {
   "cell_type": "markdown",
   "metadata": {},
   "source": [
    "### Step 17.c: Running NVT equilibration"
   ]
  },
  {
   "cell_type": "code",
   "execution_count": 57,
   "metadata": {},
   "outputs": [],
   "source": [
    "output_nvt_trr = pdbCode+'_'+ligandCode+'_nvt.trr'\n",
    "output_nvt_gro = pdbCode+'_'+ligandCode+'_nvt.gro'\n",
    "output_nvt_edr = pdbCode+'_'+ligandCode+'_nvt.edr'\n",
    "output_nvt_log = pdbCode+'_'+ligandCode+'_nvt.log'\n",
    "output_nvt_cpt = pdbCode+'_'+ligandCode+'_nvt.cpt'"
   ]
  },
  {
   "cell_type": "code",
   "execution_count": 58,
   "metadata": {},
   "outputs": [
    {
     "name": "stdout",
     "output_type": "stream",
     "text": [
      "2021-11-04 07:05:45,176 [MainThread  ] [INFO ]  GROMACS Mdrun 20191 version detected\n",
      "2021-11-04 07:05:45,177 [MainThread  ] [INFO ]  Not using any container\n",
      "2021-11-04 07:05:45,177 [MainThread  ] [INFO ]  gmx -nobackup -nocopyright mdrun -s 3HTB_JZ4gppnvt.tpr -o 3HTB_JZ4_nvt.trr -c 3HTB_JZ4_nvt.gro -e 3HTB_JZ4_nvt.edr -g 3HTB_JZ4_nvt.log -cpo 3HTB_JZ4_nvt.cpt\n",
      "\n",
      "2021-11-04 07:06:42,918 [MainThread  ] [INFO ]  Exit code 0\n",
      "\n",
      "2021-11-04 07:06:42,919 [MainThread  ] [INFO ]                        :-) GROMACS - gmx mdrun, 2019.1 (-:\n",
      "\n",
      "Executable:   /home/dhnchandan/anaconda3/envs/nb_md_analysis/bin/gmx\n",
      "Data prefix:  /home/dhnchandan/anaconda3/envs/nb_md_analysis\n",
      "Working dir:  /home/dhnchandan/Documents/cc/gromacs/nb_md_analysis/project/notebooks\n",
      "Command line:\n",
      "  gmx -nobackup -nocopyright mdrun -s 3HTB_JZ4gppnvt.tpr -o 3HTB_JZ4_nvt.trr -c 3HTB_JZ4_nvt.gro -e 3HTB_JZ4_nvt.edr -g 3HTB_JZ4_nvt.log -cpo 3HTB_JZ4_nvt.cpt\n",
      "\n",
      "Compiled SIMD: SSE2, but for this host/run AVX2_128 might be better (see log).\n",
      "The current CPU can measure timings more accurately than the code in\n",
      "gmx mdrun was configured to use. This might affect your simulation\n",
      "speed as accurate timings are needed for load-balancing.\n",
      "Please consider rebuilding gmx mdrun with the GMX_USE_RDTSCP=ON CMake option.\n",
      "Reading file 3HTB_JZ4gppnvt.tpr, VERSION 2019.1 (single precision)\n",
      "Changing nstlist from 10 to 50, rlist from 1 to 1.112\n",
      "\n",
      "\n",
      "Using 1 MPI thread\n",
      "Using 12 OpenMP threads \n",
      "\n",
      "starting mdrun 'Protein in water'\n",
      "5000 steps,     10.0 ps.\n",
      "\n",
      "Writing final coordinates.\n",
      "\n",
      "               Core t (s)   Wall t (s)        (%)\n",
      "       Time:      679.780       56.648     1200.0\n",
      "                 (ns/day)    (hour/ns)\n",
      "Performance:       15.255        1.573\n",
      "\n",
      "GROMACS reminds you: \"It's So Fast It's Slow\" (F. Black)\n",
      "\n",
      "\n",
      "2021-11-04 07:06:42,919 [MainThread  ] [INFO ]  Removed: []\n"
     ]
    },
    {
     "data": {
      "text/plain": [
       "0"
      ]
     },
     "execution_count": 58,
     "metadata": {},
     "output_type": "execute_result"
    }
   ],
   "source": [
    "from biobb_md.gromacs.mdrun import mdrun\n",
    "\n",
    "prop = {\n",
    "#     'gmx_path': gmx_path\n",
    "}\n",
    "\n",
    "mdrun(\n",
    "    input_tpr_path=output_gppnvt_tpr,\n",
    "    output_trr_path=output_nvt_trr,\n",
    "    output_gro_path=output_nvt_gro,\n",
    "    output_edr_path=output_nvt_edr,\n",
    "    output_log_path=output_nvt_log,\n",
    "    output_cpt_path=output_nvt_cpt,\n",
    "    properties=prop\n",
    ")"
   ]
  },
  {
   "cell_type": "markdown",
   "metadata": {},
   "source": [
    "### Step 17.d: Checking NVT Equilibration results"
   ]
  },
  {
   "cell_type": "code",
   "execution_count": 59,
   "metadata": {},
   "outputs": [],
   "source": [
    "output_nvt_temp_xvg = pdbCode+'_'+ligandCode+'_nvt_temp.xvg'"
   ]
  },
  {
   "cell_type": "code",
   "execution_count": 60,
   "metadata": {},
   "outputs": [
    {
     "name": "stdout",
     "output_type": "stream",
     "text": [
      "2021-11-04 07:10:34,326 [MainThread  ] [INFO ]  Not using any container\n",
      "2021-11-04 07:10:34,327 [MainThread  ] [INFO ]  gmx energy -f /home/dhnchandan/Documents/cc/gromacs/nb_md_analysis/project/notebooks/3HTB_JZ4_nvt.edr -o 3HTB_JZ4_nvt_temp.xvg -xvg none < 002b83f0-cbfa-4ddb-99ea-4faaf8c9e6c4/instructions.in\n",
      "\n",
      "2021-11-04 07:10:34,346 [MainThread  ] [INFO ]  Exit code 0\n",
      "\n",
      "2021-11-04 07:10:34,347 [MainThread  ] [INFO ]  \n",
      "Statistics over 5001 steps [ 0.0000 through 10.0000 ps ], 1 data sets\n",
      "All statistics are over 51 points\n",
      "\n",
      "Energy                      Average   Err.Est.       RMSD  Tot-Drift\n",
      "-------------------------------------------------------------------------------\n",
      "Temperature                  298.11        1.6    8.59273    8.44815  (K)\n",
      "\n",
      "2021-11-04 07:10:34,348 [MainThread  ] [INFO ]                        :-) GROMACS - gmx energy, 2019.1 (-:\n",
      "\n",
      "                            GROMACS is written by:\n",
      "     Emile Apol      Rossen Apostolov      Paul Bauer     Herman J.C. Berendsen\n",
      "    Par Bjelkmar      Christian Blau   Viacheslav Bolnykh     Kevin Boyd    \n",
      " Aldert van Buuren   Rudi van Drunen     Anton Feenstra       Alan Gray     \n",
      "  Gerrit Groenhof     Anca Hamuraru    Vincent Hindriksen  M. Eric Irrgang  \n",
      "  Aleksei Iupinov   Christoph Junghans     Joe Jordan     Dimitrios Karkoulis\n",
      "    Peter Kasson        Jiri Kraus      Carsten Kutzner      Per Larsson    \n",
      "  Justin A. Lemkul    Viveca Lindahl    Magnus Lundborg     Erik Marklund   \n",
      "    Pascal Merz     Pieter Meulenhoff    Teemu Murtola       Szilard Pall   \n",
      "    Sander Pronk      Roland Schulz      Michael Shirts    Alexey Shvetsov  \n",
      "   Alfons Sijbers     Peter Tieleman      Jon Vincent      Teemu Virolainen \n",
      " Christian Wennberg    Maarten Wolf   \n",
      "                           and the project leaders:\n",
      "        Mark Abraham, Berk Hess, Erik Lindahl, and David van der Spoel\n",
      "\n",
      "Copyright (c) 1991-2000, University of Groningen, The Netherlands.\n",
      "Copyright (c) 2001-2018, The GROMACS development team at\n",
      "Uppsala University, Stockholm University and\n",
      "the Royal Institute of Technology, Sweden.\n",
      "check out http://www.gromacs.org for more information.\n",
      "\n",
      "GROMACS is free software; you can redistribute it and/or modify it\n",
      "under the terms of the GNU Lesser General Public License\n",
      "as published by the Free Software Foundation; either version 2.1\n",
      "of the License, or (at your option) any later version.\n",
      "\n",
      "GROMACS:      gmx energy, version 2019.1\n",
      "Executable:   /home/dhnchandan/anaconda3/envs/nb_md_analysis/bin/gmx\n",
      "Data prefix:  /home/dhnchandan/anaconda3/envs/nb_md_analysis\n",
      "Working dir:  /home/dhnchandan/Documents/cc/gromacs/nb_md_analysis/project/notebooks\n",
      "Command line:\n",
      "  gmx energy -f /home/dhnchandan/Documents/cc/gromacs/nb_md_analysis/project/notebooks/3HTB_JZ4_nvt.edr -o 3HTB_JZ4_nvt_temp.xvg -xvg none\n",
      "\n",
      "Opened /home/dhnchandan/Documents/cc/gromacs/nb_md_analysis/project/notebooks/3HTB_JZ4_nvt.edr as single precision energy file\n",
      "\n",
      "Select the terms you want from the following list by\n",
      "selecting either (part of) the name or the number or a combination.\n",
      "End your selection with an empty line or a zero.\n",
      "-------------------------------------------------------------------\n",
      "  1  Bond             2  Angle            3  Proper-Dih.      4  Improper-Dih. \n",
      "  5  LJ-14            6  Coulomb-14       7  LJ-(SR)          8  Disper.-corr. \n",
      "  9  Coulomb-(SR)    10  Coul.-recip.    11  Position-Rest.  12  Potential     \n",
      " 13  Kinetic-En.     14  Total-Energy    15  Conserved-En.   16  Temperature   \n",
      " 17  Pres.-DC        18  Pressure        19  Constr.-rmsd    20  Vir-XX        \n",
      " 21  Vir-XY          22  Vir-XZ          23  Vir-YX          24  Vir-YY        \n",
      " 25  Vir-YZ          26  Vir-ZX          27  Vir-ZY          28  Vir-ZZ        \n",
      " 29  Pres-XX         30  Pres-XY         31  Pres-XZ         32  Pres-YX       \n",
      " 33  Pres-YY         34  Pres-YZ         35  Pres-ZX         36  Pres-ZY       \n",
      " 37  Pres-ZZ                             38  #Surf*SurfTen                     \n",
      " 39  T-Protein_Other                     40  T-Water_and_ions                  \n",
      " 41  Lamb-Protein_Other                  42  Lamb-Water_and_ions               \n",
      "\n",
      "Last energy frame read 10 time   10.000           \n",
      "\n",
      "GROMACS reminds you: \"Humbug! Most things free-born will submit to anything for a salary\" (Mr. Rochester in Jane Eyre by Charlotte Bronte)\n",
      "\n",
      "\n",
      "2021-11-04 07:10:34,349 [MainThread  ] [INFO ]  Removed: ['002b83f0-cbfa-4ddb-99ea-4faaf8c9e6c4']\n"
     ]
    },
    {
     "data": {
      "text/plain": [
       "0"
      ]
     },
     "execution_count": 60,
     "metadata": {},
     "output_type": "execute_result"
    }
   ],
   "source": [
    "from biobb_analysis.gromacs.gmx_energy import gmx_energy\n",
    "\n",
    "prop = {\n",
    "    'terms':  [\"Temperature\"],\n",
    "#     'gmx_path': gmx_path\n",
    "}\n",
    "\n",
    "gmx_energy(\n",
    "    input_energy_path=output_nvt_edr, \n",
    "    output_xvg_path=output_nvt_temp_xvg, \n",
    "    properties=prop\n",
    ")"
   ]
  },
  {
   "cell_type": "code",
   "execution_count": 61,
   "metadata": {},
   "outputs": [
    {
     "data": {
      "text/html": [
       "        <script type=\"text/javascript\">\n",
       "        window.PlotlyConfig = {MathJaxConfig: 'local'};\n",
       "        if (window.MathJax) {MathJax.Hub.Config({SVG: {font: \"STIX-Web\"}});}\n",
       "        if (typeof require !== 'undefined') {\n",
       "        require.undef(\"plotly\");\n",
       "        requirejs.config({\n",
       "            paths: {\n",
       "                'plotly': ['https://cdn.plot.ly/plotly-2.4.2.min']\n",
       "            }\n",
       "        });\n",
       "        require(['plotly'], function(Plotly) {\n",
       "            window._Plotly = Plotly;\n",
       "        });\n",
       "        }\n",
       "        </script>\n",
       "        "
      ]
     },
     "metadata": {},
     "output_type": "display_data"
    },
    {
     "data": {
      "application/vnd.plotly.v1+json": {
       "config": {
        "linkText": "Export to plot.ly",
        "plotlyServerURL": "https://plot.ly",
        "showLink": false
       },
       "data": [
        {
         "type": "scatter",
         "x": [
          0,
          1,
          2,
          3,
          4,
          5,
          6,
          7,
          8,
          9,
          10
         ],
         "y": [
          301.739838,
          299.065643,
          300.68869,
          300.461609,
          301.031433,
          300.273193,
          298.71582,
          299.650146,
          299.616058,
          298.63736,
          297.659943
         ]
        }
       ],
       "layout": {
        "template": {
         "data": {
          "bar": [
           {
            "error_x": {
             "color": "#2a3f5f"
            },
            "error_y": {
             "color": "#2a3f5f"
            },
            "marker": {
             "line": {
              "color": "#E5ECF6",
              "width": 0.5
             },
             "pattern": {
              "fillmode": "overlay",
              "size": 10,
              "solidity": 0.2
             }
            },
            "type": "bar"
           }
          ],
          "barpolar": [
           {
            "marker": {
             "line": {
              "color": "#E5ECF6",
              "width": 0.5
             },
             "pattern": {
              "fillmode": "overlay",
              "size": 10,
              "solidity": 0.2
             }
            },
            "type": "barpolar"
           }
          ],
          "carpet": [
           {
            "aaxis": {
             "endlinecolor": "#2a3f5f",
             "gridcolor": "white",
             "linecolor": "white",
             "minorgridcolor": "white",
             "startlinecolor": "#2a3f5f"
            },
            "baxis": {
             "endlinecolor": "#2a3f5f",
             "gridcolor": "white",
             "linecolor": "white",
             "minorgridcolor": "white",
             "startlinecolor": "#2a3f5f"
            },
            "type": "carpet"
           }
          ],
          "choropleth": [
           {
            "colorbar": {
             "outlinewidth": 0,
             "ticks": ""
            },
            "type": "choropleth"
           }
          ],
          "contour": [
           {
            "colorbar": {
             "outlinewidth": 0,
             "ticks": ""
            },
            "colorscale": [
             [
              0,
              "#0d0887"
             ],
             [
              0.1111111111111111,
              "#46039f"
             ],
             [
              0.2222222222222222,
              "#7201a8"
             ],
             [
              0.3333333333333333,
              "#9c179e"
             ],
             [
              0.4444444444444444,
              "#bd3786"
             ],
             [
              0.5555555555555556,
              "#d8576b"
             ],
             [
              0.6666666666666666,
              "#ed7953"
             ],
             [
              0.7777777777777778,
              "#fb9f3a"
             ],
             [
              0.8888888888888888,
              "#fdca26"
             ],
             [
              1,
              "#f0f921"
             ]
            ],
            "type": "contour"
           }
          ],
          "contourcarpet": [
           {
            "colorbar": {
             "outlinewidth": 0,
             "ticks": ""
            },
            "type": "contourcarpet"
           }
          ],
          "heatmap": [
           {
            "colorbar": {
             "outlinewidth": 0,
             "ticks": ""
            },
            "colorscale": [
             [
              0,
              "#0d0887"
             ],
             [
              0.1111111111111111,
              "#46039f"
             ],
             [
              0.2222222222222222,
              "#7201a8"
             ],
             [
              0.3333333333333333,
              "#9c179e"
             ],
             [
              0.4444444444444444,
              "#bd3786"
             ],
             [
              0.5555555555555556,
              "#d8576b"
             ],
             [
              0.6666666666666666,
              "#ed7953"
             ],
             [
              0.7777777777777778,
              "#fb9f3a"
             ],
             [
              0.8888888888888888,
              "#fdca26"
             ],
             [
              1,
              "#f0f921"
             ]
            ],
            "type": "heatmap"
           }
          ],
          "heatmapgl": [
           {
            "colorbar": {
             "outlinewidth": 0,
             "ticks": ""
            },
            "colorscale": [
             [
              0,
              "#0d0887"
             ],
             [
              0.1111111111111111,
              "#46039f"
             ],
             [
              0.2222222222222222,
              "#7201a8"
             ],
             [
              0.3333333333333333,
              "#9c179e"
             ],
             [
              0.4444444444444444,
              "#bd3786"
             ],
             [
              0.5555555555555556,
              "#d8576b"
             ],
             [
              0.6666666666666666,
              "#ed7953"
             ],
             [
              0.7777777777777778,
              "#fb9f3a"
             ],
             [
              0.8888888888888888,
              "#fdca26"
             ],
             [
              1,
              "#f0f921"
             ]
            ],
            "type": "heatmapgl"
           }
          ],
          "histogram": [
           {
            "marker": {
             "pattern": {
              "fillmode": "overlay",
              "size": 10,
              "solidity": 0.2
             }
            },
            "type": "histogram"
           }
          ],
          "histogram2d": [
           {
            "colorbar": {
             "outlinewidth": 0,
             "ticks": ""
            },
            "colorscale": [
             [
              0,
              "#0d0887"
             ],
             [
              0.1111111111111111,
              "#46039f"
             ],
             [
              0.2222222222222222,
              "#7201a8"
             ],
             [
              0.3333333333333333,
              "#9c179e"
             ],
             [
              0.4444444444444444,
              "#bd3786"
             ],
             [
              0.5555555555555556,
              "#d8576b"
             ],
             [
              0.6666666666666666,
              "#ed7953"
             ],
             [
              0.7777777777777778,
              "#fb9f3a"
             ],
             [
              0.8888888888888888,
              "#fdca26"
             ],
             [
              1,
              "#f0f921"
             ]
            ],
            "type": "histogram2d"
           }
          ],
          "histogram2dcontour": [
           {
            "colorbar": {
             "outlinewidth": 0,
             "ticks": ""
            },
            "colorscale": [
             [
              0,
              "#0d0887"
             ],
             [
              0.1111111111111111,
              "#46039f"
             ],
             [
              0.2222222222222222,
              "#7201a8"
             ],
             [
              0.3333333333333333,
              "#9c179e"
             ],
             [
              0.4444444444444444,
              "#bd3786"
             ],
             [
              0.5555555555555556,
              "#d8576b"
             ],
             [
              0.6666666666666666,
              "#ed7953"
             ],
             [
              0.7777777777777778,
              "#fb9f3a"
             ],
             [
              0.8888888888888888,
              "#fdca26"
             ],
             [
              1,
              "#f0f921"
             ]
            ],
            "type": "histogram2dcontour"
           }
          ],
          "mesh3d": [
           {
            "colorbar": {
             "outlinewidth": 0,
             "ticks": ""
            },
            "type": "mesh3d"
           }
          ],
          "parcoords": [
           {
            "line": {
             "colorbar": {
              "outlinewidth": 0,
              "ticks": ""
             }
            },
            "type": "parcoords"
           }
          ],
          "pie": [
           {
            "automargin": true,
            "type": "pie"
           }
          ],
          "scatter": [
           {
            "marker": {
             "colorbar": {
              "outlinewidth": 0,
              "ticks": ""
             }
            },
            "type": "scatter"
           }
          ],
          "scatter3d": [
           {
            "line": {
             "colorbar": {
              "outlinewidth": 0,
              "ticks": ""
             }
            },
            "marker": {
             "colorbar": {
              "outlinewidth": 0,
              "ticks": ""
             }
            },
            "type": "scatter3d"
           }
          ],
          "scattercarpet": [
           {
            "marker": {
             "colorbar": {
              "outlinewidth": 0,
              "ticks": ""
             }
            },
            "type": "scattercarpet"
           }
          ],
          "scattergeo": [
           {
            "marker": {
             "colorbar": {
              "outlinewidth": 0,
              "ticks": ""
             }
            },
            "type": "scattergeo"
           }
          ],
          "scattergl": [
           {
            "marker": {
             "colorbar": {
              "outlinewidth": 0,
              "ticks": ""
             }
            },
            "type": "scattergl"
           }
          ],
          "scattermapbox": [
           {
            "marker": {
             "colorbar": {
              "outlinewidth": 0,
              "ticks": ""
             }
            },
            "type": "scattermapbox"
           }
          ],
          "scatterpolar": [
           {
            "marker": {
             "colorbar": {
              "outlinewidth": 0,
              "ticks": ""
             }
            },
            "type": "scatterpolar"
           }
          ],
          "scatterpolargl": [
           {
            "marker": {
             "colorbar": {
              "outlinewidth": 0,
              "ticks": ""
             }
            },
            "type": "scatterpolargl"
           }
          ],
          "scatterternary": [
           {
            "marker": {
             "colorbar": {
              "outlinewidth": 0,
              "ticks": ""
             }
            },
            "type": "scatterternary"
           }
          ],
          "surface": [
           {
            "colorbar": {
             "outlinewidth": 0,
             "ticks": ""
            },
            "colorscale": [
             [
              0,
              "#0d0887"
             ],
             [
              0.1111111111111111,
              "#46039f"
             ],
             [
              0.2222222222222222,
              "#7201a8"
             ],
             [
              0.3333333333333333,
              "#9c179e"
             ],
             [
              0.4444444444444444,
              "#bd3786"
             ],
             [
              0.5555555555555556,
              "#d8576b"
             ],
             [
              0.6666666666666666,
              "#ed7953"
             ],
             [
              0.7777777777777778,
              "#fb9f3a"
             ],
             [
              0.8888888888888888,
              "#fdca26"
             ],
             [
              1,
              "#f0f921"
             ]
            ],
            "type": "surface"
           }
          ],
          "table": [
           {
            "cells": {
             "fill": {
              "color": "#EBF0F8"
             },
             "line": {
              "color": "white"
             }
            },
            "header": {
             "fill": {
              "color": "#C8D4E3"
             },
             "line": {
              "color": "white"
             }
            },
            "type": "table"
           }
          ]
         },
         "layout": {
          "annotationdefaults": {
           "arrowcolor": "#2a3f5f",
           "arrowhead": 0,
           "arrowwidth": 1
          },
          "autotypenumbers": "strict",
          "coloraxis": {
           "colorbar": {
            "outlinewidth": 0,
            "ticks": ""
           }
          },
          "colorscale": {
           "diverging": [
            [
             0,
             "#8e0152"
            ],
            [
             0.1,
             "#c51b7d"
            ],
            [
             0.2,
             "#de77ae"
            ],
            [
             0.3,
             "#f1b6da"
            ],
            [
             0.4,
             "#fde0ef"
            ],
            [
             0.5,
             "#f7f7f7"
            ],
            [
             0.6,
             "#e6f5d0"
            ],
            [
             0.7,
             "#b8e186"
            ],
            [
             0.8,
             "#7fbc41"
            ],
            [
             0.9,
             "#4d9221"
            ],
            [
             1,
             "#276419"
            ]
           ],
           "sequential": [
            [
             0,
             "#0d0887"
            ],
            [
             0.1111111111111111,
             "#46039f"
            ],
            [
             0.2222222222222222,
             "#7201a8"
            ],
            [
             0.3333333333333333,
             "#9c179e"
            ],
            [
             0.4444444444444444,
             "#bd3786"
            ],
            [
             0.5555555555555556,
             "#d8576b"
            ],
            [
             0.6666666666666666,
             "#ed7953"
            ],
            [
             0.7777777777777778,
             "#fb9f3a"
            ],
            [
             0.8888888888888888,
             "#fdca26"
            ],
            [
             1,
             "#f0f921"
            ]
           ],
           "sequentialminus": [
            [
             0,
             "#0d0887"
            ],
            [
             0.1111111111111111,
             "#46039f"
            ],
            [
             0.2222222222222222,
             "#7201a8"
            ],
            [
             0.3333333333333333,
             "#9c179e"
            ],
            [
             0.4444444444444444,
             "#bd3786"
            ],
            [
             0.5555555555555556,
             "#d8576b"
            ],
            [
             0.6666666666666666,
             "#ed7953"
            ],
            [
             0.7777777777777778,
             "#fb9f3a"
            ],
            [
             0.8888888888888888,
             "#fdca26"
            ],
            [
             1,
             "#f0f921"
            ]
           ]
          },
          "colorway": [
           "#636efa",
           "#EF553B",
           "#00cc96",
           "#ab63fa",
           "#FFA15A",
           "#19d3f3",
           "#FF6692",
           "#B6E880",
           "#FF97FF",
           "#FECB52"
          ],
          "font": {
           "color": "#2a3f5f"
          },
          "geo": {
           "bgcolor": "white",
           "lakecolor": "white",
           "landcolor": "#E5ECF6",
           "showlakes": true,
           "showland": true,
           "subunitcolor": "white"
          },
          "hoverlabel": {
           "align": "left"
          },
          "hovermode": "closest",
          "mapbox": {
           "style": "light"
          },
          "paper_bgcolor": "white",
          "plot_bgcolor": "#E5ECF6",
          "polar": {
           "angularaxis": {
            "gridcolor": "white",
            "linecolor": "white",
            "ticks": ""
           },
           "bgcolor": "#E5ECF6",
           "radialaxis": {
            "gridcolor": "white",
            "linecolor": "white",
            "ticks": ""
           }
          },
          "scene": {
           "xaxis": {
            "backgroundcolor": "#E5ECF6",
            "gridcolor": "white",
            "gridwidth": 2,
            "linecolor": "white",
            "showbackground": true,
            "ticks": "",
            "zerolinecolor": "white"
           },
           "yaxis": {
            "backgroundcolor": "#E5ECF6",
            "gridcolor": "white",
            "gridwidth": 2,
            "linecolor": "white",
            "showbackground": true,
            "ticks": "",
            "zerolinecolor": "white"
           },
           "zaxis": {
            "backgroundcolor": "#E5ECF6",
            "gridcolor": "white",
            "gridwidth": 2,
            "linecolor": "white",
            "showbackground": true,
            "ticks": "",
            "zerolinecolor": "white"
           }
          },
          "shapedefaults": {
           "line": {
            "color": "#2a3f5f"
           }
          },
          "ternary": {
           "aaxis": {
            "gridcolor": "white",
            "linecolor": "white",
            "ticks": ""
           },
           "baxis": {
            "gridcolor": "white",
            "linecolor": "white",
            "ticks": ""
           },
           "bgcolor": "#E5ECF6",
           "caxis": {
            "gridcolor": "white",
            "linecolor": "white",
            "ticks": ""
           }
          },
          "title": {
           "x": 0.05
          },
          "xaxis": {
           "automargin": true,
           "gridcolor": "white",
           "linecolor": "white",
           "ticks": "",
           "title": {
            "standoff": 15
           },
           "zerolinecolor": "white",
           "zerolinewidth": 2
          },
          "yaxis": {
           "automargin": true,
           "gridcolor": "white",
           "linecolor": "white",
           "ticks": "",
           "title": {
            "standoff": 15
           },
           "zerolinecolor": "white",
           "zerolinewidth": 2
          }
         }
        },
        "title": {
         "text": "Temperature during NVT Equilibration"
        },
        "xaxis": {
         "title": {
          "text": "Time (ps)"
         }
        },
        "yaxis": {
         "title": {
          "text": "Temperature (K)"
         }
        }
       }
      },
      "text/html": [
       "<div>                            <div id=\"1fce0a31-fd2e-4abd-b69d-15d92f2d1692\" class=\"plotly-graph-div\" style=\"height:525px; width:100%;\"></div>            <script type=\"text/javascript\">                require([\"plotly\"], function(Plotly) {                    window.PLOTLYENV=window.PLOTLYENV || {};                                    if (document.getElementById(\"1fce0a31-fd2e-4abd-b69d-15d92f2d1692\")) {                    Plotly.newPlot(                        \"1fce0a31-fd2e-4abd-b69d-15d92f2d1692\",                        [{\"type\":\"scatter\",\"x\":[0.0,1.0,2.0,3.0,4.0,5.0,6.0,7.0,8.0,9.0,10.0],\"y\":[301.739838,299.065643,300.68869,300.461609,301.031433,300.273193,298.71582,299.650146,299.616058,298.63736,297.659943]}],                        {\"template\":{\"data\":{\"bar\":[{\"error_x\":{\"color\":\"#2a3f5f\"},\"error_y\":{\"color\":\"#2a3f5f\"},\"marker\":{\"line\":{\"color\":\"#E5ECF6\",\"width\":0.5},\"pattern\":{\"fillmode\":\"overlay\",\"size\":10,\"solidity\":0.2}},\"type\":\"bar\"}],\"barpolar\":[{\"marker\":{\"line\":{\"color\":\"#E5ECF6\",\"width\":0.5},\"pattern\":{\"fillmode\":\"overlay\",\"size\":10,\"solidity\":0.2}},\"type\":\"barpolar\"}],\"carpet\":[{\"aaxis\":{\"endlinecolor\":\"#2a3f5f\",\"gridcolor\":\"white\",\"linecolor\":\"white\",\"minorgridcolor\":\"white\",\"startlinecolor\":\"#2a3f5f\"},\"baxis\":{\"endlinecolor\":\"#2a3f5f\",\"gridcolor\":\"white\",\"linecolor\":\"white\",\"minorgridcolor\":\"white\",\"startlinecolor\":\"#2a3f5f\"},\"type\":\"carpet\"}],\"choropleth\":[{\"colorbar\":{\"outlinewidth\":0,\"ticks\":\"\"},\"type\":\"choropleth\"}],\"contour\":[{\"colorbar\":{\"outlinewidth\":0,\"ticks\":\"\"},\"colorscale\":[[0.0,\"#0d0887\"],[0.1111111111111111,\"#46039f\"],[0.2222222222222222,\"#7201a8\"],[0.3333333333333333,\"#9c179e\"],[0.4444444444444444,\"#bd3786\"],[0.5555555555555556,\"#d8576b\"],[0.6666666666666666,\"#ed7953\"],[0.7777777777777778,\"#fb9f3a\"],[0.8888888888888888,\"#fdca26\"],[1.0,\"#f0f921\"]],\"type\":\"contour\"}],\"contourcarpet\":[{\"colorbar\":{\"outlinewidth\":0,\"ticks\":\"\"},\"type\":\"contourcarpet\"}],\"heatmap\":[{\"colorbar\":{\"outlinewidth\":0,\"ticks\":\"\"},\"colorscale\":[[0.0,\"#0d0887\"],[0.1111111111111111,\"#46039f\"],[0.2222222222222222,\"#7201a8\"],[0.3333333333333333,\"#9c179e\"],[0.4444444444444444,\"#bd3786\"],[0.5555555555555556,\"#d8576b\"],[0.6666666666666666,\"#ed7953\"],[0.7777777777777778,\"#fb9f3a\"],[0.8888888888888888,\"#fdca26\"],[1.0,\"#f0f921\"]],\"type\":\"heatmap\"}],\"heatmapgl\":[{\"colorbar\":{\"outlinewidth\":0,\"ticks\":\"\"},\"colorscale\":[[0.0,\"#0d0887\"],[0.1111111111111111,\"#46039f\"],[0.2222222222222222,\"#7201a8\"],[0.3333333333333333,\"#9c179e\"],[0.4444444444444444,\"#bd3786\"],[0.5555555555555556,\"#d8576b\"],[0.6666666666666666,\"#ed7953\"],[0.7777777777777778,\"#fb9f3a\"],[0.8888888888888888,\"#fdca26\"],[1.0,\"#f0f921\"]],\"type\":\"heatmapgl\"}],\"histogram\":[{\"marker\":{\"pattern\":{\"fillmode\":\"overlay\",\"size\":10,\"solidity\":0.2}},\"type\":\"histogram\"}],\"histogram2d\":[{\"colorbar\":{\"outlinewidth\":0,\"ticks\":\"\"},\"colorscale\":[[0.0,\"#0d0887\"],[0.1111111111111111,\"#46039f\"],[0.2222222222222222,\"#7201a8\"],[0.3333333333333333,\"#9c179e\"],[0.4444444444444444,\"#bd3786\"],[0.5555555555555556,\"#d8576b\"],[0.6666666666666666,\"#ed7953\"],[0.7777777777777778,\"#fb9f3a\"],[0.8888888888888888,\"#fdca26\"],[1.0,\"#f0f921\"]],\"type\":\"histogram2d\"}],\"histogram2dcontour\":[{\"colorbar\":{\"outlinewidth\":0,\"ticks\":\"\"},\"colorscale\":[[0.0,\"#0d0887\"],[0.1111111111111111,\"#46039f\"],[0.2222222222222222,\"#7201a8\"],[0.3333333333333333,\"#9c179e\"],[0.4444444444444444,\"#bd3786\"],[0.5555555555555556,\"#d8576b\"],[0.6666666666666666,\"#ed7953\"],[0.7777777777777778,\"#fb9f3a\"],[0.8888888888888888,\"#fdca26\"],[1.0,\"#f0f921\"]],\"type\":\"histogram2dcontour\"}],\"mesh3d\":[{\"colorbar\":{\"outlinewidth\":0,\"ticks\":\"\"},\"type\":\"mesh3d\"}],\"parcoords\":[{\"line\":{\"colorbar\":{\"outlinewidth\":0,\"ticks\":\"\"}},\"type\":\"parcoords\"}],\"pie\":[{\"automargin\":true,\"type\":\"pie\"}],\"scatter\":[{\"marker\":{\"colorbar\":{\"outlinewidth\":0,\"ticks\":\"\"}},\"type\":\"scatter\"}],\"scatter3d\":[{\"line\":{\"colorbar\":{\"outlinewidth\":0,\"ticks\":\"\"}},\"marker\":{\"colorbar\":{\"outlinewidth\":0,\"ticks\":\"\"}},\"type\":\"scatter3d\"}],\"scattercarpet\":[{\"marker\":{\"colorbar\":{\"outlinewidth\":0,\"ticks\":\"\"}},\"type\":\"scattercarpet\"}],\"scattergeo\":[{\"marker\":{\"colorbar\":{\"outlinewidth\":0,\"ticks\":\"\"}},\"type\":\"scattergeo\"}],\"scattergl\":[{\"marker\":{\"colorbar\":{\"outlinewidth\":0,\"ticks\":\"\"}},\"type\":\"scattergl\"}],\"scattermapbox\":[{\"marker\":{\"colorbar\":{\"outlinewidth\":0,\"ticks\":\"\"}},\"type\":\"scattermapbox\"}],\"scatterpolar\":[{\"marker\":{\"colorbar\":{\"outlinewidth\":0,\"ticks\":\"\"}},\"type\":\"scatterpolar\"}],\"scatterpolargl\":[{\"marker\":{\"colorbar\":{\"outlinewidth\":0,\"ticks\":\"\"}},\"type\":\"scatterpolargl\"}],\"scatterternary\":[{\"marker\":{\"colorbar\":{\"outlinewidth\":0,\"ticks\":\"\"}},\"type\":\"scatterternary\"}],\"surface\":[{\"colorbar\":{\"outlinewidth\":0,\"ticks\":\"\"},\"colorscale\":[[0.0,\"#0d0887\"],[0.1111111111111111,\"#46039f\"],[0.2222222222222222,\"#7201a8\"],[0.3333333333333333,\"#9c179e\"],[0.4444444444444444,\"#bd3786\"],[0.5555555555555556,\"#d8576b\"],[0.6666666666666666,\"#ed7953\"],[0.7777777777777778,\"#fb9f3a\"],[0.8888888888888888,\"#fdca26\"],[1.0,\"#f0f921\"]],\"type\":\"surface\"}],\"table\":[{\"cells\":{\"fill\":{\"color\":\"#EBF0F8\"},\"line\":{\"color\":\"white\"}},\"header\":{\"fill\":{\"color\":\"#C8D4E3\"},\"line\":{\"color\":\"white\"}},\"type\":\"table\"}]},\"layout\":{\"annotationdefaults\":{\"arrowcolor\":\"#2a3f5f\",\"arrowhead\":0,\"arrowwidth\":1},\"autotypenumbers\":\"strict\",\"coloraxis\":{\"colorbar\":{\"outlinewidth\":0,\"ticks\":\"\"}},\"colorscale\":{\"diverging\":[[0,\"#8e0152\"],[0.1,\"#c51b7d\"],[0.2,\"#de77ae\"],[0.3,\"#f1b6da\"],[0.4,\"#fde0ef\"],[0.5,\"#f7f7f7\"],[0.6,\"#e6f5d0\"],[0.7,\"#b8e186\"],[0.8,\"#7fbc41\"],[0.9,\"#4d9221\"],[1,\"#276419\"]],\"sequential\":[[0.0,\"#0d0887\"],[0.1111111111111111,\"#46039f\"],[0.2222222222222222,\"#7201a8\"],[0.3333333333333333,\"#9c179e\"],[0.4444444444444444,\"#bd3786\"],[0.5555555555555556,\"#d8576b\"],[0.6666666666666666,\"#ed7953\"],[0.7777777777777778,\"#fb9f3a\"],[0.8888888888888888,\"#fdca26\"],[1.0,\"#f0f921\"]],\"sequentialminus\":[[0.0,\"#0d0887\"],[0.1111111111111111,\"#46039f\"],[0.2222222222222222,\"#7201a8\"],[0.3333333333333333,\"#9c179e\"],[0.4444444444444444,\"#bd3786\"],[0.5555555555555556,\"#d8576b\"],[0.6666666666666666,\"#ed7953\"],[0.7777777777777778,\"#fb9f3a\"],[0.8888888888888888,\"#fdca26\"],[1.0,\"#f0f921\"]]},\"colorway\":[\"#636efa\",\"#EF553B\",\"#00cc96\",\"#ab63fa\",\"#FFA15A\",\"#19d3f3\",\"#FF6692\",\"#B6E880\",\"#FF97FF\",\"#FECB52\"],\"font\":{\"color\":\"#2a3f5f\"},\"geo\":{\"bgcolor\":\"white\",\"lakecolor\":\"white\",\"landcolor\":\"#E5ECF6\",\"showlakes\":true,\"showland\":true,\"subunitcolor\":\"white\"},\"hoverlabel\":{\"align\":\"left\"},\"hovermode\":\"closest\",\"mapbox\":{\"style\":\"light\"},\"paper_bgcolor\":\"white\",\"plot_bgcolor\":\"#E5ECF6\",\"polar\":{\"angularaxis\":{\"gridcolor\":\"white\",\"linecolor\":\"white\",\"ticks\":\"\"},\"bgcolor\":\"#E5ECF6\",\"radialaxis\":{\"gridcolor\":\"white\",\"linecolor\":\"white\",\"ticks\":\"\"}},\"scene\":{\"xaxis\":{\"backgroundcolor\":\"#E5ECF6\",\"gridcolor\":\"white\",\"gridwidth\":2,\"linecolor\":\"white\",\"showbackground\":true,\"ticks\":\"\",\"zerolinecolor\":\"white\"},\"yaxis\":{\"backgroundcolor\":\"#E5ECF6\",\"gridcolor\":\"white\",\"gridwidth\":2,\"linecolor\":\"white\",\"showbackground\":true,\"ticks\":\"\",\"zerolinecolor\":\"white\"},\"zaxis\":{\"backgroundcolor\":\"#E5ECF6\",\"gridcolor\":\"white\",\"gridwidth\":2,\"linecolor\":\"white\",\"showbackground\":true,\"ticks\":\"\",\"zerolinecolor\":\"white\"}},\"shapedefaults\":{\"line\":{\"color\":\"#2a3f5f\"}},\"ternary\":{\"aaxis\":{\"gridcolor\":\"white\",\"linecolor\":\"white\",\"ticks\":\"\"},\"baxis\":{\"gridcolor\":\"white\",\"linecolor\":\"white\",\"ticks\":\"\"},\"bgcolor\":\"#E5ECF6\",\"caxis\":{\"gridcolor\":\"white\",\"linecolor\":\"white\",\"ticks\":\"\"}},\"title\":{\"x\":0.05},\"xaxis\":{\"automargin\":true,\"gridcolor\":\"white\",\"linecolor\":\"white\",\"ticks\":\"\",\"title\":{\"standoff\":15},\"zerolinecolor\":\"white\",\"zerolinewidth\":2},\"yaxis\":{\"automargin\":true,\"gridcolor\":\"white\",\"linecolor\":\"white\",\"ticks\":\"\",\"title\":{\"standoff\":15},\"zerolinecolor\":\"white\",\"zerolinewidth\":2}}},\"title\":{\"text\":\"Temperature during NVT Equilibration\"},\"xaxis\":{\"title\":{\"text\":\"Time (ps)\"}},\"yaxis\":{\"title\":{\"text\":\"Temperature (K)\"}}},                        {\"responsive\": true}                    ).then(function(){\n",
       "                            \n",
       "var gd = document.getElementById('1fce0a31-fd2e-4abd-b69d-15d92f2d1692');\n",
       "var x = new MutationObserver(function (mutations, observer) {{\n",
       "        var display = window.getComputedStyle(gd).display;\n",
       "        if (!display || display === 'none') {{\n",
       "            console.log([gd, 'removed!']);\n",
       "            Plotly.purge(gd);\n",
       "            observer.disconnect();\n",
       "        }}\n",
       "}});\n",
       "\n",
       "// Listen for the removal of the full notebook cells\n",
       "var notebookContainer = gd.closest('#notebook-container');\n",
       "if (notebookContainer) {{\n",
       "    x.observe(notebookContainer, {childList: true});\n",
       "}}\n",
       "\n",
       "// Listen for the clearing of the current output cell\n",
       "var outputEl = gd.closest('.output');\n",
       "if (outputEl) {{\n",
       "    x.observe(outputEl, {childList: true});\n",
       "}}\n",
       "\n",
       "                        })                };                });            </script>        </div>"
      ]
     },
     "metadata": {},
     "output_type": "display_data"
    }
   ],
   "source": [
    "import plotly\n",
    "import plotly.graph_objs as go\n",
    "\n",
    "# Read temperature data from file \n",
    "with open(output_nvt_temp_xvg, 'r') as temperature_file:\n",
    "    x, y = map(\n",
    "        list,\n",
    "        zip(*[\n",
    "            (float(line.split()[0]),float(line.split()[1]))\n",
    "            for line in temperature_file \n",
    "            if not line.startswith((\"#\",\"@\")) \n",
    "        ])\n",
    "    )\n",
    "\n",
    "plotly.offline.init_notebook_mode(connected=True)\n",
    "\n",
    "fig = ({\n",
    "    \"data\": [go.Scatter(x=x, y=y)],\n",
    "    \"layout\": go.Layout(title=\"Temperature during NVT Equilibration\",\n",
    "                        xaxis=dict(title = \"Time (ps)\"),\n",
    "                        yaxis=dict(title = \"Temperature (K)\")\n",
    "                       )\n",
    "})\n",
    "\n",
    "plotly.offline.iplot(fig)"
   ]
  },
  {
   "cell_type": "code",
   "execution_count": null,
   "metadata": {},
   "outputs": [],
   "source": []
  }
 ],
 "metadata": {
  "interpreter": {
   "hash": "f746b4b0d2e387363a8e0a553c20150e3f47ec0ca6c21290176766f34ed6ca61"
  },
  "kernelspec": {
   "display_name": "Python 3 (ipykernel)",
   "language": "python",
   "name": "python3"
  },
  "language_info": {
   "codemirror_mode": {
    "name": "ipython",
    "version": 3
   },
   "file_extension": ".py",
   "mimetype": "text/x-python",
   "name": "python",
   "nbconvert_exporter": "python",
   "pygments_lexer": "ipython3",
   "version": "3.7.12"
  }
 },
 "nbformat": 4,
 "nbformat_minor": 2
}
