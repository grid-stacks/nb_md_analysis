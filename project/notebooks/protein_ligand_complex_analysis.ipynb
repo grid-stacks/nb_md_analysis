{
 "cells": [
  {
   "cell_type": "code",
   "execution_count": 3,
   "metadata": {},
   "outputs": [],
   "source": [
    "import nglview\n",
    "import ipywidgets\n",
    "import os\n",
    "import zipfile"
   ]
  },
  {
   "cell_type": "markdown",
   "metadata": {},
   "source": [
    "## Step 1: Protein and ligand selection"
   ]
  },
  {
   "cell_type": "code",
   "execution_count": 4,
   "metadata": {},
   "outputs": [],
   "source": [
    "# DOI: 10.2210/pdb3HTB/pdb\n",
    "# 2-propylphenol in complex with T4 lysozyme\n",
    "pdbCode = \"3HTB\"\n",
    "\n",
    "ligandCode = \"JZ4\"\n",
    "\n",
    "mol_charge = 0"
   ]
  },
  {
   "cell_type": "markdown",
   "metadata": {},
   "source": [
    "## Step 2: Downloading Protein\n",
    "\n",
    "From: RCSB PDB database"
   ]
  },
  {
   "cell_type": "code",
   "execution_count": 5,
   "metadata": {},
   "outputs": [
    {
     "name": "stdout",
     "output_type": "stream",
     "text": [
      "2021-11-02 21:36:14,766 [MainThread  ] [INFO ]  Downloading: 3htb from: https://www.ebi.ac.uk/pdbe/entry-files/download/pdb3htb.ent\n"
     ]
    },
    {
     "name": "stderr",
     "output_type": "stream",
     "text": [
      "/home/dhnchandan/anaconda3/envs/nb_md_analysis/lib/python3.7/site-packages/urllib3/connectionpool.py:1020: InsecureRequestWarning: Unverified HTTPS request is being made to host 'www.ebi.ac.uk'. Adding certificate verification is strongly advised. See: https://urllib3.readthedocs.io/en/1.26.x/advanced-usage.html#ssl-warnings\n",
      "  InsecureRequestWarning,\n"
     ]
    },
    {
     "name": "stdout",
     "output_type": "stream",
     "text": [
      "2021-11-02 21:36:17,580 [MainThread  ] [INFO ]  Writting pdb to: 3HTB.orig.pdb\n"
     ]
    },
    {
     "data": {
      "text/plain": [
       "0"
      ]
     },
     "execution_count": 5,
     "metadata": {},
     "output_type": "execute_result"
    }
   ],
   "source": [
    "from biobb_io.api.pdb import pdb\n",
    "\n",
    "# Create properties dict and inputs/outputs\n",
    "pdb_output = pdbCode+'.orig.pdb'\n",
    "\n",
    "prop = {\n",
    "    'pdb_code': pdbCode,\n",
    "    'filter': False\n",
    "}\n",
    "\n",
    "# Downloading 3HTB from the Protein Data Bank\n",
    "pdb(output_pdb_path=pdb_output, properties=prop)"
   ]
  },
  {
   "cell_type": "markdown",
   "metadata": {},
   "source": [
    "## Step 3: Extracting Protein, Ligand and Protein-Ligand Complex"
   ]
  },
  {
   "cell_type": "code",
   "execution_count": 6,
   "metadata": {},
   "outputs": [
    {
     "name": "stdout",
     "output_type": "stream",
     "text": [
      "2021-11-02 21:43:38,882 [MainThread  ] [INFO ]  Removed: []\n",
      "2021-11-02 21:43:38,883 [MainThread  ] [INFO ]  Creating 338b0648-0a86-4a1f-bd41-af8bce590de2 temporary folder\n",
      "2021-11-02 21:43:38,884 [MainThread  ] [INFO ]  check_structure -i /home/dhnchandan/Documents/cc/gromacs/nb_md_analysis/project/notebooks/3HTB.orig.pdb -o 3HTB.pdb --force_save --non_interactive command_list --list 338b0648-0a86-4a1f-bd41-af8bce590de2/extract_prot.lst\n",
      "\n",
      "2021-11-02 21:43:39,387 [MainThread  ] [INFO ]  Exit code 0\n",
      "\n",
      "2021-11-02 21:43:39,388 [MainThread  ] [INFO ]  ===============================================================================\n",
      "=                   BioBB structure checking utility v3.8.1                   =\n",
      "=                 A. Hospital, P. Andrio, J.L. Gelpi 2018-21                  =\n",
      "===============================================================================\n",
      "\n",
      "Warning: sequence features only available in mmCIF format or with external fasta input\n",
      "Structure /home/dhnchandan/Documents/cc/gromacs/nb_md_analysis/project/notebooks/3HTB.orig.pdb loaded\n",
      " Title: 2-propylphenol in complex with t4 lysozyme l99a/m102q\n",
      " Experimental method: x-ray diffraction\n",
      " Keywords: hydrolase, glycosidase, bacteriolytic enzyme, antimicrobial\n",
      " Resolution (A): 1.81\n",
      "\n",
      " Num. models: 1\n",
      " Num. chains: 1 (A: Protein)\n",
      " Num. residues:  387\n",
      " Num. residues with ins. codes:  0\n",
      " Num. HETATM residues:  224\n",
      " Num. ligands or modified residues:  4\n",
      " Num. water mol.:  220\n",
      " Num. atoms:  1544\n",
      "Small mol ligands found\n",
      "PO4 A165\n",
      "PO4 A166\n",
      "JZ4 A167\n",
      "BME A168\n",
      "\n",
      "\n",
      "Step 1: ligands --remove All\n",
      "\n",
      "Running ligands. Options: --remove All\n",
      "4 Ligands detected\n",
      " PO4 A165\n",
      " PO4 A166\n",
      " JZ4 A167\n",
      " BME A168\n",
      "Ligands removed All (4)\n",
      "\n",
      "Step 2: water --remove Yes\n",
      "\n",
      "Running water. Options: --remove Yes\n",
      "220 Water molecules detected\n",
      "220 Water molecules removed\n",
      "Command list completed\n",
      "Final Num. models: 1\n",
      "Final Num. chains: 1 (A: Protein)\n",
      "Final Num. residues:  163\n",
      "Final Num. residues with ins. codes:  0\n",
      "Final Num. HETATM residues:  0\n",
      "Final Num. ligands or modified residues:  0\n",
      "Final Num. water mol.:  0\n",
      "Final Num. atoms:  1300\n",
      "Structure saved on 3HTB.pdb\n",
      "\n",
      "2021-11-02 21:43:39,388 [MainThread  ] [INFO ]  Not using any container\n",
      "2021-11-02 21:43:39,389 [MainThread  ] [INFO ]  \n",
      "\n",
      "2021-11-02 21:43:39,395 [MainThread  ] [INFO ]  Exit code 0\n",
      "\n",
      "2021-11-02 21:43:39,396 [MainThread  ] [INFO ]  Removed: []\n",
      "2021-11-02 21:43:39,399 [MainThread  ] [INFO ]  Removed: []\n",
      "3HTB.pdb JZ4.pdb 3HTB_JZ4.pdb\n"
     ]
    }
   ],
   "source": [
    "from biobb_structure_utils.utils.extract_heteroatoms import extract_heteroatoms\n",
    "from biobb_structure_utils.utils.extract_molecule import extract_molecule\n",
    "from biobb_structure_utils.utils.cat_pdb import cat_pdb\n",
    "\n",
    "proteinFile = pdbCode+'.pdb'\n",
    "ligandFile = ligandCode+'.pdb'\n",
    "complexFile = pdbCode+'_'+ligandCode+'.pdb'\n",
    "\n",
    "prop = {\n",
    "    'heteroatoms' : [{\"name\": ligandCode}]\n",
    "}\n",
    "\n",
    "extract_heteroatoms(\n",
    "    input_structure_path=pdb_output,\n",
    "    output_heteroatom_path=ligandFile,\n",
    "    properties=prop\n",
    ")\n",
    "\n",
    "extract_molecule(\n",
    "    input_structure_path=pdb_output,\n",
    "    output_molecule_path=proteinFile\n",
    ")\n",
    "\n",
    "# Concat protein and igand into one file\n",
    "cat_pdb(\n",
    "    input_structure1=proteinFile,\n",
    "    input_structure2=ligandFile,\n",
    "    output_structure_path=complexFile\n",
    ")\n",
    "\n",
    "print(proteinFile, ligandFile, complexFile)"
   ]
  },
  {
   "cell_type": "markdown",
   "metadata": {},
   "source": [
    "## Step 4: Visualizing 3D structures"
   ]
  },
  {
   "cell_type": "code",
   "execution_count": 7,
   "metadata": {},
   "outputs": [
    {
     "data": {
      "application/vnd.jupyter.widget-view+json": {
       "model_id": "3d927d365c864c6eb41e38cded5782f3",
       "version_major": 2,
       "version_minor": 0
      },
      "text/plain": [
       "HBox(children=(NGLWidget(), NGLWidget(), NGLWidget()))"
      ]
     },
     "metadata": {},
     "output_type": "display_data"
    }
   ],
   "source": [
    "view_protein = nglview.show_structure_file(proteinFile)\n",
    "view_protein._remote_call('setSize', target='Widget', args=['350px','400px'])\n",
    "view_protein.camera='orthographic'\n",
    "view_protein\n",
    "\n",
    "view_ligand = nglview.show_structure_file(ligandFile)\n",
    "view_ligand.add_representation(repr_type='ball+stick')\n",
    "view_ligand._remote_call('setSize', target='Widget', args=['350px','400px'])\n",
    "view_ligand.camera='orthographic'\n",
    "view_ligand\n",
    "\n",
    "view_complex = nglview.show_structure_file(complexFile)\n",
    "view_complex.add_representation(repr_type='licorice', radius='.5', selection=ligandCode)\n",
    "view_complex._remote_call('setSize', target='Widget', args=['350px','400px'])\n",
    "view_complex.camera='orthographic'\n",
    "view_complex\n",
    "\n",
    "ipywidgets.HBox([view_protein, view_ligand, view_complex])"
   ]
  },
  {
   "cell_type": "markdown",
   "metadata": {},
   "source": [
    "## Step 5: Fixing protein structure\n",
    "\n",
    "- missing side-chain atoms\n",
    "- missing backbone atoms, heteroatoms and modified residues"
   ]
  },
  {
   "cell_type": "code",
   "execution_count": 8,
   "metadata": {},
   "outputs": [
    {
     "name": "stdout",
     "output_type": "stream",
     "text": [
      "2021-11-02 22:06:01,503 [MainThread  ] [INFO ]  Not using any container\n",
      "2021-11-02 22:06:01,503 [MainThread  ] [INFO ]  check_structure -i 3HTB.pdb -o 3HTB_fixed.pdb --force_save fixside --fix ALL\n",
      "\n",
      "2021-11-02 22:06:01,900 [MainThread  ] [INFO ]  Exit code 0\n",
      "\n",
      "2021-11-02 22:06:01,901 [MainThread  ] [INFO ]  ===============================================================================\n",
      "=                   BioBB structure checking utility v3.8.1                   =\n",
      "=                 A. Hospital, P. Andrio, J.L. Gelpi 2018-21                  =\n",
      "===============================================================================\n",
      "\n",
      "Warning: sequence features only available in mmCIF format or with external fasta input\n",
      "Structure 3HTB.pdb loaded\n",
      " Title: \n",
      " Experimental method: unknown\n",
      " Resolution (A): N.A.\n",
      "\n",
      " Num. models: 1\n",
      " Num. chains: 1 (A: Protein)\n",
      " Num. residues:  163\n",
      " Num. residues with ins. codes:  0\n",
      " Num. HETATM residues:  0\n",
      " Num. ligands or modified residues:  0\n",
      " Num. water mol.:  0\n",
      " Num. atoms:  1300\n",
      "\n",
      "Running fixside. Options: --fix ALL\n",
      "No residues with missing or unknown side chain atoms found\n",
      "Structure not modified, saving due to --force_save option\n",
      "Final Num. models: 1\n",
      "Final Num. chains: 1 (A: Protein)\n",
      "Final Num. residues:  163\n",
      "Final Num. residues with ins. codes:  0\n",
      "Final Num. HETATM residues:  0\n",
      "Final Num. ligands or modified residues:  0\n",
      "Final Num. water mol.:  0\n",
      "Final Num. atoms:  1300\n",
      "Structure saved on 3HTB_fixed.pdb\n",
      "\n",
      "2021-11-02 22:06:01,902 [MainThread  ] [INFO ]  Removed: []\n"
     ]
    },
    {
     "data": {
      "text/plain": [
       "0"
      ]
     },
     "execution_count": 8,
     "metadata": {},
     "output_type": "execute_result"
    }
   ],
   "source": [
    "from biobb_model.model.fix_side_chain import fix_side_chain\n",
    "\n",
    "fixed_pdb_out = pdbCode + '_fixed.pdb'\n",
    "\n",
    "# Create and launch bb\n",
    "fix_side_chain(input_pdb_path=proteinFile, output_pdb_path=fixed_pdb_out)"
   ]
  },
  {
   "cell_type": "markdown",
   "metadata": {},
   "source": [
    "## Step 6: Creating topology\n",
    "\n",
    "- Force field: amber99sb-ildn\n",
    "- Water molecule type: spc/e"
   ]
  },
  {
   "cell_type": "code",
   "execution_count": 10,
   "metadata": {},
   "outputs": [
    {
     "name": "stdout",
     "output_type": "stream",
     "text": [
      "2021-11-02 22:13:29,172 [MainThread  ] [INFO ]  GROMACS Pdb2gmx 20212 version detected\n",
      "2021-11-02 22:13:29,173 [MainThread  ] [INFO ]  Not using any container\n",
      "2021-11-02 22:13:29,174 [MainThread  ] [INFO ]  /usr/local/gromacs/bin/gmx -nobackup -nocopyright pdb2gmx -f 3HTB_fixed.pdb -o 3HTB_pdb2gmx.gro -p p2g.top -water spce -ff amber99sb-ildn -i posre.itp\n",
      "\n",
      "2021-11-02 22:13:30,780 [MainThread  ] [INFO ]  Exit code 0\n",
      "\n",
      "2021-11-02 22:13:30,781 [MainThread  ] [INFO ]  Using the Amber99sb-ildn force field in directory amber99sb-ildn.ff\n",
      "\n",
      "going to rename amber99sb-ildn.ff/aminoacids.r2b\n",
      "\n",
      "going to rename amber99sb-ildn.ff/dna.r2b\n",
      "\n",
      "going to rename amber99sb-ildn.ff/rna.r2b\n",
      "Reading 3HTB_fixed.pdb...\n",
      "Read '', 1364 atoms\n",
      "\n",
      "Analyzing pdb file\n",
      "Splitting chemical chains based on TER records or chain id changing.\n",
      "\n",
      "There are 1 chains and 0 blocks of water and 163 residues with 1364 atoms\n",
      "\n",
      "  chain  #res #atoms\n",
      "\n",
      "  1 'A'   163   1364  \n",
      "\n",
      "there were 0 atoms with zero occupancy and 178 atoms with          occupancy unequal to one (out of 1364 atoms). Check your pdb file.\n",
      "\n",
      "Reading residue database... (Amber99sb-ildn)\n",
      "\n",
      "Processing chain 1 'A' (1364 atoms, 163 residues)\n",
      "\n",
      "Identified residue MET1 as a starting terminus.\n",
      "\n",
      "Identified residue ASN163 as a ending terminus.\n",
      "\n",
      "Checking for duplicate atoms....\n",
      "\n",
      "Now there are 1300 atoms. Deleted 64 duplicates.\n",
      "\n",
      "Generating any missing hydrogen atoms and/or adding termini.\n",
      "\n",
      "Now there are 163 residues with 2614 atoms\n",
      "\n",
      "Making bonds...\n",
      "\n",
      "Number of bonds was 2635, now 2634\n",
      "\n",
      "Generating angles, dihedrals and pairs...\n",
      "\n",
      "Making cmap torsions...\n",
      "\n",
      "There are 7252 dihedrals,  522 impropers, 4751 angles\n",
      "          6847 pairs,     2634 bonds and     0 virtual sites\n",
      "\n",
      "Total mass 18512.384 a.m.u.\n",
      "\n",
      "Total charge 6.000 e\n",
      "\n",
      "Writing topology\n",
      "\n",
      "Writing coordinate file...\n",
      "\n",
      "\t\t--------- PLEASE NOTE ------------\n",
      "\n",
      "You have successfully generated a topology from: 3HTB_fixed.pdb.\n",
      "\n",
      "The Amber99sb-ildn force field and the spce water model are used.\n",
      "\n",
      "\t\t--------- ETON ESAELP ------------\n",
      "\n",
      "2021-11-02 22:13:30,782 [MainThread  ] [INFO ]                       :-) GROMACS - gmx pdb2gmx, 2021.2 (-:\n",
      "\n",
      "Executable:   /usr/local/gromacs/bin/gmx\n",
      "Data prefix:  /usr/local/gromacs\n",
      "Working dir:  /home/dhnchandan/Documents/cc/gromacs/nb_md_analysis/project/notebooks\n",
      "Command line:\n",
      "  gmx -nobackup -nocopyright pdb2gmx -f 3HTB_fixed.pdb -o 3HTB_pdb2gmx.gro -p p2g.top -water spce -ff amber99sb-ildn -i posre.itp\n",
      "\n",
      "Opening force field file /usr/local/gromacs/share/gromacs/top/amber99sb-ildn.ff/aminoacids.r2b\n",
      "Opening force field file /usr/local/gromacs/share/gromacs/top/amber99sb-ildn.ff/dna.r2b\n",
      "Opening force field file /usr/local/gromacs/share/gromacs/top/amber99sb-ildn.ff/rna.r2b\n",
      "there were 0 atoms with zero occupancy and 178 atoms with          occupancy unequal to one (out of 1364 atoms). Check your pdb file.\n",
      "Opening force field file /usr/local/gromacs/share/gromacs/top/amber99sb-ildn.ff/atomtypes.atp\n",
      "Opening force field file /usr/local/gromacs/share/gromacs/top/amber99sb-ildn.ff/aminoacids.rtp\n",
      "Opening force field file /usr/local/gromacs/share/gromacs/top/amber99sb-ildn.ff/dna.rtp\n",
      "Opening force field file /usr/local/gromacs/share/gromacs/top/amber99sb-ildn.ff/rna.rtp\n",
      "Opening force field file /usr/local/gromacs/share/gromacs/top/amber99sb-ildn.ff/aminoacids.hdb\n",
      "Opening force field file /usr/local/gromacs/share/gromacs/top/amber99sb-ildn.ff/dna.hdb\n",
      "Opening force field file /usr/local/gromacs/share/gromacs/top/amber99sb-ildn.ff/rna.hdb\n",
      "Opening force field file /usr/local/gromacs/share/gromacs/top/amber99sb-ildn.ff/aminoacids.n.tdb\n",
      "Opening force field file /usr/local/gromacs/share/gromacs/top/amber99sb-ildn.ff/aminoacids.c.tdb\n",
      "Analysing hydrogen-bonding network for automated assignment of histidine\n",
      " protonation. 273 donors and 248 acceptors were found.\n",
      "There are 347 hydrogen bonds\n",
      "Will use HISD for residue 31\n",
      "8 out of 8 lines of specbond.dat converted successfully\n",
      "Special Atom Distance matrix:\n",
      "                    MET1    MET6   HIS31   CYS54   CYS97  MET106\n",
      "                    SD10    SD56  NE2276   SG446   SG808   SD883\n",
      "    MET6    SD56   0.631\n",
      "   HIS31  NE2276   2.196   1.931\n",
      "   CYS54   SG446   2.781   2.718   1.052\n",
      "   CYS97   SG808   0.820   0.539   2.117   2.897\n",
      "  MET106   SD883   1.900   1.314   1.848   2.841   1.635\n",
      "  MET120   SD982   2.525   2.014   3.286   4.293   2.112   1.520\n",
      "Opening force field file /usr/local/gromacs/share/gromacs/top/amber99sb-ildn.ff/aminoacids.arn\n",
      "Opening force field file /usr/local/gromacs/share/gromacs/top/amber99sb-ildn.ff/dna.arn\n",
      "Opening force field file /usr/local/gromacs/share/gromacs/top/amber99sb-ildn.ff/rna.arn\n",
      "Before cleaning: 6889 pairs\n",
      "Before cleaning: 7252 dihedrals\n",
      "Keeping all generated dihedrals\n",
      "\n",
      "GROMACS reminds you: \"It's Not Dark Yet, But It's Getting There\" (Bob Dylan)\n",
      "\n",
      "\n",
      "2021-11-02 22:13:30,782 [MainThread  ] [INFO ]  Compressing topology to: 3HTB_pdb2gmx_top.zip\n",
      "2021-11-02 22:13:30,784 [MainThread  ] [INFO ]  Ignored file amber99sb-ildn.ff/forcefield.itp\n",
      "2021-11-02 22:13:30,796 [MainThread  ] [INFO ]  Ignored file amber99sb-ildn.ff/spce.itp\n",
      "2021-11-02 22:13:30,797 [MainThread  ] [INFO ]  Ignored file amber99sb-ildn.ff/ions.itp\n",
      "2021-11-02 22:13:30,800 [MainThread  ] [INFO ]  Adding:\n",
      "2021-11-02 22:13:30,800 [MainThread  ] [INFO ]  ['p2g.top', 'posre.itp']\n",
      "2021-11-02 22:13:30,801 [MainThread  ] [INFO ]  to: /home/dhnchandan/Documents/cc/gromacs/nb_md_analysis/project/notebooks/3HTB_pdb2gmx_top.zip\n",
      "2021-11-02 22:13:30,802 [MainThread  ] [INFO ]  Removed: ['p2g.top', 'posre.itp']\n"
     ]
    },
    {
     "data": {
      "text/plain": [
       "0"
      ]
     },
     "execution_count": 10,
     "metadata": {},
     "output_type": "execute_result"
    }
   ],
   "source": [
    "from biobb_md.gromacs.pdb2gmx import pdb2gmx\n",
    "\n",
    "# Create inputs/outputs\n",
    "output_pdb2gmx_gro = pdbCode+'_pdb2gmx.gro'\n",
    "output_pdb2gmx_top_zip = pdbCode+'_pdb2gmx_top.zip'\n",
    "\n",
    "prop = {\n",
    "    'force_field' : 'amber99sb-ildn',\n",
    "    'water_type': 'spce',\n",
    "    'gmx_path': '/usr/local/gromacs/bin/gmx' # latest local gromacs installation\n",
    "}\n",
    "\n",
    "pdb2gmx(\n",
    "    input_pdb_path=fixed_pdb_out,\n",
    "    output_gro_path=output_pdb2gmx_gro,\n",
    "    output_top_zip_path=output_pdb2gmx_top_zip,\n",
    "    properties=prop\n",
    ")"
   ]
  },
  {
   "cell_type": "code",
   "execution_count": null,
   "metadata": {},
   "outputs": [],
   "source": []
  }
 ],
 "metadata": {
  "interpreter": {
   "hash": "f746b4b0d2e387363a8e0a553c20150e3f47ec0ca6c21290176766f34ed6ca61"
  },
  "kernelspec": {
   "display_name": "Python 3 (ipykernel)",
   "language": "python",
   "name": "python3"
  },
  "language_info": {
   "codemirror_mode": {
    "name": "ipython",
    "version": 3
   },
   "file_extension": ".py",
   "mimetype": "text/x-python",
   "name": "python",
   "nbconvert_exporter": "python",
   "pygments_lexer": "ipython3",
   "version": "3.7.12"
  }
 },
 "nbformat": 4,
 "nbformat_minor": 2
}
