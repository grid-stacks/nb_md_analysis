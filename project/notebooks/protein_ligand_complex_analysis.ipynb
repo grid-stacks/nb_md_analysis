{
 "cells": [
  {
   "cell_type": "code",
   "execution_count": 3,
   "metadata": {},
   "outputs": [],
   "source": [
    "import nglview\n",
    "import ipywidgets\n",
    "import os\n",
    "import zipfile"
   ]
  },
  {
   "cell_type": "markdown",
   "metadata": {},
   "source": [
    "## Step 1: Protein and ligand selection"
   ]
  },
  {
   "cell_type": "code",
   "execution_count": 4,
   "metadata": {},
   "outputs": [],
   "source": [
    "# DOI: 10.2210/pdb3HTB/pdb\n",
    "# 2-propylphenol in complex with T4 lysozyme\n",
    "pdbCode = \"3HTB\"\n",
    "\n",
    "ligandCode = \"JZ4\"\n",
    "\n",
    "mol_charge = 0"
   ]
  },
  {
   "cell_type": "markdown",
   "metadata": {},
   "source": [
    "## Step 2: Downloading Protein\n",
    "\n",
    "From: RCSB PDB database"
   ]
  },
  {
   "cell_type": "code",
   "execution_count": 5,
   "metadata": {},
   "outputs": [
    {
     "name": "stdout",
     "output_type": "stream",
     "text": [
      "2021-11-02 21:36:14,766 [MainThread  ] [INFO ]  Downloading: 3htb from: https://www.ebi.ac.uk/pdbe/entry-files/download/pdb3htb.ent\n"
     ]
    },
    {
     "name": "stderr",
     "output_type": "stream",
     "text": [
      "/home/dhnchandan/anaconda3/envs/nb_md_analysis/lib/python3.7/site-packages/urllib3/connectionpool.py:1020: InsecureRequestWarning: Unverified HTTPS request is being made to host 'www.ebi.ac.uk'. Adding certificate verification is strongly advised. See: https://urllib3.readthedocs.io/en/1.26.x/advanced-usage.html#ssl-warnings\n",
      "  InsecureRequestWarning,\n"
     ]
    },
    {
     "name": "stdout",
     "output_type": "stream",
     "text": [
      "2021-11-02 21:36:17,580 [MainThread  ] [INFO ]  Writting pdb to: 3HTB.orig.pdb\n"
     ]
    },
    {
     "data": {
      "text/plain": [
       "0"
      ]
     },
     "execution_count": 5,
     "metadata": {},
     "output_type": "execute_result"
    }
   ],
   "source": [
    "from biobb_io.api.pdb import pdb\n",
    "\n",
    "# Create properties dict and inputs/outputs\n",
    "pdb_output = pdbCode+'.orig.pdb'\n",
    "\n",
    "prop = {\n",
    "    'pdb_code': pdbCode,\n",
    "    'filter': False\n",
    "}\n",
    "\n",
    "# Downloading 3HTB from the Protein Data Bank\n",
    "pdb(output_pdb_path=pdb_output, properties=prop)"
   ]
  },
  {
   "cell_type": "markdown",
   "metadata": {},
   "source": [
    "## Step 3: Extracting Protein, Ligand and Protein-Ligand Complex"
   ]
  },
  {
   "cell_type": "code",
   "execution_count": 6,
   "metadata": {},
   "outputs": [
    {
     "name": "stdout",
     "output_type": "stream",
     "text": [
      "2021-11-02 21:43:38,882 [MainThread  ] [INFO ]  Removed: []\n",
      "2021-11-02 21:43:38,883 [MainThread  ] [INFO ]  Creating 338b0648-0a86-4a1f-bd41-af8bce590de2 temporary folder\n",
      "2021-11-02 21:43:38,884 [MainThread  ] [INFO ]  check_structure -i /home/dhnchandan/Documents/cc/gromacs/nb_md_analysis/project/notebooks/3HTB.orig.pdb -o 3HTB.pdb --force_save --non_interactive command_list --list 338b0648-0a86-4a1f-bd41-af8bce590de2/extract_prot.lst\n",
      "\n",
      "2021-11-02 21:43:39,387 [MainThread  ] [INFO ]  Exit code 0\n",
      "\n",
      "2021-11-02 21:43:39,388 [MainThread  ] [INFO ]  ===============================================================================\n",
      "=                   BioBB structure checking utility v3.8.1                   =\n",
      "=                 A. Hospital, P. Andrio, J.L. Gelpi 2018-21                  =\n",
      "===============================================================================\n",
      "\n",
      "Warning: sequence features only available in mmCIF format or with external fasta input\n",
      "Structure /home/dhnchandan/Documents/cc/gromacs/nb_md_analysis/project/notebooks/3HTB.orig.pdb loaded\n",
      " Title: 2-propylphenol in complex with t4 lysozyme l99a/m102q\n",
      " Experimental method: x-ray diffraction\n",
      " Keywords: hydrolase, glycosidase, bacteriolytic enzyme, antimicrobial\n",
      " Resolution (A): 1.81\n",
      "\n",
      " Num. models: 1\n",
      " Num. chains: 1 (A: Protein)\n",
      " Num. residues:  387\n",
      " Num. residues with ins. codes:  0\n",
      " Num. HETATM residues:  224\n",
      " Num. ligands or modified residues:  4\n",
      " Num. water mol.:  220\n",
      " Num. atoms:  1544\n",
      "Small mol ligands found\n",
      "PO4 A165\n",
      "PO4 A166\n",
      "JZ4 A167\n",
      "BME A168\n",
      "\n",
      "\n",
      "Step 1: ligands --remove All\n",
      "\n",
      "Running ligands. Options: --remove All\n",
      "4 Ligands detected\n",
      " PO4 A165\n",
      " PO4 A166\n",
      " JZ4 A167\n",
      " BME A168\n",
      "Ligands removed All (4)\n",
      "\n",
      "Step 2: water --remove Yes\n",
      "\n",
      "Running water. Options: --remove Yes\n",
      "220 Water molecules detected\n",
      "220 Water molecules removed\n",
      "Command list completed\n",
      "Final Num. models: 1\n",
      "Final Num. chains: 1 (A: Protein)\n",
      "Final Num. residues:  163\n",
      "Final Num. residues with ins. codes:  0\n",
      "Final Num. HETATM residues:  0\n",
      "Final Num. ligands or modified residues:  0\n",
      "Final Num. water mol.:  0\n",
      "Final Num. atoms:  1300\n",
      "Structure saved on 3HTB.pdb\n",
      "\n",
      "2021-11-02 21:43:39,388 [MainThread  ] [INFO ]  Not using any container\n",
      "2021-11-02 21:43:39,389 [MainThread  ] [INFO ]  \n",
      "\n",
      "2021-11-02 21:43:39,395 [MainThread  ] [INFO ]  Exit code 0\n",
      "\n",
      "2021-11-02 21:43:39,396 [MainThread  ] [INFO ]  Removed: []\n",
      "2021-11-02 21:43:39,399 [MainThread  ] [INFO ]  Removed: []\n",
      "3HTB.pdb JZ4.pdb 3HTB_JZ4.pdb\n"
     ]
    }
   ],
   "source": [
    "from biobb_structure_utils.utils.extract_heteroatoms import extract_heteroatoms\n",
    "from biobb_structure_utils.utils.extract_molecule import extract_molecule\n",
    "from biobb_structure_utils.utils.cat_pdb import cat_pdb\n",
    "\n",
    "proteinFile = pdbCode+'.pdb'\n",
    "ligandFile = ligandCode+'.pdb'\n",
    "complexFile = pdbCode+'_'+ligandCode+'.pdb'\n",
    "\n",
    "prop = {\n",
    "    'heteroatoms' : [{\"name\": ligandCode}]\n",
    "}\n",
    "\n",
    "extract_heteroatoms(\n",
    "    input_structure_path=pdb_output,\n",
    "    output_heteroatom_path=ligandFile,\n",
    "    properties=prop\n",
    ")\n",
    "\n",
    "extract_molecule(\n",
    "    input_structure_path=pdb_output,\n",
    "    output_molecule_path=proteinFile\n",
    ")\n",
    "\n",
    "cat_pdb(\n",
    "    input_structure1=proteinFile,\n",
    "    input_structure2=ligandFile,\n",
    "    output_structure_path=complexFile\n",
    ")\n",
    "\n",
    "print(proteinFile, ligandFile, complexFile)"
   ]
  },
  {
   "cell_type": "code",
   "execution_count": null,
   "metadata": {},
   "outputs": [],
   "source": []
  }
 ],
 "metadata": {
  "interpreter": {
   "hash": "f746b4b0d2e387363a8e0a553c20150e3f47ec0ca6c21290176766f34ed6ca61"
  },
  "kernelspec": {
   "display_name": "Python 3 (ipykernel)",
   "language": "python",
   "name": "python3"
  },
  "language_info": {
   "codemirror_mode": {
    "name": "ipython",
    "version": 3
   },
   "file_extension": ".py",
   "mimetype": "text/x-python",
   "name": "python",
   "nbconvert_exporter": "python",
   "pygments_lexer": "ipython3",
   "version": "3.7.12"
  }
 },
 "nbformat": 4,
 "nbformat_minor": 2
}
