{
 "cells": [
  {
   "cell_type": "code",
   "execution_count": 1,
   "metadata": {},
   "outputs": [
    {
     "data": {
      "application/vnd.jupyter.widget-view+json": {
       "model_id": "49230f3255a84b7a9d6569989f2c1314",
       "version_major": 2,
       "version_minor": 0
      },
      "text/plain": []
     },
     "metadata": {},
     "output_type": "display_data"
    }
   ],
   "source": [
    "import nglview\n",
    "import ipywidgets\n",
    "import os\n",
    "import zipfile"
   ]
  },
  {
   "cell_type": "markdown",
   "metadata": {},
   "source": [
    "## Step 1: Protein and ligand selection"
   ]
  },
  {
   "cell_type": "code",
   "execution_count": 2,
   "metadata": {},
   "outputs": [],
   "source": [
    "# DOI: 10.2210/pdb3HTB/pdb\n",
    "# 2-propylphenol in complex with T4 lysozyme\n",
    "pdbCode = \"3HTB\"\n",
    "ligandCode = \"JZ4\"\n",
    "\n",
    "mol_charge = 0\n",
    "\n",
    "proteinFile = pdbCode+'.pdb'\n",
    "ligandFile = ligandCode+'.pdb'\n",
    "complexFile = pdbCode+'_'+ligandCode+'.pdb'"
   ]
  },
  {
   "cell_type": "code",
   "execution_count": 20,
   "metadata": {},
   "outputs": [],
   "source": [
    "gmx_path = '/usr/local/gromacs/bin/gmx' # latest local gromacs installation"
   ]
  },
  {
   "cell_type": "markdown",
   "metadata": {},
   "source": [
    "## Step 2: Downloading Protein\n",
    "\n",
    "From: RCSB PDB database"
   ]
  },
  {
   "cell_type": "code",
   "execution_count": 3,
   "metadata": {},
   "outputs": [],
   "source": [
    "pdb_output = pdbCode+'.orig.pdb'"
   ]
  },
  {
   "cell_type": "code",
   "execution_count": 5,
   "metadata": {},
   "outputs": [
    {
     "name": "stdout",
     "output_type": "stream",
     "text": [
      "2021-11-02 21:36:14,766 [MainThread  ] [INFO ]  Downloading: 3htb from: https://www.ebi.ac.uk/pdbe/entry-files/download/pdb3htb.ent\n"
     ]
    },
    {
     "name": "stderr",
     "output_type": "stream",
     "text": [
      "/home/dhnchandan/anaconda3/envs/nb_md_analysis/lib/python3.7/site-packages/urllib3/connectionpool.py:1020: InsecureRequestWarning: Unverified HTTPS request is being made to host 'www.ebi.ac.uk'. Adding certificate verification is strongly advised. See: https://urllib3.readthedocs.io/en/1.26.x/advanced-usage.html#ssl-warnings\n",
      "  InsecureRequestWarning,\n"
     ]
    },
    {
     "name": "stdout",
     "output_type": "stream",
     "text": [
      "2021-11-02 21:36:17,580 [MainThread  ] [INFO ]  Writting pdb to: 3HTB.orig.pdb\n"
     ]
    },
    {
     "data": {
      "text/plain": [
       "0"
      ]
     },
     "execution_count": 5,
     "metadata": {},
     "output_type": "execute_result"
    }
   ],
   "source": [
    "from biobb_io.api.pdb import pdb\n",
    "\n",
    "prop = {\n",
    "    'pdb_code': pdbCode,\n",
    "    'filter': False\n",
    "}\n",
    "\n",
    "# Downloading 3HTB from the Protein Data Bank\n",
    "pdb(output_pdb_path=pdb_output, properties=prop)"
   ]
  },
  {
   "cell_type": "markdown",
   "metadata": {},
   "source": [
    "## Step 3: Extracting Protein, Ligand and Protein-Ligand Complex"
   ]
  },
  {
   "cell_type": "code",
   "execution_count": 4,
   "metadata": {},
   "outputs": [],
   "source": [
    "from biobb_structure_utils.utils.extract_heteroatoms import extract_heteroatoms\n",
    "from biobb_structure_utils.utils.extract_molecule import extract_molecule\n",
    "from biobb_structure_utils.utils.cat_pdb import cat_pdb\n",
    "\n",
    "prop = {\n",
    "    'heteroatoms' : [{\"name\": ligandCode}]\n",
    "}\n",
    "\n",
    "extract_heteroatoms(\n",
    "    input_structure_path=pdb_output,\n",
    "    output_heteroatom_path=ligandFile,\n",
    "    properties=prop\n",
    ")\n",
    "\n",
    "extract_molecule(\n",
    "    input_structure_path=pdb_output,\n",
    "    output_molecule_path=proteinFile\n",
    ")\n",
    "\n",
    "# Concat protein and igand into one file\n",
    "cat_pdb(\n",
    "    input_structure1=proteinFile,\n",
    "    input_structure2=ligandFile,\n",
    "    output_structure_path=complexFile\n",
    ")\n",
    "\n",
    "print(proteinFile, ligandFile, complexFile)"
   ]
  },
  {
   "cell_type": "markdown",
   "metadata": {},
   "source": [
    "## Step 4: Visualizing 3D structures"
   ]
  },
  {
   "cell_type": "code",
   "execution_count": 7,
   "metadata": {},
   "outputs": [
    {
     "data": {
      "application/vnd.jupyter.widget-view+json": {
       "model_id": "3d927d365c864c6eb41e38cded5782f3",
       "version_major": 2,
       "version_minor": 0
      },
      "text/plain": [
       "HBox(children=(NGLWidget(), NGLWidget(), NGLWidget()))"
      ]
     },
     "metadata": {},
     "output_type": "display_data"
    }
   ],
   "source": [
    "view_protein = nglview.show_structure_file(proteinFile)\n",
    "view_protein._remote_call('setSize', target='Widget', args=['350px','400px'])\n",
    "view_protein.camera='orthographic'\n",
    "view_protein\n",
    "\n",
    "view_ligand = nglview.show_structure_file(ligandFile)\n",
    "view_ligand.add_representation(repr_type='ball+stick')\n",
    "view_ligand._remote_call('setSize', target='Widget', args=['350px','400px'])\n",
    "view_ligand.camera='orthographic'\n",
    "view_ligand\n",
    "\n",
    "view_complex = nglview.show_structure_file(complexFile)\n",
    "view_complex.add_representation(repr_type='licorice', radius='.5', selection=ligandCode)\n",
    "view_complex._remote_call('setSize', target='Widget', args=['350px','400px'])\n",
    "view_complex.camera='orthographic'\n",
    "view_complex\n",
    "\n",
    "ipywidgets.HBox([view_protein, view_ligand, view_complex])"
   ]
  },
  {
   "cell_type": "markdown",
   "metadata": {},
   "source": [
    "## Step 5: Fixing protein structure\n",
    "\n",
    "- missing side-chain atoms\n",
    "- missing backbone atoms, heteroatoms and modified residues"
   ]
  },
  {
   "cell_type": "code",
   "execution_count": 4,
   "metadata": {},
   "outputs": [],
   "source": [
    "fixed_pdb_out = pdbCode + '_fixed.pdb'"
   ]
  },
  {
   "cell_type": "code",
   "execution_count": 8,
   "metadata": {},
   "outputs": [
    {
     "name": "stdout",
     "output_type": "stream",
     "text": [
      "2021-11-02 22:06:01,503 [MainThread  ] [INFO ]  Not using any container\n",
      "2021-11-02 22:06:01,503 [MainThread  ] [INFO ]  check_structure -i 3HTB.pdb -o 3HTB_fixed.pdb --force_save fixside --fix ALL\n",
      "\n",
      "2021-11-02 22:06:01,900 [MainThread  ] [INFO ]  Exit code 0\n",
      "\n",
      "2021-11-02 22:06:01,901 [MainThread  ] [INFO ]  ===============================================================================\n",
      "=                   BioBB structure checking utility v3.8.1                   =\n",
      "=                 A. Hospital, P. Andrio, J.L. Gelpi 2018-21                  =\n",
      "===============================================================================\n",
      "\n",
      "Warning: sequence features only available in mmCIF format or with external fasta input\n",
      "Structure 3HTB.pdb loaded\n",
      " Title: \n",
      " Experimental method: unknown\n",
      " Resolution (A): N.A.\n",
      "\n",
      " Num. models: 1\n",
      " Num. chains: 1 (A: Protein)\n",
      " Num. residues:  163\n",
      " Num. residues with ins. codes:  0\n",
      " Num. HETATM residues:  0\n",
      " Num. ligands or modified residues:  0\n",
      " Num. water mol.:  0\n",
      " Num. atoms:  1300\n",
      "\n",
      "Running fixside. Options: --fix ALL\n",
      "No residues with missing or unknown side chain atoms found\n",
      "Structure not modified, saving due to --force_save option\n",
      "Final Num. models: 1\n",
      "Final Num. chains: 1 (A: Protein)\n",
      "Final Num. residues:  163\n",
      "Final Num. residues with ins. codes:  0\n",
      "Final Num. HETATM residues:  0\n",
      "Final Num. ligands or modified residues:  0\n",
      "Final Num. water mol.:  0\n",
      "Final Num. atoms:  1300\n",
      "Structure saved on 3HTB_fixed.pdb\n",
      "\n",
      "2021-11-02 22:06:01,902 [MainThread  ] [INFO ]  Removed: []\n"
     ]
    },
    {
     "data": {
      "text/plain": [
       "0"
      ]
     },
     "execution_count": 8,
     "metadata": {},
     "output_type": "execute_result"
    }
   ],
   "source": [
    "from biobb_model.model.fix_side_chain import fix_side_chain\n",
    "\n",
    "fix_side_chain(input_pdb_path=proteinFile, output_pdb_path=fixed_pdb_out)"
   ]
  },
  {
   "cell_type": "markdown",
   "metadata": {},
   "source": [
    "## Step 6: Creating protein topology\n",
    "\n",
    "- Force field: amber99sb-ildn\n",
    "- Water molecule type: spc/e"
   ]
  },
  {
   "cell_type": "code",
   "execution_count": 5,
   "metadata": {},
   "outputs": [],
   "source": [
    "output_pdb2gmx_gro = pdbCode+'_pdb2gmx.gro'\n",
    "output_pdb2gmx_top_zip = pdbCode+'_pdb2gmx_top.zip'"
   ]
  },
  {
   "cell_type": "code",
   "execution_count": 10,
   "metadata": {},
   "outputs": [
    {
     "name": "stdout",
     "output_type": "stream",
     "text": [
      "2021-11-02 22:13:29,172 [MainThread  ] [INFO ]  GROMACS Pdb2gmx 20212 version detected\n",
      "2021-11-02 22:13:29,173 [MainThread  ] [INFO ]  Not using any container\n",
      "2021-11-02 22:13:29,174 [MainThread  ] [INFO ]  /usr/local/gromacs/bin/gmx -nobackup -nocopyright pdb2gmx -f 3HTB_fixed.pdb -o 3HTB_pdb2gmx.gro -p p2g.top -water spce -ff amber99sb-ildn -i posre.itp\n",
      "\n",
      "2021-11-02 22:13:30,780 [MainThread  ] [INFO ]  Exit code 0\n",
      "\n",
      "2021-11-02 22:13:30,781 [MainThread  ] [INFO ]  Using the Amber99sb-ildn force field in directory amber99sb-ildn.ff\n",
      "\n",
      "going to rename amber99sb-ildn.ff/aminoacids.r2b\n",
      "\n",
      "going to rename amber99sb-ildn.ff/dna.r2b\n",
      "\n",
      "going to rename amber99sb-ildn.ff/rna.r2b\n",
      "Reading 3HTB_fixed.pdb...\n",
      "Read '', 1364 atoms\n",
      "\n",
      "Analyzing pdb file\n",
      "Splitting chemical chains based on TER records or chain id changing.\n",
      "\n",
      "There are 1 chains and 0 blocks of water and 163 residues with 1364 atoms\n",
      "\n",
      "  chain  #res #atoms\n",
      "\n",
      "  1 'A'   163   1364  \n",
      "\n",
      "there were 0 atoms with zero occupancy and 178 atoms with          occupancy unequal to one (out of 1364 atoms). Check your pdb file.\n",
      "\n",
      "Reading residue database... (Amber99sb-ildn)\n",
      "\n",
      "Processing chain 1 'A' (1364 atoms, 163 residues)\n",
      "\n",
      "Identified residue MET1 as a starting terminus.\n",
      "\n",
      "Identified residue ASN163 as a ending terminus.\n",
      "\n",
      "Checking for duplicate atoms....\n",
      "\n",
      "Now there are 1300 atoms. Deleted 64 duplicates.\n",
      "\n",
      "Generating any missing hydrogen atoms and/or adding termini.\n",
      "\n",
      "Now there are 163 residues with 2614 atoms\n",
      "\n",
      "Making bonds...\n",
      "\n",
      "Number of bonds was 2635, now 2634\n",
      "\n",
      "Generating angles, dihedrals and pairs...\n",
      "\n",
      "Making cmap torsions...\n",
      "\n",
      "There are 7252 dihedrals,  522 impropers, 4751 angles\n",
      "          6847 pairs,     2634 bonds and     0 virtual sites\n",
      "\n",
      "Total mass 18512.384 a.m.u.\n",
      "\n",
      "Total charge 6.000 e\n",
      "\n",
      "Writing topology\n",
      "\n",
      "Writing coordinate file...\n",
      "\n",
      "\t\t--------- PLEASE NOTE ------------\n",
      "\n",
      "You have successfully generated a topology from: 3HTB_fixed.pdb.\n",
      "\n",
      "The Amber99sb-ildn force field and the spce water model are used.\n",
      "\n",
      "\t\t--------- ETON ESAELP ------------\n",
      "\n",
      "2021-11-02 22:13:30,782 [MainThread  ] [INFO ]                       :-) GROMACS - gmx pdb2gmx, 2021.2 (-:\n",
      "\n",
      "Executable:   /usr/local/gromacs/bin/gmx\n",
      "Data prefix:  /usr/local/gromacs\n",
      "Working dir:  /home/dhnchandan/Documents/cc/gromacs/nb_md_analysis/project/notebooks\n",
      "Command line:\n",
      "  gmx -nobackup -nocopyright pdb2gmx -f 3HTB_fixed.pdb -o 3HTB_pdb2gmx.gro -p p2g.top -water spce -ff amber99sb-ildn -i posre.itp\n",
      "\n",
      "Opening force field file /usr/local/gromacs/share/gromacs/top/amber99sb-ildn.ff/aminoacids.r2b\n",
      "Opening force field file /usr/local/gromacs/share/gromacs/top/amber99sb-ildn.ff/dna.r2b\n",
      "Opening force field file /usr/local/gromacs/share/gromacs/top/amber99sb-ildn.ff/rna.r2b\n",
      "there were 0 atoms with zero occupancy and 178 atoms with          occupancy unequal to one (out of 1364 atoms). Check your pdb file.\n",
      "Opening force field file /usr/local/gromacs/share/gromacs/top/amber99sb-ildn.ff/atomtypes.atp\n",
      "Opening force field file /usr/local/gromacs/share/gromacs/top/amber99sb-ildn.ff/aminoacids.rtp\n",
      "Opening force field file /usr/local/gromacs/share/gromacs/top/amber99sb-ildn.ff/dna.rtp\n",
      "Opening force field file /usr/local/gromacs/share/gromacs/top/amber99sb-ildn.ff/rna.rtp\n",
      "Opening force field file /usr/local/gromacs/share/gromacs/top/amber99sb-ildn.ff/aminoacids.hdb\n",
      "Opening force field file /usr/local/gromacs/share/gromacs/top/amber99sb-ildn.ff/dna.hdb\n",
      "Opening force field file /usr/local/gromacs/share/gromacs/top/amber99sb-ildn.ff/rna.hdb\n",
      "Opening force field file /usr/local/gromacs/share/gromacs/top/amber99sb-ildn.ff/aminoacids.n.tdb\n",
      "Opening force field file /usr/local/gromacs/share/gromacs/top/amber99sb-ildn.ff/aminoacids.c.tdb\n",
      "Analysing hydrogen-bonding network for automated assignment of histidine\n",
      " protonation. 273 donors and 248 acceptors were found.\n",
      "There are 347 hydrogen bonds\n",
      "Will use HISD for residue 31\n",
      "8 out of 8 lines of specbond.dat converted successfully\n",
      "Special Atom Distance matrix:\n",
      "                    MET1    MET6   HIS31   CYS54   CYS97  MET106\n",
      "                    SD10    SD56  NE2276   SG446   SG808   SD883\n",
      "    MET6    SD56   0.631\n",
      "   HIS31  NE2276   2.196   1.931\n",
      "   CYS54   SG446   2.781   2.718   1.052\n",
      "   CYS97   SG808   0.820   0.539   2.117   2.897\n",
      "  MET106   SD883   1.900   1.314   1.848   2.841   1.635\n",
      "  MET120   SD982   2.525   2.014   3.286   4.293   2.112   1.520\n",
      "Opening force field file /usr/local/gromacs/share/gromacs/top/amber99sb-ildn.ff/aminoacids.arn\n",
      "Opening force field file /usr/local/gromacs/share/gromacs/top/amber99sb-ildn.ff/dna.arn\n",
      "Opening force field file /usr/local/gromacs/share/gromacs/top/amber99sb-ildn.ff/rna.arn\n",
      "Before cleaning: 6889 pairs\n",
      "Before cleaning: 7252 dihedrals\n",
      "Keeping all generated dihedrals\n",
      "\n",
      "GROMACS reminds you: \"It's Not Dark Yet, But It's Getting There\" (Bob Dylan)\n",
      "\n",
      "\n",
      "2021-11-02 22:13:30,782 [MainThread  ] [INFO ]  Compressing topology to: 3HTB_pdb2gmx_top.zip\n",
      "2021-11-02 22:13:30,784 [MainThread  ] [INFO ]  Ignored file amber99sb-ildn.ff/forcefield.itp\n",
      "2021-11-02 22:13:30,796 [MainThread  ] [INFO ]  Ignored file amber99sb-ildn.ff/spce.itp\n",
      "2021-11-02 22:13:30,797 [MainThread  ] [INFO ]  Ignored file amber99sb-ildn.ff/ions.itp\n",
      "2021-11-02 22:13:30,800 [MainThread  ] [INFO ]  Adding:\n",
      "2021-11-02 22:13:30,800 [MainThread  ] [INFO ]  ['p2g.top', 'posre.itp']\n",
      "2021-11-02 22:13:30,801 [MainThread  ] [INFO ]  to: /home/dhnchandan/Documents/cc/gromacs/nb_md_analysis/project/notebooks/3HTB_pdb2gmx_top.zip\n",
      "2021-11-02 22:13:30,802 [MainThread  ] [INFO ]  Removed: ['p2g.top', 'posre.itp']\n"
     ]
    },
    {
     "data": {
      "text/plain": [
       "0"
      ]
     },
     "execution_count": 10,
     "metadata": {},
     "output_type": "execute_result"
    }
   ],
   "source": [
    "from biobb_md.gromacs.pdb2gmx import pdb2gmx\n",
    "\n",
    "prop = {\n",
    "    'force_field' : 'amber99sb-ildn',\n",
    "    'water_type': 'spce',\n",
    "#     'gmx_path': gmx_path\n",
    "}\n",
    "\n",
    "pdb2gmx(\n",
    "    input_pdb_path=fixed_pdb_out,\n",
    "    output_gro_path=output_pdb2gmx_gro,\n",
    "    output_top_zip_path=output_pdb2gmx_top_zip,\n",
    "    properties=prop\n",
    ")"
   ]
  },
  {
   "cell_type": "markdown",
   "metadata": {},
   "source": [
    "## Step 7: Preparing ligand\n",
    "\n",
    "- Force field: amberGAFF\n",
    "\n",
    "\n",
    "### Step 7.a: Add hydrogen atom"
   ]
  },
  {
   "cell_type": "code",
   "execution_count": 6,
   "metadata": {},
   "outputs": [],
   "source": [
    "output_reduce_h = ligandCode+'.reduce.H.pdb'"
   ]
  },
  {
   "cell_type": "code",
   "execution_count": 6,
   "metadata": {},
   "outputs": [
    {
     "name": "stdout",
     "output_type": "stream",
     "text": [
      "2021-11-03 06:04:29,096 [MainThread  ] [INFO ]  Not using any container\n",
      "2021-11-03 06:04:29,097 [MainThread  ] [INFO ]  reduce -NUClear -OH -ROTNH3 -ALLALT /home/dhnchandan/Documents/cc/gromacs/nb_md_analysis/project/notebooks/JZ4.pdb > JZ4.reduce.H.pdb\n",
      "\n",
      "2021-11-03 06:04:29,236 [MainThread  ] [INFO ]  Exit code 0\n",
      "\n",
      "2021-11-03 06:04:29,237 [MainThread  ] [INFO ]  reduce: version 3.3 06/02/2016, Copyright 1997-2016, J. Michael Word\n",
      "Processing file: \"/home/dhnchandan/Documents/cc/gromacs/nb_md_analysis/project/notebooks/JZ4.pdb\"\n",
      "Database of HETATM connections: \"/home/dhnchandan/anaconda3/envs/nb_md_analysis//dat/reduce_wwPDB_het_dict.txt\"\n",
      "VDW dot density = 16/A^2\n",
      "Orientation penalty scale = 1 (100%)\n",
      "Eliminate contacts within 3 bonds.\n",
      "Ignore atoms with |occupancy| <= 0.01 during adjustments.\n",
      "Waters ignored if B-Factor >= 40 or |occupancy| < 0.66\n",
      "Aromatic rings in amino acids accept hydrogen bonds.\n",
      "Building or keeping OH & SH Hydrogens.\n",
      "Rotating NH3 Hydrogens.\n",
      "Not processing Met methyls.\n",
      "WARNING: atom H13A from JZ4 will be treated as hydrogen\n",
      "WARNING: atom H14A from JZ4 will be treated as hydrogen\n",
      "WARNING: atom H13A from JZ4 will be treated as hydrogen\n",
      "WARNING: atom H13A from JZ4 will be treated as hydrogen\n",
      "WARNING: atom H14A from JZ4 will be treated as hydrogen\n",
      "WARNING: atom H14A from JZ4 will be treated as hydrogen\n",
      "WARNING: atom H14A from JZ4 will be treated as hydrogen\n",
      "WARNING: atom H14A from JZ4 will be treated as hydrogen\n",
      "WARNING: atom H13A from JZ4 will be treated as hydrogen\n",
      "WARNING: atom H13A from JZ4 will be treated as hydrogen\n",
      "WARNING: atom H14A from JZ4 will be treated as hydrogen\n",
      "WARNING: atom H13A from JZ4 will be treated as hydrogen\n",
      " Singles(size 1): A 167 JZ4 OAB \n",
      " orientation 1: A 167 JZ4 OAB :   rot  120: bump=0.000, HB=0.000, total=0.000\n",
      "Found 0 hydrogens (0 hets)\n",
      "Standardized 0 hydrogens (0 hets)\n",
      "Added 12 hydrogens (12 hets)\n",
      "Removed 0 hydrogens (0 hets)\n",
      "Adjusted 1 group(s)\n",
      "If you publish work which uses reduce, please cite:\n",
      "Word, et. al. (1999) J. Mol. Biol. 285, 1735-1747.\n",
      "For more information see http://kinemage.biochem.duke.edu\n",
      "\n"
     ]
    },
    {
     "data": {
      "text/plain": [
       "0"
      ]
     },
     "execution_count": 6,
     "metadata": {},
     "output_type": "execute_result"
    }
   ],
   "source": [
    "from biobb_chemistry.ambertools.reduce_add_hydrogens import reduce_add_hydrogens\n",
    "\n",
    "prop = {\n",
    "    'nuclear' : 'true'\n",
    "}\n",
    "\n",
    "reduce_add_hydrogens(\n",
    "    input_path=ligandFile,\n",
    "    output_path=output_reduce_h,\n",
    "    properties=prop\n",
    ")"
   ]
  },
  {
   "cell_type": "markdown",
   "metadata": {},
   "source": [
    "### Step 7.b: Energetically minimize the system"
   ]
  },
  {
   "cell_type": "code",
   "execution_count": 7,
   "metadata": {},
   "outputs": [],
   "source": [
    "output_babel_min = ligandCode+'.H.min.mol2'"
   ]
  },
  {
   "cell_type": "code",
   "execution_count": 7,
   "metadata": {},
   "outputs": [
    {
     "name": "stdout",
     "output_type": "stream",
     "text": [
      "2021-11-03 06:06:19,699 [MainThread  ] [INFO ]  Hydrogens  is not correct, assigned default value: False\n",
      "2021-11-03 06:06:19,700 [MainThread  ] [INFO ]  Steps  is not correct, assigned default value: 2500\n",
      "2021-11-03 06:06:19,701 [MainThread  ] [INFO ]  Cut-off  is not correct, assigned default value: False\n",
      "2021-11-03 06:06:19,701 [MainThread  ] [INFO ]  Rvdw  is not correct, assigned default value: 6.0\n",
      "2021-11-03 06:06:19,702 [MainThread  ] [INFO ]  Rele  is not correct, assigned default value: 10.0\n",
      "2021-11-03 06:06:19,703 [MainThread  ] [INFO ]  Frequency  is not correct, assigned default value: 10\n",
      "2021-11-03 06:06:19,703 [MainThread  ] [INFO ]  Not using any container\n",
      "2021-11-03 06:06:19,704 [MainThread  ] [INFO ]  obminimize -c 1e-10 -sd -ff GAFF -ipdb /home/dhnchandan/Documents/cc/gromacs/nb_md_analysis/project/notebooks/JZ4.reduce.H.pdb -omol2 > JZ4.H.min.mol2\n",
      "\n",
      "2021-11-03 06:06:20,287 [MainThread  ] [INFO ]  Exit code 0\n",
      "\n",
      "2021-11-03 06:06:20,288 [MainThread  ] [INFO ]  \n",
      "A T O M   T Y P E S\n",
      "\n",
      "IDX\tTYPE\tRING\n",
      "1\tc3\tNO\n",
      "2\tca\tAR\n",
      "3\tca\tAR\n",
      "4\tca\tAR\n",
      "5\tca\tAR\n",
      "6\tca\tAR\n",
      "7\tca\tAR\n",
      "8\tc3\tNO\n",
      "9\tc3\tNO\n",
      "10\toh\tNO\n",
      "11\tho\tNO\n",
      "12\thc\tNO\n",
      "13\thc\tNO\n",
      "14\tha\tNO\n",
      "15\tha\tNO\n",
      "16\tha\tNO\n",
      "17\thc\tNO\n",
      "18\thc\tNO\n",
      "19\thc\tNO\n",
      "20\thc\tNO\n",
      "21\thc\tNO\n",
      "22\tha\tNO\n",
      "\n",
      "C H A R G E S\n",
      "\n",
      "IDX\tCHARGE\n",
      "1\t-0.064979\n",
      "2\t-0.061278\n",
      "3\t-0.058294\n",
      "4\t-0.019907\n",
      "5\t0.120013\n",
      "6\t-0.055115\n",
      "7\t-0.005954\n",
      "8\t-0.024481\n",
      "9\t-0.051799\n",
      "10\t-0.506496\n",
      "11\t0.292144\n",
      "12\t0.026577\n",
      "13\t0.031423\n",
      "14\t0.065403\n",
      "15\t0.061871\n",
      "16\t0.061769\n",
      "17\t0.022987\n",
      "18\t0.022987\n",
      "19\t0.022987\n",
      "20\t0.026577\n",
      "21\t0.031423\n",
      "22\t0.062142\n",
      "\n",
      "S E T T I N G   U P   C A L C U L A T I O N S\n",
      "\n",
      "SETTING UP BOND CALCULATIONS...\n",
      "SETTING UP ANGLE CALCULATIONS...\n",
      "SETTING UP TORSION CALCULATIONS...\n",
      "SETTING UP IMPROPER TORSION CALCULATIONS...\n",
      "SETTING UP VAN DER WAALS CALCULATIONS...\n",
      "SETTING UP ELECTROSTATIC CALCULATIONS...\n",
      "\n",
      "S T E E P E S T   D E S C E N T\n",
      "\n",
      "STEPS = 2500\n",
      "\n",
      "STEP n       E(n)         E(n-1)    \n",
      "------------------------------------\n",
      "    0      50.048      ----\n",
      "   10    36.21724    36.73363\n",
      "   20    32.62519    32.90050\n",
      "   30    30.42176    30.60740\n",
      "   40    28.84022    28.98002\n",
      "   50    27.60107    27.71398\n",
      "   60    26.57419    26.66957\n",
      "   70    25.69242    25.77532\n",
      "   80    24.91809    24.99145\n",
      "   90    24.22825    24.29392\n",
      "  100    23.60848    23.66758\n",
      "  110    23.04960    23.10303\n",
      "  120    22.54147    22.59027\n",
      "  130    22.07638    22.12112\n",
      "  140    21.64899    21.69018\n",
      "  150    21.25485    21.29289\n",
      "  160    20.89018    20.92542\n",
      "  170    20.55172    20.58448\n",
      "  180    20.23672    20.26724\n",
      "  190    19.94279    19.97131\n",
      "  200    19.66791    19.69460\n",
      "  210    19.41032    19.43536\n",
      "  220    19.16851    19.19203\n",
      "  230    18.94116    18.96329\n",
      "  240    18.72713    18.74797\n",
      "  250    18.52541    18.54506\n",
      "  260    18.33510    18.35365\n",
      "  270    18.15542    18.17293\n",
      "  280    17.98563    18.00219\n",
      "  290    17.82510    17.84076\n",
      "  300    17.67323    17.68805\n",
      "  310    17.52948    17.54351\n",
      "  320    17.39335    17.40664\n",
      "  330    17.26438    17.27697\n",
      "  340    17.14215    17.15408\n",
      "  350    17.02625    17.03757\n",
      "  360    16.91633    16.92707\n",
      "  370    16.81204    16.82223\n",
      "  380    16.71305    16.72272\n",
      "  390    16.61907    16.62825\n",
      "  400    16.52981    16.53853\n",
      "  410    16.44502    16.45331\n",
      "  420    16.36444    16.37232\n",
      "  430    16.28785    16.29534\n",
      "  440    16.21503    16.22215\n",
      "  450    16.14577    16.15255\n",
      "  460    16.07989    16.08634\n",
      "  470    16.01721    16.02334\n",
      "  480    15.95755    15.96338\n",
      "  490    15.90076    15.90631\n",
      "  500    15.84668    15.85198\n",
      "  510    15.79519    15.80023\n",
      "  520    15.74614    15.75094\n",
      "  530    15.69941    15.70398\n",
      "  540    15.65488    15.65924\n",
      "  550    15.61245    15.61660\n",
      "  560    15.57200    15.57596\n",
      "  570    15.53344    15.53721\n",
      "  580    15.49667    15.50027\n",
      "  590    15.46160    15.46504\n",
      "  600    15.42816    15.43144\n",
      "  610    15.39626    15.39939\n",
      "  620    15.36583    15.36881\n",
      "  630    15.33679    15.33963\n",
      "  640    15.30908    15.31179\n",
      "  650    15.28263    15.28522\n",
      "  660    15.25739    15.25986\n",
      "  670    15.23329    15.23565\n",
      "  680    15.21029    15.21254\n",
      "  690    15.18832    15.19047\n",
      "  700    15.16735    15.16940\n",
      "  710    15.14731    15.14928\n",
      "  720    15.12818    15.13005\n",
      "  730    15.10990    15.11169\n",
      "  740    15.09243    15.09415\n",
      "  750    15.07575    15.07738\n",
      "  760    15.05980    15.06137\n",
      "  770    15.04456    15.04606\n",
      "  780    15.03000    15.03143\n",
      "  790    15.01607    15.01744\n",
      "  800    15.00276    15.00406\n",
      "  810    14.99002    14.99127\n",
      "  820    14.97785    14.97904\n",
      "  830    14.96620    14.96734\n",
      "  840    14.95506    14.95615\n",
      "  850    14.94439    14.94544\n",
      "  860    14.93419    14.93519\n",
      "  870    14.92442    14.92538\n",
      "  880    14.91506    14.91598\n",
      "  890    14.90611    14.90699\n",
      "  900    14.89753    14.89837\n",
      "  910    14.88931    14.89011\n",
      "  920    14.88143    14.88220\n",
      "  930    14.87387    14.87462\n",
      "  940    14.86663    14.86734\n",
      "  950    14.85968    14.86037\n",
      "  960    14.85302    14.85367\n",
      "  970    14.84662    14.84725\n",
      "  980    14.84048    14.84108\n",
      "  990    14.83458    14.83516\n",
      " 1000    14.82891    14.82946\n",
      " 1010    14.82345    14.82399\n",
      " 1020    14.81821    14.81873\n",
      " 1030    14.81316    14.81366\n",
      " 1040    14.80830    14.80878\n",
      " 1050    14.80362    14.80408\n",
      " 1060    14.79911    14.79956\n",
      " 1070    14.79476    14.79519\n",
      " 1080    14.79056    14.79097\n",
      " 1090    14.78650    14.78690\n",
      " 1100    14.78258    14.78297\n",
      " 1110    14.77879    14.77916\n",
      " 1120    14.77512    14.77548\n",
      " 1130    14.77156    14.77191\n",
      " 1140    14.76817    14.76848\n",
      " 1150    14.76611    14.76628\n",
      " 1160    14.76451    14.76467\n",
      " 1170    14.76294    14.76309\n",
      " 1180    14.76141    14.76156\n",
      " 1190    14.75991    14.76006\n",
      " 1200    14.75845    14.75860\n",
      " 1210    14.75702    14.75716\n",
      " 1220    14.75562    14.75576\n",
      " 1230    14.75426    14.75439\n",
      " 1240    14.75292    14.75305\n",
      " 1250    14.75161    14.75174\n",
      " 1260    14.75032    14.75045\n",
      " 1270    14.74906    14.74919\n",
      " 1280    14.74783    14.74795\n",
      " 1290    14.74662    14.74674\n",
      " 1300    14.74544    14.74556\n",
      " 1310    14.74428    14.74439\n",
      " 1320    14.74314    14.74325\n",
      " 1330    14.74202    14.74213\n",
      " 1340    14.74092    14.74103\n",
      " 1350    14.73984    14.73994\n",
      " 1360    14.73878    14.73888\n",
      " 1370    14.73773    14.73784\n",
      " 1380    14.73671    14.73681\n",
      " 1390    14.73570    14.73580\n",
      " 1400    14.73470    14.73480\n",
      " 1410    14.73372    14.73382\n",
      " 1420    14.73276    14.73286\n",
      " 1430    14.73181    14.73191\n",
      " 1440    14.73088    14.73097\n",
      " 1450    14.72995    14.73004\n",
      " 1460    14.72904    14.72913\n",
      " 1470    14.72814    14.72823\n",
      " 1480    14.72725    14.72734\n",
      " 1490    14.72637    14.72646\n",
      " 1500    14.72551    14.72560\n",
      " 1510    14.72493    14.72498\n",
      " 1520    14.72451    14.72455\n",
      " 1530    14.72409    14.72413\n",
      " 1540    14.72367    14.72372\n",
      " 1550    14.72327    14.72331\n",
      " 1560    14.72287    14.72291\n",
      " 1570    14.72247    14.72251\n",
      " 1580    14.72208    14.72212\n",
      " 1590    14.72170    14.72173\n",
      " 1600    14.72132    14.72135\n",
      " 1610    14.72094    14.72098\n",
      " 1620    14.72057    14.72061\n",
      " 1630    14.72021    14.72024\n",
      " 1640    14.71985    14.71988\n",
      " 1650    14.71949    14.71953\n",
      " 1660    14.71914    14.71918\n",
      " 1670    14.71880    14.71883\n",
      " 1680    14.71845    14.71849\n",
      " 1690    14.71812    14.71815\n",
      " 1700    14.71778    14.71782\n",
      " 1710    14.71745    14.71749\n",
      " 1720    14.71713    14.71716\n",
      " 1730    14.71681    14.71684\n",
      " 1740    14.71649    14.71652\n",
      " 1750    14.71617    14.71621\n",
      " 1760    14.71586    14.71589\n",
      " 1770    14.71556    14.71559\n",
      " 1780    14.71525    14.71528\n",
      " 1790    14.71495    14.71498\n",
      " 1800    14.71466    14.71469\n",
      " 1810    14.71436    14.71439\n",
      " 1820    14.71407    14.71410\n",
      " 1830    14.71378    14.71381\n",
      " 1840    14.71350    14.71353\n",
      " 1850    14.71324    14.71326\n",
      " 1860    14.71307    14.71309\n",
      " 1870    14.71292    14.71294\n",
      " 1880    14.71278    14.71279\n",
      " 1890    14.71263    14.71265\n",
      " 1900    14.71249    14.71250\n",
      " 1910    14.71235    14.71236\n",
      " 1920    14.71221    14.71222\n",
      " 1930    14.71207    14.71208\n",
      " 1940    14.71193    14.71195\n",
      " 1950    14.71180    14.71181\n",
      " 1960    14.71167    14.71168\n",
      " 1970    14.71154    14.71155\n",
      " 1980    14.71141    14.71142\n",
      " 1990    14.71128    14.71129\n",
      " 2000    14.71115    14.71117\n",
      " 2010    14.71103    14.71104\n",
      " 2020    14.71091    14.71092\n",
      " 2030    14.71079    14.71080\n",
      " 2040    14.71067    14.71068\n",
      " 2050    14.71055    14.71057\n",
      " 2060    14.71044    14.71045\n",
      " 2070    14.71032    14.71034\n",
      " 2080    14.71021    14.71022\n",
      " 2090    14.71010    14.71011\n",
      " 2100    14.70999    14.71000\n",
      " 2110    14.70988    14.70989\n",
      " 2120    14.70978    14.70979\n",
      " 2130    14.70967    14.70968\n",
      " 2140    14.70957    14.70958\n",
      " 2150    14.70947    14.70948\n",
      " 2160    14.70937    14.70938\n",
      " 2170    14.70927    14.70928\n",
      " 2180    14.70917    14.70918\n",
      " 2190    14.70908    14.70909\n",
      " 2200    14.70900    14.70900\n",
      " 2210    14.70894    14.70895\n",
      " 2220    14.70889    14.70889\n",
      " 2230    14.70883    14.70884\n",
      " 2240    14.70878    14.70879\n",
      " 2250    14.70873    14.70874\n",
      " 2260    14.70868    14.70869\n",
      " 2270    14.70863    14.70864\n",
      " 2280    14.70858    14.70859\n",
      " 2290    14.70854    14.70854\n",
      " 2300    14.70849    14.70849\n",
      " 2310    14.70844    14.70845\n",
      " 2320    14.70840    14.70840\n",
      " 2330    14.70835    14.70836\n",
      " 2340    14.70831    14.70831\n",
      " 2350    14.70826    14.70827\n",
      " 2360    14.70822    14.70823\n",
      " 2370    14.70818    14.70818\n",
      " 2380    14.70814    14.70814\n",
      " 2390    14.70810    14.70810\n",
      " 2400    14.70806    14.70806\n",
      " 2410    14.70802    14.70802\n",
      " 2420    14.70798    14.70798\n",
      " 2430    14.70794    14.70794\n",
      " 2440    14.70790    14.70791\n",
      " 2450    14.70786    14.70787\n",
      " 2460    14.70783    14.70783\n",
      " 2470    14.70779    14.70779\n",
      " 2480    14.70775    14.70776\n",
      " 2490    14.70772    14.70772\n",
      " 2500    14.70768    14.70769\n",
      "Time: 0.332334seconds. Iterations per second: 7525.56\n",
      "\n"
     ]
    },
    {
     "data": {
      "text/plain": [
       "0"
      ]
     },
     "execution_count": 7,
     "metadata": {},
     "output_type": "execute_result"
    }
   ],
   "source": [
    "from biobb_chemistry.babelm.babel_minimize import babel_minimize\n",
    "\n",
    "prop = {\n",
    "    'method' : 'sd',\n",
    "    'criteria' : '1e-10',\n",
    "    'force_field' : 'GAFF'\n",
    "}\n",
    "\n",
    "babel_minimize(\n",
    "    input_path=output_reduce_h,\n",
    "    output_path=output_babel_min,\n",
    "    properties=prop\n",
    ")"
   ]
  },
  {
   "cell_type": "markdown",
   "metadata": {},
   "source": [
    "### Step 7.c: Visualizing 3D structures"
   ]
  },
  {
   "cell_type": "code",
   "execution_count": 8,
   "metadata": {},
   "outputs": [
    {
     "data": {
      "application/vnd.jupyter.widget-view+json": {
       "model_id": "f5f3cae49a2c43fcae9f9b497d33c97f",
       "version_major": 2,
       "version_minor": 0
      },
      "text/plain": [
       "HBox(children=(NGLWidget(), NGLWidget(), NGLWidget()))"
      ]
     },
     "metadata": {},
     "output_type": "display_data"
    }
   ],
   "source": [
    "# Original structure view\n",
    "view_original = nglview.show_structure_file(ligandFile)\n",
    "view_original.add_representation(repr_type='ball+stick')\n",
    "view_original._remote_call('setSize', target='Widget', args=['350px','400px'])\n",
    "view_original.camera='orthographic'\n",
    "view_original\n",
    "\n",
    "# After adding hydrogen view\n",
    "view_h_added = nglview.show_structure_file(output_reduce_h)\n",
    "view_h_added.add_representation(repr_type='ball+stick')\n",
    "view_h_added._remote_call('setSize', target='Widget', args=['350px','400px'])\n",
    "view_h_added.camera='orthographic'\n",
    "view_h_added\n",
    "\n",
    "# After energy minimization view\n",
    "view_e_minimized = nglview.show_structure_file(output_babel_min)\n",
    "view_e_minimized.add_representation(repr_type='ball+stick')\n",
    "view_e_minimized._remote_call('setSize', target='Widget', args=['350px','400px'])\n",
    "view_e_minimized.camera='orthographic'\n",
    "view_e_minimized\n",
    "\n",
    "ipywidgets.HBox([view_original, view_h_added, view_e_minimized])"
   ]
  },
  {
   "cell_type": "markdown",
   "metadata": {},
   "source": [
    "### Step 7.d: Generating ligand topology"
   ]
  },
  {
   "cell_type": "code",
   "execution_count": 9,
   "metadata": {},
   "outputs": [],
   "source": [
    "output_acpype_gro = ligandCode+'params.gro'\n",
    "output_acpype_itp = ligandCode+'params.itp'\n",
    "output_acpype_top = ligandCode+'params.top'\n",
    "output_acpype = ligandCode+'params'"
   ]
  },
  {
   "cell_type": "code",
   "execution_count": 9,
   "metadata": {},
   "outputs": [
    {
     "name": "stdout",
     "output_type": "stream",
     "text": [
      "2021-11-03 06:12:26,193 [MainThread  ] [INFO ]  Not using any container\n",
      "2021-11-03 06:12:26,194 [MainThread  ] [INFO ]  acpype -i /home/dhnchandan/Documents/cc/gromacs/nb_md_analysis/project/notebooks/JZ4.H.min.mol2 -b JZ4params.U15Loq -n 0\n",
      "\n",
      "2021-11-03 06:12:27,738 [MainThread  ] [INFO ]  Exit code 0\n",
      "\n",
      "2021-11-03 06:12:27,739 [MainThread  ] [INFO ]  ========================================================================================\n",
      "| ACPYPE: AnteChamber PYthon Parser interfacE v. 2019-11-07T23:16:00CET (c) 2021 AWSdS |\n",
      "========================================================================================\n",
      "==> ... charge set to 0\n",
      "==> Executing Antechamber...\n",
      "==> * Antechamber OK *\n",
      "==> * Parmchk OK *\n",
      "==> Executing Tleap...\n",
      "++++++++++start_quote+++++++++++++++++++++++++++++++++++++++++++++++++++++++++++\n",
      "Checking 'JZ4'....\n",
      "Checking parameters for unit 'JZ4'.\n",
      "Checking for bond parameters.\n",
      "Checking for angle parameters.\n",
      "Unit is OK.\n",
      "++++++++++end_quote+++++++++++++++++++++++++++++++++++++++++++++++++++++++++++++\n",
      "==> * Tleap OK *\n",
      "==> Removing temporary files...\n",
      "==> Writing NEW PDB file\n",
      "\n",
      "==> Writing CNS/XPLOR files\n",
      "\n",
      "==> Writing GROMACS files\n",
      "\n",
      "==> Writing GMX dihedrals for GMX 4.5 and higher.\n",
      "\n",
      "==> Writing CHARMM files\n",
      "\n",
      "==> Writing pickle file JZ4params.U15Loq.pkl\n",
      "Total time of execution: 1s\n",
      "\n",
      "2021-11-03 06:12:27,742 [MainThread  ] [INFO ]  File JZ4params.gro succesfully created\n",
      "2021-11-03 06:12:27,744 [MainThread  ] [INFO ]  File JZ4params.itp succesfully created\n",
      "2021-11-03 06:12:27,745 [MainThread  ] [INFO ]  File JZ4params.top succesfully created\n",
      "2021-11-03 06:12:27,747 [MainThread  ] [INFO ]  Removed temporary folder: JZ4params.U15Loq.acpype\n"
     ]
    },
    {
     "data": {
      "text/plain": [
       "0"
      ]
     },
     "execution_count": 9,
     "metadata": {},
     "output_type": "execute_result"
    }
   ],
   "source": [
    "from biobb_chemistry.acpype.acpype_params_gmx import acpype_params_gmx\n",
    "\n",
    "prop = {\n",
    "    'basename' : output_acpype,\n",
    "    'charge' : mol_charge\n",
    "}\n",
    "\n",
    "acpype_params_gmx(\n",
    "    input_path=output_babel_min, \n",
    "    output_path_gro=output_acpype_gro,\n",
    "    output_path_itp=output_acpype_itp,\n",
    "    output_path_top=output_acpype_top,\n",
    "    properties=prop\n",
    ")"
   ]
  },
  {
   "cell_type": "markdown",
   "metadata": {},
   "source": [
    "## Step 8: Preparing Ligand Restraints\n",
    "\n",
    "In subsequent steps of the pipeline, such as the equilibration stages of the protein-ligand complex system, it is recommended to apply some restraints to the small molecule, to avoid a possible change in position due to protein repulsion. Position restraints will be applied to the ligand, using a force constant of 1000 KJ/mol*nm^2 on the three coordinates: x, y and z. In this steps the restriction files will be created and integrated in the ligand topology.\n",
    "\n",
    "\n",
    "### Step 8.a: Creating an index file for the small molecule heavy atoms"
   ]
  },
  {
   "cell_type": "code",
   "execution_count": 10,
   "metadata": {},
   "outputs": [],
   "source": [
    "output_ligand_ndx = ligandCode+'_index.ndx'"
   ]
  },
  {
   "cell_type": "code",
   "execution_count": 38,
   "metadata": {},
   "outputs": [
    {
     "name": "stdout",
     "output_type": "stream",
     "text": [
      "2021-11-04 06:37:35,956 [MainThread  ] [INFO ]  GROMACS MakeNdx 20191 version detected\n",
      "2021-11-04 06:37:35,957 [MainThread  ] [INFO ]  Not using any container\n",
      "2021-11-04 06:37:35,958 [MainThread  ] [INFO ]  echo -e '0 & ! a H*\\nq' | gmx -nobackup -nocopyright make_ndx -f JZ4params.gro -o JZ4_index.ndx\n",
      "\n",
      "2021-11-04 06:37:35,990 [MainThread  ] [INFO ]  Exit code 0\n",
      "\n",
      "2021-11-04 06:37:35,991 [MainThread  ] [INFO ]  Going to read 0 old index file(s)\n",
      "Analysing residue names:\n",
      "There are:     1      Other residues\n",
      "Analysing residues not classified as Protein/DNA/RNA/Water and splitting into groups...\n",
      "\n",
      "  0 System              :    22 atoms\n",
      "  1 Other               :    22 atoms\n",
      "  2 JZ4                 :    22 atoms\n",
      "\n",
      " nr : group      '!': not  'name' nr name   'splitch' nr    Enter: list groups\n",
      " 'a': atom       '&': and  'del' nr         'splitres' nr   'l': list residues\n",
      " 't': atom type  '|': or   'keep' nr        'splitat' nr    'h': help\n",
      " 'r': residue              'res' nr         'chain' char\n",
      " \"name\": group             'case': case sensitive           'q': save and quit\n",
      " 'ri': residue index\n",
      "\n",
      "> \n",
      "Copied index group 0 'System'\n",
      "Found 12 atoms with name H*\n",
      "Complemented group: 10 atoms\n",
      "Merged two groups with AND: 22 10 -> 10\n",
      "\n",
      "  3 System_&_!H*        :    10 atoms\n",
      "\n",
      "> \n",
      "\n",
      "2021-11-04 06:37:35,992 [MainThread  ] [INFO ]                       :-) GROMACS - gmx make_ndx, 2019.1 (-:\n",
      "\n",
      "Executable:   /home/dhnchandan/anaconda3/envs/nb_md_analysis/bin/gmx\n",
      "Data prefix:  /home/dhnchandan/anaconda3/envs/nb_md_analysis\n",
      "Working dir:  /home/dhnchandan/Documents/cc/gromacs/nb_md_analysis/project/notebooks\n",
      "Command line:\n",
      "  gmx -nobackup -nocopyright make_ndx -f JZ4params.gro -o JZ4_index.ndx\n",
      "\n",
      "\n",
      "Reading structure file\n",
      "\n",
      "GROMACS reminds you: \"There are two major products that come out of Berkeley: LSD and UNIX. We don't believe this to be a coincidence.\" (Jeremy Anderson)\n",
      "\n",
      "\n",
      "2021-11-04 06:37:35,993 [MainThread  ] [INFO ]  Removed: []\n"
     ]
    },
    {
     "data": {
      "text/plain": [
       "0"
      ]
     },
     "execution_count": 38,
     "metadata": {},
     "output_type": "execute_result"
    }
   ],
   "source": [
    "from biobb_md.gromacs.make_ndx import make_ndx\n",
    "\n",
    "prop = {\n",
    "    'selection': \"0 & ! a H*\",\n",
    "#     'gmx_path': gmx_path\n",
    "}\n",
    "\n",
    "make_ndx(\n",
    "    input_structure_path=output_acpype_gro,\n",
    "    output_ndx_path=output_ligand_ndx,\n",
    "    properties=prop\n",
    ")"
   ]
  },
  {
   "cell_type": "markdown",
   "metadata": {},
   "source": [
    "### Step 8.b: Generating the position restraints file"
   ]
  },
  {
   "cell_type": "code",
   "execution_count": 12,
   "metadata": {},
   "outputs": [],
   "source": [
    "output_restraints_top = ligandCode+'_posres.itp'"
   ]
  },
  {
   "cell_type": "code",
   "execution_count": 39,
   "metadata": {},
   "outputs": [
    {
     "name": "stdout",
     "output_type": "stream",
     "text": [
      "2021-11-04 06:37:44,477 [MainThread  ] [INFO ]  GROMACS Genrestr 20191 version detected\n",
      "2021-11-04 06:37:44,478 [MainThread  ] [INFO ]  Not using any container\n",
      "2021-11-04 06:37:44,480 [MainThread  ] [INFO ]  echo \"System\" | gmx -nobackup -nocopyright genrestr -f JZ4params.gro -o JZ4_posres.itp -fc 1000 1000 1000 -n JZ4_index.ndx\n",
      "\n",
      "2021-11-04 06:37:44,495 [MainThread  ] [INFO ]  Exit code 0\n",
      "\n",
      "2021-11-04 06:37:44,496 [MainThread  ] [INFO ]  Select group to position restrain\n",
      "Selected 0: 'System'\n",
      "\n",
      "2021-11-04 06:37:44,497 [MainThread  ] [INFO ]                       :-) GROMACS - gmx genrestr, 2019.1 (-:\n",
      "\n",
      "Executable:   /home/dhnchandan/anaconda3/envs/nb_md_analysis/bin/gmx\n",
      "Data prefix:  /home/dhnchandan/anaconda3/envs/nb_md_analysis\n",
      "Working dir:  /home/dhnchandan/Documents/cc/gromacs/nb_md_analysis/project/notebooks\n",
      "Command line:\n",
      "  gmx -nobackup -nocopyright genrestr -f JZ4params.gro -o JZ4_posres.itp -fc 1000 1000 1000 -n JZ4_index.ndx\n",
      "\n",
      "\n",
      "Reading structure file\n",
      "Group     0 (         System) has    22 elements\n",
      "Group     1 (          Other) has    22 elements\n",
      "Group     2 (            JZ4) has    22 elements\n",
      "Group     3 (   System_&_!H*) has    10 elements\n",
      "Select a group: \n",
      "GROMACS reminds you: \"I'm a Wishbone and I'm Breaking\" (Pixies)\n",
      "\n",
      "\n",
      "2021-11-04 06:37:44,498 [MainThread  ] [INFO ]  Removed: []\n"
     ]
    },
    {
     "data": {
      "text/plain": [
       "0"
      ]
     },
     "execution_count": 39,
     "metadata": {},
     "output_type": "execute_result"
    }
   ],
   "source": [
    "from biobb_md.gromacs.genrestr import genrestr\n",
    "\n",
    "prop = {\n",
    "    'force_constants': \"1000 1000 1000\",\n",
    "    'restrained_group': \"System\",\n",
    "#     'gmx_path': gmx_path\n",
    "}\n",
    "\n",
    "genrestr(\n",
    "    input_structure_path=output_acpype_gro,\n",
    "    input_ndx_path=output_ligand_ndx,\n",
    "    output_itp_path=output_restraints_top,\n",
    "    properties=prop\n",
    ")"
   ]
  },
  {
   "cell_type": "markdown",
   "metadata": {},
   "source": [
    "## Step 9: Creating protein-ligand complex structure file\n",
    "\n",
    "\n",
    "Building new protein-ligand complex PDB file with:\n",
    "- The new protein system with fixed problems from Step 5 (Fixing protein structure step) and hydrogens atoms added from Step 6 (Creating protein topology step).\n",
    "- The new ligand system with hydrogens atoms added from Step 7 (Preparing ligand step).\n"
   ]
  },
  {
   "cell_type": "code",
   "execution_count": 14,
   "metadata": {},
   "outputs": [],
   "source": [
    "proteinFile_H = pdbCode+'_'+ligandCode+'_complex_H.pdb'\n",
    "ligandFile_H = ligandCode+'_complex_H.pdb'\n",
    "complexFile_H = pdbCode+'_'+ligandCode+'_H.pdb'"
   ]
  },
  {
   "cell_type": "code",
   "execution_count": 40,
   "metadata": {},
   "outputs": [
    {
     "name": "stdout",
     "output_type": "stream",
     "text": [
      "2021-11-04 06:37:52,956 [MainThread  ] [INFO ]  Not using any container\n",
      "2021-11-04 06:37:52,957 [MainThread  ] [INFO ]  echo \"System\" | gmx trjconv -f /home/dhnchandan/Documents/cc/gromacs/nb_md_analysis/project/notebooks/3HTB_pdb2gmx.gro -s /home/dhnchandan/Documents/cc/gromacs/nb_md_analysis/project/notebooks/3HTB_pdb2gmx.gro -o 3HTB_JZ4_complex_H.pdb\n",
      "\n",
      "2021-11-04 06:37:52,998 [MainThread  ] [INFO ]  Exit code 0\n",
      "\n",
      "2021-11-04 06:37:53,000 [MainThread  ] [INFO ]  Note that major changes are planned in future for trjconv, to improve usability and utility.Select group for output\n",
      "Selected 0: 'System'\n",
      "\n",
      "2021-11-04 06:37:53,000 [MainThread  ] [INFO ]                       :-) GROMACS - gmx trjconv, 2019.1 (-:\n",
      "\n",
      "                            GROMACS is written by:\n",
      "     Emile Apol      Rossen Apostolov      Paul Bauer     Herman J.C. Berendsen\n",
      "    Par Bjelkmar      Christian Blau   Viacheslav Bolnykh     Kevin Boyd    \n",
      " Aldert van Buuren   Rudi van Drunen     Anton Feenstra       Alan Gray     \n",
      "  Gerrit Groenhof     Anca Hamuraru    Vincent Hindriksen  M. Eric Irrgang  \n",
      "  Aleksei Iupinov   Christoph Junghans     Joe Jordan     Dimitrios Karkoulis\n",
      "    Peter Kasson        Jiri Kraus      Carsten Kutzner      Per Larsson    \n",
      "  Justin A. Lemkul    Viveca Lindahl    Magnus Lundborg     Erik Marklund   \n",
      "    Pascal Merz     Pieter Meulenhoff    Teemu Murtola       Szilard Pall   \n",
      "    Sander Pronk      Roland Schulz      Michael Shirts    Alexey Shvetsov  \n",
      "   Alfons Sijbers     Peter Tieleman      Jon Vincent      Teemu Virolainen \n",
      " Christian Wennberg    Maarten Wolf   \n",
      "                           and the project leaders:\n",
      "        Mark Abraham, Berk Hess, Erik Lindahl, and David van der Spoel\n",
      "\n",
      "Copyright (c) 1991-2000, University of Groningen, The Netherlands.\n",
      "Copyright (c) 2001-2018, The GROMACS development team at\n",
      "Uppsala University, Stockholm University and\n",
      "the Royal Institute of Technology, Sweden.\n",
      "check out http://www.gromacs.org for more information.\n",
      "\n",
      "GROMACS is free software; you can redistribute it and/or modify it\n",
      "under the terms of the GNU Lesser General Public License\n",
      "as published by the Free Software Foundation; either version 2.1\n",
      "of the License, or (at your option) any later version.\n",
      "\n",
      "GROMACS:      gmx trjconv, version 2019.1\n",
      "Executable:   /home/dhnchandan/anaconda3/envs/nb_md_analysis/bin/gmx\n",
      "Data prefix:  /home/dhnchandan/anaconda3/envs/nb_md_analysis\n",
      "Working dir:  /home/dhnchandan/Documents/cc/gromacs/nb_md_analysis/project/notebooks\n",
      "Command line:\n",
      "  gmx trjconv -f /home/dhnchandan/Documents/cc/gromacs/nb_md_analysis/project/notebooks/3HTB_pdb2gmx.gro -s /home/dhnchandan/Documents/cc/gromacs/nb_md_analysis/project/notebooks/3HTB_pdb2gmx.gro -o 3HTB_JZ4_complex_H.pdb\n",
      "\n",
      "Will write pdb: Protein data bank file\n",
      "Group     0 (         System) has  2614 elements\n",
      "Group     1 (        Protein) has  2614 elements\n",
      "Group     2 (      Protein-H) has  1301 elements\n",
      "Group     3 (        C-alpha) has   163 elements\n",
      "Group     4 (       Backbone) has   489 elements\n",
      "Group     5 (      MainChain) has   653 elements\n",
      "Group     6 (   MainChain+Cb) has   805 elements\n",
      "Group     7 (    MainChain+H) has   815 elements\n",
      "Group     8 (      SideChain) has  1799 elements\n",
      "Group     9 (    SideChain-H) has   648 elements\n",
      "Select a group: Reading frames from gro file 'GROwing Monsters And Cloning Shrimps', 2614 atoms.\n",
      "Reading frame       0 time    0.000   \n",
      "Precision of /home/dhnchandan/Documents/cc/gromacs/nb_md_analysis/project/notebooks/3HTB_pdb2gmx.gro is 0.001 (nm)\n",
      "\n",
      "Back Off! I just backed up 3HTB_JZ4_complex_H.pdb to ./#3HTB_JZ4_complex_H.pdb.2#\n",
      "Last frame          0 time    0.000   \n",
      "\n",
      "\n",
      "GROMACS reminds you: \"If mathematical analysis should ever hold a prominent place in chemistry - an aberration which is happily almost impossible - it would occasion a rapid and widespread degeneration of that science.\" (Aguste Comte, 1830)\n",
      "\n",
      "\n",
      "2021-11-04 06:37:53,006 [MainThread  ] [INFO ]  Not using any container\n",
      "2021-11-04 06:37:53,007 [MainThread  ] [INFO ]  echo \"System\" | /usr/local/gromacs/bin/gmx trjconv -f /home/dhnchandan/Documents/cc/gromacs/nb_md_analysis/project/notebooks/JZ4params.gro -s /home/dhnchandan/Documents/cc/gromacs/nb_md_analysis/project/notebooks/JZ4params.gro -o JZ4_complex_H.pdb\n",
      "\n",
      "2021-11-04 06:37:53,051 [MainThread  ] [INFO ]  Exit code 0\n",
      "\n",
      "2021-11-04 06:37:53,052 [MainThread  ] [INFO ]  Note that major changes are planned in future for trjconv, to improve usability and utility.\n",
      "Select group for output\n",
      "Selected 0: 'System'\n",
      "\n",
      "2021-11-04 06:37:53,053 [MainThread  ] [INFO ]                       :-) GROMACS - gmx trjconv, 2021.2 (-:\n",
      "\n",
      "                            GROMACS is written by:\n",
      "     Andrey Alekseenko              Emile Apol              Rossen Apostolov     \n",
      "         Paul Bauer           Herman J.C. Berendsen           Par Bjelkmar       \n",
      "       Christian Blau           Viacheslav Bolnykh             Kevin Boyd        \n",
      "     Aldert van Buuren           Rudi van Drunen             Anton Feenstra      \n",
      "    Gilles Gouaillardet             Alan Gray               Gerrit Groenhof      \n",
      "       Anca Hamuraru            Vincent Hindriksen          M. Eric Irrgang      \n",
      "      Aleksei Iupinov           Christoph Junghans             Joe Jordan        \n",
      "    Dimitrios Karkoulis            Peter Kasson                Jiri Kraus        \n",
      "      Carsten Kutzner              Per Larsson              Justin A. Lemkul     \n",
      "       Viveca Lindahl            Magnus Lundborg             Erik Marklund       \n",
      "        Pascal Merz             Pieter Meulenhoff            Teemu Murtola       \n",
      "        Szilard Pall               Sander Pronk              Roland Schulz       \n",
      "       Michael Shirts            Alexey Shvetsov             Alfons Sijbers      \n",
      "       Peter Tieleman              Jon Vincent              Teemu Virolainen     \n",
      "     Christian Wennberg            Maarten Wolf              Artem Zhmurov       \n",
      "                           and the project leaders:\n",
      "        Mark Abraham, Berk Hess, Erik Lindahl, and David van der Spoel\n",
      "\n",
      "Copyright (c) 1991-2000, University of Groningen, The Netherlands.\n",
      "Copyright (c) 2001-2019, The GROMACS development team at\n",
      "Uppsala University, Stockholm University and\n",
      "the Royal Institute of Technology, Sweden.\n",
      "check out http://www.gromacs.org for more information.\n",
      "\n",
      "GROMACS is free software; you can redistribute it and/or modify it\n",
      "under the terms of the GNU Lesser General Public License\n",
      "as published by the Free Software Foundation; either version 2.1\n",
      "of the License, or (at your option) any later version.\n",
      "\n",
      "GROMACS:      gmx trjconv, version 2021.2\n",
      "Executable:   /usr/local/gromacs/bin/gmx\n",
      "Data prefix:  /usr/local/gromacs\n",
      "Working dir:  /home/dhnchandan/Documents/cc/gromacs/nb_md_analysis/project/notebooks\n",
      "Command line:\n",
      "  gmx trjconv -f /home/dhnchandan/Documents/cc/gromacs/nb_md_analysis/project/notebooks/JZ4params.gro -s /home/dhnchandan/Documents/cc/gromacs/nb_md_analysis/project/notebooks/JZ4params.gro -o JZ4_complex_H.pdb\n",
      "\n",
      "Will write pdb: Protein data bank file\n",
      "Group     0 (         System) has    22 elements\n",
      "Group     1 (          Other) has    22 elements\n",
      "Group     2 (            JZ4) has    22 elements\n",
      "Select a group: Reading frames from gro file 'JZ4params_GMX.gro created by acpype (v: 2019-11-07T23:16:00CET) on Wed Nov  3 06:12:26 2021', 22 atoms.\n",
      "Reading frame       0 time    0.000   \n",
      "Precision of /home/dhnchandan/Documents/cc/gromacs/nb_md_analysis/project/notebooks/JZ4params.gro is 0.001 (nm)\n",
      "\n",
      "Back Off! I just backed up JZ4_complex_H.pdb to ./#JZ4_complex_H.pdb.2#\n",
      "Last frame          0 time    0.000   \n",
      "\n",
      "\n",
      "GROMACS reminds you: \"It is Lunchtime\" (A.R. Van Buuren)\n",
      "\n",
      "\n",
      "2021-11-04 06:37:53,060 [MainThread  ] [INFO ]  Removed: []\n"
     ]
    },
    {
     "data": {
      "text/plain": [
       "0"
      ]
     },
     "execution_count": 40,
     "metadata": {},
     "output_type": "execute_result"
    }
   ],
   "source": [
    "from biobb_analysis.gromacs.gmx_trjconv_str import gmx_trjconv_str\n",
    "from biobb_structure_utils.utils.cat_pdb import cat_pdb\n",
    "\n",
    "# Convert gro (with hydrogens) to pdb (PROTEIN)\n",
    "prop = {\n",
    "    'selection' : 'System',\n",
    "#     'gmx_path': gmx_path\n",
    "}\n",
    "\n",
    "gmx_trjconv_str(\n",
    "    input_structure_path=output_pdb2gmx_gro,\n",
    "    input_top_path=output_pdb2gmx_gro,\n",
    "    output_str_path=proteinFile_H,\n",
    "    properties=prop,\n",
    ")\n",
    "\n",
    "# Convert gro (with hydrogens) to pdb (LIGAND)\n",
    "prop = {\n",
    "    'selection' : 'System',\n",
    "    'gmx_path': gmx_path\n",
    "}\n",
    "\n",
    "gmx_trjconv_str(\n",
    "    input_structure_path=output_acpype_gro,\n",
    "    input_top_path=output_acpype_gro,\n",
    "    output_str_path=ligandFile_H, \n",
    "    properties=prop\n",
    ")\n",
    "\n",
    "\n",
    "# Concatenating both PDB files: Protein + Ligand\n",
    "cat_pdb(\n",
    "    input_structure1=proteinFile_H,\n",
    "    input_structure2=ligandFile_H,\n",
    "    output_structure_path=complexFile_H\n",
    ")"
   ]
  },
  {
   "cell_type": "markdown",
   "metadata": {},
   "source": [
    "## Step 10: Creating topology file for new protein-ligand complex"
   ]
  },
  {
   "cell_type": "code",
   "execution_count": 16,
   "metadata": {},
   "outputs": [],
   "source": [
    "output_complex_top = pdbCode+'_'+ligandCode+'_complex.top.zip'\n",
    "posresifdef = \"POSRES_\"+ligandCode.upper()"
   ]
  },
  {
   "cell_type": "code",
   "execution_count": 17,
   "metadata": {},
   "outputs": [
    {
     "name": "stdout",
     "output_type": "stream",
     "text": [
      "2021-11-04 05:55:23,008 [MainThread  ] [INFO ]  Extracting: /home/dhnchandan/Documents/cc/gromacs/nb_md_analysis/project/notebooks/3HTB_pdb2gmx_top.zip\n",
      "2021-11-04 05:55:23,009 [MainThread  ] [INFO ]  to:\n",
      "2021-11-04 05:55:23,010 [MainThread  ] [INFO ]  ['e0d55218-3a3c-4309-8a5b-3882b91a5430/p2g.top', 'e0d55218-3a3c-4309-8a5b-3882b91a5430/posre.itp']\n",
      "2021-11-04 05:55:23,010 [MainThread  ] [INFO ]  Unzipping: \n",
      "2021-11-04 05:55:23,011 [MainThread  ] [INFO ]  3HTB_pdb2gmx_top.zip\n",
      "2021-11-04 05:55:23,012 [MainThread  ] [INFO ]  To: \n",
      "2021-11-04 05:55:23,012 [MainThread  ] [INFO ]  e0d55218-3a3c-4309-8a5b-3882b91a5430/p2g.top\n",
      "2021-11-04 05:55:23,013 [MainThread  ] [INFO ]  e0d55218-3a3c-4309-8a5b-3882b91a5430/posre.itp\n",
      "2021-11-04 05:55:23,041 [MainThread  ] [INFO ]  Compressing topology to: 3HTB_JZ4_complex.top.zip\n",
      "2021-11-04 05:55:23,043 [MainThread  ] [INFO ]  Ignored file e0d55218-3a3c-4309-8a5b-3882b91a5430/amber99sb-ildn.ff/forcefield.itp\n",
      "2021-11-04 05:55:23,058 [MainThread  ] [INFO ]  Ignored file e0d55218-3a3c-4309-8a5b-3882b91a5430/amber99sb-ildn.ff/spce.itp\n",
      "2021-11-04 05:55:23,059 [MainThread  ] [INFO ]  Ignored file e0d55218-3a3c-4309-8a5b-3882b91a5430/amber99sb-ildn.ff/ions.itp\n",
      "2021-11-04 05:55:23,063 [MainThread  ] [INFO ]  Adding:\n",
      "2021-11-04 05:55:23,064 [MainThread  ] [INFO ]  ['e0d55218-3a3c-4309-8a5b-3882b91a5430/JZ4_posres.itp', 'e0d55218-3a3c-4309-8a5b-3882b91a5430/JZ4params.itp', 'e0d55218-3a3c-4309-8a5b-3882b91a5430/ligand.top', 'e0d55218-3a3c-4309-8a5b-3882b91a5430/posre.itp']\n",
      "2021-11-04 05:55:23,065 [MainThread  ] [INFO ]  to: /home/dhnchandan/Documents/cc/gromacs/nb_md_analysis/project/notebooks/3HTB_JZ4_complex.top.zip\n",
      "2021-11-04 05:55:23,066 [MainThread  ] [INFO ]  Removed: ['e0d55218-3a3c-4309-8a5b-3882b91a5430']\n"
     ]
    },
    {
     "data": {
      "text/plain": [
       "0"
      ]
     },
     "execution_count": 17,
     "metadata": {},
     "output_type": "execute_result"
    }
   ],
   "source": [
    "from biobb_md.gromacs_extra.append_ligand import append_ligand\n",
    "\n",
    "prop = {\n",
    "    'posres_name': posresifdef\n",
    "}\n",
    "\n",
    "append_ligand(\n",
    "    input_top_zip_path=output_pdb2gmx_top_zip,\n",
    "    input_posres_itp_path=output_restraints_top,\n",
    "    input_itp_path=output_acpype_itp, \n",
    "    output_top_zip_path=output_complex_top,\n",
    "    properties=prop\n",
    ")"
   ]
  },
  {
   "cell_type": "markdown",
   "metadata": {},
   "source": [
    "## Step 11: Creating solvent box\n",
    "\n",
    "\n",
    "Define the unit cell for the protein-ligand complex to fill it with water molecules.\n",
    "\n",
    "- Box type: Truncated octahedron (best for spheric globular protein)\n",
    "- Distance: 0.8 nm (protein to box)\n",
    "- Protein postion: centered in the box"
   ]
  },
  {
   "cell_type": "code",
   "execution_count": 18,
   "metadata": {},
   "outputs": [],
   "source": [
    "output_editconf_gro = pdbCode+'_'+ligandCode+'_complex_editconf.gro'"
   ]
  },
  {
   "cell_type": "code",
   "execution_count": 41,
   "metadata": {},
   "outputs": [
    {
     "name": "stdout",
     "output_type": "stream",
     "text": [
      "2021-11-04 06:38:02,752 [MainThread  ] [INFO ]  Centering molecule in the box.\n",
      "2021-11-04 06:38:02,753 [MainThread  ] [INFO ]  Distance of the box to molecule:   0.80\n",
      "2021-11-04 06:38:02,754 [MainThread  ] [INFO ]  Box type: octahedron\n",
      "2021-11-04 06:38:02,754 [MainThread  ] [INFO ]  GROMACS Editconf 20191 version detected\n",
      "2021-11-04 06:38:02,755 [MainThread  ] [INFO ]  Not using any container\n",
      "2021-11-04 06:38:02,756 [MainThread  ] [INFO ]  gmx -nobackup -nocopyright editconf -f 3HTB_JZ4_H.pdb -o 3HTB_JZ4_complex_editconf.gro -d 0.8 -bt octahedron -c\n",
      "\n",
      "2021-11-04 06:38:02,808 [MainThread  ] [INFO ]  Exit code 0\n",
      "\n",
      "2021-11-04 06:38:02,809 [MainThread  ] [INFO ]  Note that major changes are planned in future for editconf, to improve usability and utility.Read 2636 atoms\n",
      "Volume: 1322.64 nm^3, corresponds to roughly 595100 electrons\n",
      "No velocities found\n",
      "    system size :  4.069  4.192  5.073 (nm)\n",
      "    diameter    :  5.849               (nm)\n",
      "    center      :  2.241 -1.669 -0.935 (nm)\n",
      "    box vectors :  8.398 10.808 14.572 (nm)\n",
      "    box angles  :  90.00  90.00  90.00 (degrees)\n",
      "    box volume  :1322.64               (nm^3)\n",
      "    shift       :  1.483  6.937  3.976 (nm)\n",
      "new center      :  3.725  5.267  3.041 (nm)\n",
      "new box vectors :  7.449  7.449  7.449 (nm)\n",
      "new box angles  :  70.53 109.47  70.53 (degrees)\n",
      "new box volume  : 318.21               (nm^3)\n",
      "\n",
      "2021-11-04 06:38:02,809 [MainThread  ] [INFO ]                       :-) GROMACS - gmx editconf, 2019.1 (-:\n",
      "\n",
      "Executable:   /home/dhnchandan/anaconda3/envs/nb_md_analysis/bin/gmx\n",
      "Data prefix:  /home/dhnchandan/anaconda3/envs/nb_md_analysis\n",
      "Working dir:  /home/dhnchandan/Documents/cc/gromacs/nb_md_analysis/project/notebooks\n",
      "Command line:\n",
      "  gmx -nobackup -nocopyright editconf -f 3HTB_JZ4_H.pdb -o 3HTB_JZ4_complex_editconf.gro -d 0.8 -bt octahedron -c\n",
      "\n",
      "\n",
      "GROMACS reminds you: \"I believe the big bang of self-driving cars is about to come.\" (Jen-Hsun Huang, CEO NVIDIA)\n",
      "\n",
      "\n",
      "2021-11-04 06:38:02,810 [MainThread  ] [INFO ]  Removed: []\n"
     ]
    },
    {
     "data": {
      "text/plain": [
       "0"
      ]
     },
     "execution_count": 41,
     "metadata": {},
     "output_type": "execute_result"
    }
   ],
   "source": [
    "from biobb_md.gromacs.editconf import editconf\n",
    "\n",
    "prop = {\n",
    "    'box_type': 'octahedron',\n",
    "    'distance_to_molecule': 0.8,\n",
    "#     'gmx_path': gmx_path\n",
    "}\n",
    "\n",
    "editconf(\n",
    "    input_gro_path=complexFile_H, \n",
    "    output_gro_path=output_editconf_gro,\n",
    "    properties=prop\n",
    ")"
   ]
  },
  {
   "cell_type": "markdown",
   "metadata": {},
   "source": [
    "## Step 12: Filling solvent box with water molecules\n",
    "\n",
    "- Water model: SPC (equilibrated 3-point solvent model)"
   ]
  },
  {
   "cell_type": "code",
   "execution_count": 27,
   "metadata": {},
   "outputs": [],
   "source": [
    "output_solvate_gro = pdbCode+'_'+ligandCode+'_solvate.gro'\n",
    "output_solvate_top_zip = pdbCode+'_'+ligandCode+'_solvate_top.zip'"
   ]
  },
  {
   "cell_type": "code",
   "execution_count": 42,
   "metadata": {},
   "outputs": [
    {
     "name": "stdout",
     "output_type": "stream",
     "text": [
      "2021-11-04 06:38:16,560 [MainThread  ] [INFO ]  Extracting: /home/dhnchandan/Documents/cc/gromacs/nb_md_analysis/project/notebooks/3HTB_JZ4_complex.top.zip\n",
      "2021-11-04 06:38:16,562 [MainThread  ] [INFO ]  to:\n",
      "2021-11-04 06:38:16,563 [MainThread  ] [INFO ]  ['f4f57e82-d94a-48ed-a37b-bb40f75acb24/JZ4_posres.itp', 'f4f57e82-d94a-48ed-a37b-bb40f75acb24/JZ4params.itp', 'f4f57e82-d94a-48ed-a37b-bb40f75acb24/ligand.top', 'f4f57e82-d94a-48ed-a37b-bb40f75acb24/posre.itp']\n",
      "2021-11-04 06:38:16,564 [MainThread  ] [INFO ]  Unzipping: \n",
      "2021-11-04 06:38:16,566 [MainThread  ] [INFO ]  3HTB_JZ4_complex.top.zip\n",
      "2021-11-04 06:38:16,567 [MainThread  ] [INFO ]  To: \n",
      "2021-11-04 06:38:16,567 [MainThread  ] [INFO ]  f4f57e82-d94a-48ed-a37b-bb40f75acb24/JZ4_posres.itp\n",
      "2021-11-04 06:38:16,568 [MainThread  ] [INFO ]  f4f57e82-d94a-48ed-a37b-bb40f75acb24/JZ4params.itp\n",
      "2021-11-04 06:38:16,569 [MainThread  ] [INFO ]  f4f57e82-d94a-48ed-a37b-bb40f75acb24/ligand.top\n",
      "2021-11-04 06:38:16,569 [MainThread  ] [INFO ]  f4f57e82-d94a-48ed-a37b-bb40f75acb24/posre.itp\n",
      "2021-11-04 06:38:16,570 [MainThread  ] [INFO ]  GROMACS Solvate 20191 version detected\n",
      "2021-11-04 06:38:16,571 [MainThread  ] [INFO ]  Not using any container\n",
      "2021-11-04 06:38:16,572 [MainThread  ] [INFO ]  gmx -nobackup -nocopyright solvate -cp 3HTB_JZ4_complex_editconf.gro -cs spc216.gro -o 3HTB_JZ4_solvate.gro -p f4f57e82-d94a-48ed-a37b-bb40f75acb24/ligand.top\n",
      "\n",
      "2021-11-04 06:38:16,847 [MainThread  ] [INFO ]  Exit code 0\n",
      "\n",
      "2021-11-04 06:38:16,849 [MainThread  ] [INFO ]  \n",
      "WARNING: Masses and atomic (Van der Waals) radii will be guessed\n",
      "         based on residue and atom names, since they could not be\n",
      "         definitively assigned from the information in your input\n",
      "         files. These guessed numbers might deviate from the mass\n",
      "         and radius of the atom type. Please check the output\n",
      "         files if necessary.\n",
      "\n",
      "NOTE: From version 5.0 gmx solvate uses the Van der Waals radii\n",
      "from the source below. This means the results may be different\n",
      "compared to previous GROMACS versions.\n",
      "\n",
      "++++ PLEASE READ AND CITE THE FOLLOWING REFERENCE ++++\n",
      "A. Bondi\n",
      "van der Waals Volumes and Radii\n",
      "J. Phys. Chem. 68 (1964) pp. 441-451\n",
      "-------- -------- --- Thank You --- -------- --------\n",
      "\n",
      "Adding line for 9531 solvent molecules with resname (SOL) to topology file (f4f57e82-d94a-48ed-a37b-bb40f75acb24/ligand.top)\n",
      "\n",
      "2021-11-04 06:38:16,850 [MainThread  ] [INFO ]                       :-) GROMACS - gmx solvate, 2019.1 (-:\n",
      "\n",
      "Executable:   /home/dhnchandan/anaconda3/envs/nb_md_analysis/bin/gmx\n",
      "Data prefix:  /home/dhnchandan/anaconda3/envs/nb_md_analysis\n",
      "Working dir:  /home/dhnchandan/Documents/cc/gromacs/nb_md_analysis/project/notebooks\n",
      "Command line:\n",
      "  gmx -nobackup -nocopyright solvate -cp 3HTB_JZ4_complex_editconf.gro -cs spc216.gro -o 3HTB_JZ4_solvate.gro -p f4f57e82-d94a-48ed-a37b-bb40f75acb24/ligand.top\n",
      "\n",
      "Reading solute configuration\n",
      "Reading solvent configuration\n",
      "\n",
      "Initialising inter-atomic distances...\n",
      "Generating solvent configuration\n",
      "Will generate new solvent configuration of 5x4x4 boxes\n",
      "Solvent box contains 36060 atoms in 12020 residues\n",
      "Removed 5094 solvent atoms due to solvent-solvent overlap\n",
      "Removed 2373 solvent atoms due to solute-solvent overlap\n",
      "Sorting configuration\n",
      "Found 1 molecule type:\n",
      "    SOL (   3 atoms):  9531 residues\n",
      "Generated solvent containing 28593 atoms in 9531 residues\n",
      "Writing generated configuration to 3HTB_JZ4_solvate.gro\n",
      "\n",
      "Output configuration contains 31229 atoms in 9695 residues\n",
      "Volume                 :     318.205 (nm^3)\n",
      "Density                :     1000.12 (g/l)\n",
      "Number of solvent molecules:   9531   \n",
      "\n",
      "Processing topology\n",
      "\n",
      "GROMACS reminds you: \"Rub It Right Accross Your Eyes\" (F. Zappa)\n",
      "\n",
      "\n",
      "2021-11-04 06:38:16,851 [MainThread  ] [INFO ]  Compressing topology to: 3HTB_JZ4_solvate_top.zip\n",
      "2021-11-04 06:38:16,852 [MainThread  ] [INFO ]  Ignored file f4f57e82-d94a-48ed-a37b-bb40f75acb24/amber99sb-ildn.ff/forcefield.itp\n",
      "2021-11-04 06:38:16,865 [MainThread  ] [INFO ]  Ignored file f4f57e82-d94a-48ed-a37b-bb40f75acb24/amber99sb-ildn.ff/spce.itp\n",
      "2021-11-04 06:38:16,866 [MainThread  ] [INFO ]  Ignored file f4f57e82-d94a-48ed-a37b-bb40f75acb24/amber99sb-ildn.ff/ions.itp\n",
      "2021-11-04 06:38:16,873 [MainThread  ] [INFO ]  Adding:\n",
      "2021-11-04 06:38:16,874 [MainThread  ] [INFO ]  ['f4f57e82-d94a-48ed-a37b-bb40f75acb24/JZ4_posres.itp', 'f4f57e82-d94a-48ed-a37b-bb40f75acb24/JZ4params.itp', 'f4f57e82-d94a-48ed-a37b-bb40f75acb24/ligand.top', 'f4f57e82-d94a-48ed-a37b-bb40f75acb24/posre.itp']\n",
      "2021-11-04 06:38:16,875 [MainThread  ] [INFO ]  to: /home/dhnchandan/Documents/cc/gromacs/nb_md_analysis/project/notebooks/3HTB_JZ4_solvate_top.zip\n",
      "2021-11-04 06:38:16,876 [MainThread  ] [INFO ]  Removed: ['f4f57e82-d94a-48ed-a37b-bb40f75acb24']\n"
     ]
    },
    {
     "data": {
      "text/plain": [
       "0"
      ]
     },
     "execution_count": 42,
     "metadata": {},
     "output_type": "execute_result"
    }
   ],
   "source": [
    "from biobb_md.gromacs.solvate import solvate\n",
    "\n",
    "prop = {\n",
    "#     'gmx_path': gmx_path\n",
    "}\n",
    "\n",
    "solvate(\n",
    "    input_solute_gro_path=output_editconf_gro,\n",
    "    output_gro_path=output_solvate_gro,\n",
    "    input_top_zip_path=output_complex_top,\n",
    "    output_top_zip_path=output_solvate_top_zip,\n",
    "    properties=prop\n",
    ")"
   ]
  },
  {
   "cell_type": "markdown",
   "metadata": {},
   "source": [
    "## Step 13: Visualizing 3D structure"
   ]
  },
  {
   "cell_type": "code",
   "execution_count": 30,
   "metadata": {},
   "outputs": [
    {
     "data": {
      "application/vnd.jupyter.widget-view+json": {
       "model_id": "dcfe1e724fc74b41b38e4162e1321806",
       "version_major": 2,
       "version_minor": 0
      },
      "text/plain": [
       "NGLWidget()"
      ]
     },
     "metadata": {},
     "output_type": "display_data"
    }
   ],
   "source": [
    "#Show protein\n",
    "view = nglview.show_structure_file(output_solvate_gro)\n",
    "view.clear_representations()\n",
    "view.add_representation(repr_type='cartoon', selection='protein', color='sstruc')\n",
    "view.add_representation(repr_type='licorice', radius='.5', selection=ligandCode)\n",
    "view.add_representation(repr_type='line', linewidth='1', selection='SOL', opacity='.3')\n",
    "view._remote_call('setSize', target='Widget', args=['','600px'])\n",
    "view.camera='orthographic'\n",
    "\n",
    "view.render_image()\n",
    "view.download_image(filename='solvent_box.png')\n",
    "\n",
    "view"
   ]
  },
  {
   "cell_type": "markdown",
   "metadata": {},
   "source": [
    "## Step 14: Adding ions\n",
    "\n",
    "\n",
    "Add ions to neutralize the protein-ligand complex and reach a desired ionic concentration.\n",
    "\n",
    "- Creating portable binary run file for ion generation\n",
    "- Adding ions to neutralize the system and reach a 0.05 molar ionic concentration\n",
    "\n",
    "### Step 14.a: Creating binary run file"
   ]
  },
  {
   "cell_type": "code",
   "execution_count": 35,
   "metadata": {},
   "outputs": [],
   "source": [
    "output_gppion_tpr = pdbCode+'_'+ligandCode+'_complex_gppion.tpr'"
   ]
  },
  {
   "cell_type": "code",
   "execution_count": 43,
   "metadata": {},
   "outputs": [
    {
     "name": "stdout",
     "output_type": "stream",
     "text": [
      "2021-11-04 06:38:23,768 [MainThread  ] [INFO ]  Extracting: /home/dhnchandan/Documents/cc/gromacs/nb_md_analysis/project/notebooks/3HTB_JZ4_solvate_top.zip\n",
      "2021-11-04 06:38:23,770 [MainThread  ] [INFO ]  to:\n",
      "2021-11-04 06:38:23,770 [MainThread  ] [INFO ]  ['fe7be492-16a0-45a1-bd35-6ca44b2b708d/JZ4_posres.itp', 'fe7be492-16a0-45a1-bd35-6ca44b2b708d/JZ4params.itp', 'fe7be492-16a0-45a1-bd35-6ca44b2b708d/ligand.top', 'fe7be492-16a0-45a1-bd35-6ca44b2b708d/posre.itp']\n",
      "2021-11-04 06:38:23,771 [MainThread  ] [INFO ]  Unzipping: \n",
      "2021-11-04 06:38:23,772 [MainThread  ] [INFO ]  3HTB_JZ4_solvate_top.zip\n",
      "2021-11-04 06:38:23,772 [MainThread  ] [INFO ]  To: \n",
      "2021-11-04 06:38:23,773 [MainThread  ] [INFO ]  fe7be492-16a0-45a1-bd35-6ca44b2b708d/JZ4_posres.itp\n",
      "2021-11-04 06:38:23,774 [MainThread  ] [INFO ]  fe7be492-16a0-45a1-bd35-6ca44b2b708d/JZ4params.itp\n",
      "2021-11-04 06:38:23,774 [MainThread  ] [INFO ]  fe7be492-16a0-45a1-bd35-6ca44b2b708d/ligand.top\n",
      "2021-11-04 06:38:23,775 [MainThread  ] [INFO ]  fe7be492-16a0-45a1-bd35-6ca44b2b708d/posre.itp\n",
      "2021-11-04 06:38:23,776 [MainThread  ] [INFO ]  GROMACS Grompp 20191 version detected\n",
      "2021-11-04 06:38:23,776 [MainThread  ] [INFO ]  Not using any container\n",
      "2021-11-04 06:38:23,777 [MainThread  ] [INFO ]  gmx -nobackup -nocopyright grompp -f f1600fae-8a67-498e-a0a0-6cd0074f2549/grompp.mdp -c 3HTB_JZ4_solvate.gro -r 3HTB_JZ4_solvate.gro -p fe7be492-16a0-45a1-bd35-6ca44b2b708d/ligand.top -o 3HTB_JZ4_complex_gppion.tpr -po mdout.mdp -maxwarn 1\n",
      "\n",
      "2021-11-04 06:38:24,117 [MainThread  ] [INFO ]  Exit code 0\n",
      "\n",
      "2021-11-04 06:38:24,118 [MainThread  ] [INFO ]  \n",
      "++++ PLEASE READ AND CITE THE FOLLOWING REFERENCE ++++\n",
      "J. S. Hub, B. L. de Groot, H. Grubmueller, G. Groenhof\n",
      "Quantifying Artifacts in Ewald Simulations of Inhomogeneous Systems with a Net\n",
      "Charge\n",
      "J. Chem. Theory Comput. 10 (2014) pp. 381-393\n",
      "-------- -------- --- Thank You --- -------- --------\n",
      "\n",
      "Analysing residue names:\n",
      "There are:   163    Protein residues\n",
      "There are:     1      Other residues\n",
      "There are:  9531      Water residues\n",
      "Analysing Protein...\n",
      "Analysing residues not classified as Protein/DNA/RNA/Water and splitting into groups...\n",
      "Calculating fourier grid dimensions for X Y Z\n",
      "Using a fourier grid of 64x64x64, spacing 0.116 0.116 0.116\n",
      "This run will generate roughly 2 Mb of data\n",
      "\n",
      "2021-11-04 06:38:24,119 [MainThread  ] [INFO ]                        :-) GROMACS - gmx grompp, 2019.1 (-:\n",
      "\n",
      "Executable:   /home/dhnchandan/anaconda3/envs/nb_md_analysis/bin/gmx\n",
      "Data prefix:  /home/dhnchandan/anaconda3/envs/nb_md_analysis\n",
      "Working dir:  /home/dhnchandan/Documents/cc/gromacs/nb_md_analysis/project/notebooks\n",
      "Command line:\n",
      "  gmx -nobackup -nocopyright grompp -f f1600fae-8a67-498e-a0a0-6cd0074f2549/grompp.mdp -c 3HTB_JZ4_solvate.gro -r 3HTB_JZ4_solvate.gro -p fe7be492-16a0-45a1-bd35-6ca44b2b708d/ligand.top -o 3HTB_JZ4_complex_gppion.tpr -po mdout.mdp -maxwarn 1\n",
      "\n",
      "Setting the LD random seed to 554280203\n",
      "Generated 2556 of the 2556 non-bonded parameter combinations\n",
      "Generating 1-4 interactions: fudge = 0.5\n",
      "Generated 2556 of the 2556 1-4 parameter combinations\n",
      "Excluding 3 bonded neighbours molecule type 'Protein_chain_A'\n",
      "Excluding 3 bonded neighbours molecule type 'JZ4params'\n",
      "Excluding 2 bonded neighbours molecule type 'SOL'\n",
      "\n",
      "NOTE 1 [file ligand.top, line 24863]:\n",
      "  System has non-zero total charge: 5.999999\n",
      "  Total charge should normally be an integer. See\n",
      "  http://www.gromacs.org/Documentation/Floating_Point_Arithmetic\n",
      "  for discussion on how close it should be to an integer.\n",
      "  \n",
      "\n",
      "\n",
      "\n",
      "WARNING 1 [file ligand.top, line 24863]:\n",
      "  You are using Ewald electrostatics in a system with net charge. This can\n",
      "  lead to severe artifacts, such as ions moving into regions with low\n",
      "  dielectric, due to the uniform background charge. We suggest to\n",
      "  neutralize your system with counter ions, possibly in combination with a\n",
      "  physiological salt concentration.\n",
      "\n",
      "Removing all charge groups because cutoff-scheme=Verlet\n",
      "Number of degrees of freedom in T-Coupling group rest is 65091.00\n",
      "Estimate for the relative computational load of the PME mesh part: 0.18\n",
      "\n",
      "There was 1 note\n",
      "\n",
      "There was 1 warning\n",
      "\n",
      "GROMACS reminds you: \"Here, kitty, kitty...\" (Erwin Schroedinger)\n",
      "\n",
      "\n",
      "2021-11-04 06:38:24,121 [MainThread  ] [INFO ]  Removed: ['fe7be492-16a0-45a1-bd35-6ca44b2b708d', 'f1600fae-8a67-498e-a0a0-6cd0074f2549', 'mdout.mdp']\n"
     ]
    },
    {
     "data": {
      "text/plain": [
       "0"
      ]
     },
     "execution_count": 43,
     "metadata": {},
     "output_type": "execute_result"
    }
   ],
   "source": [
    "from biobb_md.gromacs.grompp import grompp\n",
    "\n",
    "prop = {\n",
    "    'mdp':{\n",
    "        'nsteps':'5000'\n",
    "    },\n",
    "    'simulation_type':'minimization',\n",
    "    'maxwarn': 1,\n",
    "#     'gmx_path': gmx_path\n",
    "}\n",
    "\n",
    "grompp(\n",
    "    input_gro_path=output_solvate_gro,\n",
    "    input_top_zip_path=output_solvate_top_zip, \n",
    "    output_tpr_path=output_gppion_tpr,\n",
    "    properties=prop\n",
    ")"
   ]
  },
  {
   "cell_type": "markdown",
   "metadata": {},
   "source": [
    "### Step 14.b: Neutralizing the system"
   ]
  },
  {
   "cell_type": "code",
   "execution_count": 33,
   "metadata": {},
   "outputs": [],
   "source": [
    "output_genion_gro = pdbCode+'_'+ligandCode+'_genion.gro'\n",
    "output_genion_top_zip = pdbCode+'_'+ligandCode+'_genion_top.zip'"
   ]
  },
  {
   "cell_type": "code",
   "execution_count": 44,
   "metadata": {},
   "outputs": [
    {
     "name": "stdout",
     "output_type": "stream",
     "text": [
      "2021-11-04 06:41:01,580 [MainThread  ] [INFO ]  Extracting: /home/dhnchandan/Documents/cc/gromacs/nb_md_analysis/project/notebooks/3HTB_JZ4_solvate_top.zip\n",
      "2021-11-04 06:41:01,581 [MainThread  ] [INFO ]  to:\n",
      "2021-11-04 06:41:01,582 [MainThread  ] [INFO ]  ['f1dbce03-5b02-4273-90f2-e238f01af1da/JZ4_posres.itp', 'f1dbce03-5b02-4273-90f2-e238f01af1da/JZ4params.itp', 'f1dbce03-5b02-4273-90f2-e238f01af1da/ligand.top', 'f1dbce03-5b02-4273-90f2-e238f01af1da/posre.itp']\n",
      "2021-11-04 06:41:01,583 [MainThread  ] [INFO ]  Unzipping: \n",
      "2021-11-04 06:41:01,584 [MainThread  ] [INFO ]  3HTB_JZ4_solvate_top.zip\n",
      "2021-11-04 06:41:01,584 [MainThread  ] [INFO ]  To: \n",
      "2021-11-04 06:41:01,585 [MainThread  ] [INFO ]  f1dbce03-5b02-4273-90f2-e238f01af1da/JZ4_posres.itp\n",
      "2021-11-04 06:41:01,585 [MainThread  ] [INFO ]  f1dbce03-5b02-4273-90f2-e238f01af1da/JZ4params.itp\n",
      "2021-11-04 06:41:01,586 [MainThread  ] [INFO ]  f1dbce03-5b02-4273-90f2-e238f01af1da/ligand.top\n",
      "2021-11-04 06:41:01,587 [MainThread  ] [INFO ]  f1dbce03-5b02-4273-90f2-e238f01af1da/posre.itp\n",
      "2021-11-04 06:41:01,587 [MainThread  ] [INFO ]  To reach up 0.05 mol/litre concentration\n",
      "2021-11-04 06:41:01,588 [MainThread  ] [INFO ]  GROMACS Genion 20191 version detected\n",
      "2021-11-04 06:41:01,589 [MainThread  ] [INFO ]  Not using any container\n",
      "2021-11-04 06:41:01,589 [MainThread  ] [INFO ]  echo \"SOL\" | gmx -nobackup -nocopyright genion -s 3HTB_JZ4_complex_gppion.tpr -o 3HTB_JZ4_genion.gro -p f1dbce03-5b02-4273-90f2-e238f01af1da/ligand.top -neutral -conc 0.05 -seed 1993\n",
      "\n",
      "2021-11-04 06:41:01,678 [MainThread  ] [INFO ]  Exit code 0\n",
      "\n",
      "2021-11-04 06:41:01,679 [MainThread  ] [INFO ]  Will try to add 10 NA ions and 16 CL ions.\n",
      "Select a continuous group of solvent molecules\n",
      "Selected 15: 'SOL'\n",
      "\n",
      "Processing topology\n",
      "Replacing 26 solute molecules in topology file (f1dbce03-5b02-4273-90f2-e238f01af1da/ligand.top)  by 10 NA and 16 CL ions.\n",
      "\n",
      "2021-11-04 06:41:01,680 [MainThread  ] [INFO ]                        :-) GROMACS - gmx genion, 2019.1 (-:\n",
      "\n",
      "Executable:   /home/dhnchandan/anaconda3/envs/nb_md_analysis/bin/gmx\n",
      "Data prefix:  /home/dhnchandan/anaconda3/envs/nb_md_analysis\n",
      "Working dir:  /home/dhnchandan/Documents/cc/gromacs/nb_md_analysis/project/notebooks\n",
      "Command line:\n",
      "  gmx -nobackup -nocopyright genion -s 3HTB_JZ4_complex_gppion.tpr -o 3HTB_JZ4_genion.gro -p f1dbce03-5b02-4273-90f2-e238f01af1da/ligand.top -neutral -conc 0.05 -seed 1993\n",
      "\n",
      "Reading file 3HTB_JZ4_complex_gppion.tpr, VERSION 2019.1 (single precision)\n",
      "Reading file 3HTB_JZ4_complex_gppion.tpr, VERSION 2019.1 (single precision)\n",
      "Group     0 (         System) has 31229 elements\n",
      "Group     1 (        Protein) has  2614 elements\n",
      "Group     2 (      Protein-H) has  1301 elements\n",
      "Group     3 (        C-alpha) has   163 elements\n",
      "Group     4 (       Backbone) has   489 elements\n",
      "Group     5 (      MainChain) has   653 elements\n",
      "Group     6 (   MainChain+Cb) has   805 elements\n",
      "Group     7 (    MainChain+H) has   815 elements\n",
      "Group     8 (      SideChain) has  1799 elements\n",
      "Group     9 (    SideChain-H) has   648 elements\n",
      "Group    10 (    Prot-Masses) has  2614 elements\n",
      "Group    11 (    non-Protein) has 28615 elements\n",
      "Group    12 (          Other) has    22 elements\n",
      "Group    13 (            JZ4) has    22 elements\n",
      "Group    14 (          Water) has 28593 elements\n",
      "Group    15 (            SOL) has 28593 elements\n",
      "Group    16 (      non-Water) has  2636 elements\n",
      "Select a group: Number of (3-atomic) solvent molecules: 9531\n",
      "Using random seed 1993.\n",
      "Replacing solvent molecule 6684 (atom 22688) with NA\n",
      "Replacing solvent molecule 3713 (atom 13775) with NA\n",
      "Replacing solvent molecule 6865 (atom 23231) with NA\n",
      "Replacing solvent molecule 6607 (atom 22457) with NA\n",
      "Replacing solvent molecule 2054 (atom 8798) with NA\n",
      "Replacing solvent molecule 3610 (atom 13466) with NA\n",
      "Replacing solvent molecule 2213 (atom 9275) with NA\n",
      "Replacing solvent molecule 2304 (atom 9548) with NA\n",
      "Replacing solvent molecule 1640 (atom 7556) with NA\n",
      "Replacing solvent molecule 2994 (atom 11618) with NA\n",
      "Replacing solvent molecule 905 (atom 5351) with CL\n",
      "Replacing solvent molecule 4068 (atom 14840) with CL\n",
      "Replacing solvent molecule 9064 (atom 29828) with CL\n",
      "Replacing solvent molecule 4558 (atom 16310) with CL\n",
      "Replacing solvent molecule 1900 (atom 8336) with CL\n",
      "Replacing solvent molecule 7505 (atom 25151) with CL\n",
      "Replacing solvent molecule 9184 (atom 30188) with CL\n",
      "Replacing solvent molecule 5771 (atom 19949) with CL\n",
      "Replacing solvent molecule 6751 (atom 22889) with CL\n",
      "Replacing solvent molecule 2902 (atom 11342) with CL\n",
      "Replacing solvent molecule 2024 (atom 8708) with CL\n",
      "Replacing solvent molecule 8521 (atom 28199) with CL\n",
      "Replacing solvent molecule 909 (atom 5363) with CL\n",
      "Replacing solvent molecule 3452 (atom 12992) with CL\n",
      "Replacing solvent molecule 3869 (atom 14243) with CL\n",
      "Replacing solvent molecule 4530 (atom 16226) with CL\n",
      "\n",
      "\n",
      "GROMACS reminds you: \"When I asked a younger colleague at the university how he had been able to change his research field several times within a decade or so, he answered: \"It's just a question of new software\"\" (Paul Verhaeghe)\n",
      "\n",
      "\n",
      "2021-11-04 06:41:01,680 [MainThread  ] [INFO ]  Compressing topology to: 3HTB_JZ4_genion_top.zip\n",
      "2021-11-04 06:41:01,681 [MainThread  ] [INFO ]  Ignored file f1dbce03-5b02-4273-90f2-e238f01af1da/amber99sb-ildn.ff/forcefield.itp\n",
      "2021-11-04 06:41:01,695 [MainThread  ] [INFO ]  Ignored file f1dbce03-5b02-4273-90f2-e238f01af1da/amber99sb-ildn.ff/spce.itp\n",
      "2021-11-04 06:41:01,696 [MainThread  ] [INFO ]  Ignored file f1dbce03-5b02-4273-90f2-e238f01af1da/amber99sb-ildn.ff/ions.itp\n",
      "2021-11-04 06:41:01,701 [MainThread  ] [INFO ]  Adding:\n",
      "2021-11-04 06:41:01,701 [MainThread  ] [INFO ]  ['f1dbce03-5b02-4273-90f2-e238f01af1da/JZ4_posres.itp', 'f1dbce03-5b02-4273-90f2-e238f01af1da/JZ4params.itp', 'f1dbce03-5b02-4273-90f2-e238f01af1da/ligand.top', 'f1dbce03-5b02-4273-90f2-e238f01af1da/posre.itp']\n",
      "2021-11-04 06:41:01,702 [MainThread  ] [INFO ]  to: /home/dhnchandan/Documents/cc/gromacs/nb_md_analysis/project/notebooks/3HTB_JZ4_genion_top.zip\n",
      "2021-11-04 06:41:01,703 [MainThread  ] [INFO ]  Removed: ['f1dbce03-5b02-4273-90f2-e238f01af1da']\n"
     ]
    },
    {
     "data": {
      "text/plain": [
       "0"
      ]
     },
     "execution_count": 44,
     "metadata": {},
     "output_type": "execute_result"
    }
   ],
   "source": [
    "from biobb_md.gromacs.genion import genion\n",
    "\n",
    "prop={\n",
    "    'neutral':True,\n",
    "    'concentration':0.05,\n",
    "#     'gmx_path': gmx_path\n",
    "}\n",
    "\n",
    "genion(\n",
    "    input_tpr_path=output_gppion_tpr,\n",
    "    output_gro_path=output_genion_gro, \n",
    "    input_top_zip_path=output_solvate_top_zip,\n",
    "    output_top_zip_path=output_genion_top_zip, \n",
    "    properties=prop\n",
    ")"
   ]
  },
  {
   "cell_type": "markdown",
   "metadata": {},
   "source": [
    "## Step 15: Visualizing 3D structure"
   ]
  },
  {
   "cell_type": "code",
   "execution_count": null,
   "metadata": {},
   "outputs": [],
   "source": [
    "#Show protein\n",
    "view = nglview.show_structure_file(output_genion_gro)\n",
    "view.clear_representations()\n",
    "view.add_representation(repr_type='cartoon', selection='protein', color='sstruc')\n",
    "view.add_representation(repr_type='licorice', radius='.5', selection=ligandCode)\n",
    "view.add_representation(repr_type='ball+stick', selection='NA')\n",
    "view.add_representation(repr_type='ball+stick', selection='CL')\n",
    "view._remote_call('setSize', target='Widget', args=['','600px'])\n",
    "view.camera='orthographic'\n",
    "\n",
    "view.render_image()\n",
    "view.download_image(filename='step15_protein_ligand_complex.png')\n",
    "\n",
    "view"
   ]
  }
 ],
 "metadata": {
  "interpreter": {
   "hash": "f746b4b0d2e387363a8e0a553c20150e3f47ec0ca6c21290176766f34ed6ca61"
  },
  "kernelspec": {
   "display_name": "Python 3 (ipykernel)",
   "language": "python",
   "name": "python3"
  },
  "language_info": {
   "codemirror_mode": {
    "name": "ipython",
    "version": 3
   },
   "file_extension": ".py",
   "mimetype": "text/x-python",
   "name": "python",
   "nbconvert_exporter": "python",
   "pygments_lexer": "ipython3",
   "version": "3.7.12"
  }
 },
 "nbformat": 4,
 "nbformat_minor": 2
}
