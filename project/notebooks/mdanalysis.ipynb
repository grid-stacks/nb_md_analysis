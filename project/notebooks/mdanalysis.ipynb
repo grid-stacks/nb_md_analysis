{
 "cells": [
  {
   "cell_type": "code",
   "execution_count": 5,
   "metadata": {},
   "outputs": [],
   "source": [
    "from pathlib import Path\n",
    "import os"
   ]
  },
  {
   "cell_type": "code",
   "execution_count": 11,
   "metadata": {},
   "outputs": [
    {
     "name": "stdout",
     "output_type": "stream",
     "text": [
      "/home/dhnchandan/Documents/gromacs/nb_md_analysis/project/notebooks\n",
      "/home/dhnchandan/Documents/gromacs/nb_md_analysis\n",
      "/home/dhnchandan/Documents/gromacs/nb_md_analysis/.data/mdanalysis\n",
      "/home/dhnchandan/Documents/gromacs/nb_md_analysis/.data/mdanalysis/3HTB.pdb\n"
     ]
    }
   ],
   "source": [
    "cwd = Path().resolve()\n",
    "root = cwd.parent.parent\n",
    "data_dir = os.path.abspath(os.path.join(root, \".data/mdanalysis\"))\n",
    "protein = os.path.abspath(os.path.join(data_dir, \"3HTB.pdb\"))\n",
    "\n",
    "print(cwd)\n",
    "print(root)\n",
    "print(data_dir)\n",
    "print(protein)"
   ]
  },
  {
   "cell_type": "code",
   "execution_count": null,
   "metadata": {},
   "outputs": [],
   "source": []
  }
 ],
 "metadata": {
  "kernelspec": {
   "display_name": "Python 3 (ipykernel)",
   "language": "python",
   "name": "python3"
  },
  "language_info": {
   "codemirror_mode": {
    "name": "ipython",
    "version": 3
   },
   "file_extension": ".py",
   "mimetype": "text/x-python",
   "name": "python",
   "nbconvert_exporter": "python",
   "pygments_lexer": "ipython3",
   "version": "3.7.12"
  }
 },
 "nbformat": 4,
 "nbformat_minor": 2
}
