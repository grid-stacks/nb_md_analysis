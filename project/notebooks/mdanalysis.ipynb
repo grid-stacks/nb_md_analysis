{
 "cells": [
  {
   "cell_type": "code",
   "execution_count": 5,
   "metadata": {},
   "outputs": [],
   "source": [
    "from pathlib import Path\n",
    "import os"
   ]
  },
  {
   "cell_type": "code",
   "execution_count": 12,
   "metadata": {},
   "outputs": [],
   "source": [
    "import MDAnalysis as mda\n",
    "\n",
    "import numpy as np \n",
    "import pandas as pd\n",
    "\n",
    "import matplotlib.pyplot as plt\n",
    "import seaborn as sns\n",
    "import nglview as nv"
   ]
  },
  {
   "cell_type": "code",
   "execution_count": 13,
   "metadata": {},
   "outputs": [
    {
     "name": "stdout",
     "output_type": "stream",
     "text": [
      "2.0.0\n"
     ]
    }
   ],
   "source": [
    "print(mda.__version__)"
   ]
  },
  {
   "cell_type": "code",
   "execution_count": 14,
   "metadata": {},
   "outputs": [],
   "source": [
    "from MDAnalysisTests.datafiles import PSF, DCD\n",
    "u = mda.Universe(PSF, DCD)"
   ]
  },
  {
   "cell_type": "code",
   "execution_count": 17,
   "metadata": {
    "scrolled": true
   },
   "outputs": [
    {
     "name": "stdout",
     "output_type": "stream",
     "text": [
      "<AtomGroup [<Atom 1: N of type 56 of resname MET, resid 1 and segid 4AKE>, <Atom 2: HT1 of type 2 of resname MET, resid 1 and segid 4AKE>, <Atom 3: HT2 of type 2 of resname MET, resid 1 and segid 4AKE>, ..., <Atom 3339: C of type 32 of resname GLY, resid 214 and segid 4AKE>, <Atom 3340: OT1 of type 72 of resname GLY, resid 214 and segid 4AKE>, <Atom 3341: OT2 of type 72 of resname GLY, resid 214 and segid 4AKE>]>\n"
     ]
    }
   ],
   "source": [
    "print(u.atoms)"
   ]
  },
  {
   "cell_type": "code",
   "execution_count": 18,
   "metadata": {},
   "outputs": [
    {
     "name": "stdout",
     "output_type": "stream",
     "text": [
      "<DCDReader /home/dhnchandan/anaconda3/envs/nb_md_analysis/lib/python3.7/site-packages/MDAnalysisTests/data/adk_dims.dcd with 98 frames of 3341 atoms>\n"
     ]
    }
   ],
   "source": [
    "print(u.trajectory)"
   ]
  },
  {
   "cell_type": "code",
   "execution_count": 21,
   "metadata": {
    "scrolled": true
   },
   "outputs": [
    {
     "name": "stdout",
     "output_type": "stream",
     "text": [
      "<AtomGroup [<Atom 1: N of type 56 of resname MET, resid 1 and segid 4AKE>, <Atom 2: HT1 of type 2 of resname MET, resid 1 and segid 4AKE>, <Atom 3: HT2 of type 2 of resname MET, resid 1 and segid 4AKE>, ..., <Atom 3339: C of type 32 of resname GLY, resid 214 and segid 4AKE>, <Atom 3340: OT1 of type 72 of resname GLY, resid 214 and segid 4AKE>, <Atom 3341: OT2 of type 72 of resname GLY, resid 214 and segid 4AKE>]>\n"
     ]
    }
   ],
   "source": [
    "seg_name = u.select_atoms(\"segid 4AKE\")\n",
    "print(seg_name)"
   ]
  },
  {
   "cell_type": "code",
   "execution_count": 22,
   "metadata": {
    "scrolled": true
   },
   "outputs": [
    {
     "data": {
      "text/plain": [
       "[<Atom 20: N of type 54 of resname ARG, resid 2 and segid 4AKE>,\n",
       " <Atom 21: HN of type 1 of resname ARG, resid 2 and segid 4AKE>,\n",
       " <Atom 22: CA of type 22 of resname ARG, resid 2 and segid 4AKE>,\n",
       " <Atom 23: HA of type 6 of resname ARG, resid 2 and segid 4AKE>,\n",
       " <Atom 24: CB of type 23 of resname ARG, resid 2 and segid 4AKE>,\n",
       " <Atom 25: HB1 of type 3 of resname ARG, resid 2 and segid 4AKE>,\n",
       " <Atom 26: HB2 of type 3 of resname ARG, resid 2 and segid 4AKE>,\n",
       " <Atom 27: CG of type 23 of resname ARG, resid 2 and segid 4AKE>,\n",
       " <Atom 28: HG1 of type 3 of resname ARG, resid 2 and segid 4AKE>,\n",
       " <Atom 29: HG2 of type 3 of resname ARG, resid 2 and segid 4AKE>,\n",
       " <Atom 30: CD of type 23 of resname ARG, resid 2 and segid 4AKE>,\n",
       " <Atom 31: HD1 of type 3 of resname ARG, resid 2 and segid 4AKE>,\n",
       " <Atom 32: HD2 of type 3 of resname ARG, resid 2 and segid 4AKE>,\n",
       " <Atom 33: NE of type 57 of resname ARG, resid 2 and segid 4AKE>,\n",
       " <Atom 34: HE of type 2 of resname ARG, resid 2 and segid 4AKE>,\n",
       " <Atom 35: CZ of type 20 of resname ARG, resid 2 and segid 4AKE>,\n",
       " <Atom 36: NH1 of type 57 of resname ARG, resid 2 and segid 4AKE>,\n",
       " <Atom 37: HH11 of type 2 of resname ARG, resid 2 and segid 4AKE>,\n",
       " <Atom 38: HH12 of type 2 of resname ARG, resid 2 and segid 4AKE>,\n",
       " <Atom 39: NH2 of type 57 of resname ARG, resid 2 and segid 4AKE>,\n",
       " <Atom 40: HH21 of type 2 of resname ARG, resid 2 and segid 4AKE>,\n",
       " <Atom 41: HH22 of type 2 of resname ARG, resid 2 and segid 4AKE>,\n",
       " <Atom 42: C of type 20 of resname ARG, resid 2 and segid 4AKE>,\n",
       " <Atom 43: O of type 70 of resname ARG, resid 2 and segid 4AKE>,\n",
       " <Atom 44: N of type 54 of resname ILE, resid 3 and segid 4AKE>,\n",
       " <Atom 45: HN of type 1 of resname ILE, resid 3 and segid 4AKE>,\n",
       " <Atom 46: CA of type 22 of resname ILE, resid 3 and segid 4AKE>,\n",
       " <Atom 47: HA of type 6 of resname ILE, resid 3 and segid 4AKE>,\n",
       " <Atom 48: CB of type 22 of resname ILE, resid 3 and segid 4AKE>,\n",
       " <Atom 49: HB of type 3 of resname ILE, resid 3 and segid 4AKE>,\n",
       " <Atom 50: CG2 of type 24 of resname ILE, resid 3 and segid 4AKE>,\n",
       " <Atom 51: HG21 of type 3 of resname ILE, resid 3 and segid 4AKE>,\n",
       " <Atom 52: HG22 of type 3 of resname ILE, resid 3 and segid 4AKE>,\n",
       " <Atom 53: HG23 of type 3 of resname ILE, resid 3 and segid 4AKE>,\n",
       " <Atom 54: CG1 of type 23 of resname ILE, resid 3 and segid 4AKE>,\n",
       " <Atom 55: HG11 of type 3 of resname ILE, resid 3 and segid 4AKE>,\n",
       " <Atom 56: HG12 of type 3 of resname ILE, resid 3 and segid 4AKE>,\n",
       " <Atom 57: CD of type 24 of resname ILE, resid 3 and segid 4AKE>,\n",
       " <Atom 58: HD1 of type 3 of resname ILE, resid 3 and segid 4AKE>,\n",
       " <Atom 59: HD2 of type 3 of resname ILE, resid 3 and segid 4AKE>,\n",
       " <Atom 60: HD3 of type 3 of resname ILE, resid 3 and segid 4AKE>,\n",
       " <Atom 61: C of type 20 of resname ILE, resid 3 and segid 4AKE>,\n",
       " <Atom 62: O of type 70 of resname ILE, resid 3 and segid 4AKE>,\n",
       " <Atom 63: N of type 54 of resname ILE, resid 4 and segid 4AKE>,\n",
       " <Atom 64: HN of type 1 of resname ILE, resid 4 and segid 4AKE>,\n",
       " <Atom 65: CA of type 22 of resname ILE, resid 4 and segid 4AKE>,\n",
       " <Atom 66: HA of type 6 of resname ILE, resid 4 and segid 4AKE>,\n",
       " <Atom 67: CB of type 22 of resname ILE, resid 4 and segid 4AKE>,\n",
       " <Atom 68: HB of type 3 of resname ILE, resid 4 and segid 4AKE>,\n",
       " <Atom 69: CG2 of type 24 of resname ILE, resid 4 and segid 4AKE>,\n",
       " <Atom 70: HG21 of type 3 of resname ILE, resid 4 and segid 4AKE>,\n",
       " <Atom 71: HG22 of type 3 of resname ILE, resid 4 and segid 4AKE>,\n",
       " <Atom 72: HG23 of type 3 of resname ILE, resid 4 and segid 4AKE>,\n",
       " <Atom 73: CG1 of type 23 of resname ILE, resid 4 and segid 4AKE>,\n",
       " <Atom 74: HG11 of type 3 of resname ILE, resid 4 and segid 4AKE>,\n",
       " <Atom 75: HG12 of type 3 of resname ILE, resid 4 and segid 4AKE>,\n",
       " <Atom 76: CD of type 24 of resname ILE, resid 4 and segid 4AKE>,\n",
       " <Atom 77: HD1 of type 3 of resname ILE, resid 4 and segid 4AKE>,\n",
       " <Atom 78: HD2 of type 3 of resname ILE, resid 4 and segid 4AKE>,\n",
       " <Atom 79: HD3 of type 3 of resname ILE, resid 4 and segid 4AKE>,\n",
       " <Atom 80: C of type 20 of resname ILE, resid 4 and segid 4AKE>,\n",
       " <Atom 81: O of type 70 of resname ILE, resid 4 and segid 4AKE>]"
      ]
     },
     "execution_count": 22,
     "metadata": {},
     "output_type": "execute_result"
    }
   ],
   "source": [
    "list(u.select_atoms(\"resid 2:4\"))"
   ]
  },
  {
   "cell_type": "code",
   "execution_count": 26,
   "metadata": {},
   "outputs": [
    {
     "name": "stdout",
     "output_type": "stream",
     "text": [
      "<AtomGroup [<Atom 282: N of type 54 of resname ILE, resid 20 and segid 4AKE>, <Atom 283: HN of type 1 of resname ILE, resid 20 and segid 4AKE>, <Atom 284: CA of type 22 of resname ILE, resid 20 and segid 4AKE>, ..., <Atom 460: HG1 of type 1 of resname SER, resid 30 and segid 4AKE>, <Atom 461: C of type 20 of resname SER, resid 30 and segid 4AKE>, <Atom 462: O of type 70 of resname SER, resid 30 and segid 4AKE>]>\n"
     ]
    },
    {
     "data": {
      "application/vnd.jupyter.widget-view+json": {
       "model_id": "e5da69a6a1224aa39ea5f14090b70f76",
       "version_major": 2,
       "version_minor": 0
      },
      "text/plain": [
       "NGLWidget(count=98)"
      ]
     },
     "metadata": {},
     "output_type": "display_data"
    },
    {
     "data": {
      "application/vnd.jupyter.widget-view+json": {
       "model_id": "6b1f034baf364f50907f42420066906f",
       "version_major": 2,
       "version_minor": 0
      },
      "text/plain": [
       "Tab(children=(Box(children=(Box(children=(Box(children=(Label(value='step'), IntSlider(value=1, min=-100)), la…"
      ]
     },
     "metadata": {},
     "output_type": "display_data"
    }
   ],
   "source": [
    "ten = u.select_atoms(\"resid 20:30\")\n",
    "print(ten)\n",
    "ten_view = nv.show_mdanalysis(ten,gui=True)\n",
    "ten_view"
   ]
  },
  {
   "cell_type": "code",
   "execution_count": 27,
   "metadata": {},
   "outputs": [
    {
     "data": {
      "text/plain": [
       "[<Atom 175: N of type 54 of resname LYS, resid 13 and segid 4AKE>,\n",
       " <Atom 176: HN of type 1 of resname LYS, resid 13 and segid 4AKE>,\n",
       " <Atom 177: CA of type 22 of resname LYS, resid 13 and segid 4AKE>,\n",
       " <Atom 178: HA of type 6 of resname LYS, resid 13 and segid 4AKE>,\n",
       " <Atom 179: CB of type 23 of resname LYS, resid 13 and segid 4AKE>,\n",
       " <Atom 180: HB1 of type 3 of resname LYS, resid 13 and segid 4AKE>,\n",
       " <Atom 181: HB2 of type 3 of resname LYS, resid 13 and segid 4AKE>,\n",
       " <Atom 182: CG of type 23 of resname LYS, resid 13 and segid 4AKE>,\n",
       " <Atom 183: HG1 of type 3 of resname LYS, resid 13 and segid 4AKE>,\n",
       " <Atom 184: HG2 of type 3 of resname LYS, resid 13 and segid 4AKE>,\n",
       " <Atom 185: CD of type 23 of resname LYS, resid 13 and segid 4AKE>,\n",
       " <Atom 186: HD1 of type 3 of resname LYS, resid 13 and segid 4AKE>,\n",
       " <Atom 187: HD2 of type 3 of resname LYS, resid 13 and segid 4AKE>,\n",
       " <Atom 188: CE of type 23 of resname LYS, resid 13 and segid 4AKE>,\n",
       " <Atom 189: HE1 of type 3 of resname LYS, resid 13 and segid 4AKE>,\n",
       " <Atom 190: HE2 of type 3 of resname LYS, resid 13 and segid 4AKE>,\n",
       " <Atom 191: NZ of type 56 of resname LYS, resid 13 and segid 4AKE>,\n",
       " <Atom 192: HZ1 of type 2 of resname LYS, resid 13 and segid 4AKE>,\n",
       " <Atom 193: HZ2 of type 2 of resname LYS, resid 13 and segid 4AKE>,\n",
       " <Atom 194: HZ3 of type 2 of resname LYS, resid 13 and segid 4AKE>,\n",
       " <Atom 195: C of type 20 of resname LYS, resid 13 and segid 4AKE>,\n",
       " <Atom 196: O of type 70 of resname LYS, resid 13 and segid 4AKE>,\n",
       " <Atom 333: N of type 54 of resname LYS, resid 23 and segid 4AKE>,\n",
       " <Atom 334: HN of type 1 of resname LYS, resid 23 and segid 4AKE>,\n",
       " <Atom 335: CA of type 22 of resname LYS, resid 23 and segid 4AKE>,\n",
       " <Atom 336: HA of type 6 of resname LYS, resid 23 and segid 4AKE>,\n",
       " <Atom 337: CB of type 23 of resname LYS, resid 23 and segid 4AKE>,\n",
       " <Atom 338: HB1 of type 3 of resname LYS, resid 23 and segid 4AKE>,\n",
       " <Atom 339: HB2 of type 3 of resname LYS, resid 23 and segid 4AKE>,\n",
       " <Atom 340: CG of type 23 of resname LYS, resid 23 and segid 4AKE>,\n",
       " <Atom 341: HG1 of type 3 of resname LYS, resid 23 and segid 4AKE>,\n",
       " <Atom 342: HG2 of type 3 of resname LYS, resid 23 and segid 4AKE>,\n",
       " <Atom 343: CD of type 23 of resname LYS, resid 23 and segid 4AKE>,\n",
       " <Atom 344: HD1 of type 3 of resname LYS, resid 23 and segid 4AKE>,\n",
       " <Atom 345: HD2 of type 3 of resname LYS, resid 23 and segid 4AKE>,\n",
       " <Atom 346: CE of type 23 of resname LYS, resid 23 and segid 4AKE>,\n",
       " <Atom 347: HE1 of type 3 of resname LYS, resid 23 and segid 4AKE>,\n",
       " <Atom 348: HE2 of type 3 of resname LYS, resid 23 and segid 4AKE>,\n",
       " <Atom 349: NZ of type 56 of resname LYS, resid 23 and segid 4AKE>,\n",
       " <Atom 350: HZ1 of type 2 of resname LYS, resid 23 and segid 4AKE>,\n",
       " <Atom 351: HZ2 of type 2 of resname LYS, resid 23 and segid 4AKE>,\n",
       " <Atom 352: HZ3 of type 2 of resname LYS, resid 23 and segid 4AKE>,\n",
       " <Atom 353: C of type 20 of resname LYS, resid 23 and segid 4AKE>,\n",
       " <Atom 354: O of type 70 of resname LYS, resid 23 and segid 4AKE>,\n",
       " <Atom 592: N of type 54 of resname LYS, resid 40 and segid 4AKE>,\n",
       " <Atom 593: HN of type 1 of resname LYS, resid 40 and segid 4AKE>,\n",
       " <Atom 594: CA of type 22 of resname LYS, resid 40 and segid 4AKE>,\n",
       " <Atom 595: HA of type 6 of resname LYS, resid 40 and segid 4AKE>,\n",
       " <Atom 596: CB of type 23 of resname LYS, resid 40 and segid 4AKE>,\n",
       " <Atom 597: HB1 of type 3 of resname LYS, resid 40 and segid 4AKE>,\n",
       " <Atom 598: HB2 of type 3 of resname LYS, resid 40 and segid 4AKE>,\n",
       " <Atom 599: CG of type 23 of resname LYS, resid 40 and segid 4AKE>,\n",
       " <Atom 600: HG1 of type 3 of resname LYS, resid 40 and segid 4AKE>,\n",
       " <Atom 601: HG2 of type 3 of resname LYS, resid 40 and segid 4AKE>,\n",
       " <Atom 602: CD of type 23 of resname LYS, resid 40 and segid 4AKE>,\n",
       " <Atom 603: HD1 of type 3 of resname LYS, resid 40 and segid 4AKE>,\n",
       " <Atom 604: HD2 of type 3 of resname LYS, resid 40 and segid 4AKE>,\n",
       " <Atom 605: CE of type 23 of resname LYS, resid 40 and segid 4AKE>,\n",
       " <Atom 606: HE1 of type 3 of resname LYS, resid 40 and segid 4AKE>,\n",
       " <Atom 607: HE2 of type 3 of resname LYS, resid 40 and segid 4AKE>,\n",
       " <Atom 608: NZ of type 56 of resname LYS, resid 40 and segid 4AKE>,\n",
       " <Atom 609: HZ1 of type 2 of resname LYS, resid 40 and segid 4AKE>,\n",
       " <Atom 610: HZ2 of type 2 of resname LYS, resid 40 and segid 4AKE>,\n",
       " <Atom 611: HZ3 of type 2 of resname LYS, resid 40 and segid 4AKE>,\n",
       " <Atom 612: C of type 20 of resname LYS, resid 40 and segid 4AKE>,\n",
       " <Atom 613: O of type 70 of resname LYS, resid 40 and segid 4AKE>,\n",
       " <Atom 684: N of type 54 of resname LYS, resid 47 and segid 4AKE>,\n",
       " <Atom 685: HN of type 1 of resname LYS, resid 47 and segid 4AKE>,\n",
       " <Atom 686: CA of type 22 of resname LYS, resid 47 and segid 4AKE>,\n",
       " <Atom 687: HA of type 6 of resname LYS, resid 47 and segid 4AKE>,\n",
       " <Atom 688: CB of type 23 of resname LYS, resid 47 and segid 4AKE>,\n",
       " <Atom 689: HB1 of type 3 of resname LYS, resid 47 and segid 4AKE>,\n",
       " <Atom 690: HB2 of type 3 of resname LYS, resid 47 and segid 4AKE>,\n",
       " <Atom 691: CG of type 23 of resname LYS, resid 47 and segid 4AKE>,\n",
       " <Atom 692: HG1 of type 3 of resname LYS, resid 47 and segid 4AKE>,\n",
       " <Atom 693: HG2 of type 3 of resname LYS, resid 47 and segid 4AKE>,\n",
       " <Atom 694: CD of type 23 of resname LYS, resid 47 and segid 4AKE>,\n",
       " <Atom 695: HD1 of type 3 of resname LYS, resid 47 and segid 4AKE>,\n",
       " <Atom 696: HD2 of type 3 of resname LYS, resid 47 and segid 4AKE>,\n",
       " <Atom 697: CE of type 23 of resname LYS, resid 47 and segid 4AKE>,\n",
       " <Atom 698: HE1 of type 3 of resname LYS, resid 47 and segid 4AKE>,\n",
       " <Atom 699: HE2 of type 3 of resname LYS, resid 47 and segid 4AKE>,\n",
       " <Atom 700: NZ of type 56 of resname LYS, resid 47 and segid 4AKE>,\n",
       " <Atom 701: HZ1 of type 2 of resname LYS, resid 47 and segid 4AKE>,\n",
       " <Atom 702: HZ2 of type 2 of resname LYS, resid 47 and segid 4AKE>,\n",
       " <Atom 703: HZ3 of type 2 of resname LYS, resid 47 and segid 4AKE>,\n",
       " <Atom 704: C of type 20 of resname LYS, resid 47 and segid 4AKE>,\n",
       " <Atom 705: O of type 70 of resname LYS, resid 47 and segid 4AKE>,\n",
       " <Atom 733: N of type 54 of resname LYS, resid 50 and segid 4AKE>,\n",
       " <Atom 734: HN of type 1 of resname LYS, resid 50 and segid 4AKE>,\n",
       " <Atom 735: CA of type 22 of resname LYS, resid 50 and segid 4AKE>,\n",
       " <Atom 736: HA of type 6 of resname LYS, resid 50 and segid 4AKE>,\n",
       " <Atom 737: CB of type 23 of resname LYS, resid 50 and segid 4AKE>,\n",
       " <Atom 738: HB1 of type 3 of resname LYS, resid 50 and segid 4AKE>,\n",
       " <Atom 739: HB2 of type 3 of resname LYS, resid 50 and segid 4AKE>,\n",
       " <Atom 740: CG of type 23 of resname LYS, resid 50 and segid 4AKE>,\n",
       " <Atom 741: HG1 of type 3 of resname LYS, resid 50 and segid 4AKE>,\n",
       " <Atom 742: HG2 of type 3 of resname LYS, resid 50 and segid 4AKE>,\n",
       " <Atom 743: CD of type 23 of resname LYS, resid 50 and segid 4AKE>,\n",
       " <Atom 744: HD1 of type 3 of resname LYS, resid 50 and segid 4AKE>,\n",
       " <Atom 745: HD2 of type 3 of resname LYS, resid 50 and segid 4AKE>,\n",
       " <Atom 746: CE of type 23 of resname LYS, resid 50 and segid 4AKE>,\n",
       " <Atom 747: HE1 of type 3 of resname LYS, resid 50 and segid 4AKE>,\n",
       " <Atom 748: HE2 of type 3 of resname LYS, resid 50 and segid 4AKE>,\n",
       " <Atom 749: NZ of type 56 of resname LYS, resid 50 and segid 4AKE>,\n",
       " <Atom 750: HZ1 of type 2 of resname LYS, resid 50 and segid 4AKE>,\n",
       " <Atom 751: HZ2 of type 2 of resname LYS, resid 50 and segid 4AKE>,\n",
       " <Atom 752: HZ3 of type 2 of resname LYS, resid 50 and segid 4AKE>,\n",
       " <Atom 753: C of type 20 of resname LYS, resid 50 and segid 4AKE>,\n",
       " <Atom 754: O of type 70 of resname LYS, resid 50 and segid 4AKE>,\n",
       " <Atom 832: N of type 54 of resname LYS, resid 57 and segid 4AKE>,\n",
       " <Atom 833: HN of type 1 of resname LYS, resid 57 and segid 4AKE>,\n",
       " <Atom 834: CA of type 22 of resname LYS, resid 57 and segid 4AKE>,\n",
       " <Atom 835: HA of type 6 of resname LYS, resid 57 and segid 4AKE>,\n",
       " <Atom 836: CB of type 23 of resname LYS, resid 57 and segid 4AKE>,\n",
       " <Atom 837: HB1 of type 3 of resname LYS, resid 57 and segid 4AKE>,\n",
       " <Atom 838: HB2 of type 3 of resname LYS, resid 57 and segid 4AKE>,\n",
       " <Atom 839: CG of type 23 of resname LYS, resid 57 and segid 4AKE>,\n",
       " <Atom 840: HG1 of type 3 of resname LYS, resid 57 and segid 4AKE>,\n",
       " <Atom 841: HG2 of type 3 of resname LYS, resid 57 and segid 4AKE>,\n",
       " <Atom 842: CD of type 23 of resname LYS, resid 57 and segid 4AKE>,\n",
       " <Atom 843: HD1 of type 3 of resname LYS, resid 57 and segid 4AKE>,\n",
       " <Atom 844: HD2 of type 3 of resname LYS, resid 57 and segid 4AKE>,\n",
       " <Atom 845: CE of type 23 of resname LYS, resid 57 and segid 4AKE>,\n",
       " <Atom 846: HE1 of type 3 of resname LYS, resid 57 and segid 4AKE>,\n",
       " <Atom 847: HE2 of type 3 of resname LYS, resid 57 and segid 4AKE>,\n",
       " <Atom 848: NZ of type 56 of resname LYS, resid 57 and segid 4AKE>,\n",
       " <Atom 849: HZ1 of type 2 of resname LYS, resid 57 and segid 4AKE>,\n",
       " <Atom 850: HZ2 of type 2 of resname LYS, resid 57 and segid 4AKE>,\n",
       " <Atom 851: HZ3 of type 2 of resname LYS, resid 57 and segid 4AKE>,\n",
       " <Atom 852: C of type 20 of resname LYS, resid 57 and segid 4AKE>,\n",
       " <Atom 853: O of type 70 of resname LYS, resid 57 and segid 4AKE>,\n",
       " <Atom 1029: N of type 54 of resname LYS, resid 69 and segid 4AKE>,\n",
       " <Atom 1030: HN of type 1 of resname LYS, resid 69 and segid 4AKE>,\n",
       " <Atom 1031: CA of type 22 of resname LYS, resid 69 and segid 4AKE>,\n",
       " <Atom 1032: HA of type 6 of resname LYS, resid 69 and segid 4AKE>,\n",
       " <Atom 1033: CB of type 23 of resname LYS, resid 69 and segid 4AKE>,\n",
       " <Atom 1034: HB1 of type 3 of resname LYS, resid 69 and segid 4AKE>,\n",
       " <Atom 1035: HB2 of type 3 of resname LYS, resid 69 and segid 4AKE>,\n",
       " <Atom 1036: CG of type 23 of resname LYS, resid 69 and segid 4AKE>,\n",
       " <Atom 1037: HG1 of type 3 of resname LYS, resid 69 and segid 4AKE>,\n",
       " <Atom 1038: HG2 of type 3 of resname LYS, resid 69 and segid 4AKE>,\n",
       " <Atom 1039: CD of type 23 of resname LYS, resid 69 and segid 4AKE>,\n",
       " <Atom 1040: HD1 of type 3 of resname LYS, resid 69 and segid 4AKE>,\n",
       " <Atom 1041: HD2 of type 3 of resname LYS, resid 69 and segid 4AKE>,\n",
       " <Atom 1042: CE of type 23 of resname LYS, resid 69 and segid 4AKE>,\n",
       " <Atom 1043: HE1 of type 3 of resname LYS, resid 69 and segid 4AKE>,\n",
       " <Atom 1044: HE2 of type 3 of resname LYS, resid 69 and segid 4AKE>,\n",
       " <Atom 1045: NZ of type 56 of resname LYS, resid 69 and segid 4AKE>,\n",
       " <Atom 1046: HZ1 of type 2 of resname LYS, resid 69 and segid 4AKE>,\n",
       " <Atom 1047: HZ2 of type 2 of resname LYS, resid 69 and segid 4AKE>,\n",
       " <Atom 1048: HZ3 of type 2 of resname LYS, resid 69 and segid 4AKE>,\n",
       " <Atom 1049: C of type 20 of resname LYS, resid 69 and segid 4AKE>,\n",
       " <Atom 1050: O of type 70 of resname LYS, resid 69 and segid 4AKE>,\n",
       " <Atom 1467: N of type 54 of resname LYS, resid 97 and segid 4AKE>,\n",
       " <Atom 1468: HN of type 1 of resname LYS, resid 97 and segid 4AKE>,\n",
       " <Atom 1469: CA of type 22 of resname LYS, resid 97 and segid 4AKE>,\n",
       " <Atom 1470: HA of type 6 of resname LYS, resid 97 and segid 4AKE>,\n",
       " <Atom 1471: CB of type 23 of resname LYS, resid 97 and segid 4AKE>,\n",
       " <Atom 1472: HB1 of type 3 of resname LYS, resid 97 and segid 4AKE>,\n",
       " <Atom 1473: HB2 of type 3 of resname LYS, resid 97 and segid 4AKE>,\n",
       " <Atom 1474: CG of type 23 of resname LYS, resid 97 and segid 4AKE>,\n",
       " <Atom 1475: HG1 of type 3 of resname LYS, resid 97 and segid 4AKE>,\n",
       " <Atom 1476: HG2 of type 3 of resname LYS, resid 97 and segid 4AKE>,\n",
       " <Atom 1477: CD of type 23 of resname LYS, resid 97 and segid 4AKE>,\n",
       " <Atom 1478: HD1 of type 3 of resname LYS, resid 97 and segid 4AKE>,\n",
       " <Atom 1479: HD2 of type 3 of resname LYS, resid 97 and segid 4AKE>,\n",
       " <Atom 1480: CE of type 23 of resname LYS, resid 97 and segid 4AKE>,\n",
       " <Atom 1481: HE1 of type 3 of resname LYS, resid 97 and segid 4AKE>,\n",
       " <Atom 1482: HE2 of type 3 of resname LYS, resid 97 and segid 4AKE>,\n",
       " <Atom 1483: NZ of type 56 of resname LYS, resid 97 and segid 4AKE>,\n",
       " <Atom 1484: HZ1 of type 2 of resname LYS, resid 97 and segid 4AKE>,\n",
       " <Atom 1485: HZ2 of type 2 of resname LYS, resid 97 and segid 4AKE>,\n",
       " <Atom 1486: HZ3 of type 2 of resname LYS, resid 97 and segid 4AKE>,\n",
       " <Atom 1487: C of type 20 of resname LYS, resid 97 and segid 4AKE>,\n",
       " <Atom 1488: O of type 70 of resname LYS, resid 97 and segid 4AKE>,\n",
       " <Atom 2091: N of type 54 of resname LYS, resid 136 and segid 4AKE>,\n",
       " <Atom 2092: HN of type 1 of resname LYS, resid 136 and segid 4AKE>,\n",
       " <Atom 2093: CA of type 22 of resname LYS, resid 136 and segid 4AKE>,\n",
       " <Atom 2094: HA of type 6 of resname LYS, resid 136 and segid 4AKE>,\n",
       " <Atom 2095: CB of type 23 of resname LYS, resid 136 and segid 4AKE>,\n",
       " <Atom 2096: HB1 of type 3 of resname LYS, resid 136 and segid 4AKE>,\n",
       " <Atom 2097: HB2 of type 3 of resname LYS, resid 136 and segid 4AKE>,\n",
       " <Atom 2098: CG of type 23 of resname LYS, resid 136 and segid 4AKE>,\n",
       " <Atom 2099: HG1 of type 3 of resname LYS, resid 136 and segid 4AKE>,\n",
       " <Atom 2100: HG2 of type 3 of resname LYS, resid 136 and segid 4AKE>,\n",
       " <Atom 2101: CD of type 23 of resname LYS, resid 136 and segid 4AKE>,\n",
       " <Atom 2102: HD1 of type 3 of resname LYS, resid 136 and segid 4AKE>,\n",
       " <Atom 2103: HD2 of type 3 of resname LYS, resid 136 and segid 4AKE>,\n",
       " <Atom 2104: CE of type 23 of resname LYS, resid 136 and segid 4AKE>,\n",
       " <Atom 2105: HE1 of type 3 of resname LYS, resid 136 and segid 4AKE>,\n",
       " <Atom 2106: HE2 of type 3 of resname LYS, resid 136 and segid 4AKE>,\n",
       " <Atom 2107: NZ of type 56 of resname LYS, resid 136 and segid 4AKE>,\n",
       " <Atom 2108: HZ1 of type 2 of resname LYS, resid 136 and segid 4AKE>,\n",
       " <Atom 2109: HZ2 of type 2 of resname LYS, resid 136 and segid 4AKE>,\n",
       " <Atom 2110: HZ3 of type 2 of resname LYS, resid 136 and segid 4AKE>,\n",
       " <Atom 2111: C of type 20 of resname LYS, resid 136 and segid 4AKE>,\n",
       " <Atom 2112: O of type 70 of resname LYS, resid 136 and segid 4AKE>,\n",
       " <Atom 2175: N of type 54 of resname LYS, resid 141 and segid 4AKE>,\n",
       " <Atom 2176: HN of type 1 of resname LYS, resid 141 and segid 4AKE>,\n",
       " <Atom 2177: CA of type 22 of resname LYS, resid 141 and segid 4AKE>,\n",
       " <Atom 2178: HA of type 6 of resname LYS, resid 141 and segid 4AKE>,\n",
       " <Atom 2179: CB of type 23 of resname LYS, resid 141 and segid 4AKE>,\n",
       " <Atom 2180: HB1 of type 3 of resname LYS, resid 141 and segid 4AKE>,\n",
       " <Atom 2181: HB2 of type 3 of resname LYS, resid 141 and segid 4AKE>,\n",
       " <Atom 2182: CG of type 23 of resname LYS, resid 141 and segid 4AKE>,\n",
       " <Atom 2183: HG1 of type 3 of resname LYS, resid 141 and segid 4AKE>,\n",
       " <Atom 2184: HG2 of type 3 of resname LYS, resid 141 and segid 4AKE>,\n",
       " <Atom 2185: CD of type 23 of resname LYS, resid 141 and segid 4AKE>,\n",
       " <Atom 2186: HD1 of type 3 of resname LYS, resid 141 and segid 4AKE>,\n",
       " <Atom 2187: HD2 of type 3 of resname LYS, resid 141 and segid 4AKE>,\n",
       " <Atom 2188: CE of type 23 of resname LYS, resid 141 and segid 4AKE>,\n",
       " <Atom 2189: HE1 of type 3 of resname LYS, resid 141 and segid 4AKE>,\n",
       " <Atom 2190: HE2 of type 3 of resname LYS, resid 141 and segid 4AKE>,\n",
       " <Atom 2191: NZ of type 56 of resname LYS, resid 141 and segid 4AKE>,\n",
       " <Atom 2192: HZ1 of type 2 of resname LYS, resid 141 and segid 4AKE>,\n",
       " <Atom 2193: HZ2 of type 2 of resname LYS, resid 141 and segid 4AKE>,\n",
       " <Atom 2194: HZ3 of type 2 of resname LYS, resid 141 and segid 4AKE>,\n",
       " <Atom 2195: C of type 20 of resname LYS, resid 141 and segid 4AKE>,\n",
       " <Atom 2196: O of type 70 of resname LYS, resid 141 and segid 4AKE>,\n",
       " <Atom 2235: N of type 54 of resname LYS, resid 145 and segid 4AKE>,\n",
       " <Atom 2236: HN of type 1 of resname LYS, resid 145 and segid 4AKE>,\n",
       " <Atom 2237: CA of type 22 of resname LYS, resid 145 and segid 4AKE>,\n",
       " <Atom 2238: HA of type 6 of resname LYS, resid 145 and segid 4AKE>,\n",
       " <Atom 2239: CB of type 23 of resname LYS, resid 145 and segid 4AKE>,\n",
       " <Atom 2240: HB1 of type 3 of resname LYS, resid 145 and segid 4AKE>,\n",
       " <Atom 2241: HB2 of type 3 of resname LYS, resid 145 and segid 4AKE>,\n",
       " <Atom 2242: CG of type 23 of resname LYS, resid 145 and segid 4AKE>,\n",
       " <Atom 2243: HG1 of type 3 of resname LYS, resid 145 and segid 4AKE>,\n",
       " <Atom 2244: HG2 of type 3 of resname LYS, resid 145 and segid 4AKE>,\n",
       " <Atom 2245: CD of type 23 of resname LYS, resid 145 and segid 4AKE>,\n",
       " <Atom 2246: HD1 of type 3 of resname LYS, resid 145 and segid 4AKE>,\n",
       " <Atom 2247: HD2 of type 3 of resname LYS, resid 145 and segid 4AKE>,\n",
       " <Atom 2248: CE of type 23 of resname LYS, resid 145 and segid 4AKE>,\n",
       " <Atom 2249: HE1 of type 3 of resname LYS, resid 145 and segid 4AKE>,\n",
       " <Atom 2250: HE2 of type 3 of resname LYS, resid 145 and segid 4AKE>,\n",
       " <Atom 2251: NZ of type 56 of resname LYS, resid 145 and segid 4AKE>,\n",
       " <Atom 2252: HZ1 of type 2 of resname LYS, resid 145 and segid 4AKE>,\n",
       " <Atom 2253: HZ2 of type 2 of resname LYS, resid 145 and segid 4AKE>,\n",
       " <Atom 2254: HZ3 of type 2 of resname LYS, resid 145 and segid 4AKE>,\n",
       " <Atom 2255: C of type 20 of resname LYS, resid 145 and segid 4AKE>,\n",
       " <Atom 2256: O of type 70 of resname LYS, resid 145 and segid 4AKE>,\n",
       " <Atom 2419: N of type 54 of resname LYS, resid 157 and segid 4AKE>,\n",
       " <Atom 2420: HN of type 1 of resname LYS, resid 157 and segid 4AKE>,\n",
       " <Atom 2421: CA of type 22 of resname LYS, resid 157 and segid 4AKE>,\n",
       " <Atom 2422: HA of type 6 of resname LYS, resid 157 and segid 4AKE>,\n",
       " <Atom 2423: CB of type 23 of resname LYS, resid 157 and segid 4AKE>,\n",
       " <Atom 2424: HB1 of type 3 of resname LYS, resid 157 and segid 4AKE>,\n",
       " <Atom 2425: HB2 of type 3 of resname LYS, resid 157 and segid 4AKE>,\n",
       " <Atom 2426: CG of type 23 of resname LYS, resid 157 and segid 4AKE>,\n",
       " <Atom 2427: HG1 of type 3 of resname LYS, resid 157 and segid 4AKE>,\n",
       " <Atom 2428: HG2 of type 3 of resname LYS, resid 157 and segid 4AKE>,\n",
       " <Atom 2429: CD of type 23 of resname LYS, resid 157 and segid 4AKE>,\n",
       " <Atom 2430: HD1 of type 3 of resname LYS, resid 157 and segid 4AKE>,\n",
       " <Atom 2431: HD2 of type 3 of resname LYS, resid 157 and segid 4AKE>,\n",
       " <Atom 2432: CE of type 23 of resname LYS, resid 157 and segid 4AKE>,\n",
       " <Atom 2433: HE1 of type 3 of resname LYS, resid 157 and segid 4AKE>,\n",
       " <Atom 2434: HE2 of type 3 of resname LYS, resid 157 and segid 4AKE>,\n",
       " <Atom 2435: NZ of type 56 of resname LYS, resid 157 and segid 4AKE>,\n",
       " <Atom 2436: HZ1 of type 2 of resname LYS, resid 157 and segid 4AKE>,\n",
       " <Atom 2437: HZ2 of type 2 of resname LYS, resid 157 and segid 4AKE>,\n",
       " <Atom 2438: HZ3 of type 2 of resname LYS, resid 157 and segid 4AKE>,\n",
       " <Atom 2439: C of type 20 of resname LYS, resid 157 and segid 4AKE>,\n",
       " <Atom 2440: O of type 70 of resname LYS, resid 157 and segid 4AKE>,\n",
       " <Atom 2566: N of type 54 of resname LYS, resid 166 and segid 4AKE>,\n",
       " <Atom 2567: HN of type 1 of resname LYS, resid 166 and segid 4AKE>,\n",
       " <Atom 2568: CA of type 22 of resname LYS, resid 166 and segid 4AKE>,\n",
       " <Atom 2569: HA of type 6 of resname LYS, resid 166 and segid 4AKE>,\n",
       " <Atom 2570: CB of type 23 of resname LYS, resid 166 and segid 4AKE>,\n",
       " <Atom 2571: HB1 of type 3 of resname LYS, resid 166 and segid 4AKE>,\n",
       " <Atom 2572: HB2 of type 3 of resname LYS, resid 166 and segid 4AKE>,\n",
       " <Atom 2573: CG of type 23 of resname LYS, resid 166 and segid 4AKE>,\n",
       " <Atom 2574: HG1 of type 3 of resname LYS, resid 166 and segid 4AKE>,\n",
       " <Atom 2575: HG2 of type 3 of resname LYS, resid 166 and segid 4AKE>,\n",
       " <Atom 2576: CD of type 23 of resname LYS, resid 166 and segid 4AKE>,\n",
       " <Atom 2577: HD1 of type 3 of resname LYS, resid 166 and segid 4AKE>,\n",
       " <Atom 2578: HD2 of type 3 of resname LYS, resid 166 and segid 4AKE>,\n",
       " <Atom 2579: CE of type 23 of resname LYS, resid 166 and segid 4AKE>,\n",
       " <Atom 2580: HE1 of type 3 of resname LYS, resid 166 and segid 4AKE>,\n",
       " <Atom 2581: HE2 of type 3 of resname LYS, resid 166 and segid 4AKE>,\n",
       " <Atom 2582: NZ of type 56 of resname LYS, resid 166 and segid 4AKE>,\n",
       " <Atom 2583: HZ1 of type 2 of resname LYS, resid 166 and segid 4AKE>,\n",
       " <Atom 2584: HZ2 of type 2 of resname LYS, resid 166 and segid 4AKE>,\n",
       " <Atom 2585: HZ3 of type 2 of resname LYS, resid 166 and segid 4AKE>,\n",
       " <Atom 2586: C of type 20 of resname LYS, resid 166 and segid 4AKE>,\n",
       " <Atom 2587: O of type 70 of resname LYS, resid 166 and segid 4AKE>,\n",
       " <Atom 2870: N of type 54 of resname LYS, resid 184 and segid 4AKE>,\n",
       " <Atom 2871: HN of type 1 of resname LYS, resid 184 and segid 4AKE>,\n",
       " <Atom 2872: CA of type 22 of resname LYS, resid 184 and segid 4AKE>,\n",
       " <Atom 2873: HA of type 6 of resname LYS, resid 184 and segid 4AKE>,\n",
       " <Atom 2874: CB of type 23 of resname LYS, resid 184 and segid 4AKE>,\n",
       " <Atom 2875: HB1 of type 3 of resname LYS, resid 184 and segid 4AKE>,\n",
       " <Atom 2876: HB2 of type 3 of resname LYS, resid 184 and segid 4AKE>,\n",
       " <Atom 2877: CG of type 23 of resname LYS, resid 184 and segid 4AKE>,\n",
       " <Atom 2878: HG1 of type 3 of resname LYS, resid 184 and segid 4AKE>,\n",
       " <Atom 2879: HG2 of type 3 of resname LYS, resid 184 and segid 4AKE>,\n",
       " <Atom 2880: CD of type 23 of resname LYS, resid 184 and segid 4AKE>,\n",
       " <Atom 2881: HD1 of type 3 of resname LYS, resid 184 and segid 4AKE>,\n",
       " <Atom 2882: HD2 of type 3 of resname LYS, resid 184 and segid 4AKE>,\n",
       " <Atom 2883: CE of type 23 of resname LYS, resid 184 and segid 4AKE>,\n",
       " <Atom 2884: HE1 of type 3 of resname LYS, resid 184 and segid 4AKE>,\n",
       " <Atom 2885: HE2 of type 3 of resname LYS, resid 184 and segid 4AKE>,\n",
       " <Atom 2886: NZ of type 56 of resname LYS, resid 184 and segid 4AKE>,\n",
       " <Atom 2887: HZ1 of type 2 of resname LYS, resid 184 and segid 4AKE>,\n",
       " <Atom 2888: HZ2 of type 2 of resname LYS, resid 184 and segid 4AKE>,\n",
       " <Atom 2889: HZ3 of type 2 of resname LYS, resid 184 and segid 4AKE>,\n",
       " <Atom 2890: C of type 20 of resname LYS, resid 184 and segid 4AKE>,\n",
       " <Atom 2891: O of type 70 of resname LYS, resid 184 and segid 4AKE>,\n",
       " <Atom 2977: N of type 54 of resname LYS, resid 192 and segid 4AKE>,\n",
       " <Atom 2978: HN of type 1 of resname LYS, resid 192 and segid 4AKE>,\n",
       " <Atom 2979: CA of type 22 of resname LYS, resid 192 and segid 4AKE>,\n",
       " <Atom 2980: HA of type 6 of resname LYS, resid 192 and segid 4AKE>,\n",
       " <Atom 2981: CB of type 23 of resname LYS, resid 192 and segid 4AKE>,\n",
       " <Atom 2982: HB1 of type 3 of resname LYS, resid 192 and segid 4AKE>,\n",
       " <Atom 2983: HB2 of type 3 of resname LYS, resid 192 and segid 4AKE>,\n",
       " <Atom 2984: CG of type 23 of resname LYS, resid 192 and segid 4AKE>,\n",
       " <Atom 2985: HG1 of type 3 of resname LYS, resid 192 and segid 4AKE>,\n",
       " <Atom 2986: HG2 of type 3 of resname LYS, resid 192 and segid 4AKE>,\n",
       " <Atom 2987: CD of type 23 of resname LYS, resid 192 and segid 4AKE>,\n",
       " <Atom 2988: HD1 of type 3 of resname LYS, resid 192 and segid 4AKE>,\n",
       " <Atom 2989: HD2 of type 3 of resname LYS, resid 192 and segid 4AKE>,\n",
       " <Atom 2990: CE of type 23 of resname LYS, resid 192 and segid 4AKE>,\n",
       " <Atom 2991: HE1 of type 3 of resname LYS, resid 192 and segid 4AKE>,\n",
       " <Atom 2992: HE2 of type 3 of resname LYS, resid 192 and segid 4AKE>,\n",
       " <Atom 2993: NZ of type 56 of resname LYS, resid 192 and segid 4AKE>,\n",
       " <Atom 2994: HZ1 of type 2 of resname LYS, resid 192 and segid 4AKE>,\n",
       " <Atom 2995: HZ2 of type 2 of resname LYS, resid 192 and segid 4AKE>,\n",
       " <Atom 2996: HZ3 of type 2 of resname LYS, resid 192 and segid 4AKE>,\n",
       " <Atom 2997: C of type 20 of resname LYS, resid 192 and segid 4AKE>,\n",
       " <Atom 2998: O of type 70 of resname LYS, resid 192 and segid 4AKE>,\n",
       " <Atom 3030: N of type 54 of resname LYS, resid 195 and segid 4AKE>,\n",
       " <Atom 3031: HN of type 1 of resname LYS, resid 195 and segid 4AKE>,\n",
       " <Atom 3032: CA of type 22 of resname LYS, resid 195 and segid 4AKE>,\n",
       " <Atom 3033: HA of type 6 of resname LYS, resid 195 and segid 4AKE>,\n",
       " <Atom 3034: CB of type 23 of resname LYS, resid 195 and segid 4AKE>,\n",
       " <Atom 3035: HB1 of type 3 of resname LYS, resid 195 and segid 4AKE>,\n",
       " <Atom 3036: HB2 of type 3 of resname LYS, resid 195 and segid 4AKE>,\n",
       " <Atom 3037: CG of type 23 of resname LYS, resid 195 and segid 4AKE>,\n",
       " <Atom 3038: HG1 of type 3 of resname LYS, resid 195 and segid 4AKE>,\n",
       " <Atom 3039: HG2 of type 3 of resname LYS, resid 195 and segid 4AKE>,\n",
       " <Atom 3040: CD of type 23 of resname LYS, resid 195 and segid 4AKE>,\n",
       " <Atom 3041: HD1 of type 3 of resname LYS, resid 195 and segid 4AKE>,\n",
       " <Atom 3042: HD2 of type 3 of resname LYS, resid 195 and segid 4AKE>,\n",
       " <Atom 3043: CE of type 23 of resname LYS, resid 195 and segid 4AKE>,\n",
       " <Atom 3044: HE1 of type 3 of resname LYS, resid 195 and segid 4AKE>,\n",
       " <Atom 3045: HE2 of type 3 of resname LYS, resid 195 and segid 4AKE>,\n",
       " <Atom 3046: NZ of type 56 of resname LYS, resid 195 and segid 4AKE>,\n",
       " <Atom 3047: HZ1 of type 2 of resname LYS, resid 195 and segid 4AKE>,\n",
       " <Atom 3048: HZ2 of type 2 of resname LYS, resid 195 and segid 4AKE>,\n",
       " <Atom 3049: HZ3 of type 2 of resname LYS, resid 195 and segid 4AKE>,\n",
       " <Atom 3050: C of type 20 of resname LYS, resid 195 and segid 4AKE>,\n",
       " <Atom 3051: O of type 70 of resname LYS, resid 195 and segid 4AKE>,\n",
       " <Atom 3101: N of type 54 of resname LYS, resid 200 and segid 4AKE>,\n",
       " <Atom 3102: HN of type 1 of resname LYS, resid 200 and segid 4AKE>,\n",
       " <Atom 3103: CA of type 22 of resname LYS, resid 200 and segid 4AKE>,\n",
       " <Atom 3104: HA of type 6 of resname LYS, resid 200 and segid 4AKE>,\n",
       " <Atom 3105: CB of type 23 of resname LYS, resid 200 and segid 4AKE>,\n",
       " <Atom 3106: HB1 of type 3 of resname LYS, resid 200 and segid 4AKE>,\n",
       " <Atom 3107: HB2 of type 3 of resname LYS, resid 200 and segid 4AKE>,\n",
       " <Atom 3108: CG of type 23 of resname LYS, resid 200 and segid 4AKE>,\n",
       " <Atom 3109: HG1 of type 3 of resname LYS, resid 200 and segid 4AKE>,\n",
       " <Atom 3110: HG2 of type 3 of resname LYS, resid 200 and segid 4AKE>,\n",
       " <Atom 3111: CD of type 23 of resname LYS, resid 200 and segid 4AKE>,\n",
       " <Atom 3112: HD1 of type 3 of resname LYS, resid 200 and segid 4AKE>,\n",
       " <Atom 3113: HD2 of type 3 of resname LYS, resid 200 and segid 4AKE>,\n",
       " <Atom 3114: CE of type 23 of resname LYS, resid 200 and segid 4AKE>,\n",
       " <Atom 3115: HE1 of type 3 of resname LYS, resid 200 and segid 4AKE>,\n",
       " <Atom 3116: HE2 of type 3 of resname LYS, resid 200 and segid 4AKE>,\n",
       " <Atom 3117: NZ of type 56 of resname LYS, resid 200 and segid 4AKE>,\n",
       " <Atom 3118: HZ1 of type 2 of resname LYS, resid 200 and segid 4AKE>,\n",
       " <Atom 3119: HZ2 of type 2 of resname LYS, resid 200 and segid 4AKE>,\n",
       " <Atom 3120: HZ3 of type 2 of resname LYS, resid 200 and segid 4AKE>,\n",
       " <Atom 3121: C of type 20 of resname LYS, resid 200 and segid 4AKE>,\n",
       " <Atom 3122: O of type 70 of resname LYS, resid 200 and segid 4AKE>,\n",
       " <Atom 3274: N of type 54 of resname LYS, resid 211 and segid 4AKE>,\n",
       " <Atom 3275: HN of type 1 of resname LYS, resid 211 and segid 4AKE>,\n",
       " <Atom 3276: CA of type 22 of resname LYS, resid 211 and segid 4AKE>,\n",
       " <Atom 3277: HA of type 6 of resname LYS, resid 211 and segid 4AKE>,\n",
       " <Atom 3278: CB of type 23 of resname LYS, resid 211 and segid 4AKE>,\n",
       " <Atom 3279: HB1 of type 3 of resname LYS, resid 211 and segid 4AKE>,\n",
       " <Atom 3280: HB2 of type 3 of resname LYS, resid 211 and segid 4AKE>,\n",
       " <Atom 3281: CG of type 23 of resname LYS, resid 211 and segid 4AKE>,\n",
       " <Atom 3282: HG1 of type 3 of resname LYS, resid 211 and segid 4AKE>,\n",
       " <Atom 3283: HG2 of type 3 of resname LYS, resid 211 and segid 4AKE>,\n",
       " <Atom 3284: CD of type 23 of resname LYS, resid 211 and segid 4AKE>,\n",
       " <Atom 3285: HD1 of type 3 of resname LYS, resid 211 and segid 4AKE>,\n",
       " <Atom 3286: HD2 of type 3 of resname LYS, resid 211 and segid 4AKE>,\n",
       " <Atom 3287: CE of type 23 of resname LYS, resid 211 and segid 4AKE>,\n",
       " <Atom 3288: HE1 of type 3 of resname LYS, resid 211 and segid 4AKE>,\n",
       " <Atom 3289: HE2 of type 3 of resname LYS, resid 211 and segid 4AKE>,\n",
       " <Atom 3290: NZ of type 56 of resname LYS, resid 211 and segid 4AKE>,\n",
       " <Atom 3291: HZ1 of type 2 of resname LYS, resid 211 and segid 4AKE>,\n",
       " <Atom 3292: HZ2 of type 2 of resname LYS, resid 211 and segid 4AKE>,\n",
       " <Atom 3293: HZ3 of type 2 of resname LYS, resid 211 and segid 4AKE>,\n",
       " <Atom 3294: C of type 20 of resname LYS, resid 211 and segid 4AKE>,\n",
       " <Atom 3295: O of type 70 of resname LYS, resid 211 and segid 4AKE>]"
      ]
     },
     "execution_count": 27,
     "metadata": {},
     "output_type": "execute_result"
    }
   ],
   "source": [
    "list(u.select_atoms(\"resname LYS\"))"
   ]
  },
  {
   "cell_type": "code",
   "execution_count": 28,
   "metadata": {},
   "outputs": [
    {
     "name": "stdout",
     "output_type": "stream",
     "text": [
      "<AtomGroup [<Atom 5: CA of type 22 of resname MET, resid 1 and segid 4AKE>, <Atom 22: CA of type 22 of resname ARG, resid 2 and segid 4AKE>, <Atom 46: CA of type 22 of resname ILE, resid 3 and segid 4AKE>, ..., <Atom 3298: CA of type 22 of resname ILE, resid 212 and segid 4AKE>, <Atom 3317: CA of type 22 of resname LEU, resid 213 and segid 4AKE>, <Atom 3336: CA of type 23 of resname GLY, resid 214 and segid 4AKE>]>\n"
     ]
    }
   ],
   "source": [
    "calphas = u.select_atoms(\"name CA\")\n",
    "print(calphas)"
   ]
  },
  {
   "cell_type": "code",
   "execution_count": 29,
   "metadata": {},
   "outputs": [
    {
     "name": "stdout",
     "output_type": "stream",
     "text": [
      "<Atom 1: N of type 56 of resname MET, resid 1 and segid 4AKE>\n",
      "<Atom 3339: C of type 32 of resname GLY, resid 214 and segid 4AKE>\n"
     ]
    }
   ],
   "source": [
    "nterm = u.select_atoms('segid 4AKE and name N')[0]  # can access structure via segid (s4AKE) and atom name\n",
    "cterm = u.select_atoms('segid 4AKE and name C')[-1]  # ... takes the last atom named 'C'\n",
    "\n",
    "print(nterm)\n",
    "print(cterm)"
   ]
  },
  {
   "cell_type": "code",
   "execution_count": 31,
   "metadata": {},
   "outputs": [
    {
     "data": {
      "text/plain": [
       "[<Atom 5: CA of type 22 of resname MET, resid 1 and segid 4AKE>,\n",
       " <Atom 303: CA of type 22 of resname MET, resid 21 and segid 4AKE>,\n",
       " <Atom 498: CA of type 22 of resname MET, resid 34 and segid 4AKE>,\n",
       " <Atom 788: CA of type 22 of resname MET, resid 53 and segid 4AKE>,\n",
       " <Atom 1452: CA of type 22 of resname MET, resid 96 and segid 4AKE>,\n",
       " <Atom 2719: CA of type 22 of resname MET, resid 174 and segid 4AKE>]"
      ]
     },
     "execution_count": 31,
     "metadata": {},
     "output_type": "execute_result"
    }
   ],
   "source": [
    "list(u.select_atoms(\"resname MET and (name CA)\"))"
   ]
  },
  {
   "cell_type": "code",
   "execution_count": 37,
   "metadata": {},
   "outputs": [
    {
     "name": "stdout",
     "output_type": "stream",
     "text": [
      "<AtomGroup [<Atom 1: N of type 56 of resname MET, resid 1 and segid 4AKE>, <Atom 5: CA of type 22 of resname MET, resid 1 and segid 4AKE>, <Atom 18: C of type 20 of resname MET, resid 1 and segid 4AKE>, ..., <Atom 3334: N of type 54 of resname GLY, resid 214 and segid 4AKE>, <Atom 3336: CA of type 23 of resname GLY, resid 214 and segid 4AKE>, <Atom 3339: C of type 32 of resname GLY, resid 214 and segid 4AKE>]>\n"
     ]
    },
    {
     "data": {
      "application/vnd.jupyter.widget-view+json": {
       "model_id": "a45a1fc9bf32417799d3bcae745c9b8e",
       "version_major": 2,
       "version_minor": 0
      },
      "text/plain": [
       "NGLWidget(count=98)"
      ]
     },
     "metadata": {},
     "output_type": "display_data"
    },
    {
     "data": {
      "application/vnd.jupyter.widget-view+json": {
       "model_id": "95941b71932b44799e45872a1cc05dd0",
       "version_major": 2,
       "version_minor": 0
      },
      "text/plain": [
       "Tab(children=(Box(children=(Box(children=(Box(children=(Label(value='step'), IntSlider(value=1, min=-100)), la…"
      ]
     },
     "metadata": {},
     "output_type": "display_data"
    }
   ],
   "source": [
    "bb = u.select_atoms(\"backbone\")\n",
    "print(bb)\n",
    "bb_v = nv.show_mdanalysis(bb,gui=True)\n",
    "bb_v"
   ]
  },
  {
   "cell_type": "code",
   "execution_count": 36,
   "metadata": {},
   "outputs": [
    {
     "data": {
      "application/vnd.jupyter.widget-view+json": {
       "model_id": "0005b34ff9a94a158e3601c0db70fd4f",
       "version_major": 2,
       "version_minor": 0
      },
      "text/plain": [
       "NGLWidget(count=98)"
      ]
     },
     "metadata": {},
     "output_type": "display_data"
    },
    {
     "data": {
      "application/vnd.jupyter.widget-view+json": {
       "model_id": "44bf07a3187e4ba5bf9b2513a5efc6da",
       "version_major": 2,
       "version_minor": 0
      },
      "text/plain": [
       "Tab(children=(Box(children=(Box(children=(Box(children=(Label(value='step'), IntSlider(value=1, min=-100)), la…"
      ]
     },
     "metadata": {},
     "output_type": "display_data"
    }
   ],
   "source": [
    "protein = u.select_atoms(\"protein\")\n",
    "w = nv.show_mdanalysis(protein,gui=True)\n",
    "w"
   ]
  },
  {
   "cell_type": "code",
   "execution_count": 43,
   "metadata": {},
   "outputs": [
    {
     "name": "stdout",
     "output_type": "stream",
     "text": [
      "<AtomGroup [<Atom 531: O of type 70 of resname LEU, resid 35 and segid 4AKE>, <Atom 534: CA of type 22 of resname ARG, resid 36 and segid 4AKE>, <Atom 535: HA of type 6 of resname ARG, resid 36 and segid 4AKE>, ..., <Atom 626: HN of type 1 of resname GLY, resid 42 and segid 4AKE>, <Atom 627: CA of type 23 of resname GLY, resid 42 and segid 4AKE>, <Atom 628: HA1 of type 6 of resname GLY, resid 42 and segid 4AKE>]>\n"
     ]
    },
    {
     "data": {
      "application/vnd.jupyter.widget-view+json": {
       "model_id": "0062b2b0b5744b5b923a9466a7774dde",
       "version_major": 2,
       "version_minor": 0
      },
      "text/plain": [
       "NGLWidget(count=98)"
      ]
     },
     "metadata": {},
     "output_type": "display_data"
    },
    {
     "data": {
      "application/vnd.jupyter.widget-view+json": {
       "model_id": "13c27e76ed43477d8885571638812751",
       "version_major": 2,
       "version_minor": 0
      },
      "text/plain": [
       "Tab(children=(Box(children=(Box(children=(Box(children=(Label(value='step'), IntSlider(value=1, min=-100)), la…"
      ]
     },
     "metadata": {},
     "output_type": "display_data"
    }
   ],
   "source": [
    "res40_5 = u.select_atoms(\"around 5 resid 40\")\n",
    "print(res40_5)\n",
    "\n",
    "around = nv.show_mdanalysis(res40_5,gui=True)\n",
    "around"
   ]
  },
  {
   "cell_type": "code",
   "execution_count": 44,
   "metadata": {},
   "outputs": [
    {
     "name": "stdout",
     "output_type": "stream",
     "text": [
      "<AtomGroup [<Atom 240: HB1 of type 3 of resname ALA, resid 17 and segid 4AKE>, <Atom 242: HB3 of type 3 of resname ALA, resid 17 and segid 4AKE>, <Atom 253: HG1 of type 3 of resname GLN, resid 18 and segid 4AKE>, ..., <Atom 458: HB2 of type 3 of resname SER, resid 30 and segid 4AKE>, <Atom 508: HE1 of type 3 of resname MET, resid 34 and segid 4AKE>, <Atom 509: HE2 of type 3 of resname MET, resid 34 and segid 4AKE>]>\n"
     ]
    },
    {
     "data": {
      "application/vnd.jupyter.widget-view+json": {
       "model_id": "7afc19f75ca74b5780e4908a41e59c47",
       "version_major": 2,
       "version_minor": 0
      },
      "text/plain": [
       "NGLWidget(count=98)"
      ]
     },
     "metadata": {},
     "output_type": "display_data"
    },
    {
     "data": {
      "application/vnd.jupyter.widget-view+json": {
       "model_id": "325460713fec444298af30d8f43d1413",
       "version_major": 2,
       "version_minor": 0
      },
      "text/plain": [
       "Tab(children=(Box(children=(Box(children=(Box(children=(Label(value='step'), IntSlider(value=1, min=-100)), la…"
      ]
     },
     "metadata": {},
     "output_type": "display_data"
    }
   ],
   "source": [
    "spherical_layer = u.select_atoms(\"sphlayer 2.4 6.0 ( protein and ( resid 130 or resid 80 ) )\")\n",
    "print(spherical_layer)\n",
    "\n",
    "layer = nv.show_mdanalysis(spherical_layer,gui=True)\n",
    "layer"
   ]
  },
  {
   "cell_type": "code",
   "execution_count": 46,
   "metadata": {},
   "outputs": [
    {
     "name": "stdout",
     "output_type": "stream",
     "text": [
      "<AtomGroup [<Atom 101: N of type 54 of resname LEU, resid 6 and segid 4AKE>, <Atom 102: HN of type 1 of resname LEU, resid 6 and segid 4AKE>, <Atom 103: CA of type 22 of resname LEU, resid 6 and segid 4AKE>, ..., <Atom 1651: C of type 20 of resname GLU, resid 108 and segid 4AKE>, <Atom 1654: HN of type 1 of resname PHE, resid 109 and segid 4AKE>, <Atom 1662: HD1 of type 5 of resname PHE, resid 109 and segid 4AKE>]>\n"
     ]
    },
    {
     "data": {
      "application/vnd.jupyter.widget-view+json": {
       "model_id": "ca45fa7ad4a64c419116d9c4f576b5ea",
       "version_major": 2,
       "version_minor": 0
      },
      "text/plain": [
       "NGLWidget(count=98)"
      ]
     },
     "metadata": {},
     "output_type": "display_data"
    },
    {
     "data": {
      "application/vnd.jupyter.widget-view+json": {
       "model_id": "b3a136e6bc0146eeaef67a8e4656e116",
       "version_major": 2,
       "version_minor": 0
      },
      "text/plain": [
       "Tab(children=(Box(children=(Box(children=(Box(children=(Label(value='step'), IntSlider(value=1, min=-100)), la…"
      ]
     },
     "metadata": {},
     "output_type": "display_data"
    }
   ],
   "source": [
    "xyz_select = u.select_atoms(\"point 5.0 5.0 5.0 3.5\")\n",
    "print(xyz_select)\n",
    "\n",
    "sel = nv.show_mdanalysis(xyz_select,gui=True)\n",
    "sel"
   ]
  },
  {
   "cell_type": "code",
   "execution_count": null,
   "metadata": {},
   "outputs": [],
   "source": []
  },
  {
   "cell_type": "code",
   "execution_count": null,
   "metadata": {},
   "outputs": [],
   "source": []
  },
  {
   "cell_type": "code",
   "execution_count": null,
   "metadata": {},
   "outputs": [],
   "source": []
  },
  {
   "cell_type": "code",
   "execution_count": null,
   "metadata": {},
   "outputs": [],
   "source": []
  },
  {
   "cell_type": "code",
   "execution_count": 11,
   "metadata": {},
   "outputs": [
    {
     "name": "stdout",
     "output_type": "stream",
     "text": [
      "/home/dhnchandan/Documents/gromacs/nb_md_analysis/project/notebooks\n",
      "/home/dhnchandan/Documents/gromacs/nb_md_analysis\n",
      "/home/dhnchandan/Documents/gromacs/nb_md_analysis/.data/mdanalysis\n",
      "/home/dhnchandan/Documents/gromacs/nb_md_analysis/.data/mdanalysis/3HTB.pdb\n"
     ]
    }
   ],
   "source": [
    "cwd = Path().resolve()\n",
    "root = cwd.parent.parent\n",
    "data_dir = os.path.abspath(os.path.join(root, \".data/mdanalysis\"))\n",
    "protein = os.path.abspath(os.path.join(data_dir, \"3HTB.pdb\"))\n",
    "\n",
    "print(cwd)\n",
    "print(root)\n",
    "print(data_dir)\n",
    "print(protein)"
   ]
  }
 ],
 "metadata": {
  "kernelspec": {
   "display_name": "Python 3 (ipykernel)",
   "language": "python",
   "name": "python3"
  },
  "language_info": {
   "codemirror_mode": {
    "name": "ipython",
    "version": 3
   },
   "file_extension": ".py",
   "mimetype": "text/x-python",
   "name": "python",
   "nbconvert_exporter": "python",
   "pygments_lexer": "ipython3",
   "version": "3.7.12"
  }
 },
 "nbformat": 4,
 "nbformat_minor": 2
}
